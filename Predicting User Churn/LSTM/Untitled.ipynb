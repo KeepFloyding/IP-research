{
 "cells": [
  {
   "cell_type": "code",
   "execution_count": 1,
   "metadata": {},
   "outputs": [
    {
     "data": {
      "text/html": [
       "<div>\n",
       "<style>\n",
       "    .dataframe thead tr:only-child th {\n",
       "        text-align: right;\n",
       "    }\n",
       "\n",
       "    .dataframe thead th {\n",
       "        text-align: left;\n",
       "    }\n",
       "\n",
       "    .dataframe tbody tr th {\n",
       "        vertical-align: top;\n",
       "    }\n",
       "</style>\n",
       "<table border=\"1\" class=\"dataframe\">\n",
       "  <thead>\n",
       "    <tr style=\"text-align: right;\">\n",
       "      <th></th>\n",
       "      <th>Date</th>\n",
       "      <th>A</th>\n",
       "      <th>B</th>\n",
       "      <th>C</th>\n",
       "      <th>D</th>\n",
       "      <th>E</th>\n",
       "      <th>F</th>\n",
       "      <th>G</th>\n",
       "    </tr>\n",
       "  </thead>\n",
       "  <tbody>\n",
       "    <tr>\n",
       "      <th>0</th>\n",
       "      <td>2008-03-18</td>\n",
       "      <td>24.68</td>\n",
       "      <td>164.93</td>\n",
       "      <td>114.73</td>\n",
       "      <td>26.27</td>\n",
       "      <td>19.21</td>\n",
       "      <td>28.87</td>\n",
       "      <td>63.44</td>\n",
       "    </tr>\n",
       "    <tr>\n",
       "      <th>1</th>\n",
       "      <td>2008-03-19</td>\n",
       "      <td>24.18</td>\n",
       "      <td>164.89</td>\n",
       "      <td>114.75</td>\n",
       "      <td>26.22</td>\n",
       "      <td>19.07</td>\n",
       "      <td>27.76</td>\n",
       "      <td>59.98</td>\n",
       "    </tr>\n",
       "    <tr>\n",
       "      <th>2</th>\n",
       "      <td>2008-03-20</td>\n",
       "      <td>23.99</td>\n",
       "      <td>164.63</td>\n",
       "      <td>115.04</td>\n",
       "      <td>25.78</td>\n",
       "      <td>19.01</td>\n",
       "      <td>27.04</td>\n",
       "      <td>59.61</td>\n",
       "    </tr>\n",
       "    <tr>\n",
       "      <th>3</th>\n",
       "      <td>2008-03-25</td>\n",
       "      <td>24.14</td>\n",
       "      <td>163.92</td>\n",
       "      <td>114.85</td>\n",
       "      <td>27.41</td>\n",
       "      <td>19.61</td>\n",
       "      <td>27.84</td>\n",
       "      <td>59.41</td>\n",
       "    </tr>\n",
       "    <tr>\n",
       "      <th>4</th>\n",
       "      <td>2008-03-26</td>\n",
       "      <td>24.44</td>\n",
       "      <td>163.45</td>\n",
       "      <td>114.84</td>\n",
       "      <td>26.86</td>\n",
       "      <td>19.53</td>\n",
       "      <td>28.02</td>\n",
       "      <td>60.09</td>\n",
       "    </tr>\n",
       "  </tbody>\n",
       "</table>\n",
       "</div>"
      ],
      "text/plain": [
       "         Date      A       B       C      D      E      F      G\n",
       "0  2008-03-18  24.68  164.93  114.73  26.27  19.21  28.87  63.44\n",
       "1  2008-03-19  24.18  164.89  114.75  26.22  19.07  27.76  59.98\n",
       "2  2008-03-20  23.99  164.63  115.04  25.78  19.01  27.04  59.61\n",
       "3  2008-03-25  24.14  163.92  114.85  27.41  19.61  27.84  59.41\n",
       "4  2008-03-26  24.44  163.45  114.84  26.86  19.53  28.02  60.09"
      ]
     },
     "execution_count": 1,
     "metadata": {},
     "output_type": "execute_result"
    }
   ],
   "source": [
    "import pandas as pd\n",
    "import numpy as np\n",
    "# Get some time series data\n",
    "df = pd.read_csv(\"https://raw.githubusercontent.com/plotly/datasets/master/timeseries.csv\")\n",
    "df.head()"
   ]
  },
  {
   "cell_type": "code",
   "execution_count": 3,
   "metadata": {},
   "outputs": [],
   "source": [
    "# Put your inputs into a single list\n",
    "df['single_input_vector'] = df[['A','B']].apply(tuple, axis=1).apply(list)\n",
    "# Double-encapsulate list so that you can sum it in the next step and keep time steps as separate elements\n",
    "df['single_input_vector'] = df.single_input_vector.apply(lambda x: [list(x)])\n",
    "# Use .cumsum() to include previous row vectors in the current row list of vectors\n",
    "df['cumulative_input_vectors'] = df.single_input_vector.cumsum()"
   ]
  },
  {
   "cell_type": "code",
   "execution_count": 9,
   "metadata": {},
   "outputs": [],
   "source": [
    "df['output_vector'] = df[['G']].apply(tuple, axis=1).apply(list)\n"
   ]
  },
  {
   "cell_type": "code",
   "execution_count": 11,
   "metadata": {},
   "outputs": [],
   "source": [
    "# Pad your sequences so they are the same length\n",
    "from keras.preprocessing.sequence import pad_sequences\n",
    "\n",
    "max_sequence_length = df.cumulative_input_vectors.apply(len).max()\n",
    "# Save it as a list   \n",
    "padded_sequences = pad_sequences(df.cumulative_input_vectors.tolist(), max_sequence_length).tolist()\n",
    "df['padded_input_vectors'] = pd.Series(padded_sequences).apply(np.asarray)"
   ]
  },
  {
   "cell_type": "code",
   "execution_count": 14,
   "metadata": {},
   "outputs": [],
   "source": [
    "# Extract your training data\n",
    "X_train_init = np.asarray(df.padded_input_vectors)\n",
    "# Use hstack to and reshape to make the inputs a 3d vector\n",
    "X_train = np.hstack(X_train_init).reshape(len(df),max_sequence_length,2)\n",
    "y_train = np.hstack(np.asarray(df.output_vector)).reshape(len(df),1)"
   ]
  },
  {
   "cell_type": "code",
   "execution_count": 18,
   "metadata": {},
   "outputs": [
    {
     "name": "stdout",
     "output_type": "stream",
     "text": [
      "(11,)\n",
      "(11, 11, 2)\n",
      "False\n"
     ]
    },
    {
     "name": "stderr",
     "output_type": "stream",
     "text": [
      "/home/andris/anaconda/lib/python3.6/site-packages/ipykernel_launcher.py:3: DeprecationWarning: elementwise == comparison failed; this will raise an error in the future.\n",
      "  This is separate from the ipykernel package so we can avoid doing imports until\n"
     ]
    }
   ],
   "source": [
    "print(X_train_init.shape)\n",
    "print(X_train.shape)\n",
    "print(X_train == X_train_init)"
   ]
  },
  {
   "cell_type": "code",
   "execution_count": 19,
   "metadata": {
    "collapsed": true
   },
   "outputs": [],
   "source": [
    "input_length = X_train.shape[1]\n",
    "input_dim = X_train.shape[2]\n",
    "output_dim = len(y_train[0])\n"
   ]
  },
  {
   "cell_type": "code",
   "execution_count": 20,
   "metadata": {},
   "outputs": [
    {
     "name": "stderr",
     "output_type": "stream",
     "text": [
      "/home/andris/anaconda/lib/python3.6/site-packages/ipykernel_launcher.py:8: UserWarning: The `input_dim` and `input_length` arguments in recurrent layers are deprecated. Use `input_shape` instead.\n",
      "  \n",
      "/home/andris/anaconda/lib/python3.6/site-packages/ipykernel_launcher.py:8: UserWarning: Update your `LSTM` call to the Keras 2 API: `LSTM(4, input_shape=(11, 2))`\n",
      "  \n"
     ]
    }
   ],
   "source": [
    "from keras.models import Model, Sequential\n",
    "from keras.layers import LSTM, Dense\n",
    "\n",
    "# Build the model\n",
    "model = Sequential()\n",
    "\n",
    "# I arbitrarily picked the output dimensions as 4\n",
    "model.add(LSTM(4, input_dim = input_dim, input_length = input_length))\n",
    "# The max output value is > 1 so relu is used as final activation.\n",
    "model.add(Dense(output_dim, activation='relu'))\n",
    "\n",
    "model.compile(loss='mean_squared_error',\n",
    "              optimizer='sgd',\n",
    "              metrics=['accuracy'])"
   ]
  },
  {
   "cell_type": "code",
   "execution_count": 24,
   "metadata": {},
   "outputs": [
    {
     "data": {
      "text/plain": [
       "array([[[  0,   0],\n",
       "        [  0,   0],\n",
       "        [  0,   0],\n",
       "        [  0,   0],\n",
       "        [  0,   0],\n",
       "        [  0,   0],\n",
       "        [  0,   0],\n",
       "        [  0,   0],\n",
       "        [  0,   0],\n",
       "        [  0,   0],\n",
       "        [ 24, 164]],\n",
       "\n",
       "       [[  0,   0],\n",
       "        [  0,   0],\n",
       "        [  0,   0],\n",
       "        [  0,   0],\n",
       "        [  0,   0],\n",
       "        [  0,   0],\n",
       "        [  0,   0],\n",
       "        [  0,   0],\n",
       "        [  0,   0],\n",
       "        [ 24, 164],\n",
       "        [ 24, 164]],\n",
       "\n",
       "       [[  0,   0],\n",
       "        [  0,   0],\n",
       "        [  0,   0],\n",
       "        [  0,   0],\n",
       "        [  0,   0],\n",
       "        [  0,   0],\n",
       "        [  0,   0],\n",
       "        [  0,   0],\n",
       "        [ 24, 164],\n",
       "        [ 24, 164],\n",
       "        [ 23, 164]],\n",
       "\n",
       "       [[  0,   0],\n",
       "        [  0,   0],\n",
       "        [  0,   0],\n",
       "        [  0,   0],\n",
       "        [  0,   0],\n",
       "        [  0,   0],\n",
       "        [  0,   0],\n",
       "        [ 24, 164],\n",
       "        [ 24, 164],\n",
       "        [ 23, 164],\n",
       "        [ 24, 163]],\n",
       "\n",
       "       [[  0,   0],\n",
       "        [  0,   0],\n",
       "        [  0,   0],\n",
       "        [  0,   0],\n",
       "        [  0,   0],\n",
       "        [  0,   0],\n",
       "        [ 24, 164],\n",
       "        [ 24, 164],\n",
       "        [ 23, 164],\n",
       "        [ 24, 163],\n",
       "        [ 24, 163]],\n",
       "\n",
       "       [[  0,   0],\n",
       "        [  0,   0],\n",
       "        [  0,   0],\n",
       "        [  0,   0],\n",
       "        [  0,   0],\n",
       "        [ 24, 164],\n",
       "        [ 24, 164],\n",
       "        [ 23, 164],\n",
       "        [ 24, 163],\n",
       "        [ 24, 163],\n",
       "        [ 24, 163]],\n",
       "\n",
       "       [[  0,   0],\n",
       "        [  0,   0],\n",
       "        [  0,   0],\n",
       "        [  0,   0],\n",
       "        [ 24, 164],\n",
       "        [ 24, 164],\n",
       "        [ 23, 164],\n",
       "        [ 24, 163],\n",
       "        [ 24, 163],\n",
       "        [ 24, 163],\n",
       "        [ 24, 163]],\n",
       "\n",
       "       [[  0,   0],\n",
       "        [  0,   0],\n",
       "        [  0,   0],\n",
       "        [ 24, 164],\n",
       "        [ 24, 164],\n",
       "        [ 23, 164],\n",
       "        [ 24, 163],\n",
       "        [ 24, 163],\n",
       "        [ 24, 163],\n",
       "        [ 24, 163],\n",
       "        [ 24, 164]],\n",
       "\n",
       "       [[  0,   0],\n",
       "        [  0,   0],\n",
       "        [ 24, 164],\n",
       "        [ 24, 164],\n",
       "        [ 23, 164],\n",
       "        [ 24, 163],\n",
       "        [ 24, 163],\n",
       "        [ 24, 163],\n",
       "        [ 24, 163],\n",
       "        [ 24, 164],\n",
       "        [ 23, 163]],\n",
       "\n",
       "       [[  0,   0],\n",
       "        [ 24, 164],\n",
       "        [ 24, 164],\n",
       "        [ 23, 164],\n",
       "        [ 24, 163],\n",
       "        [ 24, 163],\n",
       "        [ 24, 163],\n",
       "        [ 24, 163],\n",
       "        [ 24, 164],\n",
       "        [ 23, 163],\n",
       "        [ 24, 163]],\n",
       "\n",
       "       [[ 24, 164],\n",
       "        [ 24, 164],\n",
       "        [ 23, 164],\n",
       "        [ 24, 163],\n",
       "        [ 24, 163],\n",
       "        [ 24, 163],\n",
       "        [ 24, 163],\n",
       "        [ 24, 164],\n",
       "        [ 23, 163],\n",
       "        [ 24, 163],\n",
       "        [ 24, 163]]])"
      ]
     },
     "execution_count": 24,
     "metadata": {},
     "output_type": "execute_result"
    }
   ],
   "source": [
    "X_train"
   ]
  },
  {
   "cell_type": "code",
   "execution_count": 21,
   "metadata": {},
   "outputs": [
    {
     "name": "stderr",
     "output_type": "stream",
     "text": [
      "/home/andris/anaconda/lib/python3.6/site-packages/keras/models.py:874: UserWarning: The `nb_epoch` argument in `fit` has been renamed `epochs`.\n",
      "  warnings.warn('The `nb_epoch` argument in `fit` '\n"
     ]
    },
    {
     "name": "stdout",
     "output_type": "stream",
     "text": [
      "Epoch 1/3\n",
      "11/11 [==============================] - 0s 28ms/step - loss: 3376.2530 - acc: 0.0000e+00\n",
      "Epoch 2/3\n",
      "11/11 [==============================] - 0s 2ms/step - loss: 2968.9096 - acc: 0.0000e+00\n",
      "Epoch 3/3\n",
      "11/11 [==============================] - 0s 2ms/step - loss: 2611.4049 - acc: 0.0000e+00\n"
     ]
    }
   ],
   "source": [
    "history = model.fit(X_train, y_train,\n",
    "              batch_size=7, nb_epoch=3,\n",
    "              verbose = 1)\n"
   ]
  }
 ],
 "metadata": {
  "kernelspec": {
   "display_name": "Python 3",
   "language": "python",
   "name": "python3"
  },
  "language_info": {
   "codemirror_mode": {
    "name": "ipython",
    "version": 3
   },
   "file_extension": ".py",
   "mimetype": "text/x-python",
   "name": "python",
   "nbconvert_exporter": "python",
   "pygments_lexer": "ipython3",
   "version": "3.6.3"
  }
 },
 "nbformat": 4,
 "nbformat_minor": 2
}
