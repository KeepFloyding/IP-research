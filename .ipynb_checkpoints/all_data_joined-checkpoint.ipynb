{
 "cells": [
  {
   "cell_type": "code",
   "execution_count": 2,
   "metadata": {
    "collapsed": true
   },
   "outputs": [],
   "source": [
    "import pandas as pd\n",
    "import numpy as np\n",
    "import matplotlib.pyplot as plt\n",
    "%matplotlib inline\n",
    "\n",
    "from scipy.stats import ttest_ind,pearsonr"
   ]
  },
  {
   "cell_type": "code",
   "execution_count": null,
   "metadata": {
    "collapsed": true
   },
   "outputs": [],
   "source": [
    "# JOIN EXTERNAL DATA WITH CLICKSTREAM DATA\n",
    "\n",
    "external_csv = 'data/school_ext_data.csv'\n",
    "internal_csv = 'data/school_clk_data.csv'\n",
    "\n",
    "# Read external data (indices and exam results)\n",
    "df_ext = pd.read_csv(external_csv)\n",
    "\n",
    "# Read internal data (clickstream data)\n",
    "df_int = pd.read_csv(internal_csv)\n",
    "\n",
    "# Combine the 2 dataframes\n",
    "df_ext['URN'] = df_ext['URN'].astype('str') \n",
    "df = df_ext.set_index('URN').join(df_int.set_index('school_id'))\n",
    "\n",
    "# CLEANING THE DATA\n",
    "\n",
    "#  Remove all schools that have no IDACI rating\n",
    "df = df[pd.notnull(df['IDACI'])]\n",
    "print(df.shape)\n",
    "\n",
    "#  All clickstream data that is not defined is set to 0\n",
    "df = df.fillna(0)\n"
   ]
  }
 ],
 "metadata": {
  "kernelspec": {
   "display_name": "Python [Root]",
   "language": "python",
   "name": "Python [Root]"
  },
  "language_info": {
   "codemirror_mode": {
    "name": "ipython",
    "version": 3
   },
   "file_extension": ".py",
   "mimetype": "text/x-python",
   "name": "python",
   "nbconvert_exporter": "python",
   "pygments_lexer": "ipython3",
   "version": "3.5.4"
  }
 },
 "nbformat": 4,
 "nbformat_minor": 0
}
