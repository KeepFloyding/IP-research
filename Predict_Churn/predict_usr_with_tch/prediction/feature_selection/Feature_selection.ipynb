{
 "cells": [
  {
   "cell_type": "markdown",
   "metadata": {},
   "source": [
    "# Implementing feature selection\n",
    "\n",
    "A more rigorous attempt at feature selection. \n",
    "\n",
    "We will try the following:\n",
    "\n",
    "* Random forest decision tree aided feature selection using boruta_py\n",
    "* Auto encode for feature compression\n",
    "\n"
   ]
  },
  {
   "cell_type": "markdown",
   "metadata": {},
   "source": [
    "## Setting up everything"
   ]
  },
  {
   "cell_type": "code",
   "execution_count": 60,
   "metadata": {
    "collapsed": true
   },
   "outputs": [],
   "source": [
    "# Data processing\n",
    "import pandas as pd\n",
    "import numpy as np\n",
    "\n",
    "# Preprocessing\n",
    "from sklearn.preprocessing import StandardScaler\n",
    "from sklearn.model_selection import train_test_split, KFold\n",
    "\n",
    "# Machine learning \n",
    "from sklearn.ensemble import RandomForestClassifier\n",
    "\n",
    "# Evaluating Performance\n",
    "from sklearn.metrics import classification_report, roc_curve, roc_auc_score, precision_score, recall_score, precision_recall_curve, average_precision_score\n",
    "\n",
    "# Visualisation\n",
    "import matplotlib.pyplot as plt\n",
    "%matplotlib inline\n",
    "\n",
    "source_csv = '/home/work/GitHub/data/churn_prediction/usr_with_tch_complete.csv'"
   ]
  },
  {
   "cell_type": "code",
   "execution_count": 61,
   "metadata": {
    "collapsed": true
   },
   "outputs": [],
   "source": [
    "# Helper function\n",
    "\n",
    "def prepare_time_series(df, month_array, type_operation, groupby_feature = 'user_id'):\n",
    "    \n",
    "    # If we want to append each month as a seperate feature \n",
    "    if type_operation == 'append':\n",
    "        \n",
    "        # Find the months of interest\n",
    "        df_new = df[df.index.get_level_values(1).isin(month_array)].unstack().fillna(0)\n",
    "        \n",
    "        # Name new columns\n",
    "        new_cols = [str(item[0]) + '_' + str(int(item[1])) for item in df_new.columns]\n",
    "        \n",
    "        # Drop level and rename\n",
    "        df_new.columns = df_new.columns.droplevel(0)\n",
    "        df_new.columns = new_cols\n",
    "    \n",
    "    # If we want to sum the values of each feature for every month\n",
    "    elif type_operation == 'sum':\n",
    "        df_new = df[df.index.get_level_values(1).isin(month_array)]\n",
    "        df_new = df_new.reset_index().groupby(groupby_feature).sum()\n",
    "    \n",
    "    return df_new\n"
   ]
  },
  {
   "cell_type": "code",
   "execution_count": 62,
   "metadata": {},
   "outputs": [
    {
     "name": "stdout",
     "output_type": "stream",
     "text": [
      "6307\n",
      "6307\n"
     ]
    },
    {
     "data": {
      "text/html": [
       "<div>\n",
       "<style>\n",
       "    .dataframe thead tr:only-child th {\n",
       "        text-align: right;\n",
       "    }\n",
       "\n",
       "    .dataframe thead th {\n",
       "        text-align: left;\n",
       "    }\n",
       "\n",
       "    .dataframe tbody tr th {\n",
       "        vertical-align: top;\n",
       "    }\n",
       "</style>\n",
       "<table border=\"1\" class=\"dataframe\">\n",
       "  <thead>\n",
       "    <tr style=\"text-align: right;\">\n",
       "      <th></th>\n",
       "      <th>grp_add_assig_0</th>\n",
       "      <th>grp_add_assig_1</th>\n",
       "      <th>grp_add_assig_tot_0</th>\n",
       "      <th>grp_add_assig_tot_1</th>\n",
       "      <th>grp_add_user_0</th>\n",
       "      <th>grp_add_user_1</th>\n",
       "      <th>grp_add_user_tot_0</th>\n",
       "      <th>grp_add_user_tot_1</th>\n",
       "      <th>grp_added_0</th>\n",
       "      <th>grp_added_1</th>\n",
       "      <th>...</th>\n",
       "      <th>tch_create_group_tot_0</th>\n",
       "      <th>tch_create_group_tot_1</th>\n",
       "      <th>tch_view_assig_prog_0</th>\n",
       "      <th>tch_view_assig_prog_1</th>\n",
       "      <th>tch_view_assig_prog_tot_0</th>\n",
       "      <th>tch_view_assig_prog_tot_1</th>\n",
       "      <th>view_concept_0</th>\n",
       "      <th>view_concept_1</th>\n",
       "      <th>view_hint_0</th>\n",
       "      <th>view_hint_1</th>\n",
       "    </tr>\n",
       "    <tr>\n",
       "      <th>user_id</th>\n",
       "      <th></th>\n",
       "      <th></th>\n",
       "      <th></th>\n",
       "      <th></th>\n",
       "      <th></th>\n",
       "      <th></th>\n",
       "      <th></th>\n",
       "      <th></th>\n",
       "      <th></th>\n",
       "      <th></th>\n",
       "      <th></th>\n",
       "      <th></th>\n",
       "      <th></th>\n",
       "      <th></th>\n",
       "      <th></th>\n",
       "      <th></th>\n",
       "      <th></th>\n",
       "      <th></th>\n",
       "      <th></th>\n",
       "      <th></th>\n",
       "      <th></th>\n",
       "    </tr>\n",
       "  </thead>\n",
       "  <tbody>\n",
       "    <tr>\n",
       "      <th>0009111939b7d071597369a67002b22853c08e19f463cf225f985d51a28c00e0</th>\n",
       "      <td>0.0</td>\n",
       "      <td>0.0</td>\n",
       "      <td>0.0</td>\n",
       "      <td>0.0</td>\n",
       "      <td>0.0</td>\n",
       "      <td>0.0</td>\n",
       "      <td>0.0</td>\n",
       "      <td>0.0</td>\n",
       "      <td>0.0</td>\n",
       "      <td>0.0</td>\n",
       "      <td>...</td>\n",
       "      <td>0.0</td>\n",
       "      <td>1.0</td>\n",
       "      <td>36.0</td>\n",
       "      <td>19.0</td>\n",
       "      <td>58.0</td>\n",
       "      <td>77.0</td>\n",
       "      <td>3.0</td>\n",
       "      <td>3.0</td>\n",
       "      <td>5.0</td>\n",
       "      <td>0.0</td>\n",
       "    </tr>\n",
       "    <tr>\n",
       "      <th>001209cc56f8583d638502e7446dd7461278082d613d4c6d718b5b3fb6d87a72</th>\n",
       "      <td>0.0</td>\n",
       "      <td>1.0</td>\n",
       "      <td>5.0</td>\n",
       "      <td>6.0</td>\n",
       "      <td>2.0</td>\n",
       "      <td>0.0</td>\n",
       "      <td>5.0</td>\n",
       "      <td>5.0</td>\n",
       "      <td>2.0</td>\n",
       "      <td>0.0</td>\n",
       "      <td>...</td>\n",
       "      <td>3.0</td>\n",
       "      <td>3.0</td>\n",
       "      <td>66.0</td>\n",
       "      <td>0.0</td>\n",
       "      <td>136.0</td>\n",
       "      <td>136.0</td>\n",
       "      <td>0.0</td>\n",
       "      <td>0.0</td>\n",
       "      <td>13.0</td>\n",
       "      <td>0.0</td>\n",
       "    </tr>\n",
       "    <tr>\n",
       "      <th>001ed4483f258c0e1b75a205f24f7ec2b04490adbddb45eb9bcdb91d1ff1e9be</th>\n",
       "      <td>16.0</td>\n",
       "      <td>4.0</td>\n",
       "      <td>16.0</td>\n",
       "      <td>20.0</td>\n",
       "      <td>28.0</td>\n",
       "      <td>0.0</td>\n",
       "      <td>28.0</td>\n",
       "      <td>28.0</td>\n",
       "      <td>28.0</td>\n",
       "      <td>0.0</td>\n",
       "      <td>...</td>\n",
       "      <td>6.0</td>\n",
       "      <td>6.0</td>\n",
       "      <td>92.0</td>\n",
       "      <td>28.0</td>\n",
       "      <td>180.0</td>\n",
       "      <td>208.0</td>\n",
       "      <td>0.0</td>\n",
       "      <td>0.0</td>\n",
       "      <td>88.0</td>\n",
       "      <td>0.0</td>\n",
       "    </tr>\n",
       "    <tr>\n",
       "      <th>00310c09b913aa7e422aa50306010d12a23ad40d63eac99e37931f0448c131df</th>\n",
       "      <td>0.0</td>\n",
       "      <td>0.0</td>\n",
       "      <td>3.0</td>\n",
       "      <td>3.0</td>\n",
       "      <td>6.0</td>\n",
       "      <td>1.0</td>\n",
       "      <td>7.0</td>\n",
       "      <td>8.0</td>\n",
       "      <td>6.0</td>\n",
       "      <td>1.0</td>\n",
       "      <td>...</td>\n",
       "      <td>4.0</td>\n",
       "      <td>4.0</td>\n",
       "      <td>0.0</td>\n",
       "      <td>0.0</td>\n",
       "      <td>66.0</td>\n",
       "      <td>66.0</td>\n",
       "      <td>1.0</td>\n",
       "      <td>5.0</td>\n",
       "      <td>6.0</td>\n",
       "      <td>6.0</td>\n",
       "    </tr>\n",
       "    <tr>\n",
       "      <th>003136aacdfb6e7ee06bdd001b8c5351ddb3ad360c30bcac094c645f4f1cec68</th>\n",
       "      <td>0.0</td>\n",
       "      <td>0.0</td>\n",
       "      <td>0.0</td>\n",
       "      <td>0.0</td>\n",
       "      <td>0.0</td>\n",
       "      <td>0.0</td>\n",
       "      <td>0.0</td>\n",
       "      <td>0.0</td>\n",
       "      <td>0.0</td>\n",
       "      <td>0.0</td>\n",
       "      <td>...</td>\n",
       "      <td>0.0</td>\n",
       "      <td>0.0</td>\n",
       "      <td>275.0</td>\n",
       "      <td>109.0</td>\n",
       "      <td>275.0</td>\n",
       "      <td>384.0</td>\n",
       "      <td>0.0</td>\n",
       "      <td>0.0</td>\n",
       "      <td>0.0</td>\n",
       "      <td>0.0</td>\n",
       "    </tr>\n",
       "  </tbody>\n",
       "</table>\n",
       "<p>5 rows × 66 columns</p>\n",
       "</div>"
      ],
      "text/plain": [
       "                                                    grp_add_assig_0  \\\n",
       "user_id                                                               \n",
       "0009111939b7d071597369a67002b22853c08e19f463cf2...              0.0   \n",
       "001209cc56f8583d638502e7446dd7461278082d613d4c6...              0.0   \n",
       "001ed4483f258c0e1b75a205f24f7ec2b04490adbddb45e...             16.0   \n",
       "00310c09b913aa7e422aa50306010d12a23ad40d63eac99...              0.0   \n",
       "003136aacdfb6e7ee06bdd001b8c5351ddb3ad360c30bca...              0.0   \n",
       "\n",
       "                                                    grp_add_assig_1  \\\n",
       "user_id                                                               \n",
       "0009111939b7d071597369a67002b22853c08e19f463cf2...              0.0   \n",
       "001209cc56f8583d638502e7446dd7461278082d613d4c6...              1.0   \n",
       "001ed4483f258c0e1b75a205f24f7ec2b04490adbddb45e...              4.0   \n",
       "00310c09b913aa7e422aa50306010d12a23ad40d63eac99...              0.0   \n",
       "003136aacdfb6e7ee06bdd001b8c5351ddb3ad360c30bca...              0.0   \n",
       "\n",
       "                                                    grp_add_assig_tot_0  \\\n",
       "user_id                                                                   \n",
       "0009111939b7d071597369a67002b22853c08e19f463cf2...                  0.0   \n",
       "001209cc56f8583d638502e7446dd7461278082d613d4c6...                  5.0   \n",
       "001ed4483f258c0e1b75a205f24f7ec2b04490adbddb45e...                 16.0   \n",
       "00310c09b913aa7e422aa50306010d12a23ad40d63eac99...                  3.0   \n",
       "003136aacdfb6e7ee06bdd001b8c5351ddb3ad360c30bca...                  0.0   \n",
       "\n",
       "                                                    grp_add_assig_tot_1  \\\n",
       "user_id                                                                   \n",
       "0009111939b7d071597369a67002b22853c08e19f463cf2...                  0.0   \n",
       "001209cc56f8583d638502e7446dd7461278082d613d4c6...                  6.0   \n",
       "001ed4483f258c0e1b75a205f24f7ec2b04490adbddb45e...                 20.0   \n",
       "00310c09b913aa7e422aa50306010d12a23ad40d63eac99...                  3.0   \n",
       "003136aacdfb6e7ee06bdd001b8c5351ddb3ad360c30bca...                  0.0   \n",
       "\n",
       "                                                    grp_add_user_0  \\\n",
       "user_id                                                              \n",
       "0009111939b7d071597369a67002b22853c08e19f463cf2...             0.0   \n",
       "001209cc56f8583d638502e7446dd7461278082d613d4c6...             2.0   \n",
       "001ed4483f258c0e1b75a205f24f7ec2b04490adbddb45e...            28.0   \n",
       "00310c09b913aa7e422aa50306010d12a23ad40d63eac99...             6.0   \n",
       "003136aacdfb6e7ee06bdd001b8c5351ddb3ad360c30bca...             0.0   \n",
       "\n",
       "                                                    grp_add_user_1  \\\n",
       "user_id                                                              \n",
       "0009111939b7d071597369a67002b22853c08e19f463cf2...             0.0   \n",
       "001209cc56f8583d638502e7446dd7461278082d613d4c6...             0.0   \n",
       "001ed4483f258c0e1b75a205f24f7ec2b04490adbddb45e...             0.0   \n",
       "00310c09b913aa7e422aa50306010d12a23ad40d63eac99...             1.0   \n",
       "003136aacdfb6e7ee06bdd001b8c5351ddb3ad360c30bca...             0.0   \n",
       "\n",
       "                                                    grp_add_user_tot_0  \\\n",
       "user_id                                                                  \n",
       "0009111939b7d071597369a67002b22853c08e19f463cf2...                 0.0   \n",
       "001209cc56f8583d638502e7446dd7461278082d613d4c6...                 5.0   \n",
       "001ed4483f258c0e1b75a205f24f7ec2b04490adbddb45e...                28.0   \n",
       "00310c09b913aa7e422aa50306010d12a23ad40d63eac99...                 7.0   \n",
       "003136aacdfb6e7ee06bdd001b8c5351ddb3ad360c30bca...                 0.0   \n",
       "\n",
       "                                                    grp_add_user_tot_1  \\\n",
       "user_id                                                                  \n",
       "0009111939b7d071597369a67002b22853c08e19f463cf2...                 0.0   \n",
       "001209cc56f8583d638502e7446dd7461278082d613d4c6...                 5.0   \n",
       "001ed4483f258c0e1b75a205f24f7ec2b04490adbddb45e...                28.0   \n",
       "00310c09b913aa7e422aa50306010d12a23ad40d63eac99...                 8.0   \n",
       "003136aacdfb6e7ee06bdd001b8c5351ddb3ad360c30bca...                 0.0   \n",
       "\n",
       "                                                    grp_added_0  grp_added_1  \\\n",
       "user_id                                                                        \n",
       "0009111939b7d071597369a67002b22853c08e19f463cf2...          0.0          0.0   \n",
       "001209cc56f8583d638502e7446dd7461278082d613d4c6...          2.0          0.0   \n",
       "001ed4483f258c0e1b75a205f24f7ec2b04490adbddb45e...         28.0          0.0   \n",
       "00310c09b913aa7e422aa50306010d12a23ad40d63eac99...          6.0          1.0   \n",
       "003136aacdfb6e7ee06bdd001b8c5351ddb3ad360c30bca...          0.0          0.0   \n",
       "\n",
       "                                                       ...       \\\n",
       "user_id                                                ...        \n",
       "0009111939b7d071597369a67002b22853c08e19f463cf2...     ...        \n",
       "001209cc56f8583d638502e7446dd7461278082d613d4c6...     ...        \n",
       "001ed4483f258c0e1b75a205f24f7ec2b04490adbddb45e...     ...        \n",
       "00310c09b913aa7e422aa50306010d12a23ad40d63eac99...     ...        \n",
       "003136aacdfb6e7ee06bdd001b8c5351ddb3ad360c30bca...     ...        \n",
       "\n",
       "                                                    tch_create_group_tot_0  \\\n",
       "user_id                                                                      \n",
       "0009111939b7d071597369a67002b22853c08e19f463cf2...                     0.0   \n",
       "001209cc56f8583d638502e7446dd7461278082d613d4c6...                     3.0   \n",
       "001ed4483f258c0e1b75a205f24f7ec2b04490adbddb45e...                     6.0   \n",
       "00310c09b913aa7e422aa50306010d12a23ad40d63eac99...                     4.0   \n",
       "003136aacdfb6e7ee06bdd001b8c5351ddb3ad360c30bca...                     0.0   \n",
       "\n",
       "                                                    tch_create_group_tot_1  \\\n",
       "user_id                                                                      \n",
       "0009111939b7d071597369a67002b22853c08e19f463cf2...                     1.0   \n",
       "001209cc56f8583d638502e7446dd7461278082d613d4c6...                     3.0   \n",
       "001ed4483f258c0e1b75a205f24f7ec2b04490adbddb45e...                     6.0   \n",
       "00310c09b913aa7e422aa50306010d12a23ad40d63eac99...                     4.0   \n",
       "003136aacdfb6e7ee06bdd001b8c5351ddb3ad360c30bca...                     0.0   \n",
       "\n",
       "                                                    tch_view_assig_prog_0  \\\n",
       "user_id                                                                     \n",
       "0009111939b7d071597369a67002b22853c08e19f463cf2...                   36.0   \n",
       "001209cc56f8583d638502e7446dd7461278082d613d4c6...                   66.0   \n",
       "001ed4483f258c0e1b75a205f24f7ec2b04490adbddb45e...                   92.0   \n",
       "00310c09b913aa7e422aa50306010d12a23ad40d63eac99...                    0.0   \n",
       "003136aacdfb6e7ee06bdd001b8c5351ddb3ad360c30bca...                  275.0   \n",
       "\n",
       "                                                    tch_view_assig_prog_1  \\\n",
       "user_id                                                                     \n",
       "0009111939b7d071597369a67002b22853c08e19f463cf2...                   19.0   \n",
       "001209cc56f8583d638502e7446dd7461278082d613d4c6...                    0.0   \n",
       "001ed4483f258c0e1b75a205f24f7ec2b04490adbddb45e...                   28.0   \n",
       "00310c09b913aa7e422aa50306010d12a23ad40d63eac99...                    0.0   \n",
       "003136aacdfb6e7ee06bdd001b8c5351ddb3ad360c30bca...                  109.0   \n",
       "\n",
       "                                                    tch_view_assig_prog_tot_0  \\\n",
       "user_id                                                                         \n",
       "0009111939b7d071597369a67002b22853c08e19f463cf2...                       58.0   \n",
       "001209cc56f8583d638502e7446dd7461278082d613d4c6...                      136.0   \n",
       "001ed4483f258c0e1b75a205f24f7ec2b04490adbddb45e...                      180.0   \n",
       "00310c09b913aa7e422aa50306010d12a23ad40d63eac99...                       66.0   \n",
       "003136aacdfb6e7ee06bdd001b8c5351ddb3ad360c30bca...                      275.0   \n",
       "\n",
       "                                                    tch_view_assig_prog_tot_1  \\\n",
       "user_id                                                                         \n",
       "0009111939b7d071597369a67002b22853c08e19f463cf2...                       77.0   \n",
       "001209cc56f8583d638502e7446dd7461278082d613d4c6...                      136.0   \n",
       "001ed4483f258c0e1b75a205f24f7ec2b04490adbddb45e...                      208.0   \n",
       "00310c09b913aa7e422aa50306010d12a23ad40d63eac99...                       66.0   \n",
       "003136aacdfb6e7ee06bdd001b8c5351ddb3ad360c30bca...                      384.0   \n",
       "\n",
       "                                                    view_concept_0  \\\n",
       "user_id                                                              \n",
       "0009111939b7d071597369a67002b22853c08e19f463cf2...             3.0   \n",
       "001209cc56f8583d638502e7446dd7461278082d613d4c6...             0.0   \n",
       "001ed4483f258c0e1b75a205f24f7ec2b04490adbddb45e...             0.0   \n",
       "00310c09b913aa7e422aa50306010d12a23ad40d63eac99...             1.0   \n",
       "003136aacdfb6e7ee06bdd001b8c5351ddb3ad360c30bca...             0.0   \n",
       "\n",
       "                                                    view_concept_1  \\\n",
       "user_id                                                              \n",
       "0009111939b7d071597369a67002b22853c08e19f463cf2...             3.0   \n",
       "001209cc56f8583d638502e7446dd7461278082d613d4c6...             0.0   \n",
       "001ed4483f258c0e1b75a205f24f7ec2b04490adbddb45e...             0.0   \n",
       "00310c09b913aa7e422aa50306010d12a23ad40d63eac99...             5.0   \n",
       "003136aacdfb6e7ee06bdd001b8c5351ddb3ad360c30bca...             0.0   \n",
       "\n",
       "                                                    view_hint_0  view_hint_1  \n",
       "user_id                                                                       \n",
       "0009111939b7d071597369a67002b22853c08e19f463cf2...          5.0          0.0  \n",
       "001209cc56f8583d638502e7446dd7461278082d613d4c6...         13.0          0.0  \n",
       "001ed4483f258c0e1b75a205f24f7ec2b04490adbddb45e...         88.0          0.0  \n",
       "00310c09b913aa7e422aa50306010d12a23ad40d63eac99...          6.0          6.0  \n",
       "003136aacdfb6e7ee06bdd001b8c5351ddb3ad360c30bca...          0.0          0.0  \n",
       "\n",
       "[5 rows x 66 columns]"
      ]
     },
     "execution_count": 62,
     "metadata": {},
     "output_type": "execute_result"
    }
   ],
   "source": [
    "# Reading the dataframe \n",
    "df = pd.read_csv(source_csv)\n",
    "\n",
    "# Remove users who didn't have any activity in month 0\n",
    "min_months = df.groupby('user_id')['event_leg'].min()\n",
    "min_months = min_months[min_months == 0]\n",
    "\n",
    "# Update the dataframe\n",
    "df = df.set_index('user_id').loc[min_months.index]\n",
    "\n",
    "# Find the churn month of each user\n",
    "churn_array = df.groupby('user_id')['event_leg'].max()\n",
    "\n",
    "# --------------------------------------------------------\n",
    "# --------------------------------------------------------\n",
    "\n",
    "# Define last_month of user activity\n",
    "last_month = 1\n",
    "\n",
    "# Adapt churn_array appropriately \n",
    "churn_array = churn_array[churn_array>=last_month]\n",
    "\n",
    "# Remove all rows that have data after those months\n",
    "df_lm = df[df['event_leg']<=last_month]\n",
    "\n",
    "# Remove all users that have already churned\n",
    "df_lm = df_lm.loc[churn_array.index]\n",
    "\n",
    "# Create labels for churn and not churn\n",
    "label = [0 if item > last_month else 1 for item in churn_array]\n",
    "\n",
    "# Checking the lengths (they have to be the same)\n",
    "print(len(label))\n",
    "print(len(np.unique(df_lm.index)))\n",
    "\n",
    "\n",
    "# Let's try appending the features\n",
    "df_lm_new = prepare_time_series(df_lm.groupby(['user_id','event_leg']).sum(),list(range(last_month+1)),'append')\n",
    "\n",
    "# Fill in any zeros\n",
    "df_lm_new = df_lm_new.fillna(0)\n",
    "\n",
    "df_lm_new.head()\n"
   ]
  },
  {
   "cell_type": "code",
   "execution_count": 63,
   "metadata": {},
   "outputs": [
    {
     "data": {
      "text/plain": [
       "(array([ 5801.,     0.,     0.,     0.,     0.,     0.,     0.,     0.,\n",
       "            0.,   506.]),\n",
       " array([ 0. ,  0.1,  0.2,  0.3,  0.4,  0.5,  0.6,  0.7,  0.8,  0.9,  1. ]),\n",
       " <a list of 10 Patch objects>)"
      ]
     },
     "execution_count": 63,
     "metadata": {},
     "output_type": "execute_result"
    },
    {
     "data": {
      "image/png": "[encoded data removed]",
      "text/plain": [
       "<matplotlib.figure.Figure at 0x7fd969596f28>"
      ]
     },
     "metadata": {},
     "output_type": "display_data"
    }
   ],
   "source": [
    "# Check class distribution\n",
    "plt.hist(label)"
   ]
  },
  {
   "cell_type": "markdown",
   "metadata": {},
   "source": [
    "## Baseline\n",
    "\n",
    "The baseline case to compare against"
   ]
  },
  {
   "cell_type": "code",
   "execution_count": 64,
   "metadata": {},
   "outputs": [
    {
     "name": "stdout",
     "output_type": "stream",
     "text": [
      "             precision    recall  f1-score   support\n",
      "\n",
      "          0       0.99      0.94      0.96      1827\n",
      "          1       0.29      0.65      0.40        66\n",
      "\n",
      "avg / total       0.96      0.93      0.94      1893\n",
      "\n"
     ]
    },
    {
     "data": {
      "image/png": "[encoded data removed]",
      "text/plain": [
       "<matplotlib.figure.Figure at 0x7fd9693653c8>"
      ]
     },
     "metadata": {},
     "output_type": "display_data"
    }
   ],
   "source": [
    "# Assign variables\n",
    "X = df_lm_new.values\n",
    "y = label\n",
    "\n",
    "# Scale the data\n",
    "scaler = StandardScaler()\n",
    "X_trf = scaler.fit_transform(X)\n",
    "X = X_trf\n",
    "\n",
    "# Split into train and test sets\n",
    "X_train, X_test, y_train, y_test = train_test_split(X, y,test_size = 0.3, random_state=42)\n",
    "\n",
    "# Classifier\n",
    "clf = RandomForestClassifier(n_estimators=100,random_state=42)\n",
    "clf.fit(X_train,y_train)\n",
    "\n",
    "# Predict\n",
    "y_pred = clf.predict(X_test)\n",
    "y_score = clf.predict_proba(X_test)\n",
    "\n",
    "# Evaluate\n",
    "plt.hist(y_pred)\n",
    "plt.hist(y_test,alpha= 0.4)\n",
    "\n",
    "print(classification_report(y_pred,y_test))\n"
   ]
  },
  {
   "cell_type": "code",
   "execution_count": 65,
   "metadata": {},
   "outputs": [
    {
     "data": {
      "text/plain": [
       "0.4627239625369487"
      ]
     },
     "execution_count": 65,
     "metadata": {},
     "output_type": "execute_result"
    },
    {
     "data": {
      "image/png": "[encoded data removed]",
      "text/plain": [
       "<matplotlib.figure.Figure at 0x7fd96976d978>"
      ]
     },
     "metadata": {},
     "output_type": "display_data"
    }
   ],
   "source": [
    "precision, recall, _ = precision_recall_curve(y_test,y_score[:,1])\n",
    "\n",
    "\n",
    "plt.step(recall, precision, color='b', alpha=0.2,\n",
    "         where='post')\n",
    "plt.fill_between(recall, precision, step='post', alpha=0.2,\n",
    "                 color='b')\n",
    "\n",
    "plt.xlabel('Recall')\n",
    "plt.ylabel('Precision')\n",
    "plt.ylim([0.0, 1.05])\n",
    "plt.xlim([0.0, 1.0])\n",
    "\n",
    "average_precision_score(y_test,y_score[:,1])"
   ]
  },
  {
   "cell_type": "markdown",
   "metadata": {},
   "source": [
    "## Feature selection\n",
    "\n",
    "Here we are using the python toolbox boruta_py\n"
   ]
  },
  {
   "cell_type": "code",
   "execution_count": 66,
   "metadata": {},
   "outputs": [
    {
     "name": "stdout",
     "output_type": "stream",
     "text": [
      "Iteration: \t1 / 100\n",
      "Confirmed: \t0\n",
      "Tentative: \t66\n",
      "Rejected: \t0\n",
      "Iteration: \t2 / 100\n",
      "Confirmed: \t0\n",
      "Tentative: \t66\n",
      "Rejected: \t0\n",
      "Iteration: \t3 / 100\n",
      "Confirmed: \t0\n",
      "Tentative: \t66\n",
      "Rejected: \t0\n",
      "Iteration: \t4 / 100\n",
      "Confirmed: \t0\n",
      "Tentative: \t66\n",
      "Rejected: \t0\n",
      "Iteration: \t5 / 100\n",
      "Confirmed: \t0\n",
      "Tentative: \t66\n",
      "Rejected: \t0\n",
      "Iteration: \t6 / 100\n",
      "Confirmed: \t0\n",
      "Tentative: \t66\n",
      "Rejected: \t0\n",
      "Iteration: \t7 / 100\n",
      "Confirmed: \t0\n",
      "Tentative: \t66\n",
      "Rejected: \t0\n",
      "Iteration: \t8 / 100\n",
      "Confirmed: \t30\n",
      "Tentative: \t8\n",
      "Rejected: \t28\n"
     ]
    },
    {
     "name": "stderr",
     "output_type": "stream",
     "text": [
      "/home/work/anaconda3/lib/python3.6/site-packages/boruta/boruta_py.py:418: RuntimeWarning: invalid value encountered in greater\n",
      "  hits = np.where(cur_imp[0] > imp_sha_max)[0]\n"
     ]
    },
    {
     "name": "stdout",
     "output_type": "stream",
     "text": [
      "Iteration: \t9 / 100\n",
      "Confirmed: \t30\n",
      "Tentative: \t8\n",
      "Rejected: \t28\n"
     ]
    },
    {
     "name": "stderr",
     "output_type": "stream",
     "text": [
      "/home/work/anaconda3/lib/python3.6/site-packages/boruta/boruta_py.py:418: RuntimeWarning: invalid value encountered in greater\n",
      "  hits = np.where(cur_imp[0] > imp_sha_max)[0]\n"
     ]
    },
    {
     "name": "stdout",
     "output_type": "stream",
     "text": [
      "Iteration: \t10 / 100\n",
      "Confirmed: \t30\n",
      "Tentative: \t8\n",
      "Rejected: \t28\n"
     ]
    },
    {
     "name": "stderr",
     "output_type": "stream",
     "text": [
      "/home/work/anaconda3/lib/python3.6/site-packages/boruta/boruta_py.py:418: RuntimeWarning: invalid value encountered in greater\n",
      "  hits = np.where(cur_imp[0] > imp_sha_max)[0]\n"
     ]
    },
    {
     "name": "stdout",
     "output_type": "stream",
     "text": [
      "Iteration: \t11 / 100\n",
      "Confirmed: \t30\n",
      "Tentative: \t8\n",
      "Rejected: \t28\n"
     ]
    },
    {
     "name": "stderr",
     "output_type": "stream",
     "text": [
      "/home/work/anaconda3/lib/python3.6/site-packages/boruta/boruta_py.py:418: RuntimeWarning: invalid value encountered in greater\n",
      "  hits = np.where(cur_imp[0] > imp_sha_max)[0]\n"
     ]
    },
    {
     "name": "stdout",
     "output_type": "stream",
     "text": [
      "Iteration: \t12 / 100\n",
      "Confirmed: \t31\n",
      "Tentative: \t7\n",
      "Rejected: \t28\n"
     ]
    },
    {
     "name": "stderr",
     "output_type": "stream",
     "text": [
      "/home/work/anaconda3/lib/python3.6/site-packages/boruta/boruta_py.py:418: RuntimeWarning: invalid value encountered in greater\n",
      "  hits = np.where(cur_imp[0] > imp_sha_max)[0]\n"
     ]
    },
    {
     "name": "stdout",
     "output_type": "stream",
     "text": [
      "Iteration: \t13 / 100\n",
      "Confirmed: \t31\n",
      "Tentative: \t7\n",
      "Rejected: \t28\n"
     ]
    },
    {
     "name": "stderr",
     "output_type": "stream",
     "text": [
      "/home/work/anaconda3/lib/python3.6/site-packages/boruta/boruta_py.py:418: RuntimeWarning: invalid value encountered in greater\n",
      "  hits = np.where(cur_imp[0] > imp_sha_max)[0]\n"
     ]
    },
    {
     "name": "stdout",
     "output_type": "stream",
     "text": [
      "Iteration: \t14 / 100\n",
      "Confirmed: \t31\n",
      "Tentative: \t6\n",
      "Rejected: \t29\n"
     ]
    },
    {
     "name": "stderr",
     "output_type": "stream",
     "text": [
      "/home/work/anaconda3/lib/python3.6/site-packages/boruta/boruta_py.py:418: RuntimeWarning: invalid value encountered in greater\n",
      "  hits = np.where(cur_imp[0] > imp_sha_max)[0]\n"
     ]
    },
    {
     "name": "stdout",
     "output_type": "stream",
     "text": [
      "Iteration: \t15 / 100\n",
      "Confirmed: \t31\n",
      "Tentative: \t6\n",
      "Rejected: \t29\n"
     ]
    },
    {
     "name": "stderr",
     "output_type": "stream",
     "text": [
      "/home/work/anaconda3/lib/python3.6/site-packages/boruta/boruta_py.py:418: RuntimeWarning: invalid value encountered in greater\n",
      "  hits = np.where(cur_imp[0] > imp_sha_max)[0]\n"
     ]
    },
    {
     "name": "stdout",
     "output_type": "stream",
     "text": [
      "Iteration: \t16 / 100\n",
      "Confirmed: \t31\n",
      "Tentative: \t6\n",
      "Rejected: \t29\n"
     ]
    },
    {
     "name": "stderr",
     "output_type": "stream",
     "text": [
      "/home/work/anaconda3/lib/python3.6/site-packages/boruta/boruta_py.py:418: RuntimeWarning: invalid value encountered in greater\n",
      "  hits = np.where(cur_imp[0] > imp_sha_max)[0]\n"
     ]
    },
    {
     "name": "stdout",
     "output_type": "stream",
     "text": [
      "Iteration: \t17 / 100\n",
      "Confirmed: \t31\n",
      "Tentative: \t5\n",
      "Rejected: \t30\n"
     ]
    },
    {
     "name": "stderr",
     "output_type": "stream",
     "text": [
      "/home/work/anaconda3/lib/python3.6/site-packages/boruta/boruta_py.py:418: RuntimeWarning: invalid value encountered in greater\n",
      "  hits = np.where(cur_imp[0] > imp_sha_max)[0]\n"
     ]
    },
    {
     "name": "stdout",
     "output_type": "stream",
     "text": [
      "Iteration: \t18 / 100\n",
      "Confirmed: \t31\n",
      "Tentative: \t5\n",
      "Rejected: \t30\n"
     ]
    },
    {
     "name": "stderr",
     "output_type": "stream",
     "text": [
      "/home/work/anaconda3/lib/python3.6/site-packages/boruta/boruta_py.py:418: RuntimeWarning: invalid value encountered in greater\n",
      "  hits = np.where(cur_imp[0] > imp_sha_max)[0]\n"
     ]
    },
    {
     "name": "stdout",
     "output_type": "stream",
     "text": [
      "Iteration: \t19 / 100\n",
      "Confirmed: \t32\n",
      "Tentative: \t4\n",
      "Rejected: \t30\n"
     ]
    },
    {
     "name": "stderr",
     "output_type": "stream",
     "text": [
      "/home/work/anaconda3/lib/python3.6/site-packages/boruta/boruta_py.py:418: RuntimeWarning: invalid value encountered in greater\n",
      "  hits = np.where(cur_imp[0] > imp_sha_max)[0]\n"
     ]
    },
    {
     "name": "stdout",
     "output_type": "stream",
     "text": [
      "Iteration: \t20 / 100\n",
      "Confirmed: \t32\n",
      "Tentative: \t4\n",
      "Rejected: \t30\n"
     ]
    },
    {
     "name": "stderr",
     "output_type": "stream",
     "text": [
      "/home/work/anaconda3/lib/python3.6/site-packages/boruta/boruta_py.py:418: RuntimeWarning: invalid value encountered in greater\n",
      "  hits = np.where(cur_imp[0] > imp_sha_max)[0]\n"
     ]
    },
    {
     "name": "stdout",
     "output_type": "stream",
     "text": [
      "Iteration: \t21 / 100\n",
      "Confirmed: \t32\n",
      "Tentative: \t4\n",
      "Rejected: \t30\n"
     ]
    },
    {
     "name": "stderr",
     "output_type": "stream",
     "text": [
      "/home/work/anaconda3/lib/python3.6/site-packages/boruta/boruta_py.py:418: RuntimeWarning: invalid value encountered in greater\n",
      "  hits = np.where(cur_imp[0] > imp_sha_max)[0]\n"
     ]
    },
    {
     "name": "stdout",
     "output_type": "stream",
     "text": [
      "Iteration: \t22 / 100\n",
      "Confirmed: \t32\n",
      "Tentative: \t4\n",
      "Rejected: \t30\n"
     ]
    },
    {
     "name": "stderr",
     "output_type": "stream",
     "text": [
      "/home/work/anaconda3/lib/python3.6/site-packages/boruta/boruta_py.py:418: RuntimeWarning: invalid value encountered in greater\n",
      "  hits = np.where(cur_imp[0] > imp_sha_max)[0]\n"
     ]
    },
    {
     "name": "stdout",
     "output_type": "stream",
     "text": [
      "Iteration: \t23 / 100\n",
      "Confirmed: \t32\n",
      "Tentative: \t4\n",
      "Rejected: \t30\n"
     ]
    },
    {
     "name": "stderr",
     "output_type": "stream",
     "text": [
      "/home/work/anaconda3/lib/python3.6/site-packages/boruta/boruta_py.py:418: RuntimeWarning: invalid value encountered in greater\n",
      "  hits = np.where(cur_imp[0] > imp_sha_max)[0]\n"
     ]
    },
    {
     "name": "stdout",
     "output_type": "stream",
     "text": [
      "Iteration: \t24 / 100\n",
      "Confirmed: \t32\n",
      "Tentative: \t4\n",
      "Rejected: \t30\n"
     ]
    },
    {
     "name": "stderr",
     "output_type": "stream",
     "text": [
      "/home/work/anaconda3/lib/python3.6/site-packages/boruta/boruta_py.py:418: RuntimeWarning: invalid value encountered in greater\n",
      "  hits = np.where(cur_imp[0] > imp_sha_max)[0]\n"
     ]
    },
    {
     "name": "stdout",
     "output_type": "stream",
     "text": [
      "Iteration: \t25 / 100\n",
      "Confirmed: \t32\n",
      "Tentative: \t4\n",
      "Rejected: \t30\n"
     ]
    },
    {
     "name": "stderr",
     "output_type": "stream",
     "text": [
      "/home/work/anaconda3/lib/python3.6/site-packages/boruta/boruta_py.py:418: RuntimeWarning: invalid value encountered in greater\n",
      "  hits = np.where(cur_imp[0] > imp_sha_max)[0]\n"
     ]
    },
    {
     "name": "stdout",
     "output_type": "stream",
     "text": [
      "Iteration: \t26 / 100\n",
      "Confirmed: \t32\n",
      "Tentative: \t4\n",
      "Rejected: \t30\n"
     ]
    },
    {
     "name": "stderr",
     "output_type": "stream",
     "text": [
      "/home/work/anaconda3/lib/python3.6/site-packages/boruta/boruta_py.py:418: RuntimeWarning: invalid value encountered in greater\n",
      "  hits = np.where(cur_imp[0] > imp_sha_max)[0]\n"
     ]
    },
    {
     "name": "stdout",
     "output_type": "stream",
     "text": [
      "Iteration: \t27 / 100\n",
      "Confirmed: \t32\n",
      "Tentative: \t4\n",
      "Rejected: \t30\n"
     ]
    },
    {
     "name": "stderr",
     "output_type": "stream",
     "text": [
      "/home/work/anaconda3/lib/python3.6/site-packages/boruta/boruta_py.py:418: RuntimeWarning: invalid value encountered in greater\n",
      "  hits = np.where(cur_imp[0] > imp_sha_max)[0]\n"
     ]
    },
    {
     "name": "stdout",
     "output_type": "stream",
     "text": [
      "Iteration: \t28 / 100\n",
      "Confirmed: \t32\n",
      "Tentative: \t4\n",
      "Rejected: \t30\n"
     ]
    },
    {
     "name": "stderr",
     "output_type": "stream",
     "text": [
      "/home/work/anaconda3/lib/python3.6/site-packages/boruta/boruta_py.py:418: RuntimeWarning: invalid value encountered in greater\n",
      "  hits = np.where(cur_imp[0] > imp_sha_max)[0]\n"
     ]
    },
    {
     "name": "stdout",
     "output_type": "stream",
     "text": [
      "Iteration: \t29 / 100\n",
      "Confirmed: \t32\n",
      "Tentative: \t4\n",
      "Rejected: \t30\n"
     ]
    },
    {
     "name": "stderr",
     "output_type": "stream",
     "text": [
      "/home/work/anaconda3/lib/python3.6/site-packages/boruta/boruta_py.py:418: RuntimeWarning: invalid value encountered in greater\n",
      "  hits = np.where(cur_imp[0] > imp_sha_max)[0]\n"
     ]
    },
    {
     "name": "stdout",
     "output_type": "stream",
     "text": [
      "Iteration: \t30 / 100\n",
      "Confirmed: \t32\n",
      "Tentative: \t4\n",
      "Rejected: \t30\n"
     ]
    },
    {
     "name": "stderr",
     "output_type": "stream",
     "text": [
      "/home/work/anaconda3/lib/python3.6/site-packages/boruta/boruta_py.py:418: RuntimeWarning: invalid value encountered in greater\n",
      "  hits = np.where(cur_imp[0] > imp_sha_max)[0]\n"
     ]
    },
    {
     "name": "stdout",
     "output_type": "stream",
     "text": [
      "Iteration: \t31 / 100\n",
      "Confirmed: \t32\n",
      "Tentative: \t4\n",
      "Rejected: \t30\n"
     ]
    },
    {
     "name": "stderr",
     "output_type": "stream",
     "text": [
      "/home/work/anaconda3/lib/python3.6/site-packages/boruta/boruta_py.py:418: RuntimeWarning: invalid value encountered in greater\n",
      "  hits = np.where(cur_imp[0] > imp_sha_max)[0]\n"
     ]
    },
    {
     "name": "stdout",
     "output_type": "stream",
     "text": [
      "Iteration: \t32 / 100\n",
      "Confirmed: \t32\n",
      "Tentative: \t4\n",
      "Rejected: \t30\n"
     ]
    },
    {
     "name": "stderr",
     "output_type": "stream",
     "text": [
      "/home/work/anaconda3/lib/python3.6/site-packages/boruta/boruta_py.py:418: RuntimeWarning: invalid value encountered in greater\n",
      "  hits = np.where(cur_imp[0] > imp_sha_max)[0]\n"
     ]
    },
    {
     "name": "stdout",
     "output_type": "stream",
     "text": [
      "Iteration: \t33 / 100\n",
      "Confirmed: \t32\n",
      "Tentative: \t4\n",
      "Rejected: \t30\n"
     ]
    },
    {
     "name": "stderr",
     "output_type": "stream",
     "text": [
      "/home/work/anaconda3/lib/python3.6/site-packages/boruta/boruta_py.py:418: RuntimeWarning: invalid value encountered in greater\n",
      "  hits = np.where(cur_imp[0] > imp_sha_max)[0]\n"
     ]
    },
    {
     "name": "stdout",
     "output_type": "stream",
     "text": [
      "Iteration: \t34 / 100\n",
      "Confirmed: \t32\n",
      "Tentative: \t4\n",
      "Rejected: \t30\n"
     ]
    },
    {
     "name": "stderr",
     "output_type": "stream",
     "text": [
      "/home/work/anaconda3/lib/python3.6/site-packages/boruta/boruta_py.py:418: RuntimeWarning: invalid value encountered in greater\n",
      "  hits = np.where(cur_imp[0] > imp_sha_max)[0]\n"
     ]
    },
    {
     "name": "stdout",
     "output_type": "stream",
     "text": [
      "Iteration: \t35 / 100\n",
      "Confirmed: \t32\n",
      "Tentative: \t4\n",
      "Rejected: \t30\n"
     ]
    },
    {
     "name": "stderr",
     "output_type": "stream",
     "text": [
      "/home/work/anaconda3/lib/python3.6/site-packages/boruta/boruta_py.py:418: RuntimeWarning: invalid value encountered in greater\n",
      "  hits = np.where(cur_imp[0] > imp_sha_max)[0]\n"
     ]
    },
    {
     "name": "stdout",
     "output_type": "stream",
     "text": [
      "Iteration: \t36 / 100\n",
      "Confirmed: \t32\n",
      "Tentative: \t4\n",
      "Rejected: \t30\n"
     ]
    },
    {
     "name": "stderr",
     "output_type": "stream",
     "text": [
      "/home/work/anaconda3/lib/python3.6/site-packages/boruta/boruta_py.py:418: RuntimeWarning: invalid value encountered in greater\n",
      "  hits = np.where(cur_imp[0] > imp_sha_max)[0]\n"
     ]
    },
    {
     "name": "stdout",
     "output_type": "stream",
     "text": [
      "Iteration: \t37 / 100\n",
      "Confirmed: \t32\n",
      "Tentative: \t4\n",
      "Rejected: \t30\n"
     ]
    },
    {
     "name": "stderr",
     "output_type": "stream",
     "text": [
      "/home/work/anaconda3/lib/python3.6/site-packages/boruta/boruta_py.py:418: RuntimeWarning: invalid value encountered in greater\n",
      "  hits = np.where(cur_imp[0] > imp_sha_max)[0]\n"
     ]
    },
    {
     "name": "stdout",
     "output_type": "stream",
     "text": [
      "Iteration: \t38 / 100\n",
      "Confirmed: \t32\n",
      "Tentative: \t4\n",
      "Rejected: \t30\n"
     ]
    },
    {
     "name": "stderr",
     "output_type": "stream",
     "text": [
      "/home/work/anaconda3/lib/python3.6/site-packages/boruta/boruta_py.py:418: RuntimeWarning: invalid value encountered in greater\n",
      "  hits = np.where(cur_imp[0] > imp_sha_max)[0]\n"
     ]
    },
    {
     "name": "stdout",
     "output_type": "stream",
     "text": [
      "Iteration: \t39 / 100\n",
      "Confirmed: \t32\n",
      "Tentative: \t4\n",
      "Rejected: \t30\n"
     ]
    },
    {
     "name": "stderr",
     "output_type": "stream",
     "text": [
      "/home/work/anaconda3/lib/python3.6/site-packages/boruta/boruta_py.py:418: RuntimeWarning: invalid value encountered in greater\n",
      "  hits = np.where(cur_imp[0] > imp_sha_max)[0]\n"
     ]
    },
    {
     "name": "stdout",
     "output_type": "stream",
     "text": [
      "Iteration: \t40 / 100\n",
      "Confirmed: \t32\n",
      "Tentative: \t4\n",
      "Rejected: \t30\n"
     ]
    },
    {
     "name": "stderr",
     "output_type": "stream",
     "text": [
      "/home/work/anaconda3/lib/python3.6/site-packages/boruta/boruta_py.py:418: RuntimeWarning: invalid value encountered in greater\n",
      "  hits = np.where(cur_imp[0] > imp_sha_max)[0]\n"
     ]
    },
    {
     "name": "stdout",
     "output_type": "stream",
     "text": [
      "Iteration: \t41 / 100\n",
      "Confirmed: \t32\n",
      "Tentative: \t4\n",
      "Rejected: \t30\n"
     ]
    },
    {
     "name": "stderr",
     "output_type": "stream",
     "text": [
      "/home/work/anaconda3/lib/python3.6/site-packages/boruta/boruta_py.py:418: RuntimeWarning: invalid value encountered in greater\n",
      "  hits = np.where(cur_imp[0] > imp_sha_max)[0]\n"
     ]
    },
    {
     "name": "stdout",
     "output_type": "stream",
     "text": [
      "Iteration: \t42 / 100\n",
      "Confirmed: \t32\n",
      "Tentative: \t4\n",
      "Rejected: \t30\n"
     ]
    },
    {
     "name": "stderr",
     "output_type": "stream",
     "text": [
      "/home/work/anaconda3/lib/python3.6/site-packages/boruta/boruta_py.py:418: RuntimeWarning: invalid value encountered in greater\n",
      "  hits = np.where(cur_imp[0] > imp_sha_max)[0]\n"
     ]
    },
    {
     "name": "stdout",
     "output_type": "stream",
     "text": [
      "Iteration: \t43 / 100\n",
      "Confirmed: \t32\n",
      "Tentative: \t4\n",
      "Rejected: \t30\n"
     ]
    },
    {
     "name": "stderr",
     "output_type": "stream",
     "text": [
      "/home/work/anaconda3/lib/python3.6/site-packages/boruta/boruta_py.py:418: RuntimeWarning: invalid value encountered in greater\n",
      "  hits = np.where(cur_imp[0] > imp_sha_max)[0]\n"
     ]
    },
    {
     "name": "stdout",
     "output_type": "stream",
     "text": [
      "Iteration: \t44 / 100\n",
      "Confirmed: \t32\n",
      "Tentative: \t4\n",
      "Rejected: \t30\n"
     ]
    },
    {
     "name": "stderr",
     "output_type": "stream",
     "text": [
      "/home/work/anaconda3/lib/python3.6/site-packages/boruta/boruta_py.py:418: RuntimeWarning: invalid value encountered in greater\n",
      "  hits = np.where(cur_imp[0] > imp_sha_max)[0]\n"
     ]
    },
    {
     "name": "stdout",
     "output_type": "stream",
     "text": [
      "Iteration: \t45 / 100\n",
      "Confirmed: \t32\n",
      "Tentative: \t4\n",
      "Rejected: \t30\n"
     ]
    },
    {
     "name": "stderr",
     "output_type": "stream",
     "text": [
      "/home/work/anaconda3/lib/python3.6/site-packages/boruta/boruta_py.py:418: RuntimeWarning: invalid value encountered in greater\n",
      "  hits = np.where(cur_imp[0] > imp_sha_max)[0]\n"
     ]
    },
    {
     "name": "stdout",
     "output_type": "stream",
     "text": [
      "Iteration: \t46 / 100\n",
      "Confirmed: \t32\n",
      "Tentative: \t4\n",
      "Rejected: \t30\n"
     ]
    },
    {
     "name": "stderr",
     "output_type": "stream",
     "text": [
      "/home/work/anaconda3/lib/python3.6/site-packages/boruta/boruta_py.py:418: RuntimeWarning: invalid value encountered in greater\n",
      "  hits = np.where(cur_imp[0] > imp_sha_max)[0]\n"
     ]
    },
    {
     "name": "stdout",
     "output_type": "stream",
     "text": [
      "Iteration: \t47 / 100\n",
      "Confirmed: \t32\n",
      "Tentative: \t4\n",
      "Rejected: \t30\n"
     ]
    },
    {
     "name": "stderr",
     "output_type": "stream",
     "text": [
      "/home/work/anaconda3/lib/python3.6/site-packages/boruta/boruta_py.py:418: RuntimeWarning: invalid value encountered in greater\n",
      "  hits = np.where(cur_imp[0] > imp_sha_max)[0]\n"
     ]
    },
    {
     "name": "stdout",
     "output_type": "stream",
     "text": [
      "Iteration: \t48 / 100\n",
      "Confirmed: \t32\n",
      "Tentative: \t4\n",
      "Rejected: \t30\n"
     ]
    },
    {
     "name": "stderr",
     "output_type": "stream",
     "text": [
      "/home/work/anaconda3/lib/python3.6/site-packages/boruta/boruta_py.py:418: RuntimeWarning: invalid value encountered in greater\n",
      "  hits = np.where(cur_imp[0] > imp_sha_max)[0]\n"
     ]
    },
    {
     "name": "stdout",
     "output_type": "stream",
     "text": [
      "Iteration: \t49 / 100\n",
      "Confirmed: \t32\n",
      "Tentative: \t4\n",
      "Rejected: \t30\n"
     ]
    },
    {
     "name": "stderr",
     "output_type": "stream",
     "text": [
      "/home/work/anaconda3/lib/python3.6/site-packages/boruta/boruta_py.py:418: RuntimeWarning: invalid value encountered in greater\n",
      "  hits = np.where(cur_imp[0] > imp_sha_max)[0]\n"
     ]
    },
    {
     "name": "stdout",
     "output_type": "stream",
     "text": [
      "Iteration: \t50 / 100\n",
      "Confirmed: \t32\n",
      "Tentative: \t4\n",
      "Rejected: \t30\n"
     ]
    },
    {
     "name": "stderr",
     "output_type": "stream",
     "text": [
      "/home/work/anaconda3/lib/python3.6/site-packages/boruta/boruta_py.py:418: RuntimeWarning: invalid value encountered in greater\n",
      "  hits = np.where(cur_imp[0] > imp_sha_max)[0]\n"
     ]
    },
    {
     "name": "stdout",
     "output_type": "stream",
     "text": [
      "Iteration: \t51 / 100\n",
      "Confirmed: \t32\n",
      "Tentative: \t4\n",
      "Rejected: \t30\n"
     ]
    },
    {
     "name": "stderr",
     "output_type": "stream",
     "text": [
      "/home/work/anaconda3/lib/python3.6/site-packages/boruta/boruta_py.py:418: RuntimeWarning: invalid value encountered in greater\n",
      "  hits = np.where(cur_imp[0] > imp_sha_max)[0]\n"
     ]
    },
    {
     "name": "stdout",
     "output_type": "stream",
     "text": [
      "Iteration: \t52 / 100\n",
      "Confirmed: \t32\n",
      "Tentative: \t4\n",
      "Rejected: \t30\n"
     ]
    },
    {
     "name": "stderr",
     "output_type": "stream",
     "text": [
      "/home/work/anaconda3/lib/python3.6/site-packages/boruta/boruta_py.py:418: RuntimeWarning: invalid value encountered in greater\n",
      "  hits = np.where(cur_imp[0] > imp_sha_max)[0]\n"
     ]
    },
    {
     "name": "stdout",
     "output_type": "stream",
     "text": [
      "Iteration: \t53 / 100\n",
      "Confirmed: \t32\n",
      "Tentative: \t4\n",
      "Rejected: \t30\n"
     ]
    },
    {
     "name": "stderr",
     "output_type": "stream",
     "text": [
      "/home/work/anaconda3/lib/python3.6/site-packages/boruta/boruta_py.py:418: RuntimeWarning: invalid value encountered in greater\n",
      "  hits = np.where(cur_imp[0] > imp_sha_max)[0]\n"
     ]
    },
    {
     "name": "stdout",
     "output_type": "stream",
     "text": [
      "Iteration: \t54 / 100\n",
      "Confirmed: \t32\n",
      "Tentative: \t4\n",
      "Rejected: \t30\n"
     ]
    },
    {
     "name": "stderr",
     "output_type": "stream",
     "text": [
      "/home/work/anaconda3/lib/python3.6/site-packages/boruta/boruta_py.py:418: RuntimeWarning: invalid value encountered in greater\n",
      "  hits = np.where(cur_imp[0] > imp_sha_max)[0]\n"
     ]
    },
    {
     "name": "stdout",
     "output_type": "stream",
     "text": [
      "Iteration: \t55 / 100\n",
      "Confirmed: \t32\n",
      "Tentative: \t4\n",
      "Rejected: \t30\n"
     ]
    },
    {
     "name": "stderr",
     "output_type": "stream",
     "text": [
      "/home/work/anaconda3/lib/python3.6/site-packages/boruta/boruta_py.py:418: RuntimeWarning: invalid value encountered in greater\n",
      "  hits = np.where(cur_imp[0] > imp_sha_max)[0]\n"
     ]
    },
    {
     "name": "stdout",
     "output_type": "stream",
     "text": [
      "Iteration: \t56 / 100\n",
      "Confirmed: \t32\n",
      "Tentative: \t4\n",
      "Rejected: \t30\n"
     ]
    },
    {
     "name": "stderr",
     "output_type": "stream",
     "text": [
      "/home/work/anaconda3/lib/python3.6/site-packages/boruta/boruta_py.py:418: RuntimeWarning: invalid value encountered in greater\n",
      "  hits = np.where(cur_imp[0] > imp_sha_max)[0]\n"
     ]
    },
    {
     "name": "stdout",
     "output_type": "stream",
     "text": [
      "Iteration: \t57 / 100\n",
      "Confirmed: \t32\n",
      "Tentative: \t3\n",
      "Rejected: \t31\n"
     ]
    },
    {
     "name": "stderr",
     "output_type": "stream",
     "text": [
      "/home/work/anaconda3/lib/python3.6/site-packages/boruta/boruta_py.py:418: RuntimeWarning: invalid value encountered in greater\n",
      "  hits = np.where(cur_imp[0] > imp_sha_max)[0]\n"
     ]
    },
    {
     "name": "stdout",
     "output_type": "stream",
     "text": [
      "Iteration: \t58 / 100\n",
      "Confirmed: \t32\n",
      "Tentative: \t3\n",
      "Rejected: \t31\n"
     ]
    },
    {
     "name": "stderr",
     "output_type": "stream",
     "text": [
      "/home/work/anaconda3/lib/python3.6/site-packages/boruta/boruta_py.py:418: RuntimeWarning: invalid value encountered in greater\n",
      "  hits = np.where(cur_imp[0] > imp_sha_max)[0]\n"
     ]
    },
    {
     "name": "stdout",
     "output_type": "stream",
     "text": [
      "Iteration: \t59 / 100\n",
      "Confirmed: \t32\n",
      "Tentative: \t3\n",
      "Rejected: \t31\n"
     ]
    },
    {
     "name": "stderr",
     "output_type": "stream",
     "text": [
      "/home/work/anaconda3/lib/python3.6/site-packages/boruta/boruta_py.py:418: RuntimeWarning: invalid value encountered in greater\n",
      "  hits = np.where(cur_imp[0] > imp_sha_max)[0]\n"
     ]
    },
    {
     "name": "stdout",
     "output_type": "stream",
     "text": [
      "Iteration: \t60 / 100\n",
      "Confirmed: \t32\n",
      "Tentative: \t3\n",
      "Rejected: \t31\n"
     ]
    },
    {
     "name": "stderr",
     "output_type": "stream",
     "text": [
      "/home/work/anaconda3/lib/python3.6/site-packages/boruta/boruta_py.py:418: RuntimeWarning: invalid value encountered in greater\n",
      "  hits = np.where(cur_imp[0] > imp_sha_max)[0]\n"
     ]
    },
    {
     "name": "stdout",
     "output_type": "stream",
     "text": [
      "Iteration: \t61 / 100\n",
      "Confirmed: \t32\n",
      "Tentative: \t3\n",
      "Rejected: \t31\n"
     ]
    },
    {
     "name": "stderr",
     "output_type": "stream",
     "text": [
      "/home/work/anaconda3/lib/python3.6/site-packages/boruta/boruta_py.py:418: RuntimeWarning: invalid value encountered in greater\n",
      "  hits = np.where(cur_imp[0] > imp_sha_max)[0]\n"
     ]
    },
    {
     "name": "stdout",
     "output_type": "stream",
     "text": [
      "Iteration: \t62 / 100\n",
      "Confirmed: \t32\n",
      "Tentative: \t3\n",
      "Rejected: \t31\n"
     ]
    },
    {
     "name": "stderr",
     "output_type": "stream",
     "text": [
      "/home/work/anaconda3/lib/python3.6/site-packages/boruta/boruta_py.py:418: RuntimeWarning: invalid value encountered in greater\n",
      "  hits = np.where(cur_imp[0] > imp_sha_max)[0]\n"
     ]
    },
    {
     "name": "stdout",
     "output_type": "stream",
     "text": [
      "Iteration: \t63 / 100\n",
      "Confirmed: \t32\n",
      "Tentative: \t3\n",
      "Rejected: \t31\n"
     ]
    },
    {
     "name": "stderr",
     "output_type": "stream",
     "text": [
      "/home/work/anaconda3/lib/python3.6/site-packages/boruta/boruta_py.py:418: RuntimeWarning: invalid value encountered in greater\n",
      "  hits = np.where(cur_imp[0] > imp_sha_max)[0]\n"
     ]
    },
    {
     "name": "stdout",
     "output_type": "stream",
     "text": [
      "Iteration: \t64 / 100\n",
      "Confirmed: \t32\n",
      "Tentative: \t3\n",
      "Rejected: \t31\n"
     ]
    },
    {
     "name": "stderr",
     "output_type": "stream",
     "text": [
      "/home/work/anaconda3/lib/python3.6/site-packages/boruta/boruta_py.py:418: RuntimeWarning: invalid value encountered in greater\n",
      "  hits = np.where(cur_imp[0] > imp_sha_max)[0]\n"
     ]
    },
    {
     "name": "stdout",
     "output_type": "stream",
     "text": [
      "Iteration: \t65 / 100\n",
      "Confirmed: \t32\n",
      "Tentative: \t3\n",
      "Rejected: \t31\n"
     ]
    },
    {
     "name": "stderr",
     "output_type": "stream",
     "text": [
      "/home/work/anaconda3/lib/python3.6/site-packages/boruta/boruta_py.py:418: RuntimeWarning: invalid value encountered in greater\n",
      "  hits = np.where(cur_imp[0] > imp_sha_max)[0]\n"
     ]
    },
    {
     "name": "stdout",
     "output_type": "stream",
     "text": [
      "Iteration: \t66 / 100\n",
      "Confirmed: \t32\n",
      "Tentative: \t3\n",
      "Rejected: \t31\n"
     ]
    },
    {
     "name": "stderr",
     "output_type": "stream",
     "text": [
      "/home/work/anaconda3/lib/python3.6/site-packages/boruta/boruta_py.py:418: RuntimeWarning: invalid value encountered in greater\n",
      "  hits = np.where(cur_imp[0] > imp_sha_max)[0]\n"
     ]
    },
    {
     "name": "stdout",
     "output_type": "stream",
     "text": [
      "Iteration: \t67 / 100\n",
      "Confirmed: \t32\n",
      "Tentative: \t3\n",
      "Rejected: \t31\n"
     ]
    },
    {
     "name": "stderr",
     "output_type": "stream",
     "text": [
      "/home/work/anaconda3/lib/python3.6/site-packages/boruta/boruta_py.py:418: RuntimeWarning: invalid value encountered in greater\n",
      "  hits = np.where(cur_imp[0] > imp_sha_max)[0]\n"
     ]
    },
    {
     "name": "stdout",
     "output_type": "stream",
     "text": [
      "Iteration: \t68 / 100\n",
      "Confirmed: \t32\n",
      "Tentative: \t3\n",
      "Rejected: \t31\n"
     ]
    },
    {
     "name": "stderr",
     "output_type": "stream",
     "text": [
      "/home/work/anaconda3/lib/python3.6/site-packages/boruta/boruta_py.py:418: RuntimeWarning: invalid value encountered in greater\n",
      "  hits = np.where(cur_imp[0] > imp_sha_max)[0]\n"
     ]
    },
    {
     "name": "stdout",
     "output_type": "stream",
     "text": [
      "Iteration: \t69 / 100\n",
      "Confirmed: \t32\n",
      "Tentative: \t3\n",
      "Rejected: \t31\n"
     ]
    },
    {
     "name": "stderr",
     "output_type": "stream",
     "text": [
      "/home/work/anaconda3/lib/python3.6/site-packages/boruta/boruta_py.py:418: RuntimeWarning: invalid value encountered in greater\n",
      "  hits = np.where(cur_imp[0] > imp_sha_max)[0]\n"
     ]
    },
    {
     "name": "stdout",
     "output_type": "stream",
     "text": [
      "Iteration: \t70 / 100\n",
      "Confirmed: \t32\n",
      "Tentative: \t3\n",
      "Rejected: \t31\n"
     ]
    },
    {
     "name": "stderr",
     "output_type": "stream",
     "text": [
      "/home/work/anaconda3/lib/python3.6/site-packages/boruta/boruta_py.py:418: RuntimeWarning: invalid value encountered in greater\n",
      "  hits = np.where(cur_imp[0] > imp_sha_max)[0]\n"
     ]
    },
    {
     "name": "stdout",
     "output_type": "stream",
     "text": [
      "Iteration: \t71 / 100\n",
      "Confirmed: \t32\n",
      "Tentative: \t3\n",
      "Rejected: \t31\n"
     ]
    },
    {
     "name": "stderr",
     "output_type": "stream",
     "text": [
      "/home/work/anaconda3/lib/python3.6/site-packages/boruta/boruta_py.py:418: RuntimeWarning: invalid value encountered in greater\n",
      "  hits = np.where(cur_imp[0] > imp_sha_max)[0]\n"
     ]
    },
    {
     "name": "stdout",
     "output_type": "stream",
     "text": [
      "Iteration: \t72 / 100\n",
      "Confirmed: \t32\n",
      "Tentative: \t3\n",
      "Rejected: \t31\n"
     ]
    },
    {
     "name": "stderr",
     "output_type": "stream",
     "text": [
      "/home/work/anaconda3/lib/python3.6/site-packages/boruta/boruta_py.py:418: RuntimeWarning: invalid value encountered in greater\n",
      "  hits = np.where(cur_imp[0] > imp_sha_max)[0]\n"
     ]
    },
    {
     "name": "stdout",
     "output_type": "stream",
     "text": [
      "Iteration: \t73 / 100\n",
      "Confirmed: \t32\n",
      "Tentative: \t3\n",
      "Rejected: \t31\n"
     ]
    },
    {
     "name": "stderr",
     "output_type": "stream",
     "text": [
      "/home/work/anaconda3/lib/python3.6/site-packages/boruta/boruta_py.py:418: RuntimeWarning: invalid value encountered in greater\n",
      "  hits = np.where(cur_imp[0] > imp_sha_max)[0]\n"
     ]
    },
    {
     "name": "stdout",
     "output_type": "stream",
     "text": [
      "Iteration: \t74 / 100\n",
      "Confirmed: \t32\n",
      "Tentative: \t3\n",
      "Rejected: \t31\n"
     ]
    },
    {
     "name": "stderr",
     "output_type": "stream",
     "text": [
      "/home/work/anaconda3/lib/python3.6/site-packages/boruta/boruta_py.py:418: RuntimeWarning: invalid value encountered in greater\n",
      "  hits = np.where(cur_imp[0] > imp_sha_max)[0]\n"
     ]
    },
    {
     "name": "stdout",
     "output_type": "stream",
     "text": [
      "Iteration: \t75 / 100\n",
      "Confirmed: \t32\n",
      "Tentative: \t3\n",
      "Rejected: \t31\n"
     ]
    },
    {
     "name": "stderr",
     "output_type": "stream",
     "text": [
      "/home/work/anaconda3/lib/python3.6/site-packages/boruta/boruta_py.py:418: RuntimeWarning: invalid value encountered in greater\n",
      "  hits = np.where(cur_imp[0] > imp_sha_max)[0]\n"
     ]
    },
    {
     "name": "stdout",
     "output_type": "stream",
     "text": [
      "Iteration: \t76 / 100\n",
      "Confirmed: \t32\n",
      "Tentative: \t3\n",
      "Rejected: \t31\n"
     ]
    },
    {
     "name": "stderr",
     "output_type": "stream",
     "text": [
      "/home/work/anaconda3/lib/python3.6/site-packages/boruta/boruta_py.py:418: RuntimeWarning: invalid value encountered in greater\n",
      "  hits = np.where(cur_imp[0] > imp_sha_max)[0]\n"
     ]
    },
    {
     "name": "stdout",
     "output_type": "stream",
     "text": [
      "Iteration: \t77 / 100\n",
      "Confirmed: \t32\n",
      "Tentative: \t3\n",
      "Rejected: \t31\n"
     ]
    },
    {
     "name": "stderr",
     "output_type": "stream",
     "text": [
      "/home/work/anaconda3/lib/python3.6/site-packages/boruta/boruta_py.py:418: RuntimeWarning: invalid value encountered in greater\n",
      "  hits = np.where(cur_imp[0] > imp_sha_max)[0]\n"
     ]
    },
    {
     "name": "stdout",
     "output_type": "stream",
     "text": [
      "Iteration: \t78 / 100\n",
      "Confirmed: \t32\n",
      "Tentative: \t3\n",
      "Rejected: \t31\n"
     ]
    },
    {
     "name": "stderr",
     "output_type": "stream",
     "text": [
      "/home/work/anaconda3/lib/python3.6/site-packages/boruta/boruta_py.py:418: RuntimeWarning: invalid value encountered in greater\n",
      "  hits = np.where(cur_imp[0] > imp_sha_max)[0]\n"
     ]
    },
    {
     "name": "stdout",
     "output_type": "stream",
     "text": [
      "Iteration: \t79 / 100\n",
      "Confirmed: \t32\n",
      "Tentative: \t3\n",
      "Rejected: \t31\n"
     ]
    },
    {
     "name": "stderr",
     "output_type": "stream",
     "text": [
      "/home/work/anaconda3/lib/python3.6/site-packages/boruta/boruta_py.py:418: RuntimeWarning: invalid value encountered in greater\n",
      "  hits = np.where(cur_imp[0] > imp_sha_max)[0]\n"
     ]
    },
    {
     "name": "stdout",
     "output_type": "stream",
     "text": [
      "Iteration: \t80 / 100\n",
      "Confirmed: \t32\n",
      "Tentative: \t3\n",
      "Rejected: \t31\n"
     ]
    },
    {
     "name": "stderr",
     "output_type": "stream",
     "text": [
      "/home/work/anaconda3/lib/python3.6/site-packages/boruta/boruta_py.py:418: RuntimeWarning: invalid value encountered in greater\n",
      "  hits = np.where(cur_imp[0] > imp_sha_max)[0]\n"
     ]
    },
    {
     "name": "stdout",
     "output_type": "stream",
     "text": [
      "Iteration: \t81 / 100\n",
      "Confirmed: \t32\n",
      "Tentative: \t3\n",
      "Rejected: \t31\n"
     ]
    },
    {
     "name": "stderr",
     "output_type": "stream",
     "text": [
      "/home/work/anaconda3/lib/python3.6/site-packages/boruta/boruta_py.py:418: RuntimeWarning: invalid value encountered in greater\n",
      "  hits = np.where(cur_imp[0] > imp_sha_max)[0]\n"
     ]
    },
    {
     "name": "stdout",
     "output_type": "stream",
     "text": [
      "Iteration: \t82 / 100\n",
      "Confirmed: \t32\n",
      "Tentative: \t3\n",
      "Rejected: \t31\n"
     ]
    },
    {
     "name": "stderr",
     "output_type": "stream",
     "text": [
      "/home/work/anaconda3/lib/python3.6/site-packages/boruta/boruta_py.py:418: RuntimeWarning: invalid value encountered in greater\n",
      "  hits = np.where(cur_imp[0] > imp_sha_max)[0]\n"
     ]
    },
    {
     "name": "stdout",
     "output_type": "stream",
     "text": [
      "Iteration: \t83 / 100\n",
      "Confirmed: \t32\n",
      "Tentative: \t3\n",
      "Rejected: \t31\n"
     ]
    },
    {
     "name": "stderr",
     "output_type": "stream",
     "text": [
      "/home/work/anaconda3/lib/python3.6/site-packages/boruta/boruta_py.py:418: RuntimeWarning: invalid value encountered in greater\n",
      "  hits = np.where(cur_imp[0] > imp_sha_max)[0]\n"
     ]
    },
    {
     "name": "stdout",
     "output_type": "stream",
     "text": [
      "Iteration: \t84 / 100\n",
      "Confirmed: \t32\n",
      "Tentative: \t3\n",
      "Rejected: \t31\n"
     ]
    },
    {
     "name": "stderr",
     "output_type": "stream",
     "text": [
      "/home/work/anaconda3/lib/python3.6/site-packages/boruta/boruta_py.py:418: RuntimeWarning: invalid value encountered in greater\n",
      "  hits = np.where(cur_imp[0] > imp_sha_max)[0]\n"
     ]
    },
    {
     "name": "stdout",
     "output_type": "stream",
     "text": [
      "Iteration: \t85 / 100\n",
      "Confirmed: \t32\n",
      "Tentative: \t3\n",
      "Rejected: \t31\n"
     ]
    },
    {
     "name": "stderr",
     "output_type": "stream",
     "text": [
      "/home/work/anaconda3/lib/python3.6/site-packages/boruta/boruta_py.py:418: RuntimeWarning: invalid value encountered in greater\n",
      "  hits = np.where(cur_imp[0] > imp_sha_max)[0]\n"
     ]
    },
    {
     "name": "stdout",
     "output_type": "stream",
     "text": [
      "Iteration: \t86 / 100\n",
      "Confirmed: \t32\n",
      "Tentative: \t3\n",
      "Rejected: \t31\n"
     ]
    },
    {
     "name": "stderr",
     "output_type": "stream",
     "text": [
      "/home/work/anaconda3/lib/python3.6/site-packages/boruta/boruta_py.py:418: RuntimeWarning: invalid value encountered in greater\n",
      "  hits = np.where(cur_imp[0] > imp_sha_max)[0]\n"
     ]
    },
    {
     "name": "stdout",
     "output_type": "stream",
     "text": [
      "Iteration: \t87 / 100\n",
      "Confirmed: \t32\n",
      "Tentative: \t3\n",
      "Rejected: \t31\n"
     ]
    },
    {
     "name": "stderr",
     "output_type": "stream",
     "text": [
      "/home/work/anaconda3/lib/python3.6/site-packages/boruta/boruta_py.py:418: RuntimeWarning: invalid value encountered in greater\n",
      "  hits = np.where(cur_imp[0] > imp_sha_max)[0]\n"
     ]
    },
    {
     "name": "stdout",
     "output_type": "stream",
     "text": [
      "Iteration: \t88 / 100\n",
      "Confirmed: \t32\n",
      "Tentative: \t3\n",
      "Rejected: \t31\n"
     ]
    },
    {
     "name": "stderr",
     "output_type": "stream",
     "text": [
      "/home/work/anaconda3/lib/python3.6/site-packages/boruta/boruta_py.py:418: RuntimeWarning: invalid value encountered in greater\n",
      "  hits = np.where(cur_imp[0] > imp_sha_max)[0]\n"
     ]
    },
    {
     "name": "stdout",
     "output_type": "stream",
     "text": [
      "Iteration: \t89 / 100\n",
      "Confirmed: \t32\n",
      "Tentative: \t3\n",
      "Rejected: \t31\n"
     ]
    },
    {
     "name": "stderr",
     "output_type": "stream",
     "text": [
      "/home/work/anaconda3/lib/python3.6/site-packages/boruta/boruta_py.py:418: RuntimeWarning: invalid value encountered in greater\n",
      "  hits = np.where(cur_imp[0] > imp_sha_max)[0]\n"
     ]
    },
    {
     "name": "stdout",
     "output_type": "stream",
     "text": [
      "Iteration: \t90 / 100\n",
      "Confirmed: \t32\n",
      "Tentative: \t3\n",
      "Rejected: \t31\n"
     ]
    },
    {
     "name": "stderr",
     "output_type": "stream",
     "text": [
      "/home/work/anaconda3/lib/python3.6/site-packages/boruta/boruta_py.py:418: RuntimeWarning: invalid value encountered in greater\n",
      "  hits = np.where(cur_imp[0] > imp_sha_max)[0]\n"
     ]
    },
    {
     "name": "stdout",
     "output_type": "stream",
     "text": [
      "Iteration: \t91 / 100\n",
      "Confirmed: \t32\n",
      "Tentative: \t3\n",
      "Rejected: \t31\n"
     ]
    },
    {
     "name": "stderr",
     "output_type": "stream",
     "text": [
      "/home/work/anaconda3/lib/python3.6/site-packages/boruta/boruta_py.py:418: RuntimeWarning: invalid value encountered in greater\n",
      "  hits = np.where(cur_imp[0] > imp_sha_max)[0]\n"
     ]
    },
    {
     "name": "stdout",
     "output_type": "stream",
     "text": [
      "Iteration: \t92 / 100\n",
      "Confirmed: \t32\n",
      "Tentative: \t3\n",
      "Rejected: \t31\n"
     ]
    },
    {
     "name": "stderr",
     "output_type": "stream",
     "text": [
      "/home/work/anaconda3/lib/python3.6/site-packages/boruta/boruta_py.py:418: RuntimeWarning: invalid value encountered in greater\n",
      "  hits = np.where(cur_imp[0] > imp_sha_max)[0]\n"
     ]
    },
    {
     "name": "stdout",
     "output_type": "stream",
     "text": [
      "Iteration: \t93 / 100\n",
      "Confirmed: \t32\n",
      "Tentative: \t3\n",
      "Rejected: \t31\n"
     ]
    },
    {
     "name": "stderr",
     "output_type": "stream",
     "text": [
      "/home/work/anaconda3/lib/python3.6/site-packages/boruta/boruta_py.py:418: RuntimeWarning: invalid value encountered in greater\n",
      "  hits = np.where(cur_imp[0] > imp_sha_max)[0]\n"
     ]
    },
    {
     "name": "stdout",
     "output_type": "stream",
     "text": [
      "Iteration: \t94 / 100\n",
      "Confirmed: \t32\n",
      "Tentative: \t3\n",
      "Rejected: \t31\n"
     ]
    },
    {
     "name": "stderr",
     "output_type": "stream",
     "text": [
      "/home/work/anaconda3/lib/python3.6/site-packages/boruta/boruta_py.py:418: RuntimeWarning: invalid value encountered in greater\n",
      "  hits = np.where(cur_imp[0] > imp_sha_max)[0]\n"
     ]
    },
    {
     "name": "stdout",
     "output_type": "stream",
     "text": [
      "Iteration: \t95 / 100\n",
      "Confirmed: \t32\n",
      "Tentative: \t3\n",
      "Rejected: \t31\n"
     ]
    },
    {
     "name": "stderr",
     "output_type": "stream",
     "text": [
      "/home/work/anaconda3/lib/python3.6/site-packages/boruta/boruta_py.py:418: RuntimeWarning: invalid value encountered in greater\n",
      "  hits = np.where(cur_imp[0] > imp_sha_max)[0]\n"
     ]
    },
    {
     "name": "stdout",
     "output_type": "stream",
     "text": [
      "Iteration: \t96 / 100\n",
      "Confirmed: \t32\n",
      "Tentative: \t3\n",
      "Rejected: \t31\n"
     ]
    },
    {
     "name": "stderr",
     "output_type": "stream",
     "text": [
      "/home/work/anaconda3/lib/python3.6/site-packages/boruta/boruta_py.py:418: RuntimeWarning: invalid value encountered in greater\n",
      "  hits = np.where(cur_imp[0] > imp_sha_max)[0]\n"
     ]
    },
    {
     "name": "stdout",
     "output_type": "stream",
     "text": [
      "Iteration: \t97 / 100\n",
      "Confirmed: \t32\n",
      "Tentative: \t3\n",
      "Rejected: \t31\n"
     ]
    },
    {
     "name": "stderr",
     "output_type": "stream",
     "text": [
      "/home/work/anaconda3/lib/python3.6/site-packages/boruta/boruta_py.py:418: RuntimeWarning: invalid value encountered in greater\n",
      "  hits = np.where(cur_imp[0] > imp_sha_max)[0]\n"
     ]
    },
    {
     "name": "stdout",
     "output_type": "stream",
     "text": [
      "Iteration: \t98 / 100\n",
      "Confirmed: \t32\n",
      "Tentative: \t3\n",
      "Rejected: \t31\n",
      "Iteration: \t99 / 100\n",
      "Confirmed: \t32\n",
      "Tentative: \t3\n",
      "Rejected: \t31\n",
      "\n",
      "\n",
      "BorutaPy finished running.\n",
      "\n",
      "Iteration: \t100 / 100\n",
      "Confirmed: \t32\n",
      "Tentative: \t1\n",
      "Rejected: \t31\n"
     ]
    },
    {
     "name": "stderr",
     "output_type": "stream",
     "text": [
      "/home/work/anaconda3/lib/python3.6/site-packages/boruta/boruta_py.py:418: RuntimeWarning: invalid value encountered in greater\n",
      "  hits = np.where(cur_imp[0] > imp_sha_max)[0]\n"
     ]
    },
    {
     "data": {
      "text/plain": [
       "BorutaPy(alpha=0.05,\n",
       "     estimator=RandomForestClassifier(bootstrap=True, class_weight='balanced',\n",
       "            criterion='gini', max_depth=5, max_features='auto',\n",
       "            max_leaf_nodes=None, min_impurity_decrease=0.0,\n",
       "            min_impurity_split=None, min_samples_leaf=1,\n",
       "            min_samples_split=2, min_weight_fraction_leaf=0.0,\n",
       "            n_estimators=167, n_jobs=-1, oob_score=False,\n",
       "            random_state=<mtrand.RandomState object at 0x7fd9694611f8>,\n",
       "            verbose=0, warm_start=False),\n",
       "     max_iter=100, n_estimators='auto', perc=100,\n",
       "     random_state=<mtrand.RandomState object at 0x7fd9694611f8>,\n",
       "     two_step=True, verbose=2)"
      ]
     },
     "execution_count": 66,
     "metadata": {},
     "output_type": "execute_result"
    }
   ],
   "source": [
    "from boruta import BorutaPy\n",
    "\n",
    "rf = RandomForestClassifier(n_jobs=-1, class_weight='balanced', max_depth=5)\n",
    "feat_selector = BorutaPy(rf, n_estimators='auto', verbose=2, random_state=1)\n",
    "feat_selector.fit(X, y)\n"
   ]
  },
  {
   "cell_type": "code",
   "execution_count": 67,
   "metadata": {},
   "outputs": [
    {
     "name": "stdout",
     "output_type": "stream",
     "text": [
      "Index(['grp_add_assig_0', 'grp_add_assig_1', 'grp_add_assig_tot_0',\n",
      "       'grp_add_assig_tot_1', 'grp_add_user_0', 'grp_add_user_tot_0',\n",
      "       'grp_add_user_tot_1', 'grp_added_0', 'grp_added_1', 'q_lvl_0_0',\n",
      "       'q_lvl_0_1', 'q_lvl_0_cor_0', 'q_lvl_0_cor_1', 'tch_add_assig_0',\n",
      "       'tch_add_assig_1', 'tch_add_assig_tot_0', 'tch_add_assig_tot_1',\n",
      "       'tch_add_user_0', 'tch_add_user_1', 'tch_add_user_tot_0',\n",
      "       'tch_add_user_tot_1', 'tch_added_0', 'tch_attempt_0', 'tch_attempt_1',\n",
      "       'tch_attempt_tot_0', 'tch_attempt_tot_1', 'tch_create_group_tot_0',\n",
      "       'tch_create_group_tot_1', 'tch_view_assig_prog_0',\n",
      "       'tch_view_assig_prog_1', 'tch_view_assig_prog_tot_0',\n",
      "       'tch_view_assig_prog_tot_1'],\n",
      "      dtype='object')\n",
      "                         name  rank\n",
      "0             grp_add_assig_0     1\n",
      "42        tch_add_assig_tot_0     1\n",
      "43        tch_add_assig_tot_1     1\n",
      "44             tch_add_user_0     1\n",
      "45             tch_add_user_1     1\n",
      "46         tch_add_user_tot_0     1\n",
      "47         tch_add_user_tot_1     1\n",
      "48                tch_added_0     1\n",
      "50              tch_attempt_0     1\n",
      "51              tch_attempt_1     1\n",
      "52          tch_attempt_tot_0     1\n",
      "53          tch_attempt_tot_1     1\n",
      "56     tch_create_group_tot_0     1\n",
      "57     tch_create_group_tot_1     1\n",
      "41            tch_add_assig_1     1\n",
      "59      tch_view_assig_prog_1     1\n",
      "58      tch_view_assig_prog_0     1\n",
      "14              q_lvl_0_cor_0     1\n",
      "1             grp_add_assig_1     1\n",
      "2         grp_add_assig_tot_0     1\n",
      "3         grp_add_assig_tot_1     1\n",
      "4              grp_add_user_0     1\n",
      "6          grp_add_user_tot_0     1\n",
      "7          grp_add_user_tot_1     1\n",
      "15              q_lvl_0_cor_1     1\n",
      "8                 grp_added_0     1\n",
      "61  tch_view_assig_prog_tot_1     1\n",
      "60  tch_view_assig_prog_tot_0     1\n",
      "12                  q_lvl_0_0     1\n",
      "13                  q_lvl_0_1     1\n",
      "..                        ...   ...\n",
      "64                view_hint_0     6\n",
      "22              q_lvl_2_cor_0     6\n",
      "16                  q_lvl_1_0     7\n",
      "55         tch_create_group_1     9\n",
      "49                tch_added_1     9\n",
      "26              q_lvl_3_cor_0     9\n",
      "54         tch_create_group_0    11\n",
      "23              q_lvl_2_cor_1    12\n",
      "62             view_concept_0    13\n",
      "10               play_video_0    14\n",
      "11               play_video_1    15\n",
      "19              q_lvl_1_cor_1    16\n",
      "21                  q_lvl_2_1    17\n",
      "30              q_lvl_4_cor_0    18\n",
      "17                  q_lvl_1_1    19\n",
      "24                  q_lvl_3_0    20\n",
      "27              q_lvl_3_cor_1    22\n",
      "25                  q_lvl_3_1    22\n",
      "63             view_concept_1    23\n",
      "32                  q_lvl_5_0    25\n",
      "28                  q_lvl_4_0    25\n",
      "36                  q_lvl_6_0    26\n",
      "33                  q_lvl_5_1    27\n",
      "31              q_lvl_4_cor_1    28\n",
      "29                  q_lvl_4_1    29\n",
      "35              q_lvl_5_cor_1    30\n",
      "34              q_lvl_5_cor_0    31\n",
      "38              q_lvl_6_cor_0    32\n",
      "39              q_lvl_6_cor_1    33\n",
      "37                  q_lvl_6_1    34\n",
      "\n",
      "[66 rows x 2 columns]\n"
     ]
    }
   ],
   "source": [
    "# Print the columns that were found to be important\n",
    "print(df_lm_new.columns[feat_selector.support_])\n",
    "\n",
    "# Get the rank\n",
    "print(pd.DataFrame({'name':df_lm_new.columns,'rank':feat_selector.ranking_}).sort_values('rank'))\n",
    "\n",
    "# Transform X\n",
    "X_filtered = feat_selector.transform(X)\n"
   ]
  },
  {
   "cell_type": "code",
   "execution_count": 68,
   "metadata": {},
   "outputs": [
    {
     "name": "stdout",
     "output_type": "stream",
     "text": [
      "             precision    recall  f1-score   support\n",
      "\n",
      "          0       0.98      0.94      0.96      1817\n",
      "          1       0.32      0.63      0.42        76\n",
      "\n",
      "avg / total       0.96      0.93      0.94      1893\n",
      "\n"
     ]
    },
    {
     "data": {
      "image/png": "[encoded data removed]",
      "text/plain": [
       "<matplotlib.figure.Figure at 0x7fd96913a5f8>"
      ]
     },
     "metadata": {},
     "output_type": "display_data"
    }
   ],
   "source": [
    "# Let's train and evaluate the model\n",
    "\n",
    "# Assign\n",
    "X = X_filtered\n",
    "\n",
    "# Scale the data\n",
    "scaler = StandardScaler()\n",
    "X_trf = scaler.fit_transform(X_filtered)\n",
    "X = X_trf\n",
    "\n",
    "# Split into train and test sets\n",
    "X_train, X_test, y_train, y_test = train_test_split(X, y,test_size = 0.3, random_state=42)\n",
    "\n",
    "# Classifier\n",
    "clf = RandomForestClassifier(n_estimators=100,random_state=42)\n",
    "clf.fit(X_train,y_train)\n",
    "\n",
    "# Predict\n",
    "y_pred = clf.predict(X_test)\n",
    "y_score = clf.predict_proba(X_test)\n",
    "\n",
    "# Evaluate\n",
    "plt.hist(y_pred)\n",
    "plt.hist(y_test,alpha= 0.4)\n",
    "\n",
    "print(classification_report(y_pred,y_test))\n"
   ]
  },
  {
   "cell_type": "code",
   "execution_count": 69,
   "metadata": {},
   "outputs": [
    {
     "data": {
      "text/plain": [
       "0.44920860633508136"
      ]
     },
     "execution_count": 69,
     "metadata": {},
     "output_type": "execute_result"
    },
    {
     "data": {
      "image/png": "[encoded data removed]",
      "text/plain": [
       "<matplotlib.figure.Figure at 0x7fd968fe93c8>"
      ]
     },
     "metadata": {},
     "output_type": "display_data"
    }
   ],
   "source": [
    "precision, recall, _ = precision_recall_curve(y_test,y_score[:,1])\n",
    "\n",
    "\n",
    "plt.step(recall, precision, color='b', alpha=0.2,\n",
    "         where='post')\n",
    "plt.fill_between(recall, precision, step='post', alpha=0.2,\n",
    "                 color='b')\n",
    "\n",
    "plt.xlabel('Recall')\n",
    "plt.ylabel('Precision')\n",
    "plt.ylim([0.0, 1.05])\n",
    "plt.xlim([0.0, 1.0])\n",
    "\n",
    "average_precision_score(y_test,y_score[:,1])\n"
   ]
  },
  {
   "cell_type": "markdown",
   "metadata": {},
   "source": [
    "# Using autoencoders\n",
    "\n",
    "Here we try to do feature selection using autoencoders. "
   ]
  },
  {
   "cell_type": "code",
   "execution_count": null,
   "metadata": {
    "collapsed": true
   },
   "outputs": [],
   "source": []
  }
 ],
 "metadata": {
  "kernelspec": {
   "display_name": "Python 3",
   "language": "python",
   "name": "python3"
  },
  "language_info": {
   "codemirror_mode": {
    "name": "ipython",
    "version": 3
   },
   "file_extension": ".py",
   "mimetype": "text/x-python",
   "name": "python",
   "nbconvert_exporter": "python",
   "pygments_lexer": "ipython3",
   "version": "3.6.3"
  }
 },
 "nbformat": 4,
 "nbformat_minor": 2
}
