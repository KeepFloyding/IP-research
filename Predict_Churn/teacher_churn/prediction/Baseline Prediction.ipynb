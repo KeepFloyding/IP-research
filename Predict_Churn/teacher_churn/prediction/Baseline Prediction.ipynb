{
 "cells": [
  {
   "cell_type": "markdown",
   "metadata": {},
   "source": [
    "# Baseline Predictions for teacher churn \n",
    "\n",
    "A baseline prediction for teacher churn rates using Random Forest with basic feature selection. \n",
    "\n",
    "## Include libraries and helper functions\n",
    "\n",
    "Load dependencies and functions"
   ]
  },
  {
   "cell_type": "code",
   "execution_count": 1,
   "metadata": {
    "collapsed": true
   },
   "outputs": [],
   "source": [
    "import pandas as pd\n",
    "import numpy as np\n",
    "import matplotlib.pyplot as plt\n",
    "%matplotlib inline\n",
    "\n",
    "from sklearn.model_selection import KFold, train_test_split\n",
    "from sklearn.metrics import classification_report, roc_curve, roc_auc_score\n",
    "from sklearn.ensemble import RandomForestClassifier as RF\n",
    "from sklearn.linear_model import LogisticRegression as LR\n",
    "from sklearn.dummy import DummyClassifier\n",
    "from sklearn.preprocessing import StandardScaler\n",
    "from sklearn.metrics import classification_report, roc_curve, roc_auc_score, precision_score, recall_score, precision_recall_curve, average_precision_score\n",
    "\n",
    "# Inputs\n",
    "source_csv = '/home/andris/GitHub/data/churn_prediction/teacher_time_series.csv'"
   ]
  },
  {
   "cell_type": "code",
   "execution_count": 2,
   "metadata": {
    "collapsed": true
   },
   "outputs": [],
   "source": [
    "def prepare_df(df,date_feature, group_array,start_date,end_date):\n",
    "\n",
    "    # Convert to datetime format\n",
    "    df[date_feature] = pd.to_datetime(df[date_feature])\n",
    "\n",
    "    # Select data from dates according to start_date and end_date\n",
    "    df = df[df[date_feature]>= pd.to_datetime(start_date)]\n",
    "    df = df[df[date_feature]<= pd.to_datetime(end_date)]\n",
    "\n",
    "    # Group according to categories\n",
    "    df_grp = df.groupby(group_array).count();\n",
    "\n",
    "    # Unpack the indices into columns\n",
    "    df_grp = df_grp.xs(date_feature, axis=1, drop_level=True)\n",
    "    df_grp = df_grp.unstack().fillna(0)\n",
    "  \n",
    "    # Return the dataframe\n",
    "    return df_grp\n",
    "\n",
    "def prepare_time_series(df, month_array, type_operation, groupby_feature = 'user_id'):\n",
    "    \n",
    "    # If we want to append each month as a seperate feature \n",
    "    if type_operation == 'append':\n",
    "        \n",
    "        # Find the months of interest\n",
    "        df_new = df[df.index.get_level_values(1).isin(month_array)].unstack().fillna(0)\n",
    "        \n",
    "        # Name new columns\n",
    "        new_cols = [str(item[0]) + '_' + str(int(item[1])) for item in df_new.columns]\n",
    "        \n",
    "        # Drop level and rename\n",
    "        df_new.columns = df_new.columns.droplevel(0)\n",
    "        df_new.columns = new_cols\n",
    "    \n",
    "    # If we want to sum the values of each feature for every month\n",
    "    elif type_operation == 'sum':\n",
    "        df_new = df[df.index.get_level_values(1).isin(month_array)]\n",
    "        df_new = df_new.reset_index().groupby(groupby_feature).sum()\n",
    "    \n",
    "    return df_new"
   ]
  },
  {
   "cell_type": "markdown",
   "metadata": {},
   "source": [
    "## Load data and manipulate"
   ]
  },
  {
   "cell_type": "code",
   "execution_count": 3,
   "metadata": {},
   "outputs": [
    {
     "data": {
      "text/html": [
       "<div>\n",
       "<style>\n",
       "    .dataframe thead tr:only-child th {\n",
       "        text-align: right;\n",
       "    }\n",
       "\n",
       "    .dataframe thead th {\n",
       "        text-align: left;\n",
       "    }\n",
       "\n",
       "    .dataframe tbody tr th {\n",
       "        vertical-align: top;\n",
       "    }\n",
       "</style>\n",
       "<table border=\"1\" class=\"dataframe\">\n",
       "  <thead>\n",
       "    <tr style=\"text-align: right;\">\n",
       "      <th></th>\n",
       "      <th>event_type</th>\n",
       "      <th>add_assig</th>\n",
       "      <th>add_custom_assig</th>\n",
       "      <th>add_user</th>\n",
       "      <th>attempt</th>\n",
       "      <th>create_group</th>\n",
       "      <th>view_assig_prog</th>\n",
       "    </tr>\n",
       "    <tr>\n",
       "      <th>user_id</th>\n",
       "      <th>event_leg</th>\n",
       "      <th></th>\n",
       "      <th></th>\n",
       "      <th></th>\n",
       "      <th></th>\n",
       "      <th></th>\n",
       "      <th></th>\n",
       "    </tr>\n",
       "  </thead>\n",
       "  <tbody>\n",
       "    <tr>\n",
       "      <th rowspan=\"2\" valign=\"top\">00026a46eefde681a60b50bd7c2368c3091d035b2f565824640272c89eb6916a</th>\n",
       "      <th>-1.0</th>\n",
       "      <td>0.0</td>\n",
       "      <td>0.0</td>\n",
       "      <td>0.0</td>\n",
       "      <td>4.0</td>\n",
       "      <td>0.0</td>\n",
       "      <td>0.0</td>\n",
       "    </tr>\n",
       "    <tr>\n",
       "      <th>0.0</th>\n",
       "      <td>0.0</td>\n",
       "      <td>0.0</td>\n",
       "      <td>0.0</td>\n",
       "      <td>3.0</td>\n",
       "      <td>0.0</td>\n",
       "      <td>0.0</td>\n",
       "    </tr>\n",
       "    <tr>\n",
       "      <th>0018d184ff3b1f2336ebeac5646d13ca84de10d034adc5d1663a47a8a9f1937f</th>\n",
       "      <th>0.0</th>\n",
       "      <td>0.0</td>\n",
       "      <td>0.0</td>\n",
       "      <td>0.0</td>\n",
       "      <td>4.0</td>\n",
       "      <td>0.0</td>\n",
       "      <td>0.0</td>\n",
       "    </tr>\n",
       "    <tr>\n",
       "      <th rowspan=\"2\" valign=\"top\">001c6813b7449d381899502fb8f1bbbb9239a2b3d8b726cb140669288a58515b</th>\n",
       "      <th>0.0</th>\n",
       "      <td>0.0</td>\n",
       "      <td>0.0</td>\n",
       "      <td>0.0</td>\n",
       "      <td>8.0</td>\n",
       "      <td>0.0</td>\n",
       "      <td>0.0</td>\n",
       "    </tr>\n",
       "    <tr>\n",
       "      <th>1.0</th>\n",
       "      <td>0.0</td>\n",
       "      <td>0.0</td>\n",
       "      <td>0.0</td>\n",
       "      <td>5.0</td>\n",
       "      <td>0.0</td>\n",
       "      <td>0.0</td>\n",
       "    </tr>\n",
       "  </tbody>\n",
       "</table>\n",
       "</div>"
      ],
      "text/plain": [
       "event_type                                                    add_assig  \\\n",
       "user_id                                            event_leg              \n",
       "00026a46eefde681a60b50bd7c2368c3091d035b2f56582... -1.0             0.0   \n",
       "                                                    0.0             0.0   \n",
       "0018d184ff3b1f2336ebeac5646d13ca84de10d034adc5d...  0.0             0.0   \n",
       "001c6813b7449d381899502fb8f1bbbb9239a2b3d8b726c...  0.0             0.0   \n",
       "                                                    1.0             0.0   \n",
       "\n",
       "event_type                                                    add_custom_assig  \\\n",
       "user_id                                            event_leg                     \n",
       "00026a46eefde681a60b50bd7c2368c3091d035b2f56582... -1.0                    0.0   \n",
       "                                                    0.0                    0.0   \n",
       "0018d184ff3b1f2336ebeac5646d13ca84de10d034adc5d...  0.0                    0.0   \n",
       "001c6813b7449d381899502fb8f1bbbb9239a2b3d8b726c...  0.0                    0.0   \n",
       "                                                    1.0                    0.0   \n",
       "\n",
       "event_type                                                    add_user  \\\n",
       "user_id                                            event_leg             \n",
       "00026a46eefde681a60b50bd7c2368c3091d035b2f56582... -1.0            0.0   \n",
       "                                                    0.0            0.0   \n",
       "0018d184ff3b1f2336ebeac5646d13ca84de10d034adc5d...  0.0            0.0   \n",
       "001c6813b7449d381899502fb8f1bbbb9239a2b3d8b726c...  0.0            0.0   \n",
       "                                                    1.0            0.0   \n",
       "\n",
       "event_type                                                    attempt  \\\n",
       "user_id                                            event_leg            \n",
       "00026a46eefde681a60b50bd7c2368c3091d035b2f56582... -1.0           4.0   \n",
       "                                                    0.0           3.0   \n",
       "0018d184ff3b1f2336ebeac5646d13ca84de10d034adc5d...  0.0           4.0   \n",
       "001c6813b7449d381899502fb8f1bbbb9239a2b3d8b726c...  0.0           8.0   \n",
       "                                                    1.0           5.0   \n",
       "\n",
       "event_type                                                    create_group  \\\n",
       "user_id                                            event_leg                 \n",
       "00026a46eefde681a60b50bd7c2368c3091d035b2f56582... -1.0                0.0   \n",
       "                                                    0.0                0.0   \n",
       "0018d184ff3b1f2336ebeac5646d13ca84de10d034adc5d...  0.0                0.0   \n",
       "001c6813b7449d381899502fb8f1bbbb9239a2b3d8b726c...  0.0                0.0   \n",
       "                                                    1.0                0.0   \n",
       "\n",
       "event_type                                                    view_assig_prog  \n",
       "user_id                                            event_leg                   \n",
       "00026a46eefde681a60b50bd7c2368c3091d035b2f56582... -1.0                   0.0  \n",
       "                                                    0.0                   0.0  \n",
       "0018d184ff3b1f2336ebeac5646d13ca84de10d034adc5d...  0.0                   0.0  \n",
       "001c6813b7449d381899502fb8f1bbbb9239a2b3d8b726c...  0.0                   0.0  \n",
       "                                                    1.0                   0.0  "
      ]
     },
     "execution_count": 3,
     "metadata": {},
     "output_type": "execute_result"
    }
   ],
   "source": [
    "# Load the dataframe \n",
    "df = pd.read_csv(source_csv)\n",
    "\n",
    "# Grab the year and month of teacher registration\n",
    "df_info = df[['user_id','registration_date']].drop_duplicates()\n",
    "df_info['registration_date'] = pd.to_datetime(df_info['registration_date']) \n",
    "df_info['start_month'] = df_info['registration_date'].apply(lambda x:str(x.month))\n",
    "df_info['start_year'] = df_info['registration_date'].apply(lambda x:x.year)\n",
    "\n",
    "# Discretise (set time window)\n",
    "dt = 30*24*3600\n",
    "df['event_leg'] = np.floor((pd.to_datetime(df['date_created']) - pd.to_datetime(df['registration_date'])).dt.total_seconds()/dt)\n",
    "\n",
    "# Group and create a new multi index dataframe  \n",
    "\n",
    "start_date = '2014-08-01'\n",
    "end_date = '2017-05-01'\n",
    "\n",
    "df_grp = prepare_df(df,'date_created',['user_id','event_leg','event_type'],start_date,end_date)\n",
    "df_grp.head()"
   ]
  },
  {
   "cell_type": "code",
   "execution_count": 4,
   "metadata": {},
   "outputs": [
    {
     "data": {
      "image/png": "[encoded data removed]",
      "text/plain": [
       "<matplotlib.figure.Figure at 0x7fcce66865c0>"
      ]
     },
     "metadata": {},
     "output_type": "display_data"
    },
    {
     "data": {
      "text/plain": [
       "<matplotlib.axes._subplots.AxesSubplot at 0x7fcce61227b8>"
      ]
     },
     "execution_count": 4,
     "metadata": {},
     "output_type": "execute_result"
    },
    {
     "data": {
      "image/png": "[encoded data removed]",
      "text/plain": [
       "<matplotlib.figure.Figure at 0x7fcd1de68710>"
      ]
     },
     "metadata": {},
     "output_type": "display_data"
    }
   ],
   "source": [
    "# Plotting the distribution of the start month and the start year\n",
    "\n",
    "df_info['start_month'].apply(lambda x:int(x)).hist(bins=12)\n",
    "plt.show()\n",
    "\n",
    "df_info['start_year'].hist(bins=10)"
   ]
  },
  {
   "cell_type": "code",
   "execution_count": 5,
   "metadata": {},
   "outputs": [
    {
     "data": {
      "text/html": [
       "<div>\n",
       "<style>\n",
       "    .dataframe thead tr:only-child th {\n",
       "        text-align: right;\n",
       "    }\n",
       "\n",
       "    .dataframe thead th {\n",
       "        text-align: left;\n",
       "    }\n",
       "\n",
       "    .dataframe tbody tr th {\n",
       "        vertical-align: top;\n",
       "    }\n",
       "</style>\n",
       "<table border=\"1\" class=\"dataframe\">\n",
       "  <thead>\n",
       "    <tr style=\"text-align: right;\">\n",
       "      <th></th>\n",
       "      <th>event_type</th>\n",
       "      <th>add_assig</th>\n",
       "      <th>add_custom_assig</th>\n",
       "      <th>add_user</th>\n",
       "      <th>attempt</th>\n",
       "      <th>create_group</th>\n",
       "      <th>view_assig_prog</th>\n",
       "    </tr>\n",
       "    <tr>\n",
       "      <th>user_id</th>\n",
       "      <th>event_leg</th>\n",
       "      <th></th>\n",
       "      <th></th>\n",
       "      <th></th>\n",
       "      <th></th>\n",
       "      <th></th>\n",
       "      <th></th>\n",
       "    </tr>\n",
       "  </thead>\n",
       "  <tbody>\n",
       "    <tr>\n",
       "      <th>00026a46eefde681a60b50bd7c2368c3091d035b2f565824640272c89eb6916a</th>\n",
       "      <th>0.0</th>\n",
       "      <td>0.0</td>\n",
       "      <td>0.0</td>\n",
       "      <td>0.0</td>\n",
       "      <td>7.0</td>\n",
       "      <td>0.0</td>\n",
       "      <td>0.0</td>\n",
       "    </tr>\n",
       "    <tr>\n",
       "      <th>0018d184ff3b1f2336ebeac5646d13ca84de10d034adc5d1663a47a8a9f1937f</th>\n",
       "      <th>0.0</th>\n",
       "      <td>0.0</td>\n",
       "      <td>0.0</td>\n",
       "      <td>0.0</td>\n",
       "      <td>4.0</td>\n",
       "      <td>0.0</td>\n",
       "      <td>0.0</td>\n",
       "    </tr>\n",
       "    <tr>\n",
       "      <th rowspan=\"3\" valign=\"top\">001c6813b7449d381899502fb8f1bbbb9239a2b3d8b726cb140669288a58515b</th>\n",
       "      <th>0.0</th>\n",
       "      <td>0.0</td>\n",
       "      <td>0.0</td>\n",
       "      <td>0.0</td>\n",
       "      <td>8.0</td>\n",
       "      <td>0.0</td>\n",
       "      <td>0.0</td>\n",
       "    </tr>\n",
       "    <tr>\n",
       "      <th>1.0</th>\n",
       "      <td>0.0</td>\n",
       "      <td>0.0</td>\n",
       "      <td>0.0</td>\n",
       "      <td>5.0</td>\n",
       "      <td>0.0</td>\n",
       "      <td>0.0</td>\n",
       "    </tr>\n",
       "    <tr>\n",
       "      <th>4.0</th>\n",
       "      <td>0.0</td>\n",
       "      <td>0.0</td>\n",
       "      <td>0.0</td>\n",
       "      <td>16.0</td>\n",
       "      <td>0.0</td>\n",
       "      <td>0.0</td>\n",
       "    </tr>\n",
       "  </tbody>\n",
       "</table>\n",
       "</div>"
      ],
      "text/plain": [
       "event_type                                                    add_assig  \\\n",
       "user_id                                            event_leg              \n",
       "00026a46eefde681a60b50bd7c2368c3091d035b2f56582... 0.0              0.0   \n",
       "0018d184ff3b1f2336ebeac5646d13ca84de10d034adc5d... 0.0              0.0   \n",
       "001c6813b7449d381899502fb8f1bbbb9239a2b3d8b726c... 0.0              0.0   \n",
       "                                                   1.0              0.0   \n",
       "                                                   4.0              0.0   \n",
       "\n",
       "event_type                                                    add_custom_assig  \\\n",
       "user_id                                            event_leg                     \n",
       "00026a46eefde681a60b50bd7c2368c3091d035b2f56582... 0.0                     0.0   \n",
       "0018d184ff3b1f2336ebeac5646d13ca84de10d034adc5d... 0.0                     0.0   \n",
       "001c6813b7449d381899502fb8f1bbbb9239a2b3d8b726c... 0.0                     0.0   \n",
       "                                                   1.0                     0.0   \n",
       "                                                   4.0                     0.0   \n",
       "\n",
       "event_type                                                    add_user  \\\n",
       "user_id                                            event_leg             \n",
       "00026a46eefde681a60b50bd7c2368c3091d035b2f56582... 0.0             0.0   \n",
       "0018d184ff3b1f2336ebeac5646d13ca84de10d034adc5d... 0.0             0.0   \n",
       "001c6813b7449d381899502fb8f1bbbb9239a2b3d8b726c... 0.0             0.0   \n",
       "                                                   1.0             0.0   \n",
       "                                                   4.0             0.0   \n",
       "\n",
       "event_type                                                    attempt  \\\n",
       "user_id                                            event_leg            \n",
       "00026a46eefde681a60b50bd7c2368c3091d035b2f56582... 0.0            7.0   \n",
       "0018d184ff3b1f2336ebeac5646d13ca84de10d034adc5d... 0.0            4.0   \n",
       "001c6813b7449d381899502fb8f1bbbb9239a2b3d8b726c... 0.0            8.0   \n",
       "                                                   1.0            5.0   \n",
       "                                                   4.0           16.0   \n",
       "\n",
       "event_type                                                    create_group  \\\n",
       "user_id                                            event_leg                 \n",
       "00026a46eefde681a60b50bd7c2368c3091d035b2f56582... 0.0                 0.0   \n",
       "0018d184ff3b1f2336ebeac5646d13ca84de10d034adc5d... 0.0                 0.0   \n",
       "001c6813b7449d381899502fb8f1bbbb9239a2b3d8b726c... 0.0                 0.0   \n",
       "                                                   1.0                 0.0   \n",
       "                                                   4.0                 0.0   \n",
       "\n",
       "event_type                                                    view_assig_prog  \n",
       "user_id                                            event_leg                   \n",
       "00026a46eefde681a60b50bd7c2368c3091d035b2f56582... 0.0                    0.0  \n",
       "0018d184ff3b1f2336ebeac5646d13ca84de10d034adc5d... 0.0                    0.0  \n",
       "001c6813b7449d381899502fb8f1bbbb9239a2b3d8b726c... 0.0                    0.0  \n",
       "                                                   1.0                    0.0  \n",
       "                                                   4.0                    0.0  "
      ]
     },
     "execution_count": 5,
     "metadata": {},
     "output_type": "execute_result"
    }
   ],
   "source": [
    "## Add the events of event_leg -1 to 0\n",
    "\n",
    "# Change the -1 event to 0\n",
    "df_new = df_grp[df_grp.index.get_level_values(1)<0].reset_index()\n",
    "df_new['event_leg'] = 0\n",
    "\n",
    "# Add the dataframes together\n",
    "df = df_grp.add(df_new.set_index(['user_id','event_leg']),fill_value=0)\n",
    "\n",
    "# Removing event_leg = -1\n",
    "df = df[df.index.get_level_values(1)>= 0]\n",
    "\n",
    "df.head()"
   ]
  },
  {
   "cell_type": "code",
   "execution_count": 6,
   "metadata": {},
   "outputs": [
    {
     "data": {
      "text/html": [
       "<div>\n",
       "<style>\n",
       "    .dataframe thead tr:only-child th {\n",
       "        text-align: right;\n",
       "    }\n",
       "\n",
       "    .dataframe thead th {\n",
       "        text-align: left;\n",
       "    }\n",
       "\n",
       "    .dataframe tbody tr th {\n",
       "        vertical-align: top;\n",
       "    }\n",
       "</style>\n",
       "<table border=\"1\" class=\"dataframe\">\n",
       "  <thead>\n",
       "    <tr style=\"text-align: right;\">\n",
       "      <th></th>\n",
       "      <th>event_type</th>\n",
       "      <th>add_assig</th>\n",
       "      <th>add_custom_assig</th>\n",
       "      <th>add_user</th>\n",
       "      <th>attempt</th>\n",
       "      <th>create_group</th>\n",
       "      <th>view_assig_prog</th>\n",
       "    </tr>\n",
       "    <tr>\n",
       "      <th>user_id</th>\n",
       "      <th>event_leg</th>\n",
       "      <th></th>\n",
       "      <th></th>\n",
       "      <th></th>\n",
       "      <th></th>\n",
       "      <th></th>\n",
       "      <th></th>\n",
       "    </tr>\n",
       "  </thead>\n",
       "  <tbody>\n",
       "    <tr>\n",
       "      <th>00026a46eefde681a60b50bd7c2368c3091d035b2f565824640272c89eb6916a</th>\n",
       "      <th>0.0</th>\n",
       "      <td>0.0</td>\n",
       "      <td>0.0</td>\n",
       "      <td>0.0</td>\n",
       "      <td>7.0</td>\n",
       "      <td>0.0</td>\n",
       "      <td>0.0</td>\n",
       "    </tr>\n",
       "    <tr>\n",
       "      <th>0018d184ff3b1f2336ebeac5646d13ca84de10d034adc5d1663a47a8a9f1937f</th>\n",
       "      <th>0.0</th>\n",
       "      <td>0.0</td>\n",
       "      <td>0.0</td>\n",
       "      <td>0.0</td>\n",
       "      <td>4.0</td>\n",
       "      <td>0.0</td>\n",
       "      <td>0.0</td>\n",
       "    </tr>\n",
       "    <tr>\n",
       "      <th>001c6813b7449d381899502fb8f1bbbb9239a2b3d8b726cb140669288a58515b</th>\n",
       "      <th>0.0</th>\n",
       "      <td>0.0</td>\n",
       "      <td>0.0</td>\n",
       "      <td>0.0</td>\n",
       "      <td>8.0</td>\n",
       "      <td>0.0</td>\n",
       "      <td>0.0</td>\n",
       "    </tr>\n",
       "    <tr>\n",
       "      <th>001ee4c077e3972984ebddee5d8928ea3be07031025d61888f2f4c58f61179ee</th>\n",
       "      <th>0.0</th>\n",
       "      <td>0.0</td>\n",
       "      <td>1.0</td>\n",
       "      <td>1.0</td>\n",
       "      <td>6.0</td>\n",
       "      <td>0.0</td>\n",
       "      <td>3.0</td>\n",
       "    </tr>\n",
       "    <tr>\n",
       "      <th>0068f32c6dcbbdfa08c1b9cedc8d10b13f370725691cfdeb40e99c6c81d6056d</th>\n",
       "      <th>0.0</th>\n",
       "      <td>1.0</td>\n",
       "      <td>0.0</td>\n",
       "      <td>0.0</td>\n",
       "      <td>26.0</td>\n",
       "      <td>1.0</td>\n",
       "      <td>0.0</td>\n",
       "    </tr>\n",
       "    <tr>\n",
       "      <th>006a28f9870a964816db69d1bb9dda8be0cac871af2fdfc3c303179023a2e299</th>\n",
       "      <th>0.0</th>\n",
       "      <td>0.0</td>\n",
       "      <td>0.0</td>\n",
       "      <td>0.0</td>\n",
       "      <td>4.0</td>\n",
       "      <td>0.0</td>\n",
       "      <td>0.0</td>\n",
       "    </tr>\n",
       "    <tr>\n",
       "      <th>00ab0f1d045f05764b9731a67758d9b401c234ffe7b5de85b0764b714db2ba90</th>\n",
       "      <th>0.0</th>\n",
       "      <td>0.0</td>\n",
       "      <td>3.0</td>\n",
       "      <td>10.0</td>\n",
       "      <td>60.0</td>\n",
       "      <td>1.0</td>\n",
       "      <td>4.0</td>\n",
       "    </tr>\n",
       "    <tr>\n",
       "      <th>00d7b52c5e872c5f09ffe70b1c0d5b99b79e4021b5b0c592c6f1fe2c5b7b0028</th>\n",
       "      <th>0.0</th>\n",
       "      <td>0.0</td>\n",
       "      <td>8.0</td>\n",
       "      <td>23.0</td>\n",
       "      <td>12.0</td>\n",
       "      <td>2.0</td>\n",
       "      <td>62.0</td>\n",
       "    </tr>\n",
       "    <tr>\n",
       "      <th>00ffec02f911cf694e8a2eff69c896bc04929211ce2b6beba1546c8acc819591</th>\n",
       "      <th>0.0</th>\n",
       "      <td>0.0</td>\n",
       "      <td>0.0</td>\n",
       "      <td>0.0</td>\n",
       "      <td>4.0</td>\n",
       "      <td>0.0</td>\n",
       "      <td>0.0</td>\n",
       "    </tr>\n",
       "    <tr>\n",
       "      <th>010b04243304cf1a7f680b589ebbd3e2f9848f2019b5fc68d916486bb515c040</th>\n",
       "      <th>0.0</th>\n",
       "      <td>0.0</td>\n",
       "      <td>5.0</td>\n",
       "      <td>24.0</td>\n",
       "      <td>113.0</td>\n",
       "      <td>3.0</td>\n",
       "      <td>11.0</td>\n",
       "    </tr>\n",
       "  </tbody>\n",
       "</table>\n",
       "</div>"
      ],
      "text/plain": [
       "event_type                                                    add_assig  \\\n",
       "user_id                                            event_leg              \n",
       "00026a46eefde681a60b50bd7c2368c3091d035b2f56582... 0.0              0.0   \n",
       "0018d184ff3b1f2336ebeac5646d13ca84de10d034adc5d... 0.0              0.0   \n",
       "001c6813b7449d381899502fb8f1bbbb9239a2b3d8b726c... 0.0              0.0   \n",
       "001ee4c077e3972984ebddee5d8928ea3be07031025d618... 0.0              0.0   \n",
       "0068f32c6dcbbdfa08c1b9cedc8d10b13f370725691cfde... 0.0              1.0   \n",
       "006a28f9870a964816db69d1bb9dda8be0cac871af2fdfc... 0.0              0.0   \n",
       "00ab0f1d045f05764b9731a67758d9b401c234ffe7b5de8... 0.0              0.0   \n",
       "00d7b52c5e872c5f09ffe70b1c0d5b99b79e4021b5b0c59... 0.0              0.0   \n",
       "00ffec02f911cf694e8a2eff69c896bc04929211ce2b6be... 0.0              0.0   \n",
       "010b04243304cf1a7f680b589ebbd3e2f9848f2019b5fc6... 0.0              0.0   \n",
       "\n",
       "event_type                                                    add_custom_assig  \\\n",
       "user_id                                            event_leg                     \n",
       "00026a46eefde681a60b50bd7c2368c3091d035b2f56582... 0.0                     0.0   \n",
       "0018d184ff3b1f2336ebeac5646d13ca84de10d034adc5d... 0.0                     0.0   \n",
       "001c6813b7449d381899502fb8f1bbbb9239a2b3d8b726c... 0.0                     0.0   \n",
       "001ee4c077e3972984ebddee5d8928ea3be07031025d618... 0.0                     1.0   \n",
       "0068f32c6dcbbdfa08c1b9cedc8d10b13f370725691cfde... 0.0                     0.0   \n",
       "006a28f9870a964816db69d1bb9dda8be0cac871af2fdfc... 0.0                     0.0   \n",
       "00ab0f1d045f05764b9731a67758d9b401c234ffe7b5de8... 0.0                     3.0   \n",
       "00d7b52c5e872c5f09ffe70b1c0d5b99b79e4021b5b0c59... 0.0                     8.0   \n",
       "00ffec02f911cf694e8a2eff69c896bc04929211ce2b6be... 0.0                     0.0   \n",
       "010b04243304cf1a7f680b589ebbd3e2f9848f2019b5fc6... 0.0                     5.0   \n",
       "\n",
       "event_type                                                    add_user  \\\n",
       "user_id                                            event_leg             \n",
       "00026a46eefde681a60b50bd7c2368c3091d035b2f56582... 0.0             0.0   \n",
       "0018d184ff3b1f2336ebeac5646d13ca84de10d034adc5d... 0.0             0.0   \n",
       "001c6813b7449d381899502fb8f1bbbb9239a2b3d8b726c... 0.0             0.0   \n",
       "001ee4c077e3972984ebddee5d8928ea3be07031025d618... 0.0             1.0   \n",
       "0068f32c6dcbbdfa08c1b9cedc8d10b13f370725691cfde... 0.0             0.0   \n",
       "006a28f9870a964816db69d1bb9dda8be0cac871af2fdfc... 0.0             0.0   \n",
       "00ab0f1d045f05764b9731a67758d9b401c234ffe7b5de8... 0.0            10.0   \n",
       "00d7b52c5e872c5f09ffe70b1c0d5b99b79e4021b5b0c59... 0.0            23.0   \n",
       "00ffec02f911cf694e8a2eff69c896bc04929211ce2b6be... 0.0             0.0   \n",
       "010b04243304cf1a7f680b589ebbd3e2f9848f2019b5fc6... 0.0            24.0   \n",
       "\n",
       "event_type                                                    attempt  \\\n",
       "user_id                                            event_leg            \n",
       "00026a46eefde681a60b50bd7c2368c3091d035b2f56582... 0.0            7.0   \n",
       "0018d184ff3b1f2336ebeac5646d13ca84de10d034adc5d... 0.0            4.0   \n",
       "001c6813b7449d381899502fb8f1bbbb9239a2b3d8b726c... 0.0            8.0   \n",
       "001ee4c077e3972984ebddee5d8928ea3be07031025d618... 0.0            6.0   \n",
       "0068f32c6dcbbdfa08c1b9cedc8d10b13f370725691cfde... 0.0           26.0   \n",
       "006a28f9870a964816db69d1bb9dda8be0cac871af2fdfc... 0.0            4.0   \n",
       "00ab0f1d045f05764b9731a67758d9b401c234ffe7b5de8... 0.0           60.0   \n",
       "00d7b52c5e872c5f09ffe70b1c0d5b99b79e4021b5b0c59... 0.0           12.0   \n",
       "00ffec02f911cf694e8a2eff69c896bc04929211ce2b6be... 0.0            4.0   \n",
       "010b04243304cf1a7f680b589ebbd3e2f9848f2019b5fc6... 0.0          113.0   \n",
       "\n",
       "event_type                                                    create_group  \\\n",
       "user_id                                            event_leg                 \n",
       "00026a46eefde681a60b50bd7c2368c3091d035b2f56582... 0.0                 0.0   \n",
       "0018d184ff3b1f2336ebeac5646d13ca84de10d034adc5d... 0.0                 0.0   \n",
       "001c6813b7449d381899502fb8f1bbbb9239a2b3d8b726c... 0.0                 0.0   \n",
       "001ee4c077e3972984ebddee5d8928ea3be07031025d618... 0.0                 0.0   \n",
       "0068f32c6dcbbdfa08c1b9cedc8d10b13f370725691cfde... 0.0                 1.0   \n",
       "006a28f9870a964816db69d1bb9dda8be0cac871af2fdfc... 0.0                 0.0   \n",
       "00ab0f1d045f05764b9731a67758d9b401c234ffe7b5de8... 0.0                 1.0   \n",
       "00d7b52c5e872c5f09ffe70b1c0d5b99b79e4021b5b0c59... 0.0                 2.0   \n",
       "00ffec02f911cf694e8a2eff69c896bc04929211ce2b6be... 0.0                 0.0   \n",
       "010b04243304cf1a7f680b589ebbd3e2f9848f2019b5fc6... 0.0                 3.0   \n",
       "\n",
       "event_type                                                    view_assig_prog  \n",
       "user_id                                            event_leg                   \n",
       "00026a46eefde681a60b50bd7c2368c3091d035b2f56582... 0.0                    0.0  \n",
       "0018d184ff3b1f2336ebeac5646d13ca84de10d034adc5d... 0.0                    0.0  \n",
       "001c6813b7449d381899502fb8f1bbbb9239a2b3d8b726c... 0.0                    0.0  \n",
       "001ee4c077e3972984ebddee5d8928ea3be07031025d618... 0.0                    3.0  \n",
       "0068f32c6dcbbdfa08c1b9cedc8d10b13f370725691cfde... 0.0                    0.0  \n",
       "006a28f9870a964816db69d1bb9dda8be0cac871af2fdfc... 0.0                    0.0  \n",
       "00ab0f1d045f05764b9731a67758d9b401c234ffe7b5de8... 0.0                    4.0  \n",
       "00d7b52c5e872c5f09ffe70b1c0d5b99b79e4021b5b0c59... 0.0                   62.0  \n",
       "00ffec02f911cf694e8a2eff69c896bc04929211ce2b6be... 0.0                    0.0  \n",
       "010b04243304cf1a7f680b589ebbd3e2f9848f2019b5fc6... 0.0                   11.0  "
      ]
     },
     "execution_count": 6,
     "metadata": {},
     "output_type": "execute_result"
    }
   ],
   "source": [
    "last_month = 0;\n",
    "\n",
    "# Find users that have churned\n",
    "plot_churn = df.reset_index().groupby('user_id')['event_leg'].max()\n",
    "\n",
    "# Remove users that have churned before last month\n",
    "plot_churn = plot_churn[plot_churn.values >= last_month]\n",
    "df_lm = df.loc[plot_churn.index.values]\n",
    "\n",
    "# Remove rows all greater than last_month\n",
    "df_lm = df_lm[df_lm.index.get_level_values(1)<=last_month]\n",
    "plot_churn =plot_churn.loc[np.unique(df_lm.index.get_level_values(0).values)]\n",
    "\n",
    "# Label those that churned at last month\n",
    "label = [1 if item == last_month else 0 for item in plot_churn.values]\n",
    "df_lm = df_lm.loc[plot_churn.index.values]\n",
    "\n",
    "# CLean off any nan\n",
    "df_lm = df_lm.fillna(0)\n",
    "\n",
    "# Add rows for months that may not exist for a user and set as zero\n",
    "df_lm = df_lm.unstack(level='event_leg').stack(level='event_leg',dropna=False).fillna(0)\n",
    "\n",
    "# Display the dataframe\n",
    "df_lm.head(10)"
   ]
  },
  {
   "cell_type": "code",
   "execution_count": 7,
   "metadata": {},
   "outputs": [
    {
     "name": "stdout",
     "output_type": "stream",
     "text": [
      "(2547, 19)\n"
     ]
    },
    {
     "data": {
      "text/html": [
       "<div>\n",
       "<style>\n",
       "    .dataframe thead tr:only-child th {\n",
       "        text-align: right;\n",
       "    }\n",
       "\n",
       "    .dataframe thead th {\n",
       "        text-align: left;\n",
       "    }\n",
       "\n",
       "    .dataframe tbody tr th {\n",
       "        vertical-align: top;\n",
       "    }\n",
       "</style>\n",
       "<table border=\"1\" class=\"dataframe\">\n",
       "  <thead>\n",
       "    <tr style=\"text-align: right;\">\n",
       "      <th></th>\n",
       "      <th>add_assig_0</th>\n",
       "      <th>add_custom_assig_0</th>\n",
       "      <th>add_user_0</th>\n",
       "      <th>attempt_0</th>\n",
       "      <th>create_group_0</th>\n",
       "      <th>view_assig_prog_0</th>\n",
       "      <th>start_year</th>\n",
       "      <th>start_month_1</th>\n",
       "      <th>start_month_10</th>\n",
       "      <th>start_month_11</th>\n",
       "      <th>start_month_12</th>\n",
       "      <th>start_month_2</th>\n",
       "      <th>start_month_3</th>\n",
       "      <th>start_month_4</th>\n",
       "      <th>start_month_5</th>\n",
       "      <th>start_month_6</th>\n",
       "      <th>start_month_7</th>\n",
       "      <th>start_month_8</th>\n",
       "      <th>start_month_9</th>\n",
       "    </tr>\n",
       "    <tr>\n",
       "      <th>user_id</th>\n",
       "      <th></th>\n",
       "      <th></th>\n",
       "      <th></th>\n",
       "      <th></th>\n",
       "      <th></th>\n",
       "      <th></th>\n",
       "      <th></th>\n",
       "      <th></th>\n",
       "      <th></th>\n",
       "      <th></th>\n",
       "      <th></th>\n",
       "      <th></th>\n",
       "      <th></th>\n",
       "      <th></th>\n",
       "      <th></th>\n",
       "      <th></th>\n",
       "      <th></th>\n",
       "      <th></th>\n",
       "      <th></th>\n",
       "    </tr>\n",
       "  </thead>\n",
       "  <tbody>\n",
       "    <tr>\n",
       "      <th>00026a46eefde681a60b50bd7c2368c3091d035b2f565824640272c89eb6916a</th>\n",
       "      <td>0.0</td>\n",
       "      <td>0.0</td>\n",
       "      <td>0.0</td>\n",
       "      <td>7.0</td>\n",
       "      <td>0.0</td>\n",
       "      <td>0.0</td>\n",
       "      <td>2015</td>\n",
       "      <td>0</td>\n",
       "      <td>0</td>\n",
       "      <td>0</td>\n",
       "      <td>1</td>\n",
       "      <td>0</td>\n",
       "      <td>0</td>\n",
       "      <td>0</td>\n",
       "      <td>0</td>\n",
       "      <td>0</td>\n",
       "      <td>0</td>\n",
       "      <td>0</td>\n",
       "      <td>0</td>\n",
       "    </tr>\n",
       "    <tr>\n",
       "      <th>0018d184ff3b1f2336ebeac5646d13ca84de10d034adc5d1663a47a8a9f1937f</th>\n",
       "      <td>0.0</td>\n",
       "      <td>0.0</td>\n",
       "      <td>0.0</td>\n",
       "      <td>4.0</td>\n",
       "      <td>0.0</td>\n",
       "      <td>0.0</td>\n",
       "      <td>2017</td>\n",
       "      <td>1</td>\n",
       "      <td>0</td>\n",
       "      <td>0</td>\n",
       "      <td>0</td>\n",
       "      <td>0</td>\n",
       "      <td>0</td>\n",
       "      <td>0</td>\n",
       "      <td>0</td>\n",
       "      <td>0</td>\n",
       "      <td>0</td>\n",
       "      <td>0</td>\n",
       "      <td>0</td>\n",
       "    </tr>\n",
       "    <tr>\n",
       "      <th>001c6813b7449d381899502fb8f1bbbb9239a2b3d8b726cb140669288a58515b</th>\n",
       "      <td>0.0</td>\n",
       "      <td>0.0</td>\n",
       "      <td>0.0</td>\n",
       "      <td>8.0</td>\n",
       "      <td>0.0</td>\n",
       "      <td>0.0</td>\n",
       "      <td>2015</td>\n",
       "      <td>1</td>\n",
       "      <td>0</td>\n",
       "      <td>0</td>\n",
       "      <td>0</td>\n",
       "      <td>0</td>\n",
       "      <td>0</td>\n",
       "      <td>0</td>\n",
       "      <td>0</td>\n",
       "      <td>0</td>\n",
       "      <td>0</td>\n",
       "      <td>0</td>\n",
       "      <td>0</td>\n",
       "    </tr>\n",
       "    <tr>\n",
       "      <th>001ee4c077e3972984ebddee5d8928ea3be07031025d61888f2f4c58f61179ee</th>\n",
       "      <td>0.0</td>\n",
       "      <td>1.0</td>\n",
       "      <td>1.0</td>\n",
       "      <td>6.0</td>\n",
       "      <td>0.0</td>\n",
       "      <td>3.0</td>\n",
       "      <td>2017</td>\n",
       "      <td>0</td>\n",
       "      <td>0</td>\n",
       "      <td>0</td>\n",
       "      <td>0</td>\n",
       "      <td>0</td>\n",
       "      <td>0</td>\n",
       "      <td>1</td>\n",
       "      <td>0</td>\n",
       "      <td>0</td>\n",
       "      <td>0</td>\n",
       "      <td>0</td>\n",
       "      <td>0</td>\n",
       "    </tr>\n",
       "    <tr>\n",
       "      <th>0068f32c6dcbbdfa08c1b9cedc8d10b13f370725691cfdeb40e99c6c81d6056d</th>\n",
       "      <td>1.0</td>\n",
       "      <td>0.0</td>\n",
       "      <td>0.0</td>\n",
       "      <td>26.0</td>\n",
       "      <td>1.0</td>\n",
       "      <td>0.0</td>\n",
       "      <td>2016</td>\n",
       "      <td>0</td>\n",
       "      <td>0</td>\n",
       "      <td>0</td>\n",
       "      <td>0</td>\n",
       "      <td>0</td>\n",
       "      <td>0</td>\n",
       "      <td>0</td>\n",
       "      <td>0</td>\n",
       "      <td>0</td>\n",
       "      <td>0</td>\n",
       "      <td>1</td>\n",
       "      <td>0</td>\n",
       "    </tr>\n",
       "  </tbody>\n",
       "</table>\n",
       "</div>"
      ],
      "text/plain": [
       "                                                    add_assig_0  \\\n",
       "user_id                                                           \n",
       "00026a46eefde681a60b50bd7c2368c3091d035b2f56582...          0.0   \n",
       "0018d184ff3b1f2336ebeac5646d13ca84de10d034adc5d...          0.0   \n",
       "001c6813b7449d381899502fb8f1bbbb9239a2b3d8b726c...          0.0   \n",
       "001ee4c077e3972984ebddee5d8928ea3be07031025d618...          0.0   \n",
       "0068f32c6dcbbdfa08c1b9cedc8d10b13f370725691cfde...          1.0   \n",
       "\n",
       "                                                    add_custom_assig_0  \\\n",
       "user_id                                                                  \n",
       "00026a46eefde681a60b50bd7c2368c3091d035b2f56582...                 0.0   \n",
       "0018d184ff3b1f2336ebeac5646d13ca84de10d034adc5d...                 0.0   \n",
       "001c6813b7449d381899502fb8f1bbbb9239a2b3d8b726c...                 0.0   \n",
       "001ee4c077e3972984ebddee5d8928ea3be07031025d618...                 1.0   \n",
       "0068f32c6dcbbdfa08c1b9cedc8d10b13f370725691cfde...                 0.0   \n",
       "\n",
       "                                                    add_user_0  attempt_0  \\\n",
       "user_id                                                                     \n",
       "00026a46eefde681a60b50bd7c2368c3091d035b2f56582...         0.0        7.0   \n",
       "0018d184ff3b1f2336ebeac5646d13ca84de10d034adc5d...         0.0        4.0   \n",
       "001c6813b7449d381899502fb8f1bbbb9239a2b3d8b726c...         0.0        8.0   \n",
       "001ee4c077e3972984ebddee5d8928ea3be07031025d618...         1.0        6.0   \n",
       "0068f32c6dcbbdfa08c1b9cedc8d10b13f370725691cfde...         0.0       26.0   \n",
       "\n",
       "                                                    create_group_0  \\\n",
       "user_id                                                              \n",
       "00026a46eefde681a60b50bd7c2368c3091d035b2f56582...             0.0   \n",
       "0018d184ff3b1f2336ebeac5646d13ca84de10d034adc5d...             0.0   \n",
       "001c6813b7449d381899502fb8f1bbbb9239a2b3d8b726c...             0.0   \n",
       "001ee4c077e3972984ebddee5d8928ea3be07031025d618...             0.0   \n",
       "0068f32c6dcbbdfa08c1b9cedc8d10b13f370725691cfde...             1.0   \n",
       "\n",
       "                                                    view_assig_prog_0  \\\n",
       "user_id                                                                 \n",
       "00026a46eefde681a60b50bd7c2368c3091d035b2f56582...                0.0   \n",
       "0018d184ff3b1f2336ebeac5646d13ca84de10d034adc5d...                0.0   \n",
       "001c6813b7449d381899502fb8f1bbbb9239a2b3d8b726c...                0.0   \n",
       "001ee4c077e3972984ebddee5d8928ea3be07031025d618...                3.0   \n",
       "0068f32c6dcbbdfa08c1b9cedc8d10b13f370725691cfde...                0.0   \n",
       "\n",
       "                                                    start_year  start_month_1  \\\n",
       "user_id                                                                         \n",
       "00026a46eefde681a60b50bd7c2368c3091d035b2f56582...        2015              0   \n",
       "0018d184ff3b1f2336ebeac5646d13ca84de10d034adc5d...        2017              1   \n",
       "001c6813b7449d381899502fb8f1bbbb9239a2b3d8b726c...        2015              1   \n",
       "001ee4c077e3972984ebddee5d8928ea3be07031025d618...        2017              0   \n",
       "0068f32c6dcbbdfa08c1b9cedc8d10b13f370725691cfde...        2016              0   \n",
       "\n",
       "                                                    start_month_10  \\\n",
       "user_id                                                              \n",
       "00026a46eefde681a60b50bd7c2368c3091d035b2f56582...               0   \n",
       "0018d184ff3b1f2336ebeac5646d13ca84de10d034adc5d...               0   \n",
       "001c6813b7449d381899502fb8f1bbbb9239a2b3d8b726c...               0   \n",
       "001ee4c077e3972984ebddee5d8928ea3be07031025d618...               0   \n",
       "0068f32c6dcbbdfa08c1b9cedc8d10b13f370725691cfde...               0   \n",
       "\n",
       "                                                    start_month_11  \\\n",
       "user_id                                                              \n",
       "00026a46eefde681a60b50bd7c2368c3091d035b2f56582...               0   \n",
       "0018d184ff3b1f2336ebeac5646d13ca84de10d034adc5d...               0   \n",
       "001c6813b7449d381899502fb8f1bbbb9239a2b3d8b726c...               0   \n",
       "001ee4c077e3972984ebddee5d8928ea3be07031025d618...               0   \n",
       "0068f32c6dcbbdfa08c1b9cedc8d10b13f370725691cfde...               0   \n",
       "\n",
       "                                                    start_month_12  \\\n",
       "user_id                                                              \n",
       "00026a46eefde681a60b50bd7c2368c3091d035b2f56582...               1   \n",
       "0018d184ff3b1f2336ebeac5646d13ca84de10d034adc5d...               0   \n",
       "001c6813b7449d381899502fb8f1bbbb9239a2b3d8b726c...               0   \n",
       "001ee4c077e3972984ebddee5d8928ea3be07031025d618...               0   \n",
       "0068f32c6dcbbdfa08c1b9cedc8d10b13f370725691cfde...               0   \n",
       "\n",
       "                                                    start_month_2  \\\n",
       "user_id                                                             \n",
       "00026a46eefde681a60b50bd7c2368c3091d035b2f56582...              0   \n",
       "0018d184ff3b1f2336ebeac5646d13ca84de10d034adc5d...              0   \n",
       "001c6813b7449d381899502fb8f1bbbb9239a2b3d8b726c...              0   \n",
       "001ee4c077e3972984ebddee5d8928ea3be07031025d618...              0   \n",
       "0068f32c6dcbbdfa08c1b9cedc8d10b13f370725691cfde...              0   \n",
       "\n",
       "                                                    start_month_3  \\\n",
       "user_id                                                             \n",
       "00026a46eefde681a60b50bd7c2368c3091d035b2f56582...              0   \n",
       "0018d184ff3b1f2336ebeac5646d13ca84de10d034adc5d...              0   \n",
       "001c6813b7449d381899502fb8f1bbbb9239a2b3d8b726c...              0   \n",
       "001ee4c077e3972984ebddee5d8928ea3be07031025d618...              0   \n",
       "0068f32c6dcbbdfa08c1b9cedc8d10b13f370725691cfde...              0   \n",
       "\n",
       "                                                    start_month_4  \\\n",
       "user_id                                                             \n",
       "00026a46eefde681a60b50bd7c2368c3091d035b2f56582...              0   \n",
       "0018d184ff3b1f2336ebeac5646d13ca84de10d034adc5d...              0   \n",
       "001c6813b7449d381899502fb8f1bbbb9239a2b3d8b726c...              0   \n",
       "001ee4c077e3972984ebddee5d8928ea3be07031025d618...              1   \n",
       "0068f32c6dcbbdfa08c1b9cedc8d10b13f370725691cfde...              0   \n",
       "\n",
       "                                                    start_month_5  \\\n",
       "user_id                                                             \n",
       "00026a46eefde681a60b50bd7c2368c3091d035b2f56582...              0   \n",
       "0018d184ff3b1f2336ebeac5646d13ca84de10d034adc5d...              0   \n",
       "001c6813b7449d381899502fb8f1bbbb9239a2b3d8b726c...              0   \n",
       "001ee4c077e3972984ebddee5d8928ea3be07031025d618...              0   \n",
       "0068f32c6dcbbdfa08c1b9cedc8d10b13f370725691cfde...              0   \n",
       "\n",
       "                                                    start_month_6  \\\n",
       "user_id                                                             \n",
       "00026a46eefde681a60b50bd7c2368c3091d035b2f56582...              0   \n",
       "0018d184ff3b1f2336ebeac5646d13ca84de10d034adc5d...              0   \n",
       "001c6813b7449d381899502fb8f1bbbb9239a2b3d8b726c...              0   \n",
       "001ee4c077e3972984ebddee5d8928ea3be07031025d618...              0   \n",
       "0068f32c6dcbbdfa08c1b9cedc8d10b13f370725691cfde...              0   \n",
       "\n",
       "                                                    start_month_7  \\\n",
       "user_id                                                             \n",
       "00026a46eefde681a60b50bd7c2368c3091d035b2f56582...              0   \n",
       "0018d184ff3b1f2336ebeac5646d13ca84de10d034adc5d...              0   \n",
       "001c6813b7449d381899502fb8f1bbbb9239a2b3d8b726c...              0   \n",
       "001ee4c077e3972984ebddee5d8928ea3be07031025d618...              0   \n",
       "0068f32c6dcbbdfa08c1b9cedc8d10b13f370725691cfde...              0   \n",
       "\n",
       "                                                    start_month_8  \\\n",
       "user_id                                                             \n",
       "00026a46eefde681a60b50bd7c2368c3091d035b2f56582...              0   \n",
       "0018d184ff3b1f2336ebeac5646d13ca84de10d034adc5d...              0   \n",
       "001c6813b7449d381899502fb8f1bbbb9239a2b3d8b726c...              0   \n",
       "001ee4c077e3972984ebddee5d8928ea3be07031025d618...              0   \n",
       "0068f32c6dcbbdfa08c1b9cedc8d10b13f370725691cfde...              1   \n",
       "\n",
       "                                                    start_month_9  \n",
       "user_id                                                            \n",
       "00026a46eefde681a60b50bd7c2368c3091d035b2f56582...              0  \n",
       "0018d184ff3b1f2336ebeac5646d13ca84de10d034adc5d...              0  \n",
       "001c6813b7449d381899502fb8f1bbbb9239a2b3d8b726c...              0  \n",
       "001ee4c077e3972984ebddee5d8928ea3be07031025d618...              0  \n",
       "0068f32c6dcbbdfa08c1b9cedc8d10b13f370725691cfde...              0  "
      ]
     },
     "execution_count": 7,
     "metadata": {},
     "output_type": "execute_result"
    }
   ],
   "source": [
    "# Prepare timeseries\n",
    "df_lm_new = prepare_time_series(df_lm.groupby(['user_id','event_leg']).sum(),[0,1],'append')\n",
    "\n",
    "# Add features\n",
    "df_lm_new = df_lm_new.join(df_info.set_index('user_id')[['start_month','start_year']])\n",
    "\n",
    "# Get dummies\n",
    "df_lm_new = pd.get_dummies(df_lm_new)\n",
    "\n",
    "print(df_lm_new.shape)\n",
    "\n",
    "df_lm_new.head()\n"
   ]
  },
  {
   "cell_type": "code",
   "execution_count": 8,
   "metadata": {},
   "outputs": [
    {
     "data": {
      "text/plain": [
       "(array([ 1118.,     0.,     0.,     0.,     0.,     0.,     0.,     0.,\n",
       "            0.,  1429.]),\n",
       " array([ 0. ,  0.1,  0.2,  0.3,  0.4,  0.5,  0.6,  0.7,  0.8,  0.9,  1. ]),\n",
       " <a list of 10 Patch objects>)"
      ]
     },
     "execution_count": 8,
     "metadata": {},
     "output_type": "execute_result"
    },
    {
     "data": {
      "image/png": "[encoded data removed]",
      "text/plain": [
       "<matplotlib.figure.Figure at 0x7fcce4153a20>"
      ]
     },
     "metadata": {},
     "output_type": "display_data"
    }
   ],
   "source": [
    "# Check class distribution\n",
    "plt.hist(label)\n"
   ]
  },
  {
   "cell_type": "code",
   "execution_count": 9,
   "metadata": {},
   "outputs": [
    {
     "data": {
      "text/plain": [
       "(array([ 318.,    0.,    0.,    0.,    0.,    0.,    0.,    0.,    0.,  447.]),\n",
       " array([ 0. ,  0.1,  0.2,  0.3,  0.4,  0.5,  0.6,  0.7,  0.8,  0.9,  1. ]),\n",
       " <a list of 10 Patch objects>)"
      ]
     },
     "execution_count": 9,
     "metadata": {},
     "output_type": "execute_result"
    },
    {
     "data": {
      "image/png": "[encoded data removed]",
      "text/plain": [
       "<matplotlib.figure.Figure at 0x7fcd1eba90f0>"
      ]
     },
     "metadata": {},
     "output_type": "display_data"
    }
   ],
   "source": [
    "# Fill in any zeros\n",
    "df_lm_new = df_lm_new.fillna(0)\n",
    "\n",
    "# Assign data to auxillary variables\n",
    "X = df_lm_new\n",
    "y = label\n",
    "\n",
    "# Storing the keys\n",
    "store_keys = X.keys()\n",
    "\n",
    "# Scale the data\n",
    "scaler = StandardScaler()\n",
    "X_trf = scaler.fit_transform(X)\n",
    "X = X_trf\n",
    "\n",
    "# Split into train and test sets\n",
    "X_train, X_test, y_train, y_test = train_test_split(X, y,test_size = 0.3, random_state=42)\n",
    "\n",
    "plt.hist(y_test)"
   ]
  },
  {
   "cell_type": "markdown",
   "metadata": {},
   "source": [
    "## Machine learning\n",
    "\n",
    "Comparing results against random predictions."
   ]
  },
  {
   "cell_type": "code",
   "execution_count": 10,
   "metadata": {},
   "outputs": [
    {
     "name": "stdout",
     "output_type": "stream",
     "text": [
      "             precision    recall  f1-score   support\n",
      "\n",
      "          0       0.00      0.00      0.00         0\n",
      "          1       1.00      0.58      0.74       765\n",
      "\n",
      "avg / total       1.00      0.58      0.74       765\n",
      "\n",
      "             precision    recall  f1-score   support\n",
      "\n",
      "          0       0.43      0.40      0.42       345\n",
      "          1       0.54      0.57      0.55       420\n",
      "\n",
      "avg / total       0.49      0.49      0.49       765\n",
      "\n"
     ]
    },
    {
     "name": "stderr",
     "output_type": "stream",
     "text": [
      "/home/work/anaconda3/lib/python3.6/site-packages/sklearn/metrics/classification.py:1137: UndefinedMetricWarning: Recall and F-score are ill-defined and being set to 0.0 in labels with no true samples.\n",
      "  'recall', 'true', average, warn_for)\n"
     ]
    }
   ],
   "source": [
    "# Do a test with a Dummy Classifier\n",
    "\n",
    "clf = DummyClassifier(strategy='constant', constant=1)\n",
    "clf.fit(X_train,y_train)\n",
    "\n",
    "# Predict\n",
    "y_pred = clf.predict(X_test)\n",
    "y_score = clf.predict_proba(X_test)\n",
    "\n",
    "# Evaluate\n",
    "\n",
    "print(classification_report(y_pred,y_test))\n",
    "\n",
    "clf = DummyClassifier(strategy='stratified')\n",
    "clf.fit(X_train,y_train)\n",
    "\n",
    "# Predict\n",
    "y_pred = clf.predict(X_test)\n",
    "y_score = clf.predict_proba(X_test)\n",
    "\n",
    "# Evaluate\n",
    "\n",
    "print(classification_report(y_pred,y_test))\n",
    "\n"
   ]
  },
  {
   "cell_type": "code",
   "execution_count": 11,
   "metadata": {},
   "outputs": [
    {
     "data": {
      "text/plain": [
       "0.59077763145297968"
      ]
     },
     "execution_count": 11,
     "metadata": {},
     "output_type": "execute_result"
    },
    {
     "data": {
      "image/png": "[encoded data removed]",
      "text/plain": [
       "<matplotlib.figure.Figure at 0x7fcce4136630>"
      ]
     },
     "metadata": {},
     "output_type": "display_data"
    }
   ],
   "source": [
    "precision, recall, _ = precision_recall_curve(y_test,y_score[:,1])\n",
    "\n",
    "\n",
    "plt.step(recall, precision, color='b', alpha=0.2,\n",
    "         where='post')\n",
    "plt.fill_between(recall, precision, step='post', alpha=0.2,\n",
    "                 color='b')\n",
    "\n",
    "plt.xlabel('Recall')\n",
    "plt.ylabel('Precision')\n",
    "plt.ylim([0.0, 1.05])\n",
    "plt.xlim([0.0, 1.0])\n",
    "\n",
    "average_precision_score(y_test,y_score[:,1])"
   ]
  },
  {
   "cell_type": "code",
   "execution_count": 12,
   "metadata": {},
   "outputs": [
    {
     "name": "stdout",
     "output_type": "stream",
     "text": [
      "             precision    recall  f1-score   support\n",
      "\n",
      "          0       0.66      0.67      0.66       312\n",
      "          1       0.77      0.76      0.76       453\n",
      "\n",
      "avg / total       0.72      0.72      0.72       765\n",
      "\n"
     ]
    },
    {
     "data": {
      "image/png": "[encoded data removed]",
      "text/plain": [
       "<matplotlib.figure.Figure at 0x7fcce543ef98>"
      ]
     },
     "metadata": {},
     "output_type": "display_data"
    }
   ],
   "source": [
    "# Classifier\n",
    "clf = RF(n_estimators=100,random_state=42)\n",
    "clf.fit(X_train,y_train)\n",
    "\n",
    "# Predict\n",
    "y_pred = clf.predict(X_test)\n",
    "y_score = clf.predict_proba(X_test)\n",
    "\n",
    "# Evaluate\n",
    "plt.hist(y_pred)\n",
    "plt.hist(y_test,alpha= 0.4)\n",
    "\n",
    "print(classification_report(y_pred,y_test))\n"
   ]
  },
  {
   "cell_type": "code",
   "execution_count": 13,
   "metadata": {},
   "outputs": [
    {
     "name": "stdout",
     "output_type": "stream",
     "text": [
      "0.846037546838\n",
      "@ 0.5\n",
      "True positives: 412\n",
      "True negatives: 120\n",
      "False negatives: 35\n",
      "False positives: 198\n",
      "Precision is: 0.675409836066\n",
      "Recall is: 0.921700223714\n"
     ]
    },
    {
     "data": {
      "image/png": "[encoded data removed]",
      "text/plain": [
       "<matplotlib.figure.Figure at 0x7fcce5366390>"
      ]
     },
     "metadata": {},
     "output_type": "display_data"
    }
   ],
   "source": [
    "precision, recall, _ = precision_recall_curve(y_test,y_score[:,1])\n",
    "\n",
    "\n",
    "plt.step(recall, precision, color='b', alpha=0.2,\n",
    "         where='post')\n",
    "plt.fill_between(recall, precision, step='post', alpha=0.2,\n",
    "                 color='b')\n",
    "\n",
    "plt.xlabel('Recall')\n",
    "plt.ylabel('Precision')\n",
    "plt.ylim([0.0, 1.05])\n",
    "plt.xlim([0.0, 1.0])\n",
    "plt.grid()\n",
    "\n",
    "print(average_precision_score(y_test,y_score[:,1]))\n",
    "\n",
    "def calculate_errors(y_test,y_pred):\n",
    "\n",
    "    true_pos = 0;\n",
    "    true_neg = 0\n",
    "    false_neg = 0;\n",
    "    false_pos = 0\n",
    "    for item in range(len(y_test)):\n",
    "\n",
    "        if y_test[item] == 1:\n",
    "\n",
    "            if y_test[item] == y_pred[item]:\n",
    "                true_pos +=1\n",
    "\n",
    "            else:\n",
    "                false_neg +=1\n",
    "\n",
    "        if y_test[item] == 0:\n",
    "\n",
    "            if y_test[item] == y_pred[item]:\n",
    "                true_neg +=1\n",
    "\n",
    "            else:\n",
    "                false_pos += 1\n",
    "\n",
    "    print('True positives:',true_pos)\n",
    "    print('True negatives:',true_neg)\n",
    "    print('False negatives:',false_neg)\n",
    "    print('False positives:',false_pos)\n",
    "\n",
    "    \n",
    "y_pred2 = [1 if item > 0.2 else 0 for item in y_score[:,1]]\n",
    "\n",
    "print('@ 0.5')\n",
    "calculate_errors(y_test,y_pred2)\n",
    "print('Precision is:',precision_score(y_test,y_pred2))\n",
    "print('Recall is:',recall_score(y_test,y_pred2))"
   ]
  },
  {
   "cell_type": "code",
   "execution_count": 14,
   "metadata": {},
   "outputs": [
    {
     "data": {
      "text/plain": [
       "array([ 0.58431373,  0.58520476,  0.5862069 ,  0.58643617,  0.58744993,\n",
       "        0.59084791,  0.5916442 ,  0.59349593,  0.59294437,  0.59375   ,\n",
       "        0.60027663,  0.59972299,  0.60055479,  0.60390516,  0.6047486 ,\n",
       "        0.60559441,  0.60618847,  0.60704225,  0.61134752,  0.61221591,\n",
       "        0.6169297 ,  0.61781609,  0.61870504,  0.61849711,  0.62028986,\n",
       "        0.62701909,  0.62794118,  0.62886598,  0.62979351,  0.63392857,\n",
       "        0.63487332,  0.6367713 ,  0.63772455,  0.63718141,  0.63813814,\n",
       "        0.64048338,  0.64145234,  0.64242424,  0.64624809,  0.65123457,\n",
       "        0.65069552,  0.6501548 ,  0.65217391,  0.65830721,  0.65934066,\n",
       "        0.66192733,  0.66297468,  0.66402536,  0.66613672,  0.66719745,\n",
       "        0.66881029,  0.66988728,  0.66935484,  0.67263844,  0.67373573,\n",
       "        0.67540984,  0.67651888,  0.67545305,  0.67656766,  0.67715232,\n",
       "        0.67940199,  0.68113523,  0.68235294,  0.68350168,  0.6846543 ,\n",
       "        0.68581081,  0.68697124,  0.68813559,  0.6893039 ,  0.69047619,\n",
       "        0.68994889,  0.69112628,  0.69059829,  0.69535284,  0.69655172,\n",
       "        0.69602763,  0.69550173,  0.69633508,  0.69947276,  0.69964664,\n",
       "        0.69911504,  0.69858156,  0.70178571,  0.70304114,  0.70250896,\n",
       "        0.7037702 ,  0.70323741,  0.70471014,  0.70598911,  0.70727273,\n",
       "        0.70856102,  0.71115174,  0.71062271,  0.7145488 ,  0.71719039,\n",
       "        0.71851852,  0.71962617,  0.71910112,  0.72045028,  0.72180451,\n",
       "        0.72316384,  0.7245283 ,  0.72400756,  0.72296015,  0.7243346 ,\n",
       "        0.72380952,  0.72519084,  0.72466539,  0.72692308,  0.72639692,\n",
       "        0.7265625 ,  0.73267327,  0.73412698,  0.73359841,  0.73346693,\n",
       "        0.73493976,  0.7358871 ,  0.73833671,  0.73780488,  0.73727088,\n",
       "        0.73877551,  0.74180328,  0.7412731 ,  0.74074074,  0.74226804,\n",
       "        0.74120083,  0.74273859,  0.74583333,  0.7473904 ,  0.75      ,\n",
       "        0.74947368,  0.75105485,  0.75052854,  0.75159236,  0.75266525,\n",
       "        0.75588865,  0.75536481,  0.75862069,  0.76025918,  0.75974026,\n",
       "        0.76138829,  0.76304348,  0.76252723,  0.76200873,  0.75991189,\n",
       "        0.7593819 ,  0.75884956,  0.76053215,  0.76510067,  0.76853933,\n",
       "        0.76801802,  0.76975169,  0.77149321,  0.775     ,  0.77448747,\n",
       "        0.7764977 ,  0.77829099,  0.78009259,  0.78190255,  0.78037383,\n",
       "        0.77985948,  0.77882353,  0.77672209,  0.78042959,  0.78229665,\n",
       "        0.78177458,  0.78365385,  0.7810219 ,  0.7804878 ,  0.7799511 ,\n",
       "        0.78078818,  0.78465347,  0.7866005 ,  0.79396985,  0.79345088,\n",
       "        0.79292929,  0.79493671,  0.79643766,  0.79591837,  0.7974359 ,\n",
       "        0.79639175,  0.79844961,  0.79792746,  0.8       ,  0.79895561,\n",
       "        0.79842932,  0.79736842,  0.79683377,  0.79840849,  0.80053191,\n",
       "        0.8       ,  0.79946524,  0.80107527,  0.8027027 ,  0.80434783,\n",
       "        0.80653951,  0.80601093,  0.80821918,  0.80716253,  0.80662983,\n",
       "        0.80609418,  0.80726257,  0.80952381,  0.81179775,  0.81126761,\n",
       "        0.8125    ,  0.81196581,  0.81142857,  0.81976744,  0.81924198,\n",
       "        0.81871345,  0.82111437,  0.82058824,  0.820059  ,  0.82248521,\n",
       "        0.82035928,  0.81981982,  0.82228916,  0.82175227,  0.82012195,\n",
       "        0.82262997,  0.82515337,  0.83024691,  0.82972136,  0.82919255,\n",
       "        0.83125   ,  0.8338558 ,  0.83333333,  0.83280757,  0.83492063,\n",
       "        0.83653846,  0.83601286,  0.83495146,  0.83766234,  0.84039088,\n",
       "        0.83934426,  0.83881579,  0.84615385,  0.84563758,  0.84745763,\n",
       "        0.85034014,  0.85910653,  0.85862069,  0.86062718,  0.86120996,\n",
       "        0.86428571,  0.86379928,  0.86690647,  0.86956522,  0.86909091,\n",
       "        0.87226277,  0.87132353,  0.87084871,  0.87037037,  0.86940299,\n",
       "        0.86792453,  0.86742424,  0.86590038,  0.86486486,  0.86770428,\n",
       "        0.8671875 ,  0.87007874,  0.87351779,  0.87301587,  0.872     ,\n",
       "        0.87550201,  0.875     ,  0.87449393,  0.87398374,  0.87295082,\n",
       "        0.87242798,  0.87136929,  0.87083333,  0.8697479 ,  0.87341772,\n",
       "        0.87288136,  0.87553648,  0.87931034,  0.87878788,  0.87772926,\n",
       "        0.89140271,  0.88990826,  0.88940092,  0.88888889,  0.88732394,\n",
       "        0.88679245,  0.89099526,  0.89047619,  0.88995215,  0.89423077,\n",
       "        0.89268293,  0.89215686,  0.89162562,  0.89552239,  0.895     ,\n",
       "        0.89447236,  0.89285714,  0.89230769,  0.90104167,  0.90052356,\n",
       "        0.89839572,  0.90322581,  0.9027027 ,  0.90217391,  0.9010989 ,\n",
       "        0.90555556,  0.90502793,  0.90449438,  0.9039548 ,  0.90340909,\n",
       "        0.91715976,  0.92215569,  0.92168675,  0.92682927,  0.93125   ,\n",
       "        0.93081761,  0.93037975,  0.92993631,  0.92948718,  0.9261745 ,\n",
       "        0.92567568,  0.92517007,  0.92307692,  0.92907801,  0.94354839,\n",
       "        0.94308943,  0.94262295,  0.94214876,  0.95      ,  0.95689655,\n",
       "        0.95575221,  0.95535714,  0.96703297,  0.96666667,  0.96590909,\n",
       "        0.96511628,  1.        ])"
      ]
     },
     "execution_count": 14,
     "metadata": {},
     "output_type": "execute_result"
    }
   ],
   "source": [
    "precision"
   ]
  },
  {
   "cell_type": "code",
   "execution_count": 15,
   "metadata": {},
   "outputs": [
    {
     "name": "stdout",
     "output_type": "stream",
     "text": [
      "0.793687476257\n"
     ]
    },
    {
     "data": {
      "image/png": "[encoded data removed]",
      "text/plain": [
       "<matplotlib.figure.Figure at 0x7fcce54ed320>"
      ]
     },
     "metadata": {},
     "output_type": "display_data"
    }
   ],
   "source": [
    "\n",
    "fpr, tpr, thresholds = roc_curve(y_test,y_score[:,1])\n",
    "\n",
    "plt.plot(fpr, tpr)\n",
    "plt.plot([0, 1], [0, 1], linestyle='--', lw=2, color='r',\n",
    "         label='Luck', alpha=.8)\n",
    "plt.xlabel('False positive rate')\n",
    "plt.ylabel('True positive rate')\n",
    "\n",
    "print(roc_auc_score(y_test,y_score[:,1]))\n",
    "\n"
   ]
  },
  {
   "cell_type": "markdown",
   "metadata": {},
   "source": [
    "## Feature extraction\n",
    "\n",
    "Checking the importance of each feature and retraining model.\n",
    "\n",
    "Standard and with BorutaPy."
   ]
  },
  {
   "cell_type": "code",
   "execution_count": 314,
   "metadata": {},
   "outputs": [
    {
     "name": "stdout",
     "output_type": "stream",
     "text": [
      "Feature ranking:\n",
      "1. feature 12 (0.176523) start_year\n",
      "2. feature 7 (0.113809) attempt_1\n",
      "3. feature 6 (0.098454) attempt_0\n",
      "4. feature 5 (0.067167) add_user_1\n",
      "5. feature 11 (0.065452) view_assig_prog_1\n",
      "6. feature 4 (0.065214) add_user_0\n",
      "7. feature 8 (0.058514) create_group_0\n",
      "8. feature 10 (0.049370) view_assig_prog_0\n",
      "9. feature 2 (0.045835) add_custom_assig_0\n",
      "10. feature 9 (0.040485) create_group_1\n",
      "11. feature 3 (0.039493) add_custom_assig_1\n",
      "12. feature 0 (0.023156) add_assig_0\n",
      "13. feature 18 (0.018706) start_month_3\n",
      "14. feature 1 (0.016856) add_assig_1\n",
      "15. feature 24 (0.015640) start_month_9\n",
      "16. feature 13 (0.015218) start_month_1\n",
      "17. feature 14 (0.015136) start_month_10\n",
      "18. feature 15 (0.013869) start_month_11\n",
      "19. feature 16 (0.012712) start_month_12\n",
      "20. feature 17 (0.012209) start_month_2\n",
      "21. feature 21 (0.012099) start_month_6\n",
      "22. feature 20 (0.008988) start_month_5\n",
      "23. feature 19 (0.006740) start_month_4\n",
      "24. feature 22 (0.005744) start_month_7\n",
      "25. feature 23 (0.002611) start_month_8\n"
     ]
    }
   ],
   "source": [
    "# Get the feature importance\n",
    "\n",
    "# Output feature importance\n",
    "\n",
    "def return_feature_importance(X,y,keys,n_estimators = 100):\n",
    "\n",
    "    # Using the random forest classifier, find out what are the main features that predict whether a user is likely to churn or not\n",
    "    randomForest = RF(n_estimators)\n",
    "    randomForest.fit(X,y)\n",
    "    \n",
    "    importances = randomForest.feature_importances_\n",
    "    \n",
    "    indices = np.argsort(importances)[::-1]\n",
    "    \n",
    "    # Print the feature ranking\n",
    "    print(\"Feature ranking:\")\n",
    "    \n",
    "    for f in range(X.shape[1]):\n",
    "        print(\"%d. feature %d (%f)\" % (f + 1, indices[f], importances[indices[f]]),keys[indices[f]])\n",
    "\n",
    "return_feature_importance(X,y,store_keys)"
   ]
  },
  {
   "cell_type": "code",
   "execution_count": 315,
   "metadata": {},
   "outputs": [
    {
     "name": "stdout",
     "output_type": "stream",
     "text": [
      "Iteration: \t1 / 100\n",
      "Confirmed: \t0\n",
      "Tentative: \t25\n",
      "Rejected: \t0\n",
      "Iteration: \t2 / 100\n",
      "Confirmed: \t0\n",
      "Tentative: \t25\n",
      "Rejected: \t0\n",
      "Iteration: \t3 / 100\n",
      "Confirmed: \t0\n",
      "Tentative: \t25\n",
      "Rejected: \t0\n",
      "Iteration: \t4 / 100\n",
      "Confirmed: \t0\n",
      "Tentative: \t25\n",
      "Rejected: \t0\n",
      "Iteration: \t5 / 100\n",
      "Confirmed: \t0\n",
      "Tentative: \t25\n",
      "Rejected: \t0\n",
      "Iteration: \t6 / 100\n",
      "Confirmed: \t0\n",
      "Tentative: \t25\n",
      "Rejected: \t0\n",
      "Iteration: \t7 / 100\n",
      "Confirmed: \t0\n",
      "Tentative: \t25\n",
      "Rejected: \t0\n",
      "Iteration: \t8 / 100\n",
      "Confirmed: \t3\n",
      "Tentative: \t8\n",
      "Rejected: \t14\n"
     ]
    },
    {
     "name": "stderr",
     "output_type": "stream",
     "text": [
      "/home/work/anaconda3/lib/python3.6/site-packages/boruta/boruta_py.py:418: RuntimeWarning: invalid value encountered in greater\n",
      "  hits = np.where(cur_imp[0] > imp_sha_max)[0]\n"
     ]
    },
    {
     "name": "stdout",
     "output_type": "stream",
     "text": [
      "Iteration: \t9 / 100\n",
      "Confirmed: \t3\n",
      "Tentative: \t8\n",
      "Rejected: \t14\n"
     ]
    },
    {
     "name": "stderr",
     "output_type": "stream",
     "text": [
      "/home/work/anaconda3/lib/python3.6/site-packages/boruta/boruta_py.py:418: RuntimeWarning: invalid value encountered in greater\n",
      "  hits = np.where(cur_imp[0] > imp_sha_max)[0]\n"
     ]
    },
    {
     "name": "stdout",
     "output_type": "stream",
     "text": [
      "Iteration: \t10 / 100\n",
      "Confirmed: \t3\n",
      "Tentative: \t8\n",
      "Rejected: \t14\n"
     ]
    },
    {
     "name": "stderr",
     "output_type": "stream",
     "text": [
      "/home/work/anaconda3/lib/python3.6/site-packages/boruta/boruta_py.py:418: RuntimeWarning: invalid value encountered in greater\n",
      "  hits = np.where(cur_imp[0] > imp_sha_max)[0]\n"
     ]
    },
    {
     "name": "stdout",
     "output_type": "stream",
     "text": [
      "Iteration: \t11 / 100\n",
      "Confirmed: \t3\n",
      "Tentative: \t8\n",
      "Rejected: \t14\n"
     ]
    },
    {
     "name": "stderr",
     "output_type": "stream",
     "text": [
      "/home/work/anaconda3/lib/python3.6/site-packages/boruta/boruta_py.py:418: RuntimeWarning: invalid value encountered in greater\n",
      "  hits = np.where(cur_imp[0] > imp_sha_max)[0]\n"
     ]
    },
    {
     "name": "stdout",
     "output_type": "stream",
     "text": [
      "Iteration: \t12 / 100\n",
      "Confirmed: \t9\n",
      "Tentative: \t2\n",
      "Rejected: \t14\n"
     ]
    },
    {
     "name": "stderr",
     "output_type": "stream",
     "text": [
      "/home/work/anaconda3/lib/python3.6/site-packages/boruta/boruta_py.py:418: RuntimeWarning: invalid value encountered in greater\n",
      "  hits = np.where(cur_imp[0] > imp_sha_max)[0]\n"
     ]
    },
    {
     "name": "stdout",
     "output_type": "stream",
     "text": [
      "Iteration: \t13 / 100\n",
      "Confirmed: \t9\n",
      "Tentative: \t2\n",
      "Rejected: \t14\n"
     ]
    },
    {
     "name": "stderr",
     "output_type": "stream",
     "text": [
      "/home/work/anaconda3/lib/python3.6/site-packages/boruta/boruta_py.py:418: RuntimeWarning: invalid value encountered in greater\n",
      "  hits = np.where(cur_imp[0] > imp_sha_max)[0]\n"
     ]
    },
    {
     "name": "stdout",
     "output_type": "stream",
     "text": [
      "Iteration: \t14 / 100\n",
      "Confirmed: \t9\n",
      "Tentative: \t2\n",
      "Rejected: \t14\n"
     ]
    },
    {
     "name": "stderr",
     "output_type": "stream",
     "text": [
      "/home/work/anaconda3/lib/python3.6/site-packages/boruta/boruta_py.py:418: RuntimeWarning: invalid value encountered in greater\n",
      "  hits = np.where(cur_imp[0] > imp_sha_max)[0]\n"
     ]
    },
    {
     "name": "stdout",
     "output_type": "stream",
     "text": [
      "Iteration: \t15 / 100\n",
      "Confirmed: \t9\n",
      "Tentative: \t2\n",
      "Rejected: \t14\n"
     ]
    },
    {
     "name": "stderr",
     "output_type": "stream",
     "text": [
      "/home/work/anaconda3/lib/python3.6/site-packages/boruta/boruta_py.py:418: RuntimeWarning: invalid value encountered in greater\n",
      "  hits = np.where(cur_imp[0] > imp_sha_max)[0]\n"
     ]
    },
    {
     "name": "stdout",
     "output_type": "stream",
     "text": [
      "Iteration: \t16 / 100\n",
      "Confirmed: \t9\n",
      "Tentative: \t2\n",
      "Rejected: \t14\n"
     ]
    },
    {
     "name": "stderr",
     "output_type": "stream",
     "text": [
      "/home/work/anaconda3/lib/python3.6/site-packages/boruta/boruta_py.py:418: RuntimeWarning: invalid value encountered in greater\n",
      "  hits = np.where(cur_imp[0] > imp_sha_max)[0]\n"
     ]
    },
    {
     "name": "stdout",
     "output_type": "stream",
     "text": [
      "Iteration: \t17 / 100\n",
      "Confirmed: \t9\n",
      "Tentative: \t2\n",
      "Rejected: \t14\n"
     ]
    },
    {
     "name": "stderr",
     "output_type": "stream",
     "text": [
      "/home/work/anaconda3/lib/python3.6/site-packages/boruta/boruta_py.py:418: RuntimeWarning: invalid value encountered in greater\n",
      "  hits = np.where(cur_imp[0] > imp_sha_max)[0]\n"
     ]
    },
    {
     "name": "stdout",
     "output_type": "stream",
     "text": [
      "Iteration: \t18 / 100\n",
      "Confirmed: \t9\n",
      "Tentative: \t2\n",
      "Rejected: \t14\n"
     ]
    },
    {
     "name": "stderr",
     "output_type": "stream",
     "text": [
      "/home/work/anaconda3/lib/python3.6/site-packages/boruta/boruta_py.py:418: RuntimeWarning: invalid value encountered in greater\n",
      "  hits = np.where(cur_imp[0] > imp_sha_max)[0]\n"
     ]
    },
    {
     "name": "stdout",
     "output_type": "stream",
     "text": [
      "Iteration: \t19 / 100\n",
      "Confirmed: \t9\n",
      "Tentative: \t2\n",
      "Rejected: \t14\n"
     ]
    },
    {
     "name": "stderr",
     "output_type": "stream",
     "text": [
      "/home/work/anaconda3/lib/python3.6/site-packages/boruta/boruta_py.py:418: RuntimeWarning: invalid value encountered in greater\n",
      "  hits = np.where(cur_imp[0] > imp_sha_max)[0]\n"
     ]
    },
    {
     "name": "stdout",
     "output_type": "stream",
     "text": [
      "Iteration: \t20 / 100\n",
      "Confirmed: \t9\n",
      "Tentative: \t2\n",
      "Rejected: \t14\n"
     ]
    },
    {
     "name": "stderr",
     "output_type": "stream",
     "text": [
      "/home/work/anaconda3/lib/python3.6/site-packages/boruta/boruta_py.py:418: RuntimeWarning: invalid value encountered in greater\n",
      "  hits = np.where(cur_imp[0] > imp_sha_max)[0]\n"
     ]
    },
    {
     "name": "stdout",
     "output_type": "stream",
     "text": [
      "Iteration: \t21 / 100\n",
      "Confirmed: \t9\n",
      "Tentative: \t2\n",
      "Rejected: \t14\n"
     ]
    },
    {
     "name": "stderr",
     "output_type": "stream",
     "text": [
      "/home/work/anaconda3/lib/python3.6/site-packages/boruta/boruta_py.py:418: RuntimeWarning: invalid value encountered in greater\n",
      "  hits = np.where(cur_imp[0] > imp_sha_max)[0]\n"
     ]
    },
    {
     "name": "stdout",
     "output_type": "stream",
     "text": [
      "Iteration: \t22 / 100\n",
      "Confirmed: \t9\n",
      "Tentative: \t2\n",
      "Rejected: \t14\n"
     ]
    },
    {
     "name": "stderr",
     "output_type": "stream",
     "text": [
      "/home/work/anaconda3/lib/python3.6/site-packages/boruta/boruta_py.py:418: RuntimeWarning: invalid value encountered in greater\n",
      "  hits = np.where(cur_imp[0] > imp_sha_max)[0]\n"
     ]
    },
    {
     "name": "stdout",
     "output_type": "stream",
     "text": [
      "Iteration: \t23 / 100\n",
      "Confirmed: \t9\n",
      "Tentative: \t2\n",
      "Rejected: \t14\n"
     ]
    },
    {
     "name": "stderr",
     "output_type": "stream",
     "text": [
      "/home/work/anaconda3/lib/python3.6/site-packages/boruta/boruta_py.py:418: RuntimeWarning: invalid value encountered in greater\n",
      "  hits = np.where(cur_imp[0] > imp_sha_max)[0]\n"
     ]
    },
    {
     "name": "stdout",
     "output_type": "stream",
     "text": [
      "Iteration: \t24 / 100\n",
      "Confirmed: \t9\n",
      "Tentative: \t2\n",
      "Rejected: \t14\n"
     ]
    },
    {
     "name": "stderr",
     "output_type": "stream",
     "text": [
      "/home/work/anaconda3/lib/python3.6/site-packages/boruta/boruta_py.py:418: RuntimeWarning: invalid value encountered in greater\n",
      "  hits = np.where(cur_imp[0] > imp_sha_max)[0]\n"
     ]
    },
    {
     "name": "stdout",
     "output_type": "stream",
     "text": [
      "Iteration: \t25 / 100\n",
      "Confirmed: \t9\n",
      "Tentative: \t2\n",
      "Rejected: \t14\n"
     ]
    },
    {
     "name": "stderr",
     "output_type": "stream",
     "text": [
      "/home/work/anaconda3/lib/python3.6/site-packages/boruta/boruta_py.py:418: RuntimeWarning: invalid value encountered in greater\n",
      "  hits = np.where(cur_imp[0] > imp_sha_max)[0]\n"
     ]
    },
    {
     "name": "stdout",
     "output_type": "stream",
     "text": [
      "Iteration: \t26 / 100\n",
      "Confirmed: \t9\n",
      "Tentative: \t2\n",
      "Rejected: \t14\n"
     ]
    },
    {
     "name": "stderr",
     "output_type": "stream",
     "text": [
      "/home/work/anaconda3/lib/python3.6/site-packages/boruta/boruta_py.py:418: RuntimeWarning: invalid value encountered in greater\n",
      "  hits = np.where(cur_imp[0] > imp_sha_max)[0]\n"
     ]
    },
    {
     "name": "stdout",
     "output_type": "stream",
     "text": [
      "Iteration: \t27 / 100\n",
      "Confirmed: \t9\n",
      "Tentative: \t2\n",
      "Rejected: \t14\n"
     ]
    },
    {
     "name": "stderr",
     "output_type": "stream",
     "text": [
      "/home/work/anaconda3/lib/python3.6/site-packages/boruta/boruta_py.py:418: RuntimeWarning: invalid value encountered in greater\n",
      "  hits = np.where(cur_imp[0] > imp_sha_max)[0]\n"
     ]
    },
    {
     "name": "stdout",
     "output_type": "stream",
     "text": [
      "Iteration: \t28 / 100\n",
      "Confirmed: \t9\n",
      "Tentative: \t2\n",
      "Rejected: \t14\n"
     ]
    },
    {
     "name": "stderr",
     "output_type": "stream",
     "text": [
      "/home/work/anaconda3/lib/python3.6/site-packages/boruta/boruta_py.py:418: RuntimeWarning: invalid value encountered in greater\n",
      "  hits = np.where(cur_imp[0] > imp_sha_max)[0]\n"
     ]
    },
    {
     "name": "stdout",
     "output_type": "stream",
     "text": [
      "Iteration: \t29 / 100\n",
      "Confirmed: \t9\n",
      "Tentative: \t2\n",
      "Rejected: \t14\n"
     ]
    },
    {
     "name": "stderr",
     "output_type": "stream",
     "text": [
      "/home/work/anaconda3/lib/python3.6/site-packages/boruta/boruta_py.py:418: RuntimeWarning: invalid value encountered in greater\n",
      "  hits = np.where(cur_imp[0] > imp_sha_max)[0]\n"
     ]
    },
    {
     "name": "stdout",
     "output_type": "stream",
     "text": [
      "Iteration: \t30 / 100\n",
      "Confirmed: \t9\n",
      "Tentative: \t2\n",
      "Rejected: \t14\n"
     ]
    },
    {
     "name": "stderr",
     "output_type": "stream",
     "text": [
      "/home/work/anaconda3/lib/python3.6/site-packages/boruta/boruta_py.py:418: RuntimeWarning: invalid value encountered in greater\n",
      "  hits = np.where(cur_imp[0] > imp_sha_max)[0]\n"
     ]
    },
    {
     "name": "stdout",
     "output_type": "stream",
     "text": [
      "Iteration: \t31 / 100\n",
      "Confirmed: \t9\n",
      "Tentative: \t2\n",
      "Rejected: \t14\n"
     ]
    },
    {
     "name": "stderr",
     "output_type": "stream",
     "text": [
      "/home/work/anaconda3/lib/python3.6/site-packages/boruta/boruta_py.py:418: RuntimeWarning: invalid value encountered in greater\n",
      "  hits = np.where(cur_imp[0] > imp_sha_max)[0]\n"
     ]
    },
    {
     "name": "stdout",
     "output_type": "stream",
     "text": [
      "Iteration: \t32 / 100\n",
      "Confirmed: \t9\n",
      "Tentative: \t1\n",
      "Rejected: \t15\n"
     ]
    },
    {
     "name": "stderr",
     "output_type": "stream",
     "text": [
      "/home/work/anaconda3/lib/python3.6/site-packages/boruta/boruta_py.py:418: RuntimeWarning: invalid value encountered in greater\n",
      "  hits = np.where(cur_imp[0] > imp_sha_max)[0]\n"
     ]
    },
    {
     "name": "stdout",
     "output_type": "stream",
     "text": [
      "Iteration: \t33 / 100\n",
      "Confirmed: \t9\n",
      "Tentative: \t1\n",
      "Rejected: \t15\n"
     ]
    },
    {
     "name": "stderr",
     "output_type": "stream",
     "text": [
      "/home/work/anaconda3/lib/python3.6/site-packages/boruta/boruta_py.py:418: RuntimeWarning: invalid value encountered in greater\n",
      "  hits = np.where(cur_imp[0] > imp_sha_max)[0]\n"
     ]
    },
    {
     "name": "stdout",
     "output_type": "stream",
     "text": [
      "Iteration: \t34 / 100\n",
      "Confirmed: \t9\n",
      "Tentative: \t1\n",
      "Rejected: \t15\n"
     ]
    },
    {
     "name": "stderr",
     "output_type": "stream",
     "text": [
      "/home/work/anaconda3/lib/python3.6/site-packages/boruta/boruta_py.py:418: RuntimeWarning: invalid value encountered in greater\n",
      "  hits = np.where(cur_imp[0] > imp_sha_max)[0]\n"
     ]
    },
    {
     "name": "stdout",
     "output_type": "stream",
     "text": [
      "Iteration: \t35 / 100\n",
      "Confirmed: \t9\n",
      "Tentative: \t1\n",
      "Rejected: \t15\n"
     ]
    },
    {
     "name": "stderr",
     "output_type": "stream",
     "text": [
      "/home/work/anaconda3/lib/python3.6/site-packages/boruta/boruta_py.py:418: RuntimeWarning: invalid value encountered in greater\n",
      "  hits = np.where(cur_imp[0] > imp_sha_max)[0]\n"
     ]
    },
    {
     "name": "stdout",
     "output_type": "stream",
     "text": [
      "Iteration: \t36 / 100\n",
      "Confirmed: \t9\n",
      "Tentative: \t1\n",
      "Rejected: \t15\n"
     ]
    },
    {
     "name": "stderr",
     "output_type": "stream",
     "text": [
      "/home/work/anaconda3/lib/python3.6/site-packages/boruta/boruta_py.py:418: RuntimeWarning: invalid value encountered in greater\n",
      "  hits = np.where(cur_imp[0] > imp_sha_max)[0]\n"
     ]
    },
    {
     "name": "stdout",
     "output_type": "stream",
     "text": [
      "Iteration: \t37 / 100\n",
      "Confirmed: \t9\n",
      "Tentative: \t1\n",
      "Rejected: \t15\n"
     ]
    },
    {
     "name": "stderr",
     "output_type": "stream",
     "text": [
      "/home/work/anaconda3/lib/python3.6/site-packages/boruta/boruta_py.py:418: RuntimeWarning: invalid value encountered in greater\n",
      "  hits = np.where(cur_imp[0] > imp_sha_max)[0]\n"
     ]
    },
    {
     "name": "stdout",
     "output_type": "stream",
     "text": [
      "Iteration: \t38 / 100\n",
      "Confirmed: \t9\n",
      "Tentative: \t1\n",
      "Rejected: \t15\n"
     ]
    },
    {
     "name": "stderr",
     "output_type": "stream",
     "text": [
      "/home/work/anaconda3/lib/python3.6/site-packages/boruta/boruta_py.py:418: RuntimeWarning: invalid value encountered in greater\n",
      "  hits = np.where(cur_imp[0] > imp_sha_max)[0]\n"
     ]
    },
    {
     "name": "stdout",
     "output_type": "stream",
     "text": [
      "Iteration: \t39 / 100\n",
      "Confirmed: \t9\n",
      "Tentative: \t1\n",
      "Rejected: \t15\n"
     ]
    },
    {
     "name": "stderr",
     "output_type": "stream",
     "text": [
      "/home/work/anaconda3/lib/python3.6/site-packages/boruta/boruta_py.py:418: RuntimeWarning: invalid value encountered in greater\n",
      "  hits = np.where(cur_imp[0] > imp_sha_max)[0]\n"
     ]
    },
    {
     "name": "stdout",
     "output_type": "stream",
     "text": [
      "Iteration: \t40 / 100\n",
      "Confirmed: \t9\n",
      "Tentative: \t1\n",
      "Rejected: \t15\n"
     ]
    },
    {
     "name": "stderr",
     "output_type": "stream",
     "text": [
      "/home/work/anaconda3/lib/python3.6/site-packages/boruta/boruta_py.py:418: RuntimeWarning: invalid value encountered in greater\n",
      "  hits = np.where(cur_imp[0] > imp_sha_max)[0]\n"
     ]
    },
    {
     "name": "stdout",
     "output_type": "stream",
     "text": [
      "Iteration: \t41 / 100\n",
      "Confirmed: \t9\n",
      "Tentative: \t1\n",
      "Rejected: \t15\n"
     ]
    },
    {
     "name": "stderr",
     "output_type": "stream",
     "text": [
      "/home/work/anaconda3/lib/python3.6/site-packages/boruta/boruta_py.py:418: RuntimeWarning: invalid value encountered in greater\n",
      "  hits = np.where(cur_imp[0] > imp_sha_max)[0]\n"
     ]
    },
    {
     "name": "stdout",
     "output_type": "stream",
     "text": [
      "Iteration: \t42 / 100\n",
      "Confirmed: \t9\n",
      "Tentative: \t1\n",
      "Rejected: \t15\n"
     ]
    },
    {
     "name": "stderr",
     "output_type": "stream",
     "text": [
      "/home/work/anaconda3/lib/python3.6/site-packages/boruta/boruta_py.py:418: RuntimeWarning: invalid value encountered in greater\n",
      "  hits = np.where(cur_imp[0] > imp_sha_max)[0]\n"
     ]
    },
    {
     "name": "stdout",
     "output_type": "stream",
     "text": [
      "Iteration: \t43 / 100\n",
      "Confirmed: \t9\n",
      "Tentative: \t1\n",
      "Rejected: \t15\n"
     ]
    },
    {
     "name": "stderr",
     "output_type": "stream",
     "text": [
      "/home/work/anaconda3/lib/python3.6/site-packages/boruta/boruta_py.py:418: RuntimeWarning: invalid value encountered in greater\n",
      "  hits = np.where(cur_imp[0] > imp_sha_max)[0]\n"
     ]
    },
    {
     "name": "stdout",
     "output_type": "stream",
     "text": [
      "Iteration: \t44 / 100\n",
      "Confirmed: \t9\n",
      "Tentative: \t1\n",
      "Rejected: \t15\n"
     ]
    },
    {
     "name": "stderr",
     "output_type": "stream",
     "text": [
      "/home/work/anaconda3/lib/python3.6/site-packages/boruta/boruta_py.py:418: RuntimeWarning: invalid value encountered in greater\n",
      "  hits = np.where(cur_imp[0] > imp_sha_max)[0]\n"
     ]
    },
    {
     "name": "stdout",
     "output_type": "stream",
     "text": [
      "Iteration: \t45 / 100\n",
      "Confirmed: \t9\n",
      "Tentative: \t1\n",
      "Rejected: \t15\n"
     ]
    },
    {
     "name": "stderr",
     "output_type": "stream",
     "text": [
      "/home/work/anaconda3/lib/python3.6/site-packages/boruta/boruta_py.py:418: RuntimeWarning: invalid value encountered in greater\n",
      "  hits = np.where(cur_imp[0] > imp_sha_max)[0]\n"
     ]
    },
    {
     "name": "stdout",
     "output_type": "stream",
     "text": [
      "Iteration: \t46 / 100\n",
      "Confirmed: \t9\n",
      "Tentative: \t1\n",
      "Rejected: \t15\n"
     ]
    },
    {
     "name": "stderr",
     "output_type": "stream",
     "text": [
      "/home/work/anaconda3/lib/python3.6/site-packages/boruta/boruta_py.py:418: RuntimeWarning: invalid value encountered in greater\n",
      "  hits = np.where(cur_imp[0] > imp_sha_max)[0]\n"
     ]
    },
    {
     "name": "stdout",
     "output_type": "stream",
     "text": [
      "Iteration: \t47 / 100\n",
      "Confirmed: \t9\n",
      "Tentative: \t1\n",
      "Rejected: \t15\n"
     ]
    },
    {
     "name": "stderr",
     "output_type": "stream",
     "text": [
      "/home/work/anaconda3/lib/python3.6/site-packages/boruta/boruta_py.py:418: RuntimeWarning: invalid value encountered in greater\n",
      "  hits = np.where(cur_imp[0] > imp_sha_max)[0]\n"
     ]
    },
    {
     "name": "stdout",
     "output_type": "stream",
     "text": [
      "Iteration: \t48 / 100\n",
      "Confirmed: \t9\n",
      "Tentative: \t1\n",
      "Rejected: \t15\n"
     ]
    },
    {
     "name": "stderr",
     "output_type": "stream",
     "text": [
      "/home/work/anaconda3/lib/python3.6/site-packages/boruta/boruta_py.py:418: RuntimeWarning: invalid value encountered in greater\n",
      "  hits = np.where(cur_imp[0] > imp_sha_max)[0]\n"
     ]
    },
    {
     "name": "stdout",
     "output_type": "stream",
     "text": [
      "Iteration: \t49 / 100\n",
      "Confirmed: \t9\n",
      "Tentative: \t1\n",
      "Rejected: \t15\n"
     ]
    },
    {
     "name": "stderr",
     "output_type": "stream",
     "text": [
      "/home/work/anaconda3/lib/python3.6/site-packages/boruta/boruta_py.py:418: RuntimeWarning: invalid value encountered in greater\n",
      "  hits = np.where(cur_imp[0] > imp_sha_max)[0]\n"
     ]
    },
    {
     "name": "stdout",
     "output_type": "stream",
     "text": [
      "Iteration: \t50 / 100\n",
      "Confirmed: \t9\n",
      "Tentative: \t1\n",
      "Rejected: \t15\n"
     ]
    },
    {
     "name": "stderr",
     "output_type": "stream",
     "text": [
      "/home/work/anaconda3/lib/python3.6/site-packages/boruta/boruta_py.py:418: RuntimeWarning: invalid value encountered in greater\n",
      "  hits = np.where(cur_imp[0] > imp_sha_max)[0]\n"
     ]
    },
    {
     "name": "stdout",
     "output_type": "stream",
     "text": [
      "Iteration: \t51 / 100\n",
      "Confirmed: \t9\n",
      "Tentative: \t1\n",
      "Rejected: \t15\n"
     ]
    },
    {
     "name": "stderr",
     "output_type": "stream",
     "text": [
      "/home/work/anaconda3/lib/python3.6/site-packages/boruta/boruta_py.py:418: RuntimeWarning: invalid value encountered in greater\n",
      "  hits = np.where(cur_imp[0] > imp_sha_max)[0]\n"
     ]
    },
    {
     "name": "stdout",
     "output_type": "stream",
     "text": [
      "Iteration: \t52 / 100\n",
      "Confirmed: \t9\n",
      "Tentative: \t1\n",
      "Rejected: \t15\n"
     ]
    },
    {
     "name": "stderr",
     "output_type": "stream",
     "text": [
      "/home/work/anaconda3/lib/python3.6/site-packages/boruta/boruta_py.py:418: RuntimeWarning: invalid value encountered in greater\n",
      "  hits = np.where(cur_imp[0] > imp_sha_max)[0]\n"
     ]
    },
    {
     "name": "stdout",
     "output_type": "stream",
     "text": [
      "Iteration: \t53 / 100\n",
      "Confirmed: \t9\n",
      "Tentative: \t1\n",
      "Rejected: \t15\n"
     ]
    },
    {
     "name": "stderr",
     "output_type": "stream",
     "text": [
      "/home/work/anaconda3/lib/python3.6/site-packages/boruta/boruta_py.py:418: RuntimeWarning: invalid value encountered in greater\n",
      "  hits = np.where(cur_imp[0] > imp_sha_max)[0]\n"
     ]
    },
    {
     "name": "stdout",
     "output_type": "stream",
     "text": [
      "Iteration: \t54 / 100\n",
      "Confirmed: \t9\n",
      "Tentative: \t1\n",
      "Rejected: \t15\n"
     ]
    },
    {
     "name": "stderr",
     "output_type": "stream",
     "text": [
      "/home/work/anaconda3/lib/python3.6/site-packages/boruta/boruta_py.py:418: RuntimeWarning: invalid value encountered in greater\n",
      "  hits = np.where(cur_imp[0] > imp_sha_max)[0]\n"
     ]
    },
    {
     "name": "stdout",
     "output_type": "stream",
     "text": [
      "Iteration: \t55 / 100\n",
      "Confirmed: \t9\n",
      "Tentative: \t1\n",
      "Rejected: \t15\n"
     ]
    },
    {
     "name": "stderr",
     "output_type": "stream",
     "text": [
      "/home/work/anaconda3/lib/python3.6/site-packages/boruta/boruta_py.py:418: RuntimeWarning: invalid value encountered in greater\n",
      "  hits = np.where(cur_imp[0] > imp_sha_max)[0]\n"
     ]
    },
    {
     "name": "stdout",
     "output_type": "stream",
     "text": [
      "Iteration: \t56 / 100\n",
      "Confirmed: \t9\n",
      "Tentative: \t1\n",
      "Rejected: \t15\n"
     ]
    },
    {
     "name": "stderr",
     "output_type": "stream",
     "text": [
      "/home/work/anaconda3/lib/python3.6/site-packages/boruta/boruta_py.py:418: RuntimeWarning: invalid value encountered in greater\n",
      "  hits = np.where(cur_imp[0] > imp_sha_max)[0]\n"
     ]
    },
    {
     "name": "stdout",
     "output_type": "stream",
     "text": [
      "Iteration: \t57 / 100\n",
      "Confirmed: \t9\n",
      "Tentative: \t1\n",
      "Rejected: \t15\n"
     ]
    },
    {
     "name": "stderr",
     "output_type": "stream",
     "text": [
      "/home/work/anaconda3/lib/python3.6/site-packages/boruta/boruta_py.py:418: RuntimeWarning: invalid value encountered in greater\n",
      "  hits = np.where(cur_imp[0] > imp_sha_max)[0]\n"
     ]
    },
    {
     "name": "stdout",
     "output_type": "stream",
     "text": [
      "Iteration: \t58 / 100\n",
      "Confirmed: \t9\n",
      "Tentative: \t1\n",
      "Rejected: \t15\n"
     ]
    },
    {
     "name": "stderr",
     "output_type": "stream",
     "text": [
      "/home/work/anaconda3/lib/python3.6/site-packages/boruta/boruta_py.py:418: RuntimeWarning: invalid value encountered in greater\n",
      "  hits = np.where(cur_imp[0] > imp_sha_max)[0]\n"
     ]
    },
    {
     "name": "stdout",
     "output_type": "stream",
     "text": [
      "Iteration: \t59 / 100\n",
      "Confirmed: \t9\n",
      "Tentative: \t1\n",
      "Rejected: \t15\n"
     ]
    },
    {
     "name": "stderr",
     "output_type": "stream",
     "text": [
      "/home/work/anaconda3/lib/python3.6/site-packages/boruta/boruta_py.py:418: RuntimeWarning: invalid value encountered in greater\n",
      "  hits = np.where(cur_imp[0] > imp_sha_max)[0]\n"
     ]
    },
    {
     "name": "stdout",
     "output_type": "stream",
     "text": [
      "Iteration: \t60 / 100\n",
      "Confirmed: \t9\n",
      "Tentative: \t1\n",
      "Rejected: \t15\n"
     ]
    },
    {
     "name": "stderr",
     "output_type": "stream",
     "text": [
      "/home/work/anaconda3/lib/python3.6/site-packages/boruta/boruta_py.py:418: RuntimeWarning: invalid value encountered in greater\n",
      "  hits = np.where(cur_imp[0] > imp_sha_max)[0]\n"
     ]
    },
    {
     "name": "stdout",
     "output_type": "stream",
     "text": [
      "Iteration: \t61 / 100\n",
      "Confirmed: \t9\n",
      "Tentative: \t1\n",
      "Rejected: \t15\n"
     ]
    },
    {
     "name": "stderr",
     "output_type": "stream",
     "text": [
      "/home/work/anaconda3/lib/python3.6/site-packages/boruta/boruta_py.py:418: RuntimeWarning: invalid value encountered in greater\n",
      "  hits = np.where(cur_imp[0] > imp_sha_max)[0]\n"
     ]
    },
    {
     "name": "stdout",
     "output_type": "stream",
     "text": [
      "Iteration: \t62 / 100\n",
      "Confirmed: \t9\n",
      "Tentative: \t1\n",
      "Rejected: \t15\n"
     ]
    },
    {
     "name": "stderr",
     "output_type": "stream",
     "text": [
      "/home/work/anaconda3/lib/python3.6/site-packages/boruta/boruta_py.py:418: RuntimeWarning: invalid value encountered in greater\n",
      "  hits = np.where(cur_imp[0] > imp_sha_max)[0]\n"
     ]
    },
    {
     "name": "stdout",
     "output_type": "stream",
     "text": [
      "Iteration: \t63 / 100\n",
      "Confirmed: \t9\n",
      "Tentative: \t1\n",
      "Rejected: \t15\n"
     ]
    },
    {
     "name": "stderr",
     "output_type": "stream",
     "text": [
      "/home/work/anaconda3/lib/python3.6/site-packages/boruta/boruta_py.py:418: RuntimeWarning: invalid value encountered in greater\n",
      "  hits = np.where(cur_imp[0] > imp_sha_max)[0]\n"
     ]
    },
    {
     "name": "stdout",
     "output_type": "stream",
     "text": [
      "Iteration: \t64 / 100\n",
      "Confirmed: \t9\n",
      "Tentative: \t1\n",
      "Rejected: \t15\n"
     ]
    },
    {
     "name": "stderr",
     "output_type": "stream",
     "text": [
      "/home/work/anaconda3/lib/python3.6/site-packages/boruta/boruta_py.py:418: RuntimeWarning: invalid value encountered in greater\n",
      "  hits = np.where(cur_imp[0] > imp_sha_max)[0]\n"
     ]
    },
    {
     "name": "stdout",
     "output_type": "stream",
     "text": [
      "Iteration: \t65 / 100\n",
      "Confirmed: \t9\n",
      "Tentative: \t1\n",
      "Rejected: \t15\n"
     ]
    },
    {
     "name": "stderr",
     "output_type": "stream",
     "text": [
      "/home/work/anaconda3/lib/python3.6/site-packages/boruta/boruta_py.py:418: RuntimeWarning: invalid value encountered in greater\n",
      "  hits = np.where(cur_imp[0] > imp_sha_max)[0]\n"
     ]
    },
    {
     "name": "stdout",
     "output_type": "stream",
     "text": [
      "Iteration: \t66 / 100\n",
      "Confirmed: \t9\n",
      "Tentative: \t1\n",
      "Rejected: \t15\n"
     ]
    },
    {
     "name": "stderr",
     "output_type": "stream",
     "text": [
      "/home/work/anaconda3/lib/python3.6/site-packages/boruta/boruta_py.py:418: RuntimeWarning: invalid value encountered in greater\n",
      "  hits = np.where(cur_imp[0] > imp_sha_max)[0]\n"
     ]
    },
    {
     "name": "stdout",
     "output_type": "stream",
     "text": [
      "Iteration: \t67 / 100\n",
      "Confirmed: \t9\n",
      "Tentative: \t1\n",
      "Rejected: \t15\n"
     ]
    },
    {
     "name": "stderr",
     "output_type": "stream",
     "text": [
      "/home/work/anaconda3/lib/python3.6/site-packages/boruta/boruta_py.py:418: RuntimeWarning: invalid value encountered in greater\n",
      "  hits = np.where(cur_imp[0] > imp_sha_max)[0]\n"
     ]
    },
    {
     "name": "stdout",
     "output_type": "stream",
     "text": [
      "Iteration: \t68 / 100\n",
      "Confirmed: \t9\n",
      "Tentative: \t1\n",
      "Rejected: \t15\n"
     ]
    },
    {
     "name": "stderr",
     "output_type": "stream",
     "text": [
      "/home/work/anaconda3/lib/python3.6/site-packages/boruta/boruta_py.py:418: RuntimeWarning: invalid value encountered in greater\n",
      "  hits = np.where(cur_imp[0] > imp_sha_max)[0]\n"
     ]
    },
    {
     "name": "stdout",
     "output_type": "stream",
     "text": [
      "Iteration: \t69 / 100\n",
      "Confirmed: \t9\n",
      "Tentative: \t1\n",
      "Rejected: \t15\n"
     ]
    },
    {
     "name": "stderr",
     "output_type": "stream",
     "text": [
      "/home/work/anaconda3/lib/python3.6/site-packages/boruta/boruta_py.py:418: RuntimeWarning: invalid value encountered in greater\n",
      "  hits = np.where(cur_imp[0] > imp_sha_max)[0]\n"
     ]
    },
    {
     "name": "stdout",
     "output_type": "stream",
     "text": [
      "Iteration: \t70 / 100\n",
      "Confirmed: \t9\n",
      "Tentative: \t1\n",
      "Rejected: \t15\n"
     ]
    },
    {
     "name": "stderr",
     "output_type": "stream",
     "text": [
      "/home/work/anaconda3/lib/python3.6/site-packages/boruta/boruta_py.py:418: RuntimeWarning: invalid value encountered in greater\n",
      "  hits = np.where(cur_imp[0] > imp_sha_max)[0]\n"
     ]
    },
    {
     "name": "stdout",
     "output_type": "stream",
     "text": [
      "Iteration: \t71 / 100\n",
      "Confirmed: \t9\n",
      "Tentative: \t1\n",
      "Rejected: \t15\n"
     ]
    },
    {
     "name": "stderr",
     "output_type": "stream",
     "text": [
      "/home/work/anaconda3/lib/python3.6/site-packages/boruta/boruta_py.py:418: RuntimeWarning: invalid value encountered in greater\n",
      "  hits = np.where(cur_imp[0] > imp_sha_max)[0]\n"
     ]
    },
    {
     "name": "stdout",
     "output_type": "stream",
     "text": [
      "Iteration: \t72 / 100\n",
      "Confirmed: \t9\n",
      "Tentative: \t1\n",
      "Rejected: \t15\n"
     ]
    },
    {
     "name": "stderr",
     "output_type": "stream",
     "text": [
      "/home/work/anaconda3/lib/python3.6/site-packages/boruta/boruta_py.py:418: RuntimeWarning: invalid value encountered in greater\n",
      "  hits = np.where(cur_imp[0] > imp_sha_max)[0]\n"
     ]
    },
    {
     "name": "stdout",
     "output_type": "stream",
     "text": [
      "Iteration: \t73 / 100\n",
      "Confirmed: \t9\n",
      "Tentative: \t1\n",
      "Rejected: \t15\n"
     ]
    },
    {
     "name": "stderr",
     "output_type": "stream",
     "text": [
      "/home/work/anaconda3/lib/python3.6/site-packages/boruta/boruta_py.py:418: RuntimeWarning: invalid value encountered in greater\n",
      "  hits = np.where(cur_imp[0] > imp_sha_max)[0]\n"
     ]
    },
    {
     "name": "stdout",
     "output_type": "stream",
     "text": [
      "Iteration: \t74 / 100\n",
      "Confirmed: \t9\n",
      "Tentative: \t1\n",
      "Rejected: \t15\n"
     ]
    },
    {
     "name": "stderr",
     "output_type": "stream",
     "text": [
      "/home/work/anaconda3/lib/python3.6/site-packages/boruta/boruta_py.py:418: RuntimeWarning: invalid value encountered in greater\n",
      "  hits = np.where(cur_imp[0] > imp_sha_max)[0]\n"
     ]
    },
    {
     "name": "stdout",
     "output_type": "stream",
     "text": [
      "Iteration: \t75 / 100\n",
      "Confirmed: \t9\n",
      "Tentative: \t1\n",
      "Rejected: \t15\n"
     ]
    },
    {
     "name": "stderr",
     "output_type": "stream",
     "text": [
      "/home/work/anaconda3/lib/python3.6/site-packages/boruta/boruta_py.py:418: RuntimeWarning: invalid value encountered in greater\n",
      "  hits = np.where(cur_imp[0] > imp_sha_max)[0]\n"
     ]
    },
    {
     "name": "stdout",
     "output_type": "stream",
     "text": [
      "Iteration: \t76 / 100\n",
      "Confirmed: \t9\n",
      "Tentative: \t1\n",
      "Rejected: \t15\n"
     ]
    },
    {
     "name": "stderr",
     "output_type": "stream",
     "text": [
      "/home/work/anaconda3/lib/python3.6/site-packages/boruta/boruta_py.py:418: RuntimeWarning: invalid value encountered in greater\n",
      "  hits = np.where(cur_imp[0] > imp_sha_max)[0]\n"
     ]
    },
    {
     "name": "stdout",
     "output_type": "stream",
     "text": [
      "Iteration: \t77 / 100\n",
      "Confirmed: \t9\n",
      "Tentative: \t1\n",
      "Rejected: \t15\n"
     ]
    },
    {
     "name": "stderr",
     "output_type": "stream",
     "text": [
      "/home/work/anaconda3/lib/python3.6/site-packages/boruta/boruta_py.py:418: RuntimeWarning: invalid value encountered in greater\n",
      "  hits = np.where(cur_imp[0] > imp_sha_max)[0]\n"
     ]
    },
    {
     "name": "stdout",
     "output_type": "stream",
     "text": [
      "Iteration: \t78 / 100\n",
      "Confirmed: \t9\n",
      "Tentative: \t1\n",
      "Rejected: \t15\n"
     ]
    },
    {
     "name": "stderr",
     "output_type": "stream",
     "text": [
      "/home/work/anaconda3/lib/python3.6/site-packages/boruta/boruta_py.py:418: RuntimeWarning: invalid value encountered in greater\n",
      "  hits = np.where(cur_imp[0] > imp_sha_max)[0]\n"
     ]
    },
    {
     "name": "stdout",
     "output_type": "stream",
     "text": [
      "Iteration: \t79 / 100\n",
      "Confirmed: \t9\n",
      "Tentative: \t1\n",
      "Rejected: \t15\n"
     ]
    },
    {
     "name": "stderr",
     "output_type": "stream",
     "text": [
      "/home/work/anaconda3/lib/python3.6/site-packages/boruta/boruta_py.py:418: RuntimeWarning: invalid value encountered in greater\n",
      "  hits = np.where(cur_imp[0] > imp_sha_max)[0]\n"
     ]
    },
    {
     "name": "stdout",
     "output_type": "stream",
     "text": [
      "Iteration: \t80 / 100\n",
      "Confirmed: \t9\n",
      "Tentative: \t1\n",
      "Rejected: \t15\n"
     ]
    },
    {
     "name": "stderr",
     "output_type": "stream",
     "text": [
      "/home/work/anaconda3/lib/python3.6/site-packages/boruta/boruta_py.py:418: RuntimeWarning: invalid value encountered in greater\n",
      "  hits = np.where(cur_imp[0] > imp_sha_max)[0]\n"
     ]
    },
    {
     "name": "stdout",
     "output_type": "stream",
     "text": [
      "Iteration: \t81 / 100\n",
      "Confirmed: \t9\n",
      "Tentative: \t1\n",
      "Rejected: \t15\n"
     ]
    },
    {
     "name": "stderr",
     "output_type": "stream",
     "text": [
      "/home/work/anaconda3/lib/python3.6/site-packages/boruta/boruta_py.py:418: RuntimeWarning: invalid value encountered in greater\n",
      "  hits = np.where(cur_imp[0] > imp_sha_max)[0]\n"
     ]
    },
    {
     "name": "stdout",
     "output_type": "stream",
     "text": [
      "Iteration: \t82 / 100\n",
      "Confirmed: \t9\n",
      "Tentative: \t1\n",
      "Rejected: \t15\n"
     ]
    },
    {
     "name": "stderr",
     "output_type": "stream",
     "text": [
      "/home/work/anaconda3/lib/python3.6/site-packages/boruta/boruta_py.py:418: RuntimeWarning: invalid value encountered in greater\n",
      "  hits = np.where(cur_imp[0] > imp_sha_max)[0]\n"
     ]
    },
    {
     "name": "stdout",
     "output_type": "stream",
     "text": [
      "Iteration: \t83 / 100\n",
      "Confirmed: \t9\n",
      "Tentative: \t1\n",
      "Rejected: \t15\n"
     ]
    },
    {
     "name": "stderr",
     "output_type": "stream",
     "text": [
      "/home/work/anaconda3/lib/python3.6/site-packages/boruta/boruta_py.py:418: RuntimeWarning: invalid value encountered in greater\n",
      "  hits = np.where(cur_imp[0] > imp_sha_max)[0]\n"
     ]
    },
    {
     "name": "stdout",
     "output_type": "stream",
     "text": [
      "Iteration: \t84 / 100\n",
      "Confirmed: \t9\n",
      "Tentative: \t1\n",
      "Rejected: \t15\n"
     ]
    },
    {
     "name": "stderr",
     "output_type": "stream",
     "text": [
      "/home/work/anaconda3/lib/python3.6/site-packages/boruta/boruta_py.py:418: RuntimeWarning: invalid value encountered in greater\n",
      "  hits = np.where(cur_imp[0] > imp_sha_max)[0]\n"
     ]
    },
    {
     "name": "stdout",
     "output_type": "stream",
     "text": [
      "Iteration: \t85 / 100\n",
      "Confirmed: \t9\n",
      "Tentative: \t1\n",
      "Rejected: \t15\n"
     ]
    },
    {
     "name": "stderr",
     "output_type": "stream",
     "text": [
      "/home/work/anaconda3/lib/python3.6/site-packages/boruta/boruta_py.py:418: RuntimeWarning: invalid value encountered in greater\n",
      "  hits = np.where(cur_imp[0] > imp_sha_max)[0]\n"
     ]
    },
    {
     "name": "stdout",
     "output_type": "stream",
     "text": [
      "Iteration: \t86 / 100\n",
      "Confirmed: \t9\n",
      "Tentative: \t1\n",
      "Rejected: \t15\n"
     ]
    },
    {
     "name": "stderr",
     "output_type": "stream",
     "text": [
      "/home/work/anaconda3/lib/python3.6/site-packages/boruta/boruta_py.py:418: RuntimeWarning: invalid value encountered in greater\n",
      "  hits = np.where(cur_imp[0] > imp_sha_max)[0]\n"
     ]
    },
    {
     "name": "stdout",
     "output_type": "stream",
     "text": [
      "Iteration: \t87 / 100\n",
      "Confirmed: \t9\n",
      "Tentative: \t1\n",
      "Rejected: \t15\n"
     ]
    },
    {
     "name": "stderr",
     "output_type": "stream",
     "text": [
      "/home/work/anaconda3/lib/python3.6/site-packages/boruta/boruta_py.py:418: RuntimeWarning: invalid value encountered in greater\n",
      "  hits = np.where(cur_imp[0] > imp_sha_max)[0]\n"
     ]
    },
    {
     "name": "stdout",
     "output_type": "stream",
     "text": [
      "Iteration: \t88 / 100\n",
      "Confirmed: \t9\n",
      "Tentative: \t1\n",
      "Rejected: \t15\n"
     ]
    },
    {
     "name": "stderr",
     "output_type": "stream",
     "text": [
      "/home/work/anaconda3/lib/python3.6/site-packages/boruta/boruta_py.py:418: RuntimeWarning: invalid value encountered in greater\n",
      "  hits = np.where(cur_imp[0] > imp_sha_max)[0]\n"
     ]
    },
    {
     "name": "stdout",
     "output_type": "stream",
     "text": [
      "Iteration: \t89 / 100\n",
      "Confirmed: \t9\n",
      "Tentative: \t1\n",
      "Rejected: \t15\n"
     ]
    },
    {
     "name": "stderr",
     "output_type": "stream",
     "text": [
      "/home/work/anaconda3/lib/python3.6/site-packages/boruta/boruta_py.py:418: RuntimeWarning: invalid value encountered in greater\n",
      "  hits = np.where(cur_imp[0] > imp_sha_max)[0]\n"
     ]
    },
    {
     "name": "stdout",
     "output_type": "stream",
     "text": [
      "Iteration: \t90 / 100\n",
      "Confirmed: \t9\n",
      "Tentative: \t1\n",
      "Rejected: \t15\n"
     ]
    },
    {
     "name": "stderr",
     "output_type": "stream",
     "text": [
      "/home/work/anaconda3/lib/python3.6/site-packages/boruta/boruta_py.py:418: RuntimeWarning: invalid value encountered in greater\n",
      "  hits = np.where(cur_imp[0] > imp_sha_max)[0]\n"
     ]
    },
    {
     "name": "stdout",
     "output_type": "stream",
     "text": [
      "Iteration: \t91 / 100\n",
      "Confirmed: \t9\n",
      "Tentative: \t1\n",
      "Rejected: \t15\n"
     ]
    },
    {
     "name": "stderr",
     "output_type": "stream",
     "text": [
      "/home/work/anaconda3/lib/python3.6/site-packages/boruta/boruta_py.py:418: RuntimeWarning: invalid value encountered in greater\n",
      "  hits = np.where(cur_imp[0] > imp_sha_max)[0]\n"
     ]
    },
    {
     "name": "stdout",
     "output_type": "stream",
     "text": [
      "Iteration: \t92 / 100\n",
      "Confirmed: \t9\n",
      "Tentative: \t1\n",
      "Rejected: \t15\n"
     ]
    },
    {
     "name": "stderr",
     "output_type": "stream",
     "text": [
      "/home/work/anaconda3/lib/python3.6/site-packages/boruta/boruta_py.py:418: RuntimeWarning: invalid value encountered in greater\n",
      "  hits = np.where(cur_imp[0] > imp_sha_max)[0]\n"
     ]
    },
    {
     "name": "stdout",
     "output_type": "stream",
     "text": [
      "Iteration: \t93 / 100\n",
      "Confirmed: \t9\n",
      "Tentative: \t1\n",
      "Rejected: \t15\n"
     ]
    },
    {
     "name": "stderr",
     "output_type": "stream",
     "text": [
      "/home/work/anaconda3/lib/python3.6/site-packages/boruta/boruta_py.py:418: RuntimeWarning: invalid value encountered in greater\n",
      "  hits = np.where(cur_imp[0] > imp_sha_max)[0]\n"
     ]
    },
    {
     "name": "stdout",
     "output_type": "stream",
     "text": [
      "Iteration: \t94 / 100\n",
      "Confirmed: \t9\n",
      "Tentative: \t1\n",
      "Rejected: \t15\n"
     ]
    },
    {
     "name": "stderr",
     "output_type": "stream",
     "text": [
      "/home/work/anaconda3/lib/python3.6/site-packages/boruta/boruta_py.py:418: RuntimeWarning: invalid value encountered in greater\n",
      "  hits = np.where(cur_imp[0] > imp_sha_max)[0]\n"
     ]
    },
    {
     "name": "stdout",
     "output_type": "stream",
     "text": [
      "Iteration: \t95 / 100\n",
      "Confirmed: \t9\n",
      "Tentative: \t1\n",
      "Rejected: \t15\n"
     ]
    },
    {
     "name": "stderr",
     "output_type": "stream",
     "text": [
      "/home/work/anaconda3/lib/python3.6/site-packages/boruta/boruta_py.py:418: RuntimeWarning: invalid value encountered in greater\n",
      "  hits = np.where(cur_imp[0] > imp_sha_max)[0]\n"
     ]
    },
    {
     "name": "stdout",
     "output_type": "stream",
     "text": [
      "Iteration: \t96 / 100\n",
      "Confirmed: \t9\n",
      "Tentative: \t1\n",
      "Rejected: \t15\n"
     ]
    },
    {
     "name": "stderr",
     "output_type": "stream",
     "text": [
      "/home/work/anaconda3/lib/python3.6/site-packages/boruta/boruta_py.py:418: RuntimeWarning: invalid value encountered in greater\n",
      "  hits = np.where(cur_imp[0] > imp_sha_max)[0]\n"
     ]
    },
    {
     "name": "stdout",
     "output_type": "stream",
     "text": [
      "Iteration: \t97 / 100\n",
      "Confirmed: \t9\n",
      "Tentative: \t1\n",
      "Rejected: \t15\n"
     ]
    },
    {
     "name": "stderr",
     "output_type": "stream",
     "text": [
      "/home/work/anaconda3/lib/python3.6/site-packages/boruta/boruta_py.py:418: RuntimeWarning: invalid value encountered in greater\n",
      "  hits = np.where(cur_imp[0] > imp_sha_max)[0]\n"
     ]
    },
    {
     "name": "stdout",
     "output_type": "stream",
     "text": [
      "Iteration: \t98 / 100\n",
      "Confirmed: \t9\n",
      "Tentative: \t1\n",
      "Rejected: \t15\n",
      "Iteration: \t99 / 100\n",
      "Confirmed: \t9\n",
      "Tentative: \t1\n",
      "Rejected: \t15\n",
      "\n",
      "\n",
      "BorutaPy finished running.\n",
      "\n",
      "Iteration: \t100 / 100\n",
      "Confirmed: \t9\n",
      "Tentative: \t1\n",
      "Rejected: \t15\n"
     ]
    },
    {
     "name": "stderr",
     "output_type": "stream",
     "text": [
      "/home/work/anaconda3/lib/python3.6/site-packages/boruta/boruta_py.py:418: RuntimeWarning: invalid value encountered in greater\n",
      "  hits = np.where(cur_imp[0] > imp_sha_max)[0]\n"
     ]
    },
    {
     "data": {
      "text/plain": [
       "BorutaPy(alpha=0.05,\n",
       "     estimator=RandomForestClassifier(bootstrap=True, class_weight='balanced',\n",
       "            criterion='gini', max_depth=5, max_features='auto',\n",
       "            max_leaf_nodes=None, min_impurity_decrease=0.0,\n",
       "            min_impurity_split=None, min_samples_leaf=1,\n",
       "            min_samples_split=2, min_weight_fraction_leaf=0.0,\n",
       "            n_estimators=89, n_jobs=-1, oob_score=False,\n",
       "            random_state=<mtrand.RandomState object at 0x7f89450ca318>,\n",
       "            verbose=0, warm_start=False),\n",
       "     max_iter=100, n_estimators='auto', perc=100,\n",
       "     random_state=<mtrand.RandomState object at 0x7f89450ca318>,\n",
       "     two_step=True, verbose=2)"
      ]
     },
     "execution_count": 315,
     "metadata": {},
     "output_type": "execute_result"
    }
   ],
   "source": [
    "# Using the boprutaPy package\n",
    "\n",
    "from boruta import BorutaPy\n",
    "\n",
    "rf = RF(n_jobs=-1, class_weight='balanced', max_depth=5)\n",
    "feat_selector = BorutaPy(rf, n_estimators='auto', verbose=2, random_state=1)\n",
    "feat_selector.fit(X, y)\n"
   ]
  },
  {
   "cell_type": "code",
   "execution_count": 316,
   "metadata": {},
   "outputs": [
    {
     "name": "stdout",
     "output_type": "stream",
     "text": [
      "Index(['add_user_0', 'add_user_1', 'attempt_0', 'attempt_1', 'create_group_0',\n",
      "       'create_group_1', 'view_assig_prog_1', 'start_year', 'start_month_6'],\n",
      "      dtype='object')\n",
      "                  name  rank\n",
      "12          start_year     1\n",
      "4           add_user_0     1\n",
      "5           add_user_1     1\n",
      "6            attempt_0     1\n",
      "7            attempt_1     1\n",
      "8       create_group_0     1\n",
      "9       create_group_1     1\n",
      "11   view_assig_prog_1     1\n",
      "21       start_month_6     1\n",
      "2   add_custom_assig_0     2\n",
      "3   add_custom_assig_1     3\n",
      "10   view_assig_prog_0     4\n",
      "18       start_month_3     5\n",
      "1          add_assig_1     6\n",
      "17       start_month_2     6\n",
      "0          add_assig_0     8\n",
      "24       start_month_9     8\n",
      "22       start_month_7    10\n",
      "13       start_month_1    11\n",
      "16      start_month_12    12\n",
      "14      start_month_10    12\n",
      "15      start_month_11    14\n",
      "20       start_month_5    15\n",
      "23       start_month_8    16\n",
      "19       start_month_4    17\n"
     ]
    }
   ],
   "source": [
    "# Print the columns that were found to be important\n",
    "print(df_lm_new.columns[feat_selector.support_])\n",
    "\n",
    "# Get the rank\n",
    "print(pd.DataFrame({'name':df_lm_new.columns,'rank':feat_selector.ranking_}).sort_values('rank'))\n",
    "\n",
    "# Transform X\n",
    "X_filtered = feat_selector.transform(X)\n"
   ]
  },
  {
   "cell_type": "code",
   "execution_count": 317,
   "metadata": {},
   "outputs": [
    {
     "name": "stdout",
     "output_type": "stream",
     "text": [
      "             precision    recall  f1-score   support\n",
      "\n",
      "          0       0.94      0.90      0.92       320\n",
      "          1       0.45      0.58      0.51        43\n",
      "\n",
      "avg / total       0.88      0.87      0.87       363\n",
      "\n"
     ]
    },
    {
     "data": {
      "image/png": "[encoded data removed]",
      "text/plain": [
       "<matplotlib.figure.Figure at 0x7f89450ae6a0>"
      ]
     },
     "metadata": {},
     "output_type": "display_data"
    }
   ],
   "source": [
    "# Let's train and evaluate the model\n",
    "\n",
    "# Assign\n",
    "X = X_filtered\n",
    "\n",
    "# Scale the data\n",
    "scaler = StandardScaler()\n",
    "X_trf = scaler.fit_transform(X_filtered)\n",
    "X = X_trf\n",
    "\n",
    "# Split into train and test sets\n",
    "X_train, X_test, y_train, y_test = train_test_split(X, y,test_size = 0.3, random_state=42)\n",
    "\n",
    "# Classifier\n",
    "clf = RF(n_estimators=100,random_state=42)\n",
    "clf.fit(X_train,y_train)\n",
    "\n",
    "# Predict\n",
    "y_pred = clf.predict(X_test)\n",
    "y_score = clf.predict_proba(X_test)\n",
    "\n",
    "# Evaluate\n",
    "plt.hist(y_pred)\n",
    "plt.hist(y_test,alpha= 0.4)\n",
    "\n",
    "print(classification_report(y_pred,y_test))\n"
   ]
  },
  {
   "cell_type": "code",
   "execution_count": 318,
   "metadata": {},
   "outputs": [
    {
     "data": {
      "text/plain": [
       "0.58779645764468746"
      ]
     },
     "execution_count": 318,
     "metadata": {},
     "output_type": "execute_result"
    },
    {
     "data": {
      "image/png": "[encoded data removed]",
      "text/plain": [
       "<matplotlib.figure.Figure at 0x7f89450ae048>"
      ]
     },
     "metadata": {},
     "output_type": "display_data"
    }
   ],
   "source": [
    "precision, recall, _ = precision_recall_curve(y_test,y_score[:,1])\n",
    "\n",
    "\n",
    "plt.step(recall, precision, color='b', alpha=0.2,\n",
    "         where='post')\n",
    "plt.fill_between(recall, precision, step='post', alpha=0.2,\n",
    "                 color='b')\n",
    "\n",
    "plt.xlabel('Recall')\n",
    "plt.ylabel('Precision')\n",
    "plt.ylim([0.0, 1.05])\n",
    "plt.xlim([0.0, 1.0])\n",
    "\n",
    "average_precision_score(y_test,y_score[:,1])\n"
   ]
  },
  {
   "cell_type": "markdown",
   "metadata": {},
   "source": [
    "## Additional features\n",
    "\n",
    "Here we import a dataframe that has more features for each user."
   ]
  },
  {
   "cell_type": "code",
   "execution_count": 13,
   "metadata": {},
   "outputs": [
    {
     "data": {
      "text/html": [
       "<div>\n",
       "<style>\n",
       "    .dataframe thead tr:only-child th {\n",
       "        text-align: right;\n",
       "    }\n",
       "\n",
       "    .dataframe thead th {\n",
       "        text-align: left;\n",
       "    }\n",
       "\n",
       "    .dataframe tbody tr th {\n",
       "        vertical-align: top;\n",
       "    }\n",
       "</style>\n",
       "<table border=\"1\" class=\"dataframe\">\n",
       "  <thead>\n",
       "    <tr style=\"text-align: right;\">\n",
       "      <th></th>\n",
       "      <th>index</th>\n",
       "      <th>event_leg</th>\n",
       "      <th>add_assig</th>\n",
       "      <th>add_custom_assig</th>\n",
       "      <th>add_user</th>\n",
       "      <th>create_group</th>\n",
       "      <th>play_video</th>\n",
       "      <th>q_lvl_0</th>\n",
       "      <th>q_lvl_0_cor</th>\n",
       "      <th>q_lvl_1</th>\n",
       "      <th>...</th>\n",
       "      <th>q_lvl_3_cor</th>\n",
       "      <th>q_lvl_4</th>\n",
       "      <th>q_lvl_4_cor</th>\n",
       "      <th>q_lvl_5</th>\n",
       "      <th>q_lvl_5_cor</th>\n",
       "      <th>q_lvl_6</th>\n",
       "      <th>q_lvl_6_cor</th>\n",
       "      <th>view_assig_prog</th>\n",
       "      <th>view_concept</th>\n",
       "      <th>view_hint</th>\n",
       "    </tr>\n",
       "  </thead>\n",
       "  <tbody>\n",
       "    <tr>\n",
       "      <th>0</th>\n",
       "      <td>00026a46eefde681a60b50bd7c2368c3091d035b2f5658...</td>\n",
       "      <td>0.0</td>\n",
       "      <td>0.0</td>\n",
       "      <td>0.0</td>\n",
       "      <td>0.0</td>\n",
       "      <td>0.0</td>\n",
       "      <td>0.0</td>\n",
       "      <td>0.0</td>\n",
       "      <td>0.0</td>\n",
       "      <td>0.0</td>\n",
       "      <td>...</td>\n",
       "      <td>1.0</td>\n",
       "      <td>3.0</td>\n",
       "      <td>3.0</td>\n",
       "      <td>0.0</td>\n",
       "      <td>0.0</td>\n",
       "      <td>0.0</td>\n",
       "      <td>0.0</td>\n",
       "      <td>0.0</td>\n",
       "      <td>1.0</td>\n",
       "      <td>6.0</td>\n",
       "    </tr>\n",
       "    <tr>\n",
       "      <th>1</th>\n",
       "      <td>0018d184ff3b1f2336ebeac5646d13ca84de10d034adc5...</td>\n",
       "      <td>0.0</td>\n",
       "      <td>0.0</td>\n",
       "      <td>0.0</td>\n",
       "      <td>0.0</td>\n",
       "      <td>0.0</td>\n",
       "      <td>0.0</td>\n",
       "      <td>0.0</td>\n",
       "      <td>0.0</td>\n",
       "      <td>2.0</td>\n",
       "      <td>...</td>\n",
       "      <td>0.0</td>\n",
       "      <td>0.0</td>\n",
       "      <td>0.0</td>\n",
       "      <td>0.0</td>\n",
       "      <td>0.0</td>\n",
       "      <td>0.0</td>\n",
       "      <td>0.0</td>\n",
       "      <td>0.0</td>\n",
       "      <td>0.0</td>\n",
       "      <td>8.0</td>\n",
       "    </tr>\n",
       "    <tr>\n",
       "      <th>2</th>\n",
       "      <td>001c6813b7449d381899502fb8f1bbbb9239a2b3d8b726...</td>\n",
       "      <td>0.0</td>\n",
       "      <td>0.0</td>\n",
       "      <td>0.0</td>\n",
       "      <td>0.0</td>\n",
       "      <td>0.0</td>\n",
       "      <td>8.0</td>\n",
       "      <td>0.0</td>\n",
       "      <td>0.0</td>\n",
       "      <td>0.0</td>\n",
       "      <td>...</td>\n",
       "      <td>0.0</td>\n",
       "      <td>4.0</td>\n",
       "      <td>1.0</td>\n",
       "      <td>0.0</td>\n",
       "      <td>0.0</td>\n",
       "      <td>0.0</td>\n",
       "      <td>0.0</td>\n",
       "      <td>0.0</td>\n",
       "      <td>10.0</td>\n",
       "      <td>17.0</td>\n",
       "    </tr>\n",
       "    <tr>\n",
       "      <th>3</th>\n",
       "      <td>001c6813b7449d381899502fb8f1bbbb9239a2b3d8b726...</td>\n",
       "      <td>1.0</td>\n",
       "      <td>0.0</td>\n",
       "      <td>0.0</td>\n",
       "      <td>0.0</td>\n",
       "      <td>0.0</td>\n",
       "      <td>1.0</td>\n",
       "      <td>0.0</td>\n",
       "      <td>0.0</td>\n",
       "      <td>4.0</td>\n",
       "      <td>...</td>\n",
       "      <td>0.0</td>\n",
       "      <td>0.0</td>\n",
       "      <td>0.0</td>\n",
       "      <td>0.0</td>\n",
       "      <td>0.0</td>\n",
       "      <td>0.0</td>\n",
       "      <td>0.0</td>\n",
       "      <td>0.0</td>\n",
       "      <td>1.0</td>\n",
       "      <td>12.0</td>\n",
       "    </tr>\n",
       "    <tr>\n",
       "      <th>4</th>\n",
       "      <td>001c6813b7449d381899502fb8f1bbbb9239a2b3d8b726...</td>\n",
       "      <td>4.0</td>\n",
       "      <td>0.0</td>\n",
       "      <td>0.0</td>\n",
       "      <td>0.0</td>\n",
       "      <td>0.0</td>\n",
       "      <td>4.0</td>\n",
       "      <td>4.0</td>\n",
       "      <td>12.0</td>\n",
       "      <td>0.0</td>\n",
       "      <td>...</td>\n",
       "      <td>0.0</td>\n",
       "      <td>0.0</td>\n",
       "      <td>0.0</td>\n",
       "      <td>0.0</td>\n",
       "      <td>0.0</td>\n",
       "      <td>0.0</td>\n",
       "      <td>0.0</td>\n",
       "      <td>0.0</td>\n",
       "      <td>0.0</td>\n",
       "      <td>0.0</td>\n",
       "    </tr>\n",
       "  </tbody>\n",
       "</table>\n",
       "<p>5 rows × 24 columns</p>\n",
       "</div>"
      ],
      "text/plain": [
       "                                               index  event_leg  add_assig  \\\n",
       "0  00026a46eefde681a60b50bd7c2368c3091d035b2f5658...        0.0        0.0   \n",
       "1  0018d184ff3b1f2336ebeac5646d13ca84de10d034adc5...        0.0        0.0   \n",
       "2  001c6813b7449d381899502fb8f1bbbb9239a2b3d8b726...        0.0        0.0   \n",
       "3  001c6813b7449d381899502fb8f1bbbb9239a2b3d8b726...        1.0        0.0   \n",
       "4  001c6813b7449d381899502fb8f1bbbb9239a2b3d8b726...        4.0        0.0   \n",
       "\n",
       "   add_custom_assig  add_user  create_group  play_video  q_lvl_0  q_lvl_0_cor  \\\n",
       "0               0.0       0.0           0.0         0.0      0.0          0.0   \n",
       "1               0.0       0.0           0.0         0.0      0.0          0.0   \n",
       "2               0.0       0.0           0.0         8.0      0.0          0.0   \n",
       "3               0.0       0.0           0.0         1.0      0.0          0.0   \n",
       "4               0.0       0.0           0.0         4.0      4.0         12.0   \n",
       "\n",
       "   q_lvl_1    ...      q_lvl_3_cor  q_lvl_4  q_lvl_4_cor  q_lvl_5  \\\n",
       "0      0.0    ...              1.0      3.0          3.0      0.0   \n",
       "1      2.0    ...              0.0      0.0          0.0      0.0   \n",
       "2      0.0    ...              0.0      4.0          1.0      0.0   \n",
       "3      4.0    ...              0.0      0.0          0.0      0.0   \n",
       "4      0.0    ...              0.0      0.0          0.0      0.0   \n",
       "\n",
       "   q_lvl_5_cor  q_lvl_6  q_lvl_6_cor  view_assig_prog  view_concept  view_hint  \n",
       "0          0.0      0.0          0.0              0.0           1.0        6.0  \n",
       "1          0.0      0.0          0.0              0.0           0.0        8.0  \n",
       "2          0.0      0.0          0.0              0.0          10.0       17.0  \n",
       "3          0.0      0.0          0.0              0.0           1.0       12.0  \n",
       "4          0.0      0.0          0.0              0.0           0.0        0.0  \n",
       "\n",
       "[5 rows x 24 columns]"
      ]
     },
     "execution_count": 13,
     "metadata": {},
     "output_type": "execute_result"
    }
   ],
   "source": [
    "source_user = '/home/work/GitHub/data/user_info.csv'\n",
    "\n",
    "df = pd.read_csv('/home/work/GitHub/data/teacher_churn/edit_teacher_timeseries.csv')\n",
    "\n",
    "df.head()"
   ]
  },
  {
   "cell_type": "code",
   "execution_count": 14,
   "metadata": {},
   "outputs": [
    {
     "data": {
      "text/html": [
       "<div>\n",
       "<style>\n",
       "    .dataframe thead tr:only-child th {\n",
       "        text-align: right;\n",
       "    }\n",
       "\n",
       "    .dataframe thead th {\n",
       "        text-align: left;\n",
       "    }\n",
       "\n",
       "    .dataframe tbody tr th {\n",
       "        vertical-align: top;\n",
       "    }\n",
       "</style>\n",
       "<table border=\"1\" class=\"dataframe\">\n",
       "  <thead>\n",
       "    <tr style=\"text-align: right;\">\n",
       "      <th></th>\n",
       "      <th>start_month</th>\n",
       "      <th>start_year</th>\n",
       "    </tr>\n",
       "    <tr>\n",
       "      <th>id</th>\n",
       "      <th></th>\n",
       "      <th></th>\n",
       "    </tr>\n",
       "  </thead>\n",
       "  <tbody>\n",
       "    <tr>\n",
       "      <th>d94c077ad88fc2b7a1204ba16c30f93961d86ededecbb47bef25063cb4835c12</th>\n",
       "      <td>11</td>\n",
       "      <td>2015</td>\n",
       "    </tr>\n",
       "    <tr>\n",
       "      <th>1ef02c359b5b66b584da8d46d1f790f509eeb55b80a908b6d3c3ad4c758b216b</th>\n",
       "      <td>10</td>\n",
       "      <td>2015</td>\n",
       "    </tr>\n",
       "    <tr>\n",
       "      <th>eed0d25033826f9786fc61daef41f9f6c0046248254e3c348a08bcb83b11ffb1</th>\n",
       "      <td>12</td>\n",
       "      <td>2015</td>\n",
       "    </tr>\n",
       "    <tr>\n",
       "      <th>5937dd6ec7778da3dc7cc63303439bcc6a622da83fdf4afdadfd6586c31af1e7</th>\n",
       "      <td>11</td>\n",
       "      <td>2015</td>\n",
       "    </tr>\n",
       "    <tr>\n",
       "      <th>68a983c9bfca031c77b2159cf651a624a893a02cc79bdd0624effddc2d3ff699</th>\n",
       "      <td>4</td>\n",
       "      <td>2015</td>\n",
       "    </tr>\n",
       "  </tbody>\n",
       "</table>\n",
       "</div>"
      ],
      "text/plain": [
       "                                                   start_month  start_year\n",
       "id                                                                        \n",
       "d94c077ad88fc2b7a1204ba16c30f93961d86ededecbb47...          11        2015\n",
       "1ef02c359b5b66b584da8d46d1f790f509eeb55b80a908b...          10        2015\n",
       "eed0d25033826f9786fc61daef41f9f6c0046248254e3c3...          12        2015\n",
       "5937dd6ec7778da3dc7cc63303439bcc6a622da83fdf4af...          11        2015\n",
       "68a983c9bfca031c77b2159cf651a624a893a02cc79bdd0...           4        2015"
      ]
     },
     "execution_count": 14,
     "metadata": {},
     "output_type": "execute_result"
    }
   ],
   "source": [
    "# Grabbing the registration date of each user\n",
    "\n",
    "df_user = pd.read_csv(source_user)\n",
    "\n",
    "df_user = df_user.set_index('id')\n",
    "df_user['registration_date'] = pd.to_datetime(df_user['registration_date'])\n",
    "df_user['start_month'] = df_user['registration_date'].apply(lambda x:str(x.month))\n",
    "df_user['start_year'] = df_user['registration_date'].apply(lambda x:x.year)\n",
    "\n",
    "df_user = df_user[['start_month','start_year']]\n",
    "df_user.head()"
   ]
  },
  {
   "cell_type": "code",
   "execution_count": 28,
   "metadata": {},
   "outputs": [
    {
     "data": {
      "text/html": [
       "<div>\n",
       "<style>\n",
       "    .dataframe thead tr:only-child th {\n",
       "        text-align: right;\n",
       "    }\n",
       "\n",
       "    .dataframe thead th {\n",
       "        text-align: left;\n",
       "    }\n",
       "\n",
       "    .dataframe tbody tr th {\n",
       "        vertical-align: top;\n",
       "    }\n",
       "</style>\n",
       "<table border=\"1\" class=\"dataframe\">\n",
       "  <thead>\n",
       "    <tr style=\"text-align: right;\">\n",
       "      <th></th>\n",
       "      <th></th>\n",
       "      <th>add_assig</th>\n",
       "      <th>add_custom_assig</th>\n",
       "      <th>add_user</th>\n",
       "      <th>create_group</th>\n",
       "      <th>play_video</th>\n",
       "      <th>q_lvl_0</th>\n",
       "      <th>q_lvl_0_cor</th>\n",
       "      <th>q_lvl_1</th>\n",
       "      <th>q_lvl_1_cor</th>\n",
       "      <th>q_lvl_2</th>\n",
       "      <th>...</th>\n",
       "      <th>q_lvl_3_cor</th>\n",
       "      <th>q_lvl_4</th>\n",
       "      <th>q_lvl_4_cor</th>\n",
       "      <th>q_lvl_5</th>\n",
       "      <th>q_lvl_5_cor</th>\n",
       "      <th>q_lvl_6</th>\n",
       "      <th>q_lvl_6_cor</th>\n",
       "      <th>view_assig_prog</th>\n",
       "      <th>view_concept</th>\n",
       "      <th>view_hint</th>\n",
       "    </tr>\n",
       "    <tr>\n",
       "      <th>index</th>\n",
       "      <th>event_leg</th>\n",
       "      <th></th>\n",
       "      <th></th>\n",
       "      <th></th>\n",
       "      <th></th>\n",
       "      <th></th>\n",
       "      <th></th>\n",
       "      <th></th>\n",
       "      <th></th>\n",
       "      <th></th>\n",
       "      <th></th>\n",
       "      <th></th>\n",
       "      <th></th>\n",
       "      <th></th>\n",
       "      <th></th>\n",
       "      <th></th>\n",
       "      <th></th>\n",
       "      <th></th>\n",
       "      <th></th>\n",
       "      <th></th>\n",
       "      <th></th>\n",
       "      <th></th>\n",
       "    </tr>\n",
       "  </thead>\n",
       "  <tbody>\n",
       "    <tr>\n",
       "      <th>00026a46eefde681a60b50bd7c2368c3091d035b2f565824640272c89eb6916a</th>\n",
       "      <th>0.0</th>\n",
       "      <td>0.0</td>\n",
       "      <td>0.0</td>\n",
       "      <td>0.0</td>\n",
       "      <td>0.0</td>\n",
       "      <td>0.0</td>\n",
       "      <td>0.0</td>\n",
       "      <td>0.0</td>\n",
       "      <td>0.0</td>\n",
       "      <td>0.0</td>\n",
       "      <td>0.0</td>\n",
       "      <td>...</td>\n",
       "      <td>1.0</td>\n",
       "      <td>3.0</td>\n",
       "      <td>3.0</td>\n",
       "      <td>0.0</td>\n",
       "      <td>0.0</td>\n",
       "      <td>0.0</td>\n",
       "      <td>0.0</td>\n",
       "      <td>0.0</td>\n",
       "      <td>1.0</td>\n",
       "      <td>6.0</td>\n",
       "    </tr>\n",
       "    <tr>\n",
       "      <th>0018d184ff3b1f2336ebeac5646d13ca84de10d034adc5d1663a47a8a9f1937f</th>\n",
       "      <th>0.0</th>\n",
       "      <td>0.0</td>\n",
       "      <td>0.0</td>\n",
       "      <td>0.0</td>\n",
       "      <td>0.0</td>\n",
       "      <td>0.0</td>\n",
       "      <td>0.0</td>\n",
       "      <td>0.0</td>\n",
       "      <td>2.0</td>\n",
       "      <td>2.0</td>\n",
       "      <td>0.0</td>\n",
       "      <td>...</td>\n",
       "      <td>0.0</td>\n",
       "      <td>0.0</td>\n",
       "      <td>0.0</td>\n",
       "      <td>0.0</td>\n",
       "      <td>0.0</td>\n",
       "      <td>0.0</td>\n",
       "      <td>0.0</td>\n",
       "      <td>0.0</td>\n",
       "      <td>0.0</td>\n",
       "      <td>8.0</td>\n",
       "    </tr>\n",
       "    <tr>\n",
       "      <th>001c6813b7449d381899502fb8f1bbbb9239a2b3d8b726cb140669288a58515b</th>\n",
       "      <th>0.0</th>\n",
       "      <td>0.0</td>\n",
       "      <td>0.0</td>\n",
       "      <td>0.0</td>\n",
       "      <td>0.0</td>\n",
       "      <td>8.0</td>\n",
       "      <td>0.0</td>\n",
       "      <td>0.0</td>\n",
       "      <td>0.0</td>\n",
       "      <td>0.0</td>\n",
       "      <td>1.0</td>\n",
       "      <td>...</td>\n",
       "      <td>0.0</td>\n",
       "      <td>4.0</td>\n",
       "      <td>1.0</td>\n",
       "      <td>0.0</td>\n",
       "      <td>0.0</td>\n",
       "      <td>0.0</td>\n",
       "      <td>0.0</td>\n",
       "      <td>0.0</td>\n",
       "      <td>10.0</td>\n",
       "      <td>17.0</td>\n",
       "    </tr>\n",
       "    <tr>\n",
       "      <th>001ee4c077e3972984ebddee5d8928ea3be07031025d61888f2f4c58f61179ee</th>\n",
       "      <th>0.0</th>\n",
       "      <td>0.0</td>\n",
       "      <td>1.0</td>\n",
       "      <td>1.0</td>\n",
       "      <td>0.0</td>\n",
       "      <td>0.0</td>\n",
       "      <td>0.0</td>\n",
       "      <td>0.0</td>\n",
       "      <td>0.0</td>\n",
       "      <td>0.0</td>\n",
       "      <td>0.0</td>\n",
       "      <td>...</td>\n",
       "      <td>0.0</td>\n",
       "      <td>0.0</td>\n",
       "      <td>0.0</td>\n",
       "      <td>0.0</td>\n",
       "      <td>0.0</td>\n",
       "      <td>0.0</td>\n",
       "      <td>0.0</td>\n",
       "      <td>3.0</td>\n",
       "      <td>1.0</td>\n",
       "      <td>3.0</td>\n",
       "    </tr>\n",
       "    <tr>\n",
       "      <th>0068f32c6dcbbdfa08c1b9cedc8d10b13f370725691cfdeb40e99c6c81d6056d</th>\n",
       "      <th>0.0</th>\n",
       "      <td>1.0</td>\n",
       "      <td>0.0</td>\n",
       "      <td>0.0</td>\n",
       "      <td>1.0</td>\n",
       "      <td>1.0</td>\n",
       "      <td>4.0</td>\n",
       "      <td>4.0</td>\n",
       "      <td>5.0</td>\n",
       "      <td>13.0</td>\n",
       "      <td>0.0</td>\n",
       "      <td>...</td>\n",
       "      <td>0.0</td>\n",
       "      <td>0.0</td>\n",
       "      <td>0.0</td>\n",
       "      <td>0.0</td>\n",
       "      <td>0.0</td>\n",
       "      <td>0.0</td>\n",
       "      <td>0.0</td>\n",
       "      <td>0.0</td>\n",
       "      <td>0.0</td>\n",
       "      <td>11.0</td>\n",
       "    </tr>\n",
       "    <tr>\n",
       "      <th>006a28f9870a964816db69d1bb9dda8be0cac871af2fdfc3c303179023a2e299</th>\n",
       "      <th>0.0</th>\n",
       "      <td>0.0</td>\n",
       "      <td>0.0</td>\n",
       "      <td>0.0</td>\n",
       "      <td>0.0</td>\n",
       "      <td>0.0</td>\n",
       "      <td>0.0</td>\n",
       "      <td>0.0</td>\n",
       "      <td>1.0</td>\n",
       "      <td>3.0</td>\n",
       "      <td>0.0</td>\n",
       "      <td>...</td>\n",
       "      <td>0.0</td>\n",
       "      <td>0.0</td>\n",
       "      <td>0.0</td>\n",
       "      <td>0.0</td>\n",
       "      <td>0.0</td>\n",
       "      <td>0.0</td>\n",
       "      <td>0.0</td>\n",
       "      <td>0.0</td>\n",
       "      <td>3.0</td>\n",
       "      <td>4.0</td>\n",
       "    </tr>\n",
       "    <tr>\n",
       "      <th>00ab0f1d045f05764b9731a67758d9b401c234ffe7b5de85b0764b714db2ba90</th>\n",
       "      <th>0.0</th>\n",
       "      <td>0.0</td>\n",
       "      <td>3.0</td>\n",
       "      <td>10.0</td>\n",
       "      <td>1.0</td>\n",
       "      <td>0.0</td>\n",
       "      <td>26.0</td>\n",
       "      <td>34.0</td>\n",
       "      <td>0.0</td>\n",
       "      <td>0.0</td>\n",
       "      <td>0.0</td>\n",
       "      <td>...</td>\n",
       "      <td>0.0</td>\n",
       "      <td>0.0</td>\n",
       "      <td>0.0</td>\n",
       "      <td>0.0</td>\n",
       "      <td>0.0</td>\n",
       "      <td>0.0</td>\n",
       "      <td>0.0</td>\n",
       "      <td>4.0</td>\n",
       "      <td>0.0</td>\n",
       "      <td>0.0</td>\n",
       "    </tr>\n",
       "    <tr>\n",
       "      <th>00d7b52c5e872c5f09ffe70b1c0d5b99b79e4021b5b0c592c6f1fe2c5b7b0028</th>\n",
       "      <th>0.0</th>\n",
       "      <td>0.0</td>\n",
       "      <td>8.0</td>\n",
       "      <td>23.0</td>\n",
       "      <td>2.0</td>\n",
       "      <td>0.0</td>\n",
       "      <td>4.0</td>\n",
       "      <td>2.0</td>\n",
       "      <td>5.0</td>\n",
       "      <td>1.0</td>\n",
       "      <td>0.0</td>\n",
       "      <td>...</td>\n",
       "      <td>0.0</td>\n",
       "      <td>0.0</td>\n",
       "      <td>0.0</td>\n",
       "      <td>0.0</td>\n",
       "      <td>0.0</td>\n",
       "      <td>0.0</td>\n",
       "      <td>0.0</td>\n",
       "      <td>62.0</td>\n",
       "      <td>1.0</td>\n",
       "      <td>8.0</td>\n",
       "    </tr>\n",
       "    <tr>\n",
       "      <th>00ffec02f911cf694e8a2eff69c896bc04929211ce2b6beba1546c8acc819591</th>\n",
       "      <th>0.0</th>\n",
       "      <td>0.0</td>\n",
       "      <td>0.0</td>\n",
       "      <td>0.0</td>\n",
       "      <td>0.0</td>\n",
       "      <td>2.0</td>\n",
       "      <td>0.0</td>\n",
       "      <td>0.0</td>\n",
       "      <td>0.0</td>\n",
       "      <td>0.0</td>\n",
       "      <td>0.0</td>\n",
       "      <td>...</td>\n",
       "      <td>1.0</td>\n",
       "      <td>0.0</td>\n",
       "      <td>0.0</td>\n",
       "      <td>0.0</td>\n",
       "      <td>0.0</td>\n",
       "      <td>0.0</td>\n",
       "      <td>0.0</td>\n",
       "      <td>0.0</td>\n",
       "      <td>1.0</td>\n",
       "      <td>10.0</td>\n",
       "    </tr>\n",
       "    <tr>\n",
       "      <th>010b04243304cf1a7f680b589ebbd3e2f9848f2019b5fc68d916486bb515c040</th>\n",
       "      <th>0.0</th>\n",
       "      <td>0.0</td>\n",
       "      <td>5.0</td>\n",
       "      <td>24.0</td>\n",
       "      <td>3.0</td>\n",
       "      <td>1.0</td>\n",
       "      <td>64.0</td>\n",
       "      <td>49.0</td>\n",
       "      <td>0.0</td>\n",
       "      <td>0.0</td>\n",
       "      <td>0.0</td>\n",
       "      <td>...</td>\n",
       "      <td>0.0</td>\n",
       "      <td>0.0</td>\n",
       "      <td>0.0</td>\n",
       "      <td>0.0</td>\n",
       "      <td>0.0</td>\n",
       "      <td>0.0</td>\n",
       "      <td>0.0</td>\n",
       "      <td>11.0</td>\n",
       "      <td>1.0</td>\n",
       "      <td>0.0</td>\n",
       "    </tr>\n",
       "  </tbody>\n",
       "</table>\n",
       "<p>10 rows × 22 columns</p>\n",
       "</div>"
      ],
      "text/plain": [
       "                                                              add_assig  \\\n",
       "index                                              event_leg              \n",
       "00026a46eefde681a60b50bd7c2368c3091d035b2f56582... 0.0              0.0   \n",
       "0018d184ff3b1f2336ebeac5646d13ca84de10d034adc5d... 0.0              0.0   \n",
       "001c6813b7449d381899502fb8f1bbbb9239a2b3d8b726c... 0.0              0.0   \n",
       "001ee4c077e3972984ebddee5d8928ea3be07031025d618... 0.0              0.0   \n",
       "0068f32c6dcbbdfa08c1b9cedc8d10b13f370725691cfde... 0.0              1.0   \n",
       "006a28f9870a964816db69d1bb9dda8be0cac871af2fdfc... 0.0              0.0   \n",
       "00ab0f1d045f05764b9731a67758d9b401c234ffe7b5de8... 0.0              0.0   \n",
       "00d7b52c5e872c5f09ffe70b1c0d5b99b79e4021b5b0c59... 0.0              0.0   \n",
       "00ffec02f911cf694e8a2eff69c896bc04929211ce2b6be... 0.0              0.0   \n",
       "010b04243304cf1a7f680b589ebbd3e2f9848f2019b5fc6... 0.0              0.0   \n",
       "\n",
       "                                                              add_custom_assig  \\\n",
       "index                                              event_leg                     \n",
       "00026a46eefde681a60b50bd7c2368c3091d035b2f56582... 0.0                     0.0   \n",
       "0018d184ff3b1f2336ebeac5646d13ca84de10d034adc5d... 0.0                     0.0   \n",
       "001c6813b7449d381899502fb8f1bbbb9239a2b3d8b726c... 0.0                     0.0   \n",
       "001ee4c077e3972984ebddee5d8928ea3be07031025d618... 0.0                     1.0   \n",
       "0068f32c6dcbbdfa08c1b9cedc8d10b13f370725691cfde... 0.0                     0.0   \n",
       "006a28f9870a964816db69d1bb9dda8be0cac871af2fdfc... 0.0                     0.0   \n",
       "00ab0f1d045f05764b9731a67758d9b401c234ffe7b5de8... 0.0                     3.0   \n",
       "00d7b52c5e872c5f09ffe70b1c0d5b99b79e4021b5b0c59... 0.0                     8.0   \n",
       "00ffec02f911cf694e8a2eff69c896bc04929211ce2b6be... 0.0                     0.0   \n",
       "010b04243304cf1a7f680b589ebbd3e2f9848f2019b5fc6... 0.0                     5.0   \n",
       "\n",
       "                                                              add_user  \\\n",
       "index                                              event_leg             \n",
       "00026a46eefde681a60b50bd7c2368c3091d035b2f56582... 0.0             0.0   \n",
       "0018d184ff3b1f2336ebeac5646d13ca84de10d034adc5d... 0.0             0.0   \n",
       "001c6813b7449d381899502fb8f1bbbb9239a2b3d8b726c... 0.0             0.0   \n",
       "001ee4c077e3972984ebddee5d8928ea3be07031025d618... 0.0             1.0   \n",
       "0068f32c6dcbbdfa08c1b9cedc8d10b13f370725691cfde... 0.0             0.0   \n",
       "006a28f9870a964816db69d1bb9dda8be0cac871af2fdfc... 0.0             0.0   \n",
       "00ab0f1d045f05764b9731a67758d9b401c234ffe7b5de8... 0.0            10.0   \n",
       "00d7b52c5e872c5f09ffe70b1c0d5b99b79e4021b5b0c59... 0.0            23.0   \n",
       "00ffec02f911cf694e8a2eff69c896bc04929211ce2b6be... 0.0             0.0   \n",
       "010b04243304cf1a7f680b589ebbd3e2f9848f2019b5fc6... 0.0            24.0   \n",
       "\n",
       "                                                              create_group  \\\n",
       "index                                              event_leg                 \n",
       "00026a46eefde681a60b50bd7c2368c3091d035b2f56582... 0.0                 0.0   \n",
       "0018d184ff3b1f2336ebeac5646d13ca84de10d034adc5d... 0.0                 0.0   \n",
       "001c6813b7449d381899502fb8f1bbbb9239a2b3d8b726c... 0.0                 0.0   \n",
       "001ee4c077e3972984ebddee5d8928ea3be07031025d618... 0.0                 0.0   \n",
       "0068f32c6dcbbdfa08c1b9cedc8d10b13f370725691cfde... 0.0                 1.0   \n",
       "006a28f9870a964816db69d1bb9dda8be0cac871af2fdfc... 0.0                 0.0   \n",
       "00ab0f1d045f05764b9731a67758d9b401c234ffe7b5de8... 0.0                 1.0   \n",
       "00d7b52c5e872c5f09ffe70b1c0d5b99b79e4021b5b0c59... 0.0                 2.0   \n",
       "00ffec02f911cf694e8a2eff69c896bc04929211ce2b6be... 0.0                 0.0   \n",
       "010b04243304cf1a7f680b589ebbd3e2f9848f2019b5fc6... 0.0                 3.0   \n",
       "\n",
       "                                                              play_video  \\\n",
       "index                                              event_leg               \n",
       "00026a46eefde681a60b50bd7c2368c3091d035b2f56582... 0.0               0.0   \n",
       "0018d184ff3b1f2336ebeac5646d13ca84de10d034adc5d... 0.0               0.0   \n",
       "001c6813b7449d381899502fb8f1bbbb9239a2b3d8b726c... 0.0               8.0   \n",
       "001ee4c077e3972984ebddee5d8928ea3be07031025d618... 0.0               0.0   \n",
       "0068f32c6dcbbdfa08c1b9cedc8d10b13f370725691cfde... 0.0               1.0   \n",
       "006a28f9870a964816db69d1bb9dda8be0cac871af2fdfc... 0.0               0.0   \n",
       "00ab0f1d045f05764b9731a67758d9b401c234ffe7b5de8... 0.0               0.0   \n",
       "00d7b52c5e872c5f09ffe70b1c0d5b99b79e4021b5b0c59... 0.0               0.0   \n",
       "00ffec02f911cf694e8a2eff69c896bc04929211ce2b6be... 0.0               2.0   \n",
       "010b04243304cf1a7f680b589ebbd3e2f9848f2019b5fc6... 0.0               1.0   \n",
       "\n",
       "                                                              q_lvl_0  \\\n",
       "index                                              event_leg            \n",
       "00026a46eefde681a60b50bd7c2368c3091d035b2f56582... 0.0            0.0   \n",
       "0018d184ff3b1f2336ebeac5646d13ca84de10d034adc5d... 0.0            0.0   \n",
       "001c6813b7449d381899502fb8f1bbbb9239a2b3d8b726c... 0.0            0.0   \n",
       "001ee4c077e3972984ebddee5d8928ea3be07031025d618... 0.0            0.0   \n",
       "0068f32c6dcbbdfa08c1b9cedc8d10b13f370725691cfde... 0.0            4.0   \n",
       "006a28f9870a964816db69d1bb9dda8be0cac871af2fdfc... 0.0            0.0   \n",
       "00ab0f1d045f05764b9731a67758d9b401c234ffe7b5de8... 0.0           26.0   \n",
       "00d7b52c5e872c5f09ffe70b1c0d5b99b79e4021b5b0c59... 0.0            4.0   \n",
       "00ffec02f911cf694e8a2eff69c896bc04929211ce2b6be... 0.0            0.0   \n",
       "010b04243304cf1a7f680b589ebbd3e2f9848f2019b5fc6... 0.0           64.0   \n",
       "\n",
       "                                                              q_lvl_0_cor  \\\n",
       "index                                              event_leg                \n",
       "00026a46eefde681a60b50bd7c2368c3091d035b2f56582... 0.0                0.0   \n",
       "0018d184ff3b1f2336ebeac5646d13ca84de10d034adc5d... 0.0                0.0   \n",
       "001c6813b7449d381899502fb8f1bbbb9239a2b3d8b726c... 0.0                0.0   \n",
       "001ee4c077e3972984ebddee5d8928ea3be07031025d618... 0.0                0.0   \n",
       "0068f32c6dcbbdfa08c1b9cedc8d10b13f370725691cfde... 0.0                4.0   \n",
       "006a28f9870a964816db69d1bb9dda8be0cac871af2fdfc... 0.0                0.0   \n",
       "00ab0f1d045f05764b9731a67758d9b401c234ffe7b5de8... 0.0               34.0   \n",
       "00d7b52c5e872c5f09ffe70b1c0d5b99b79e4021b5b0c59... 0.0                2.0   \n",
       "00ffec02f911cf694e8a2eff69c896bc04929211ce2b6be... 0.0                0.0   \n",
       "010b04243304cf1a7f680b589ebbd3e2f9848f2019b5fc6... 0.0               49.0   \n",
       "\n",
       "                                                              q_lvl_1  \\\n",
       "index                                              event_leg            \n",
       "00026a46eefde681a60b50bd7c2368c3091d035b2f56582... 0.0            0.0   \n",
       "0018d184ff3b1f2336ebeac5646d13ca84de10d034adc5d... 0.0            2.0   \n",
       "001c6813b7449d381899502fb8f1bbbb9239a2b3d8b726c... 0.0            0.0   \n",
       "001ee4c077e3972984ebddee5d8928ea3be07031025d618... 0.0            0.0   \n",
       "0068f32c6dcbbdfa08c1b9cedc8d10b13f370725691cfde... 0.0            5.0   \n",
       "006a28f9870a964816db69d1bb9dda8be0cac871af2fdfc... 0.0            1.0   \n",
       "00ab0f1d045f05764b9731a67758d9b401c234ffe7b5de8... 0.0            0.0   \n",
       "00d7b52c5e872c5f09ffe70b1c0d5b99b79e4021b5b0c59... 0.0            5.0   \n",
       "00ffec02f911cf694e8a2eff69c896bc04929211ce2b6be... 0.0            0.0   \n",
       "010b04243304cf1a7f680b589ebbd3e2f9848f2019b5fc6... 0.0            0.0   \n",
       "\n",
       "                                                              q_lvl_1_cor  \\\n",
       "index                                              event_leg                \n",
       "00026a46eefde681a60b50bd7c2368c3091d035b2f56582... 0.0                0.0   \n",
       "0018d184ff3b1f2336ebeac5646d13ca84de10d034adc5d... 0.0                2.0   \n",
       "001c6813b7449d381899502fb8f1bbbb9239a2b3d8b726c... 0.0                0.0   \n",
       "001ee4c077e3972984ebddee5d8928ea3be07031025d618... 0.0                0.0   \n",
       "0068f32c6dcbbdfa08c1b9cedc8d10b13f370725691cfde... 0.0               13.0   \n",
       "006a28f9870a964816db69d1bb9dda8be0cac871af2fdfc... 0.0                3.0   \n",
       "00ab0f1d045f05764b9731a67758d9b401c234ffe7b5de8... 0.0                0.0   \n",
       "00d7b52c5e872c5f09ffe70b1c0d5b99b79e4021b5b0c59... 0.0                1.0   \n",
       "00ffec02f911cf694e8a2eff69c896bc04929211ce2b6be... 0.0                0.0   \n",
       "010b04243304cf1a7f680b589ebbd3e2f9848f2019b5fc6... 0.0                0.0   \n",
       "\n",
       "                                                              q_lvl_2  \\\n",
       "index                                              event_leg            \n",
       "00026a46eefde681a60b50bd7c2368c3091d035b2f56582... 0.0            0.0   \n",
       "0018d184ff3b1f2336ebeac5646d13ca84de10d034adc5d... 0.0            0.0   \n",
       "001c6813b7449d381899502fb8f1bbbb9239a2b3d8b726c... 0.0            1.0   \n",
       "001ee4c077e3972984ebddee5d8928ea3be07031025d618... 0.0            0.0   \n",
       "0068f32c6dcbbdfa08c1b9cedc8d10b13f370725691cfde... 0.0            0.0   \n",
       "006a28f9870a964816db69d1bb9dda8be0cac871af2fdfc... 0.0            0.0   \n",
       "00ab0f1d045f05764b9731a67758d9b401c234ffe7b5de8... 0.0            0.0   \n",
       "00d7b52c5e872c5f09ffe70b1c0d5b99b79e4021b5b0c59... 0.0            0.0   \n",
       "00ffec02f911cf694e8a2eff69c896bc04929211ce2b6be... 0.0            0.0   \n",
       "010b04243304cf1a7f680b589ebbd3e2f9848f2019b5fc6... 0.0            0.0   \n",
       "\n",
       "                                                                ...      \\\n",
       "index                                              event_leg    ...       \n",
       "00026a46eefde681a60b50bd7c2368c3091d035b2f56582... 0.0          ...       \n",
       "0018d184ff3b1f2336ebeac5646d13ca84de10d034adc5d... 0.0          ...       \n",
       "001c6813b7449d381899502fb8f1bbbb9239a2b3d8b726c... 0.0          ...       \n",
       "001ee4c077e3972984ebddee5d8928ea3be07031025d618... 0.0          ...       \n",
       "0068f32c6dcbbdfa08c1b9cedc8d10b13f370725691cfde... 0.0          ...       \n",
       "006a28f9870a964816db69d1bb9dda8be0cac871af2fdfc... 0.0          ...       \n",
       "00ab0f1d045f05764b9731a67758d9b401c234ffe7b5de8... 0.0          ...       \n",
       "00d7b52c5e872c5f09ffe70b1c0d5b99b79e4021b5b0c59... 0.0          ...       \n",
       "00ffec02f911cf694e8a2eff69c896bc04929211ce2b6be... 0.0          ...       \n",
       "010b04243304cf1a7f680b589ebbd3e2f9848f2019b5fc6... 0.0          ...       \n",
       "\n",
       "                                                              q_lvl_3_cor  \\\n",
       "index                                              event_leg                \n",
       "00026a46eefde681a60b50bd7c2368c3091d035b2f56582... 0.0                1.0   \n",
       "0018d184ff3b1f2336ebeac5646d13ca84de10d034adc5d... 0.0                0.0   \n",
       "001c6813b7449d381899502fb8f1bbbb9239a2b3d8b726c... 0.0                0.0   \n",
       "001ee4c077e3972984ebddee5d8928ea3be07031025d618... 0.0                0.0   \n",
       "0068f32c6dcbbdfa08c1b9cedc8d10b13f370725691cfde... 0.0                0.0   \n",
       "006a28f9870a964816db69d1bb9dda8be0cac871af2fdfc... 0.0                0.0   \n",
       "00ab0f1d045f05764b9731a67758d9b401c234ffe7b5de8... 0.0                0.0   \n",
       "00d7b52c5e872c5f09ffe70b1c0d5b99b79e4021b5b0c59... 0.0                0.0   \n",
       "00ffec02f911cf694e8a2eff69c896bc04929211ce2b6be... 0.0                1.0   \n",
       "010b04243304cf1a7f680b589ebbd3e2f9848f2019b5fc6... 0.0                0.0   \n",
       "\n",
       "                                                              q_lvl_4  \\\n",
       "index                                              event_leg            \n",
       "00026a46eefde681a60b50bd7c2368c3091d035b2f56582... 0.0            3.0   \n",
       "0018d184ff3b1f2336ebeac5646d13ca84de10d034adc5d... 0.0            0.0   \n",
       "001c6813b7449d381899502fb8f1bbbb9239a2b3d8b726c... 0.0            4.0   \n",
       "001ee4c077e3972984ebddee5d8928ea3be07031025d618... 0.0            0.0   \n",
       "0068f32c6dcbbdfa08c1b9cedc8d10b13f370725691cfde... 0.0            0.0   \n",
       "006a28f9870a964816db69d1bb9dda8be0cac871af2fdfc... 0.0            0.0   \n",
       "00ab0f1d045f05764b9731a67758d9b401c234ffe7b5de8... 0.0            0.0   \n",
       "00d7b52c5e872c5f09ffe70b1c0d5b99b79e4021b5b0c59... 0.0            0.0   \n",
       "00ffec02f911cf694e8a2eff69c896bc04929211ce2b6be... 0.0            0.0   \n",
       "010b04243304cf1a7f680b589ebbd3e2f9848f2019b5fc6... 0.0            0.0   \n",
       "\n",
       "                                                              q_lvl_4_cor  \\\n",
       "index                                              event_leg                \n",
       "00026a46eefde681a60b50bd7c2368c3091d035b2f56582... 0.0                3.0   \n",
       "0018d184ff3b1f2336ebeac5646d13ca84de10d034adc5d... 0.0                0.0   \n",
       "001c6813b7449d381899502fb8f1bbbb9239a2b3d8b726c... 0.0                1.0   \n",
       "001ee4c077e3972984ebddee5d8928ea3be07031025d618... 0.0                0.0   \n",
       "0068f32c6dcbbdfa08c1b9cedc8d10b13f370725691cfde... 0.0                0.0   \n",
       "006a28f9870a964816db69d1bb9dda8be0cac871af2fdfc... 0.0                0.0   \n",
       "00ab0f1d045f05764b9731a67758d9b401c234ffe7b5de8... 0.0                0.0   \n",
       "00d7b52c5e872c5f09ffe70b1c0d5b99b79e4021b5b0c59... 0.0                0.0   \n",
       "00ffec02f911cf694e8a2eff69c896bc04929211ce2b6be... 0.0                0.0   \n",
       "010b04243304cf1a7f680b589ebbd3e2f9848f2019b5fc6... 0.0                0.0   \n",
       "\n",
       "                                                              q_lvl_5  \\\n",
       "index                                              event_leg            \n",
       "00026a46eefde681a60b50bd7c2368c3091d035b2f56582... 0.0            0.0   \n",
       "0018d184ff3b1f2336ebeac5646d13ca84de10d034adc5d... 0.0            0.0   \n",
       "001c6813b7449d381899502fb8f1bbbb9239a2b3d8b726c... 0.0            0.0   \n",
       "001ee4c077e3972984ebddee5d8928ea3be07031025d618... 0.0            0.0   \n",
       "0068f32c6dcbbdfa08c1b9cedc8d10b13f370725691cfde... 0.0            0.0   \n",
       "006a28f9870a964816db69d1bb9dda8be0cac871af2fdfc... 0.0            0.0   \n",
       "00ab0f1d045f05764b9731a67758d9b401c234ffe7b5de8... 0.0            0.0   \n",
       "00d7b52c5e872c5f09ffe70b1c0d5b99b79e4021b5b0c59... 0.0            0.0   \n",
       "00ffec02f911cf694e8a2eff69c896bc04929211ce2b6be... 0.0            0.0   \n",
       "010b04243304cf1a7f680b589ebbd3e2f9848f2019b5fc6... 0.0            0.0   \n",
       "\n",
       "                                                              q_lvl_5_cor  \\\n",
       "index                                              event_leg                \n",
       "00026a46eefde681a60b50bd7c2368c3091d035b2f56582... 0.0                0.0   \n",
       "0018d184ff3b1f2336ebeac5646d13ca84de10d034adc5d... 0.0                0.0   \n",
       "001c6813b7449d381899502fb8f1bbbb9239a2b3d8b726c... 0.0                0.0   \n",
       "001ee4c077e3972984ebddee5d8928ea3be07031025d618... 0.0                0.0   \n",
       "0068f32c6dcbbdfa08c1b9cedc8d10b13f370725691cfde... 0.0                0.0   \n",
       "006a28f9870a964816db69d1bb9dda8be0cac871af2fdfc... 0.0                0.0   \n",
       "00ab0f1d045f05764b9731a67758d9b401c234ffe7b5de8... 0.0                0.0   \n",
       "00d7b52c5e872c5f09ffe70b1c0d5b99b79e4021b5b0c59... 0.0                0.0   \n",
       "00ffec02f911cf694e8a2eff69c896bc04929211ce2b6be... 0.0                0.0   \n",
       "010b04243304cf1a7f680b589ebbd3e2f9848f2019b5fc6... 0.0                0.0   \n",
       "\n",
       "                                                              q_lvl_6  \\\n",
       "index                                              event_leg            \n",
       "00026a46eefde681a60b50bd7c2368c3091d035b2f56582... 0.0            0.0   \n",
       "0018d184ff3b1f2336ebeac5646d13ca84de10d034adc5d... 0.0            0.0   \n",
       "001c6813b7449d381899502fb8f1bbbb9239a2b3d8b726c... 0.0            0.0   \n",
       "001ee4c077e3972984ebddee5d8928ea3be07031025d618... 0.0            0.0   \n",
       "0068f32c6dcbbdfa08c1b9cedc8d10b13f370725691cfde... 0.0            0.0   \n",
       "006a28f9870a964816db69d1bb9dda8be0cac871af2fdfc... 0.0            0.0   \n",
       "00ab0f1d045f05764b9731a67758d9b401c234ffe7b5de8... 0.0            0.0   \n",
       "00d7b52c5e872c5f09ffe70b1c0d5b99b79e4021b5b0c59... 0.0            0.0   \n",
       "00ffec02f911cf694e8a2eff69c896bc04929211ce2b6be... 0.0            0.0   \n",
       "010b04243304cf1a7f680b589ebbd3e2f9848f2019b5fc6... 0.0            0.0   \n",
       "\n",
       "                                                              q_lvl_6_cor  \\\n",
       "index                                              event_leg                \n",
       "00026a46eefde681a60b50bd7c2368c3091d035b2f56582... 0.0                0.0   \n",
       "0018d184ff3b1f2336ebeac5646d13ca84de10d034adc5d... 0.0                0.0   \n",
       "001c6813b7449d381899502fb8f1bbbb9239a2b3d8b726c... 0.0                0.0   \n",
       "001ee4c077e3972984ebddee5d8928ea3be07031025d618... 0.0                0.0   \n",
       "0068f32c6dcbbdfa08c1b9cedc8d10b13f370725691cfde... 0.0                0.0   \n",
       "006a28f9870a964816db69d1bb9dda8be0cac871af2fdfc... 0.0                0.0   \n",
       "00ab0f1d045f05764b9731a67758d9b401c234ffe7b5de8... 0.0                0.0   \n",
       "00d7b52c5e872c5f09ffe70b1c0d5b99b79e4021b5b0c59... 0.0                0.0   \n",
       "00ffec02f911cf694e8a2eff69c896bc04929211ce2b6be... 0.0                0.0   \n",
       "010b04243304cf1a7f680b589ebbd3e2f9848f2019b5fc6... 0.0                0.0   \n",
       "\n",
       "                                                              view_assig_prog  \\\n",
       "index                                              event_leg                    \n",
       "00026a46eefde681a60b50bd7c2368c3091d035b2f56582... 0.0                    0.0   \n",
       "0018d184ff3b1f2336ebeac5646d13ca84de10d034adc5d... 0.0                    0.0   \n",
       "001c6813b7449d381899502fb8f1bbbb9239a2b3d8b726c... 0.0                    0.0   \n",
       "001ee4c077e3972984ebddee5d8928ea3be07031025d618... 0.0                    3.0   \n",
       "0068f32c6dcbbdfa08c1b9cedc8d10b13f370725691cfde... 0.0                    0.0   \n",
       "006a28f9870a964816db69d1bb9dda8be0cac871af2fdfc... 0.0                    0.0   \n",
       "00ab0f1d045f05764b9731a67758d9b401c234ffe7b5de8... 0.0                    4.0   \n",
       "00d7b52c5e872c5f09ffe70b1c0d5b99b79e4021b5b0c59... 0.0                   62.0   \n",
       "00ffec02f911cf694e8a2eff69c896bc04929211ce2b6be... 0.0                    0.0   \n",
       "010b04243304cf1a7f680b589ebbd3e2f9848f2019b5fc6... 0.0                   11.0   \n",
       "\n",
       "                                                              view_concept  \\\n",
       "index                                              event_leg                 \n",
       "00026a46eefde681a60b50bd7c2368c3091d035b2f56582... 0.0                 1.0   \n",
       "0018d184ff3b1f2336ebeac5646d13ca84de10d034adc5d... 0.0                 0.0   \n",
       "001c6813b7449d381899502fb8f1bbbb9239a2b3d8b726c... 0.0                10.0   \n",
       "001ee4c077e3972984ebddee5d8928ea3be07031025d618... 0.0                 1.0   \n",
       "0068f32c6dcbbdfa08c1b9cedc8d10b13f370725691cfde... 0.0                 0.0   \n",
       "006a28f9870a964816db69d1bb9dda8be0cac871af2fdfc... 0.0                 3.0   \n",
       "00ab0f1d045f05764b9731a67758d9b401c234ffe7b5de8... 0.0                 0.0   \n",
       "00d7b52c5e872c5f09ffe70b1c0d5b99b79e4021b5b0c59... 0.0                 1.0   \n",
       "00ffec02f911cf694e8a2eff69c896bc04929211ce2b6be... 0.0                 1.0   \n",
       "010b04243304cf1a7f680b589ebbd3e2f9848f2019b5fc6... 0.0                 1.0   \n",
       "\n",
       "                                                              view_hint  \n",
       "index                                              event_leg             \n",
       "00026a46eefde681a60b50bd7c2368c3091d035b2f56582... 0.0              6.0  \n",
       "0018d184ff3b1f2336ebeac5646d13ca84de10d034adc5d... 0.0              8.0  \n",
       "001c6813b7449d381899502fb8f1bbbb9239a2b3d8b726c... 0.0             17.0  \n",
       "001ee4c077e3972984ebddee5d8928ea3be07031025d618... 0.0              3.0  \n",
       "0068f32c6dcbbdfa08c1b9cedc8d10b13f370725691cfde... 0.0             11.0  \n",
       "006a28f9870a964816db69d1bb9dda8be0cac871af2fdfc... 0.0              4.0  \n",
       "00ab0f1d045f05764b9731a67758d9b401c234ffe7b5de8... 0.0              0.0  \n",
       "00d7b52c5e872c5f09ffe70b1c0d5b99b79e4021b5b0c59... 0.0              8.0  \n",
       "00ffec02f911cf694e8a2eff69c896bc04929211ce2b6be... 0.0             10.0  \n",
       "010b04243304cf1a7f680b589ebbd3e2f9848f2019b5fc6... 0.0              0.0  \n",
       "\n",
       "[10 rows x 22 columns]"
      ]
     },
     "execution_count": 28,
     "metadata": {},
     "output_type": "execute_result"
    }
   ],
   "source": [
    "last_month = 0;\n",
    "\n",
    "# Find users that have churned\n",
    "plot_churn = df.reset_index().groupby('index')['event_leg'].max()\n",
    "\n",
    "# Remove users that have churned before last month\n",
    "plot_churn = plot_churn[plot_churn.values >= last_month]\n",
    "df_lm = df.set_index(['index','event_leg']).loc[plot_churn.index.values]\n",
    "\n",
    "# Remove rows all greater than last_month\n",
    "df_lm = df_lm[df_lm.index.get_level_values(1)<=last_month]\n",
    "plot_churn =plot_churn.loc[np.unique(df_lm.index.get_level_values(0).values)]\n",
    "\n",
    "# Label those that churned at last month\n",
    "label = [1 if item == last_month else 0 for item in plot_churn.values]\n",
    "df_lm = df_lm.loc[plot_churn.index.values]\n",
    "\n",
    "# CLean off any nan\n",
    "df_lm = df_lm.fillna(0)\n",
    "\n",
    "# Add rows for months that may not exist for a user and set as zero\n",
    "df_lm = df_lm.unstack(level='event_leg').stack(level='event_leg',dropna=False).fillna(0)\n",
    "\n",
    "# Display the dataframe\n",
    "df_lm.head(10)\n"
   ]
  },
  {
   "cell_type": "code",
   "execution_count": 29,
   "metadata": {},
   "outputs": [
    {
     "data": {
      "text/html": [
       "<div>\n",
       "<style>\n",
       "    .dataframe thead tr:only-child th {\n",
       "        text-align: right;\n",
       "    }\n",
       "\n",
       "    .dataframe thead th {\n",
       "        text-align: left;\n",
       "    }\n",
       "\n",
       "    .dataframe tbody tr th {\n",
       "        vertical-align: top;\n",
       "    }\n",
       "</style>\n",
       "<table border=\"1\" class=\"dataframe\">\n",
       "  <thead>\n",
       "    <tr style=\"text-align: right;\">\n",
       "      <th></th>\n",
       "      <th>add_assig_0</th>\n",
       "      <th>add_custom_assig_0</th>\n",
       "      <th>add_user_0</th>\n",
       "      <th>create_group_0</th>\n",
       "      <th>play_video_0</th>\n",
       "      <th>q_lvl_0_0</th>\n",
       "      <th>q_lvl_0_cor_0</th>\n",
       "      <th>q_lvl_1_0</th>\n",
       "      <th>q_lvl_1_cor_0</th>\n",
       "      <th>q_lvl_2_0</th>\n",
       "      <th>...</th>\n",
       "      <th>start_month_11</th>\n",
       "      <th>start_month_12</th>\n",
       "      <th>start_month_2</th>\n",
       "      <th>start_month_3</th>\n",
       "      <th>start_month_4</th>\n",
       "      <th>start_month_5</th>\n",
       "      <th>start_month_6</th>\n",
       "      <th>start_month_7</th>\n",
       "      <th>start_month_8</th>\n",
       "      <th>start_month_9</th>\n",
       "    </tr>\n",
       "    <tr>\n",
       "      <th>index</th>\n",
       "      <th></th>\n",
       "      <th></th>\n",
       "      <th></th>\n",
       "      <th></th>\n",
       "      <th></th>\n",
       "      <th></th>\n",
       "      <th></th>\n",
       "      <th></th>\n",
       "      <th></th>\n",
       "      <th></th>\n",
       "      <th></th>\n",
       "      <th></th>\n",
       "      <th></th>\n",
       "      <th></th>\n",
       "      <th></th>\n",
       "      <th></th>\n",
       "      <th></th>\n",
       "      <th></th>\n",
       "      <th></th>\n",
       "      <th></th>\n",
       "      <th></th>\n",
       "    </tr>\n",
       "  </thead>\n",
       "  <tbody>\n",
       "    <tr>\n",
       "      <th>00026a46eefde681a60b50bd7c2368c3091d035b2f565824640272c89eb6916a</th>\n",
       "      <td>0.0</td>\n",
       "      <td>0.0</td>\n",
       "      <td>0.0</td>\n",
       "      <td>0.0</td>\n",
       "      <td>0.0</td>\n",
       "      <td>0.0</td>\n",
       "      <td>0.0</td>\n",
       "      <td>0.0</td>\n",
       "      <td>0.0</td>\n",
       "      <td>0.0</td>\n",
       "      <td>...</td>\n",
       "      <td>0</td>\n",
       "      <td>1</td>\n",
       "      <td>0</td>\n",
       "      <td>0</td>\n",
       "      <td>0</td>\n",
       "      <td>0</td>\n",
       "      <td>0</td>\n",
       "      <td>0</td>\n",
       "      <td>0</td>\n",
       "      <td>0</td>\n",
       "    </tr>\n",
       "    <tr>\n",
       "      <th>0018d184ff3b1f2336ebeac5646d13ca84de10d034adc5d1663a47a8a9f1937f</th>\n",
       "      <td>0.0</td>\n",
       "      <td>0.0</td>\n",
       "      <td>0.0</td>\n",
       "      <td>0.0</td>\n",
       "      <td>0.0</td>\n",
       "      <td>0.0</td>\n",
       "      <td>0.0</td>\n",
       "      <td>2.0</td>\n",
       "      <td>2.0</td>\n",
       "      <td>0.0</td>\n",
       "      <td>...</td>\n",
       "      <td>0</td>\n",
       "      <td>0</td>\n",
       "      <td>0</td>\n",
       "      <td>0</td>\n",
       "      <td>0</td>\n",
       "      <td>0</td>\n",
       "      <td>0</td>\n",
       "      <td>0</td>\n",
       "      <td>0</td>\n",
       "      <td>0</td>\n",
       "    </tr>\n",
       "    <tr>\n",
       "      <th>001c6813b7449d381899502fb8f1bbbb9239a2b3d8b726cb140669288a58515b</th>\n",
       "      <td>0.0</td>\n",
       "      <td>0.0</td>\n",
       "      <td>0.0</td>\n",
       "      <td>0.0</td>\n",
       "      <td>8.0</td>\n",
       "      <td>0.0</td>\n",
       "      <td>0.0</td>\n",
       "      <td>0.0</td>\n",
       "      <td>0.0</td>\n",
       "      <td>1.0</td>\n",
       "      <td>...</td>\n",
       "      <td>0</td>\n",
       "      <td>0</td>\n",
       "      <td>0</td>\n",
       "      <td>0</td>\n",
       "      <td>0</td>\n",
       "      <td>0</td>\n",
       "      <td>0</td>\n",
       "      <td>0</td>\n",
       "      <td>0</td>\n",
       "      <td>0</td>\n",
       "    </tr>\n",
       "    <tr>\n",
       "      <th>001ee4c077e3972984ebddee5d8928ea3be07031025d61888f2f4c58f61179ee</th>\n",
       "      <td>0.0</td>\n",
       "      <td>1.0</td>\n",
       "      <td>1.0</td>\n",
       "      <td>0.0</td>\n",
       "      <td>0.0</td>\n",
       "      <td>0.0</td>\n",
       "      <td>0.0</td>\n",
       "      <td>0.0</td>\n",
       "      <td>0.0</td>\n",
       "      <td>0.0</td>\n",
       "      <td>...</td>\n",
       "      <td>0</td>\n",
       "      <td>0</td>\n",
       "      <td>0</td>\n",
       "      <td>0</td>\n",
       "      <td>1</td>\n",
       "      <td>0</td>\n",
       "      <td>0</td>\n",
       "      <td>0</td>\n",
       "      <td>0</td>\n",
       "      <td>0</td>\n",
       "    </tr>\n",
       "    <tr>\n",
       "      <th>0068f32c6dcbbdfa08c1b9cedc8d10b13f370725691cfdeb40e99c6c81d6056d</th>\n",
       "      <td>1.0</td>\n",
       "      <td>0.0</td>\n",
       "      <td>0.0</td>\n",
       "      <td>1.0</td>\n",
       "      <td>1.0</td>\n",
       "      <td>4.0</td>\n",
       "      <td>4.0</td>\n",
       "      <td>5.0</td>\n",
       "      <td>13.0</td>\n",
       "      <td>0.0</td>\n",
       "      <td>...</td>\n",
       "      <td>0</td>\n",
       "      <td>0</td>\n",
       "      <td>0</td>\n",
       "      <td>0</td>\n",
       "      <td>0</td>\n",
       "      <td>0</td>\n",
       "      <td>0</td>\n",
       "      <td>0</td>\n",
       "      <td>1</td>\n",
       "      <td>0</td>\n",
       "    </tr>\n",
       "  </tbody>\n",
       "</table>\n",
       "<p>5 rows × 35 columns</p>\n",
       "</div>"
      ],
      "text/plain": [
       "                                                    add_assig_0  \\\n",
       "index                                                             \n",
       "00026a46eefde681a60b50bd7c2368c3091d035b2f56582...          0.0   \n",
       "0018d184ff3b1f2336ebeac5646d13ca84de10d034adc5d...          0.0   \n",
       "001c6813b7449d381899502fb8f1bbbb9239a2b3d8b726c...          0.0   \n",
       "001ee4c077e3972984ebddee5d8928ea3be07031025d618...          0.0   \n",
       "0068f32c6dcbbdfa08c1b9cedc8d10b13f370725691cfde...          1.0   \n",
       "\n",
       "                                                    add_custom_assig_0  \\\n",
       "index                                                                    \n",
       "00026a46eefde681a60b50bd7c2368c3091d035b2f56582...                 0.0   \n",
       "0018d184ff3b1f2336ebeac5646d13ca84de10d034adc5d...                 0.0   \n",
       "001c6813b7449d381899502fb8f1bbbb9239a2b3d8b726c...                 0.0   \n",
       "001ee4c077e3972984ebddee5d8928ea3be07031025d618...                 1.0   \n",
       "0068f32c6dcbbdfa08c1b9cedc8d10b13f370725691cfde...                 0.0   \n",
       "\n",
       "                                                    add_user_0  \\\n",
       "index                                                            \n",
       "00026a46eefde681a60b50bd7c2368c3091d035b2f56582...         0.0   \n",
       "0018d184ff3b1f2336ebeac5646d13ca84de10d034adc5d...         0.0   \n",
       "001c6813b7449d381899502fb8f1bbbb9239a2b3d8b726c...         0.0   \n",
       "001ee4c077e3972984ebddee5d8928ea3be07031025d618...         1.0   \n",
       "0068f32c6dcbbdfa08c1b9cedc8d10b13f370725691cfde...         0.0   \n",
       "\n",
       "                                                    create_group_0  \\\n",
       "index                                                                \n",
       "00026a46eefde681a60b50bd7c2368c3091d035b2f56582...             0.0   \n",
       "0018d184ff3b1f2336ebeac5646d13ca84de10d034adc5d...             0.0   \n",
       "001c6813b7449d381899502fb8f1bbbb9239a2b3d8b726c...             0.0   \n",
       "001ee4c077e3972984ebddee5d8928ea3be07031025d618...             0.0   \n",
       "0068f32c6dcbbdfa08c1b9cedc8d10b13f370725691cfde...             1.0   \n",
       "\n",
       "                                                    play_video_0  q_lvl_0_0  \\\n",
       "index                                                                         \n",
       "00026a46eefde681a60b50bd7c2368c3091d035b2f56582...           0.0        0.0   \n",
       "0018d184ff3b1f2336ebeac5646d13ca84de10d034adc5d...           0.0        0.0   \n",
       "001c6813b7449d381899502fb8f1bbbb9239a2b3d8b726c...           8.0        0.0   \n",
       "001ee4c077e3972984ebddee5d8928ea3be07031025d618...           0.0        0.0   \n",
       "0068f32c6dcbbdfa08c1b9cedc8d10b13f370725691cfde...           1.0        4.0   \n",
       "\n",
       "                                                    q_lvl_0_cor_0  q_lvl_1_0  \\\n",
       "index                                                                          \n",
       "00026a46eefde681a60b50bd7c2368c3091d035b2f56582...            0.0        0.0   \n",
       "0018d184ff3b1f2336ebeac5646d13ca84de10d034adc5d...            0.0        2.0   \n",
       "001c6813b7449d381899502fb8f1bbbb9239a2b3d8b726c...            0.0        0.0   \n",
       "001ee4c077e3972984ebddee5d8928ea3be07031025d618...            0.0        0.0   \n",
       "0068f32c6dcbbdfa08c1b9cedc8d10b13f370725691cfde...            4.0        5.0   \n",
       "\n",
       "                                                    q_lvl_1_cor_0  q_lvl_2_0  \\\n",
       "index                                                                          \n",
       "00026a46eefde681a60b50bd7c2368c3091d035b2f56582...            0.0        0.0   \n",
       "0018d184ff3b1f2336ebeac5646d13ca84de10d034adc5d...            2.0        0.0   \n",
       "001c6813b7449d381899502fb8f1bbbb9239a2b3d8b726c...            0.0        1.0   \n",
       "001ee4c077e3972984ebddee5d8928ea3be07031025d618...            0.0        0.0   \n",
       "0068f32c6dcbbdfa08c1b9cedc8d10b13f370725691cfde...           13.0        0.0   \n",
       "\n",
       "                                                        ...        \\\n",
       "index                                                   ...         \n",
       "00026a46eefde681a60b50bd7c2368c3091d035b2f56582...      ...         \n",
       "0018d184ff3b1f2336ebeac5646d13ca84de10d034adc5d...      ...         \n",
       "001c6813b7449d381899502fb8f1bbbb9239a2b3d8b726c...      ...         \n",
       "001ee4c077e3972984ebddee5d8928ea3be07031025d618...      ...         \n",
       "0068f32c6dcbbdfa08c1b9cedc8d10b13f370725691cfde...      ...         \n",
       "\n",
       "                                                    start_month_11  \\\n",
       "index                                                                \n",
       "00026a46eefde681a60b50bd7c2368c3091d035b2f56582...               0   \n",
       "0018d184ff3b1f2336ebeac5646d13ca84de10d034adc5d...               0   \n",
       "001c6813b7449d381899502fb8f1bbbb9239a2b3d8b726c...               0   \n",
       "001ee4c077e3972984ebddee5d8928ea3be07031025d618...               0   \n",
       "0068f32c6dcbbdfa08c1b9cedc8d10b13f370725691cfde...               0   \n",
       "\n",
       "                                                    start_month_12  \\\n",
       "index                                                                \n",
       "00026a46eefde681a60b50bd7c2368c3091d035b2f56582...               1   \n",
       "0018d184ff3b1f2336ebeac5646d13ca84de10d034adc5d...               0   \n",
       "001c6813b7449d381899502fb8f1bbbb9239a2b3d8b726c...               0   \n",
       "001ee4c077e3972984ebddee5d8928ea3be07031025d618...               0   \n",
       "0068f32c6dcbbdfa08c1b9cedc8d10b13f370725691cfde...               0   \n",
       "\n",
       "                                                    start_month_2  \\\n",
       "index                                                               \n",
       "00026a46eefde681a60b50bd7c2368c3091d035b2f56582...              0   \n",
       "0018d184ff3b1f2336ebeac5646d13ca84de10d034adc5d...              0   \n",
       "001c6813b7449d381899502fb8f1bbbb9239a2b3d8b726c...              0   \n",
       "001ee4c077e3972984ebddee5d8928ea3be07031025d618...              0   \n",
       "0068f32c6dcbbdfa08c1b9cedc8d10b13f370725691cfde...              0   \n",
       "\n",
       "                                                    start_month_3  \\\n",
       "index                                                               \n",
       "00026a46eefde681a60b50bd7c2368c3091d035b2f56582...              0   \n",
       "0018d184ff3b1f2336ebeac5646d13ca84de10d034adc5d...              0   \n",
       "001c6813b7449d381899502fb8f1bbbb9239a2b3d8b726c...              0   \n",
       "001ee4c077e3972984ebddee5d8928ea3be07031025d618...              0   \n",
       "0068f32c6dcbbdfa08c1b9cedc8d10b13f370725691cfde...              0   \n",
       "\n",
       "                                                    start_month_4  \\\n",
       "index                                                               \n",
       "00026a46eefde681a60b50bd7c2368c3091d035b2f56582...              0   \n",
       "0018d184ff3b1f2336ebeac5646d13ca84de10d034adc5d...              0   \n",
       "001c6813b7449d381899502fb8f1bbbb9239a2b3d8b726c...              0   \n",
       "001ee4c077e3972984ebddee5d8928ea3be07031025d618...              1   \n",
       "0068f32c6dcbbdfa08c1b9cedc8d10b13f370725691cfde...              0   \n",
       "\n",
       "                                                    start_month_5  \\\n",
       "index                                                               \n",
       "00026a46eefde681a60b50bd7c2368c3091d035b2f56582...              0   \n",
       "0018d184ff3b1f2336ebeac5646d13ca84de10d034adc5d...              0   \n",
       "001c6813b7449d381899502fb8f1bbbb9239a2b3d8b726c...              0   \n",
       "001ee4c077e3972984ebddee5d8928ea3be07031025d618...              0   \n",
       "0068f32c6dcbbdfa08c1b9cedc8d10b13f370725691cfde...              0   \n",
       "\n",
       "                                                    start_month_6  \\\n",
       "index                                                               \n",
       "00026a46eefde681a60b50bd7c2368c3091d035b2f56582...              0   \n",
       "0018d184ff3b1f2336ebeac5646d13ca84de10d034adc5d...              0   \n",
       "001c6813b7449d381899502fb8f1bbbb9239a2b3d8b726c...              0   \n",
       "001ee4c077e3972984ebddee5d8928ea3be07031025d618...              0   \n",
       "0068f32c6dcbbdfa08c1b9cedc8d10b13f370725691cfde...              0   \n",
       "\n",
       "                                                    start_month_7  \\\n",
       "index                                                               \n",
       "00026a46eefde681a60b50bd7c2368c3091d035b2f56582...              0   \n",
       "0018d184ff3b1f2336ebeac5646d13ca84de10d034adc5d...              0   \n",
       "001c6813b7449d381899502fb8f1bbbb9239a2b3d8b726c...              0   \n",
       "001ee4c077e3972984ebddee5d8928ea3be07031025d618...              0   \n",
       "0068f32c6dcbbdfa08c1b9cedc8d10b13f370725691cfde...              0   \n",
       "\n",
       "                                                    start_month_8  \\\n",
       "index                                                               \n",
       "00026a46eefde681a60b50bd7c2368c3091d035b2f56582...              0   \n",
       "0018d184ff3b1f2336ebeac5646d13ca84de10d034adc5d...              0   \n",
       "001c6813b7449d381899502fb8f1bbbb9239a2b3d8b726c...              0   \n",
       "001ee4c077e3972984ebddee5d8928ea3be07031025d618...              0   \n",
       "0068f32c6dcbbdfa08c1b9cedc8d10b13f370725691cfde...              1   \n",
       "\n",
       "                                                    start_month_9  \n",
       "index                                                              \n",
       "00026a46eefde681a60b50bd7c2368c3091d035b2f56582...              0  \n",
       "0018d184ff3b1f2336ebeac5646d13ca84de10d034adc5d...              0  \n",
       "001c6813b7449d381899502fb8f1bbbb9239a2b3d8b726c...              0  \n",
       "001ee4c077e3972984ebddee5d8928ea3be07031025d618...              0  \n",
       "0068f32c6dcbbdfa08c1b9cedc8d10b13f370725691cfde...              0  \n",
       "\n",
       "[5 rows x 35 columns]"
      ]
     },
     "execution_count": 29,
     "metadata": {},
     "output_type": "execute_result"
    }
   ],
   "source": [
    "# Prepare timeseries\n",
    "df_lm_new = prepare_time_series(df_lm.groupby(['index','event_leg']).sum(),[0,1],'append')\n",
    "\n",
    "# Adding features\n",
    "df_lm_new = df_lm_new.join(pd.get_dummies(df_user))\n",
    "\n",
    "df_lm_new.head()\n"
   ]
  },
  {
   "cell_type": "code",
   "execution_count": 30,
   "metadata": {},
   "outputs": [
    {
     "data": {
      "text/plain": [
       "(array([ 1260.,     0.,     0.,     0.,     0.,     0.,     0.,     0.,\n",
       "            0.,  1478.]),\n",
       " array([ 0. ,  0.1,  0.2,  0.3,  0.4,  0.5,  0.6,  0.7,  0.8,  0.9,  1. ]),\n",
       " <a list of 10 Patch objects>)"
      ]
     },
     "execution_count": 30,
     "metadata": {},
     "output_type": "execute_result"
    },
    {
     "data": {
      "image/png": "[encoded data removed]",
      "text/plain": [
       "<matplotlib.figure.Figure at 0x7f9ff26e2c18>"
      ]
     },
     "metadata": {},
     "output_type": "display_data"
    }
   ],
   "source": [
    "# Check class distribution\n",
    "plt.hist(label)\n"
   ]
  },
  {
   "cell_type": "code",
   "execution_count": 31,
   "metadata": {},
   "outputs": [
    {
     "data": {
      "text/plain": [
       "(array([ 372.,    0.,    0.,    0.,    0.,    0.,    0.,    0.,    0.,  450.]),\n",
       " array([ 0. ,  0.1,  0.2,  0.3,  0.4,  0.5,  0.6,  0.7,  0.8,  0.9,  1. ]),\n",
       " <a list of 10 Patch objects>)"
      ]
     },
     "execution_count": 31,
     "metadata": {},
     "output_type": "execute_result"
    },
    {
     "data": {
      "image/png": "[encoded data removed]",
      "text/plain": [
       "<matplotlib.figure.Figure at 0x7f9ff15d2320>"
      ]
     },
     "metadata": {},
     "output_type": "display_data"
    }
   ],
   "source": [
    "# Fill in any zeros\n",
    "df_lm_new = df_lm_new.fillna(0)\n",
    "\n",
    "# Assign data to auxillary variables\n",
    "X = df_lm_new\n",
    "y = label\n",
    "\n",
    "# Storing the keys\n",
    "store_keys = X.keys()\n",
    "\n",
    "# Scale the data\n",
    "scaler = StandardScaler()\n",
    "X_trf = scaler.fit_transform(X)\n",
    "X = X_trf\n",
    "\n",
    "# Split into train and test sets\n",
    "X_train, X_test, y_train, y_test = train_test_split(X, y,test_size = 0.3, random_state=42)\n",
    "\n",
    "plt.hist(y_test)"
   ]
  },
  {
   "cell_type": "code",
   "execution_count": 32,
   "metadata": {},
   "outputs": [
    {
     "name": "stdout",
     "output_type": "stream",
     "text": [
      "             precision    recall  f1-score   support\n",
      "\n",
      "          0       0.70      0.71      0.71       368\n",
      "          1       0.76      0.76      0.76       454\n",
      "\n",
      "avg / total       0.74      0.73      0.73       822\n",
      "\n"
     ]
    },
    {
     "data": {
      "image/png": "[encoded data removed]",
      "text/plain": [
       "<matplotlib.figure.Figure at 0x7f9ff0e7e0b8>"
      ]
     },
     "metadata": {},
     "output_type": "display_data"
    }
   ],
   "source": [
    "# Classifier\n",
    "clf = RF(n_estimators=100,random_state=42)\n",
    "clf.fit(X_train,y_train)\n",
    "\n",
    "# Predict\n",
    "y_pred = clf.predict(X_test)\n",
    "y_score = clf.predict_proba(X_test)\n",
    "\n",
    "# Evaluate\n",
    "plt.hist(y_pred)\n",
    "plt.hist(y_test,alpha= 0.4)\n",
    "\n",
    "print(classification_report(y_pred,y_test))\n"
   ]
  },
  {
   "cell_type": "code",
   "execution_count": 33,
   "metadata": {},
   "outputs": [
    {
     "data": {
      "text/plain": [
       "0.81574205297310642"
      ]
     },
     "execution_count": 33,
     "metadata": {},
     "output_type": "execute_result"
    },
    {
     "data": {
      "image/png": "[encoded data removed]",
      "text/plain": [
       "<matplotlib.figure.Figure at 0x7f9ff0e42898>"
      ]
     },
     "metadata": {},
     "output_type": "display_data"
    }
   ],
   "source": [
    "precision, recall, _ = precision_recall_curve(y_test,y_score[:,1])\n",
    "\n",
    "\n",
    "plt.step(recall, precision, color='b', alpha=0.2,\n",
    "         where='post')\n",
    "plt.fill_between(recall, precision, step='post', alpha=0.2,\n",
    "                 color='b')\n",
    "\n",
    "plt.xlabel('Recall')\n",
    "plt.ylabel('Precision')\n",
    "plt.ylim([0.0, 1.05])\n",
    "plt.xlim([0.0, 1.0])\n",
    "\n",
    "average_precision_score(y_test,y_score[:,1])"
   ]
  },
  {
   "cell_type": "code",
   "execution_count": 34,
   "metadata": {},
   "outputs": [
    {
     "name": "stdout",
     "output_type": "stream",
     "text": [
      "Iteration: \t1 / 100\n",
      "Confirmed: \t0\n",
      "Tentative: \t35\n",
      "Rejected: \t0\n",
      "Iteration: \t2 / 100\n",
      "Confirmed: \t0\n",
      "Tentative: \t35\n",
      "Rejected: \t0\n",
      "Iteration: \t3 / 100\n",
      "Confirmed: \t0\n",
      "Tentative: \t35\n",
      "Rejected: \t0\n",
      "Iteration: \t4 / 100\n",
      "Confirmed: \t0\n",
      "Tentative: \t35\n",
      "Rejected: \t0\n",
      "Iteration: \t5 / 100\n",
      "Confirmed: \t0\n",
      "Tentative: \t35\n",
      "Rejected: \t0\n",
      "Iteration: \t6 / 100\n",
      "Confirmed: \t0\n",
      "Tentative: \t35\n",
      "Rejected: \t0\n",
      "Iteration: \t7 / 100\n",
      "Confirmed: \t0\n",
      "Tentative: \t35\n",
      "Rejected: \t0\n",
      "Iteration: \t8 / 100\n",
      "Confirmed: \t15\n",
      "Tentative: \t6\n",
      "Rejected: \t14\n"
     ]
    },
    {
     "name": "stderr",
     "output_type": "stream",
     "text": [
      "/home/work/anaconda3/lib/python3.6/site-packages/boruta/boruta_py.py:418: RuntimeWarning: invalid value encountered in greater\n",
      "  hits = np.where(cur_imp[0] > imp_sha_max)[0]\n"
     ]
    },
    {
     "name": "stdout",
     "output_type": "stream",
     "text": [
      "Iteration: \t9 / 100\n",
      "Confirmed: \t15\n",
      "Tentative: \t6\n",
      "Rejected: \t14\n"
     ]
    },
    {
     "name": "stderr",
     "output_type": "stream",
     "text": [
      "/home/work/anaconda3/lib/python3.6/site-packages/boruta/boruta_py.py:418: RuntimeWarning: invalid value encountered in greater\n",
      "  hits = np.where(cur_imp[0] > imp_sha_max)[0]\n"
     ]
    },
    {
     "name": "stdout",
     "output_type": "stream",
     "text": [
      "Iteration: \t10 / 100\n",
      "Confirmed: \t15\n",
      "Tentative: \t6\n",
      "Rejected: \t14\n"
     ]
    },
    {
     "name": "stderr",
     "output_type": "stream",
     "text": [
      "/home/work/anaconda3/lib/python3.6/site-packages/boruta/boruta_py.py:418: RuntimeWarning: invalid value encountered in greater\n",
      "  hits = np.where(cur_imp[0] > imp_sha_max)[0]\n"
     ]
    },
    {
     "name": "stdout",
     "output_type": "stream",
     "text": [
      "Iteration: \t11 / 100\n",
      "Confirmed: \t15\n",
      "Tentative: \t6\n",
      "Rejected: \t14\n"
     ]
    },
    {
     "name": "stderr",
     "output_type": "stream",
     "text": [
      "/home/work/anaconda3/lib/python3.6/site-packages/boruta/boruta_py.py:418: RuntimeWarning: invalid value encountered in greater\n",
      "  hits = np.where(cur_imp[0] > imp_sha_max)[0]\n"
     ]
    },
    {
     "name": "stdout",
     "output_type": "stream",
     "text": [
      "Iteration: \t12 / 100\n",
      "Confirmed: \t15\n",
      "Tentative: \t6\n",
      "Rejected: \t14\n"
     ]
    },
    {
     "name": "stderr",
     "output_type": "stream",
     "text": [
      "/home/work/anaconda3/lib/python3.6/site-packages/boruta/boruta_py.py:418: RuntimeWarning: invalid value encountered in greater\n",
      "  hits = np.where(cur_imp[0] > imp_sha_max)[0]\n"
     ]
    },
    {
     "name": "stdout",
     "output_type": "stream",
     "text": [
      "Iteration: \t13 / 100\n",
      "Confirmed: \t15\n",
      "Tentative: \t5\n",
      "Rejected: \t15\n"
     ]
    },
    {
     "name": "stderr",
     "output_type": "stream",
     "text": [
      "/home/work/anaconda3/lib/python3.6/site-packages/boruta/boruta_py.py:418: RuntimeWarning: invalid value encountered in greater\n",
      "  hits = np.where(cur_imp[0] > imp_sha_max)[0]\n"
     ]
    },
    {
     "name": "stdout",
     "output_type": "stream",
     "text": [
      "Iteration: \t14 / 100\n",
      "Confirmed: \t15\n",
      "Tentative: \t5\n",
      "Rejected: \t15\n"
     ]
    },
    {
     "name": "stderr",
     "output_type": "stream",
     "text": [
      "/home/work/anaconda3/lib/python3.6/site-packages/boruta/boruta_py.py:418: RuntimeWarning: invalid value encountered in greater\n",
      "  hits = np.where(cur_imp[0] > imp_sha_max)[0]\n"
     ]
    },
    {
     "name": "stdout",
     "output_type": "stream",
     "text": [
      "Iteration: \t15 / 100\n",
      "Confirmed: \t15\n",
      "Tentative: \t5\n",
      "Rejected: \t15\n"
     ]
    },
    {
     "name": "stderr",
     "output_type": "stream",
     "text": [
      "/home/work/anaconda3/lib/python3.6/site-packages/boruta/boruta_py.py:418: RuntimeWarning: invalid value encountered in greater\n",
      "  hits = np.where(cur_imp[0] > imp_sha_max)[0]\n"
     ]
    },
    {
     "name": "stdout",
     "output_type": "stream",
     "text": [
      "Iteration: \t16 / 100\n",
      "Confirmed: \t15\n",
      "Tentative: \t5\n",
      "Rejected: \t15\n"
     ]
    },
    {
     "name": "stderr",
     "output_type": "stream",
     "text": [
      "/home/work/anaconda3/lib/python3.6/site-packages/boruta/boruta_py.py:418: RuntimeWarning: invalid value encountered in greater\n",
      "  hits = np.where(cur_imp[0] > imp_sha_max)[0]\n"
     ]
    },
    {
     "name": "stdout",
     "output_type": "stream",
     "text": [
      "Iteration: \t17 / 100\n",
      "Confirmed: \t15\n",
      "Tentative: \t5\n",
      "Rejected: \t15\n"
     ]
    },
    {
     "name": "stderr",
     "output_type": "stream",
     "text": [
      "/home/work/anaconda3/lib/python3.6/site-packages/boruta/boruta_py.py:418: RuntimeWarning: invalid value encountered in greater\n",
      "  hits = np.where(cur_imp[0] > imp_sha_max)[0]\n"
     ]
    },
    {
     "name": "stdout",
     "output_type": "stream",
     "text": [
      "Iteration: \t18 / 100\n",
      "Confirmed: \t15\n",
      "Tentative: \t5\n",
      "Rejected: \t15\n"
     ]
    },
    {
     "name": "stderr",
     "output_type": "stream",
     "text": [
      "/home/work/anaconda3/lib/python3.6/site-packages/boruta/boruta_py.py:418: RuntimeWarning: invalid value encountered in greater\n",
      "  hits = np.where(cur_imp[0] > imp_sha_max)[0]\n"
     ]
    },
    {
     "name": "stdout",
     "output_type": "stream",
     "text": [
      "Iteration: \t19 / 100\n",
      "Confirmed: \t15\n",
      "Tentative: \t5\n",
      "Rejected: \t15\n"
     ]
    },
    {
     "name": "stderr",
     "output_type": "stream",
     "text": [
      "/home/work/anaconda3/lib/python3.6/site-packages/boruta/boruta_py.py:418: RuntimeWarning: invalid value encountered in greater\n",
      "  hits = np.where(cur_imp[0] > imp_sha_max)[0]\n"
     ]
    },
    {
     "name": "stdout",
     "output_type": "stream",
     "text": [
      "Iteration: \t20 / 100\n",
      "Confirmed: \t15\n",
      "Tentative: \t5\n",
      "Rejected: \t15\n"
     ]
    },
    {
     "name": "stderr",
     "output_type": "stream",
     "text": [
      "/home/work/anaconda3/lib/python3.6/site-packages/boruta/boruta_py.py:418: RuntimeWarning: invalid value encountered in greater\n",
      "  hits = np.where(cur_imp[0] > imp_sha_max)[0]\n"
     ]
    },
    {
     "name": "stdout",
     "output_type": "stream",
     "text": [
      "Iteration: \t21 / 100\n",
      "Confirmed: \t15\n",
      "Tentative: \t5\n",
      "Rejected: \t15\n"
     ]
    },
    {
     "name": "stderr",
     "output_type": "stream",
     "text": [
      "/home/work/anaconda3/lib/python3.6/site-packages/boruta/boruta_py.py:418: RuntimeWarning: invalid value encountered in greater\n",
      "  hits = np.where(cur_imp[0] > imp_sha_max)[0]\n"
     ]
    },
    {
     "name": "stdout",
     "output_type": "stream",
     "text": [
      "Iteration: \t22 / 100\n",
      "Confirmed: \t15\n",
      "Tentative: \t5\n",
      "Rejected: \t15\n"
     ]
    },
    {
     "name": "stderr",
     "output_type": "stream",
     "text": [
      "/home/work/anaconda3/lib/python3.6/site-packages/boruta/boruta_py.py:418: RuntimeWarning: invalid value encountered in greater\n",
      "  hits = np.where(cur_imp[0] > imp_sha_max)[0]\n"
     ]
    },
    {
     "name": "stdout",
     "output_type": "stream",
     "text": [
      "Iteration: \t23 / 100\n",
      "Confirmed: \t15\n",
      "Tentative: \t5\n",
      "Rejected: \t15\n"
     ]
    },
    {
     "name": "stderr",
     "output_type": "stream",
     "text": [
      "/home/work/anaconda3/lib/python3.6/site-packages/boruta/boruta_py.py:418: RuntimeWarning: invalid value encountered in greater\n",
      "  hits = np.where(cur_imp[0] > imp_sha_max)[0]\n"
     ]
    },
    {
     "name": "stdout",
     "output_type": "stream",
     "text": [
      "Iteration: \t24 / 100\n",
      "Confirmed: \t15\n",
      "Tentative: \t5\n",
      "Rejected: \t15\n"
     ]
    },
    {
     "name": "stderr",
     "output_type": "stream",
     "text": [
      "/home/work/anaconda3/lib/python3.6/site-packages/boruta/boruta_py.py:418: RuntimeWarning: invalid value encountered in greater\n",
      "  hits = np.where(cur_imp[0] > imp_sha_max)[0]\n"
     ]
    },
    {
     "name": "stdout",
     "output_type": "stream",
     "text": [
      "Iteration: \t25 / 100\n",
      "Confirmed: \t15\n",
      "Tentative: \t5\n",
      "Rejected: \t15\n"
     ]
    },
    {
     "name": "stderr",
     "output_type": "stream",
     "text": [
      "/home/work/anaconda3/lib/python3.6/site-packages/boruta/boruta_py.py:418: RuntimeWarning: invalid value encountered in greater\n",
      "  hits = np.where(cur_imp[0] > imp_sha_max)[0]\n"
     ]
    },
    {
     "name": "stdout",
     "output_type": "stream",
     "text": [
      "Iteration: \t26 / 100\n",
      "Confirmed: \t15\n",
      "Tentative: \t4\n",
      "Rejected: \t16\n"
     ]
    },
    {
     "name": "stderr",
     "output_type": "stream",
     "text": [
      "/home/work/anaconda3/lib/python3.6/site-packages/boruta/boruta_py.py:418: RuntimeWarning: invalid value encountered in greater\n",
      "  hits = np.where(cur_imp[0] > imp_sha_max)[0]\n"
     ]
    },
    {
     "name": "stdout",
     "output_type": "stream",
     "text": [
      "Iteration: \t27 / 100\n",
      "Confirmed: \t15\n",
      "Tentative: \t4\n",
      "Rejected: \t16\n"
     ]
    },
    {
     "name": "stderr",
     "output_type": "stream",
     "text": [
      "/home/work/anaconda3/lib/python3.6/site-packages/boruta/boruta_py.py:418: RuntimeWarning: invalid value encountered in greater\n",
      "  hits = np.where(cur_imp[0] > imp_sha_max)[0]\n"
     ]
    },
    {
     "name": "stdout",
     "output_type": "stream",
     "text": [
      "Iteration: \t28 / 100\n",
      "Confirmed: \t15\n",
      "Tentative: \t4\n",
      "Rejected: \t16\n"
     ]
    },
    {
     "name": "stderr",
     "output_type": "stream",
     "text": [
      "/home/work/anaconda3/lib/python3.6/site-packages/boruta/boruta_py.py:418: RuntimeWarning: invalid value encountered in greater\n",
      "  hits = np.where(cur_imp[0] > imp_sha_max)[0]\n"
     ]
    },
    {
     "name": "stdout",
     "output_type": "stream",
     "text": [
      "Iteration: \t29 / 100\n",
      "Confirmed: \t15\n",
      "Tentative: \t4\n",
      "Rejected: \t16\n"
     ]
    },
    {
     "name": "stderr",
     "output_type": "stream",
     "text": [
      "/home/work/anaconda3/lib/python3.6/site-packages/boruta/boruta_py.py:418: RuntimeWarning: invalid value encountered in greater\n",
      "  hits = np.where(cur_imp[0] > imp_sha_max)[0]\n"
     ]
    },
    {
     "name": "stdout",
     "output_type": "stream",
     "text": [
      "Iteration: \t30 / 100\n",
      "Confirmed: \t15\n",
      "Tentative: \t4\n",
      "Rejected: \t16\n"
     ]
    },
    {
     "name": "stderr",
     "output_type": "stream",
     "text": [
      "/home/work/anaconda3/lib/python3.6/site-packages/boruta/boruta_py.py:418: RuntimeWarning: invalid value encountered in greater\n",
      "  hits = np.where(cur_imp[0] > imp_sha_max)[0]\n"
     ]
    },
    {
     "name": "stdout",
     "output_type": "stream",
     "text": [
      "Iteration: \t31 / 100\n",
      "Confirmed: \t15\n",
      "Tentative: \t4\n",
      "Rejected: \t16\n"
     ]
    },
    {
     "name": "stderr",
     "output_type": "stream",
     "text": [
      "/home/work/anaconda3/lib/python3.6/site-packages/boruta/boruta_py.py:418: RuntimeWarning: invalid value encountered in greater\n",
      "  hits = np.where(cur_imp[0] > imp_sha_max)[0]\n"
     ]
    },
    {
     "name": "stdout",
     "output_type": "stream",
     "text": [
      "Iteration: \t32 / 100\n",
      "Confirmed: \t15\n",
      "Tentative: \t4\n",
      "Rejected: \t16\n"
     ]
    },
    {
     "name": "stderr",
     "output_type": "stream",
     "text": [
      "/home/work/anaconda3/lib/python3.6/site-packages/boruta/boruta_py.py:418: RuntimeWarning: invalid value encountered in greater\n",
      "  hits = np.where(cur_imp[0] > imp_sha_max)[0]\n"
     ]
    },
    {
     "name": "stdout",
     "output_type": "stream",
     "text": [
      "Iteration: \t33 / 100\n",
      "Confirmed: \t15\n",
      "Tentative: \t4\n",
      "Rejected: \t16\n"
     ]
    },
    {
     "name": "stderr",
     "output_type": "stream",
     "text": [
      "/home/work/anaconda3/lib/python3.6/site-packages/boruta/boruta_py.py:418: RuntimeWarning: invalid value encountered in greater\n",
      "  hits = np.where(cur_imp[0] > imp_sha_max)[0]\n"
     ]
    },
    {
     "name": "stdout",
     "output_type": "stream",
     "text": [
      "Iteration: \t34 / 100\n",
      "Confirmed: \t15\n",
      "Tentative: \t4\n",
      "Rejected: \t16\n"
     ]
    },
    {
     "name": "stderr",
     "output_type": "stream",
     "text": [
      "/home/work/anaconda3/lib/python3.6/site-packages/boruta/boruta_py.py:418: RuntimeWarning: invalid value encountered in greater\n",
      "  hits = np.where(cur_imp[0] > imp_sha_max)[0]\n"
     ]
    },
    {
     "name": "stdout",
     "output_type": "stream",
     "text": [
      "Iteration: \t35 / 100\n",
      "Confirmed: \t15\n",
      "Tentative: \t4\n",
      "Rejected: \t16\n"
     ]
    },
    {
     "name": "stderr",
     "output_type": "stream",
     "text": [
      "/home/work/anaconda3/lib/python3.6/site-packages/boruta/boruta_py.py:418: RuntimeWarning: invalid value encountered in greater\n",
      "  hits = np.where(cur_imp[0] > imp_sha_max)[0]\n"
     ]
    },
    {
     "name": "stdout",
     "output_type": "stream",
     "text": [
      "Iteration: \t36 / 100\n",
      "Confirmed: \t15\n",
      "Tentative: \t4\n",
      "Rejected: \t16\n"
     ]
    },
    {
     "name": "stderr",
     "output_type": "stream",
     "text": [
      "/home/work/anaconda3/lib/python3.6/site-packages/boruta/boruta_py.py:418: RuntimeWarning: invalid value encountered in greater\n",
      "  hits = np.where(cur_imp[0] > imp_sha_max)[0]\n"
     ]
    },
    {
     "name": "stdout",
     "output_type": "stream",
     "text": [
      "Iteration: \t37 / 100\n",
      "Confirmed: \t15\n",
      "Tentative: \t4\n",
      "Rejected: \t16\n"
     ]
    },
    {
     "name": "stderr",
     "output_type": "stream",
     "text": [
      "/home/work/anaconda3/lib/python3.6/site-packages/boruta/boruta_py.py:418: RuntimeWarning: invalid value encountered in greater\n",
      "  hits = np.where(cur_imp[0] > imp_sha_max)[0]\n"
     ]
    },
    {
     "name": "stdout",
     "output_type": "stream",
     "text": [
      "Iteration: \t38 / 100\n",
      "Confirmed: \t15\n",
      "Tentative: \t4\n",
      "Rejected: \t16\n"
     ]
    },
    {
     "name": "stderr",
     "output_type": "stream",
     "text": [
      "/home/work/anaconda3/lib/python3.6/site-packages/boruta/boruta_py.py:418: RuntimeWarning: invalid value encountered in greater\n",
      "  hits = np.where(cur_imp[0] > imp_sha_max)[0]\n"
     ]
    },
    {
     "name": "stdout",
     "output_type": "stream",
     "text": [
      "Iteration: \t39 / 100\n",
      "Confirmed: \t15\n",
      "Tentative: \t4\n",
      "Rejected: \t16\n"
     ]
    },
    {
     "name": "stderr",
     "output_type": "stream",
     "text": [
      "/home/work/anaconda3/lib/python3.6/site-packages/boruta/boruta_py.py:418: RuntimeWarning: invalid value encountered in greater\n",
      "  hits = np.where(cur_imp[0] > imp_sha_max)[0]\n"
     ]
    },
    {
     "name": "stdout",
     "output_type": "stream",
     "text": [
      "Iteration: \t40 / 100\n",
      "Confirmed: \t15\n",
      "Tentative: \t4\n",
      "Rejected: \t16\n"
     ]
    },
    {
     "name": "stderr",
     "output_type": "stream",
     "text": [
      "/home/work/anaconda3/lib/python3.6/site-packages/boruta/boruta_py.py:418: RuntimeWarning: invalid value encountered in greater\n",
      "  hits = np.where(cur_imp[0] > imp_sha_max)[0]\n"
     ]
    },
    {
     "name": "stdout",
     "output_type": "stream",
     "text": [
      "Iteration: \t41 / 100\n",
      "Confirmed: \t15\n",
      "Tentative: \t4\n",
      "Rejected: \t16\n"
     ]
    },
    {
     "name": "stderr",
     "output_type": "stream",
     "text": [
      "/home/work/anaconda3/lib/python3.6/site-packages/boruta/boruta_py.py:418: RuntimeWarning: invalid value encountered in greater\n",
      "  hits = np.where(cur_imp[0] > imp_sha_max)[0]\n"
     ]
    },
    {
     "name": "stdout",
     "output_type": "stream",
     "text": [
      "Iteration: \t42 / 100\n",
      "Confirmed: \t15\n",
      "Tentative: \t4\n",
      "Rejected: \t16\n"
     ]
    },
    {
     "name": "stderr",
     "output_type": "stream",
     "text": [
      "/home/work/anaconda3/lib/python3.6/site-packages/boruta/boruta_py.py:418: RuntimeWarning: invalid value encountered in greater\n",
      "  hits = np.where(cur_imp[0] > imp_sha_max)[0]\n"
     ]
    },
    {
     "name": "stdout",
     "output_type": "stream",
     "text": [
      "Iteration: \t43 / 100\n",
      "Confirmed: \t15\n",
      "Tentative: \t3\n",
      "Rejected: \t17\n"
     ]
    },
    {
     "name": "stderr",
     "output_type": "stream",
     "text": [
      "/home/work/anaconda3/lib/python3.6/site-packages/boruta/boruta_py.py:418: RuntimeWarning: invalid value encountered in greater\n",
      "  hits = np.where(cur_imp[0] > imp_sha_max)[0]\n"
     ]
    },
    {
     "name": "stdout",
     "output_type": "stream",
     "text": [
      "Iteration: \t44 / 100\n",
      "Confirmed: \t15\n",
      "Tentative: \t3\n",
      "Rejected: \t17\n"
     ]
    },
    {
     "name": "stderr",
     "output_type": "stream",
     "text": [
      "/home/work/anaconda3/lib/python3.6/site-packages/boruta/boruta_py.py:418: RuntimeWarning: invalid value encountered in greater\n",
      "  hits = np.where(cur_imp[0] > imp_sha_max)[0]\n"
     ]
    },
    {
     "name": "stdout",
     "output_type": "stream",
     "text": [
      "Iteration: \t45 / 100\n",
      "Confirmed: \t15\n",
      "Tentative: \t3\n",
      "Rejected: \t17\n"
     ]
    },
    {
     "name": "stderr",
     "output_type": "stream",
     "text": [
      "/home/work/anaconda3/lib/python3.6/site-packages/boruta/boruta_py.py:418: RuntimeWarning: invalid value encountered in greater\n",
      "  hits = np.where(cur_imp[0] > imp_sha_max)[0]\n"
     ]
    },
    {
     "name": "stdout",
     "output_type": "stream",
     "text": [
      "Iteration: \t46 / 100\n",
      "Confirmed: \t15\n",
      "Tentative: \t3\n",
      "Rejected: \t17\n"
     ]
    },
    {
     "name": "stderr",
     "output_type": "stream",
     "text": [
      "/home/work/anaconda3/lib/python3.6/site-packages/boruta/boruta_py.py:418: RuntimeWarning: invalid value encountered in greater\n",
      "  hits = np.where(cur_imp[0] > imp_sha_max)[0]\n"
     ]
    },
    {
     "name": "stdout",
     "output_type": "stream",
     "text": [
      "Iteration: \t47 / 100\n",
      "Confirmed: \t15\n",
      "Tentative: \t3\n",
      "Rejected: \t17\n"
     ]
    },
    {
     "name": "stderr",
     "output_type": "stream",
     "text": [
      "/home/work/anaconda3/lib/python3.6/site-packages/boruta/boruta_py.py:418: RuntimeWarning: invalid value encountered in greater\n",
      "  hits = np.where(cur_imp[0] > imp_sha_max)[0]\n"
     ]
    },
    {
     "name": "stdout",
     "output_type": "stream",
     "text": [
      "Iteration: \t48 / 100\n",
      "Confirmed: \t15\n",
      "Tentative: \t3\n",
      "Rejected: \t17\n"
     ]
    },
    {
     "name": "stderr",
     "output_type": "stream",
     "text": [
      "/home/work/anaconda3/lib/python3.6/site-packages/boruta/boruta_py.py:418: RuntimeWarning: invalid value encountered in greater\n",
      "  hits = np.where(cur_imp[0] > imp_sha_max)[0]\n"
     ]
    },
    {
     "name": "stdout",
     "output_type": "stream",
     "text": [
      "Iteration: \t49 / 100\n",
      "Confirmed: \t15\n",
      "Tentative: \t3\n",
      "Rejected: \t17\n"
     ]
    },
    {
     "name": "stderr",
     "output_type": "stream",
     "text": [
      "/home/work/anaconda3/lib/python3.6/site-packages/boruta/boruta_py.py:418: RuntimeWarning: invalid value encountered in greater\n",
      "  hits = np.where(cur_imp[0] > imp_sha_max)[0]\n"
     ]
    },
    {
     "name": "stdout",
     "output_type": "stream",
     "text": [
      "Iteration: \t50 / 100\n",
      "Confirmed: \t15\n",
      "Tentative: \t3\n",
      "Rejected: \t17\n"
     ]
    },
    {
     "name": "stderr",
     "output_type": "stream",
     "text": [
      "/home/work/anaconda3/lib/python3.6/site-packages/boruta/boruta_py.py:418: RuntimeWarning: invalid value encountered in greater\n",
      "  hits = np.where(cur_imp[0] > imp_sha_max)[0]\n"
     ]
    },
    {
     "name": "stdout",
     "output_type": "stream",
     "text": [
      "Iteration: \t51 / 100\n",
      "Confirmed: \t15\n",
      "Tentative: \t3\n",
      "Rejected: \t17\n"
     ]
    },
    {
     "name": "stderr",
     "output_type": "stream",
     "text": [
      "/home/work/anaconda3/lib/python3.6/site-packages/boruta/boruta_py.py:418: RuntimeWarning: invalid value encountered in greater\n",
      "  hits = np.where(cur_imp[0] > imp_sha_max)[0]\n"
     ]
    },
    {
     "name": "stdout",
     "output_type": "stream",
     "text": [
      "Iteration: \t52 / 100\n",
      "Confirmed: \t15\n",
      "Tentative: \t3\n",
      "Rejected: \t17\n"
     ]
    },
    {
     "name": "stderr",
     "output_type": "stream",
     "text": [
      "/home/work/anaconda3/lib/python3.6/site-packages/boruta/boruta_py.py:418: RuntimeWarning: invalid value encountered in greater\n",
      "  hits = np.where(cur_imp[0] > imp_sha_max)[0]\n"
     ]
    },
    {
     "name": "stdout",
     "output_type": "stream",
     "text": [
      "Iteration: \t53 / 100\n",
      "Confirmed: \t15\n",
      "Tentative: \t3\n",
      "Rejected: \t17\n"
     ]
    },
    {
     "name": "stderr",
     "output_type": "stream",
     "text": [
      "/home/work/anaconda3/lib/python3.6/site-packages/boruta/boruta_py.py:418: RuntimeWarning: invalid value encountered in greater\n",
      "  hits = np.where(cur_imp[0] > imp_sha_max)[0]\n"
     ]
    },
    {
     "name": "stdout",
     "output_type": "stream",
     "text": [
      "Iteration: \t54 / 100\n",
      "Confirmed: \t15\n",
      "Tentative: \t3\n",
      "Rejected: \t17\n"
     ]
    },
    {
     "name": "stderr",
     "output_type": "stream",
     "text": [
      "/home/work/anaconda3/lib/python3.6/site-packages/boruta/boruta_py.py:418: RuntimeWarning: invalid value encountered in greater\n",
      "  hits = np.where(cur_imp[0] > imp_sha_max)[0]\n"
     ]
    },
    {
     "name": "stdout",
     "output_type": "stream",
     "text": [
      "Iteration: \t55 / 100\n",
      "Confirmed: \t15\n",
      "Tentative: \t3\n",
      "Rejected: \t17\n"
     ]
    },
    {
     "name": "stderr",
     "output_type": "stream",
     "text": [
      "/home/work/anaconda3/lib/python3.6/site-packages/boruta/boruta_py.py:418: RuntimeWarning: invalid value encountered in greater\n",
      "  hits = np.where(cur_imp[0] > imp_sha_max)[0]\n"
     ]
    },
    {
     "name": "stdout",
     "output_type": "stream",
     "text": [
      "Iteration: \t56 / 100\n",
      "Confirmed: \t15\n",
      "Tentative: \t3\n",
      "Rejected: \t17\n"
     ]
    },
    {
     "name": "stderr",
     "output_type": "stream",
     "text": [
      "/home/work/anaconda3/lib/python3.6/site-packages/boruta/boruta_py.py:418: RuntimeWarning: invalid value encountered in greater\n",
      "  hits = np.where(cur_imp[0] > imp_sha_max)[0]\n"
     ]
    },
    {
     "name": "stdout",
     "output_type": "stream",
     "text": [
      "Iteration: \t57 / 100\n",
      "Confirmed: \t15\n",
      "Tentative: \t3\n",
      "Rejected: \t17\n"
     ]
    },
    {
     "name": "stderr",
     "output_type": "stream",
     "text": [
      "/home/work/anaconda3/lib/python3.6/site-packages/boruta/boruta_py.py:418: RuntimeWarning: invalid value encountered in greater\n",
      "  hits = np.where(cur_imp[0] > imp_sha_max)[0]\n"
     ]
    },
    {
     "name": "stdout",
     "output_type": "stream",
     "text": [
      "Iteration: \t58 / 100\n",
      "Confirmed: \t15\n",
      "Tentative: \t3\n",
      "Rejected: \t17\n"
     ]
    },
    {
     "name": "stderr",
     "output_type": "stream",
     "text": [
      "/home/work/anaconda3/lib/python3.6/site-packages/boruta/boruta_py.py:418: RuntimeWarning: invalid value encountered in greater\n",
      "  hits = np.where(cur_imp[0] > imp_sha_max)[0]\n"
     ]
    },
    {
     "name": "stdout",
     "output_type": "stream",
     "text": [
      "Iteration: \t59 / 100\n",
      "Confirmed: \t15\n",
      "Tentative: \t3\n",
      "Rejected: \t17\n"
     ]
    },
    {
     "name": "stderr",
     "output_type": "stream",
     "text": [
      "/home/work/anaconda3/lib/python3.6/site-packages/boruta/boruta_py.py:418: RuntimeWarning: invalid value encountered in greater\n",
      "  hits = np.where(cur_imp[0] > imp_sha_max)[0]\n"
     ]
    },
    {
     "name": "stdout",
     "output_type": "stream",
     "text": [
      "Iteration: \t60 / 100\n",
      "Confirmed: \t15\n",
      "Tentative: \t3\n",
      "Rejected: \t17\n"
     ]
    },
    {
     "name": "stderr",
     "output_type": "stream",
     "text": [
      "/home/work/anaconda3/lib/python3.6/site-packages/boruta/boruta_py.py:418: RuntimeWarning: invalid value encountered in greater\n",
      "  hits = np.where(cur_imp[0] > imp_sha_max)[0]\n"
     ]
    },
    {
     "name": "stdout",
     "output_type": "stream",
     "text": [
      "Iteration: \t61 / 100\n",
      "Confirmed: \t15\n",
      "Tentative: \t3\n",
      "Rejected: \t17\n"
     ]
    },
    {
     "name": "stderr",
     "output_type": "stream",
     "text": [
      "/home/work/anaconda3/lib/python3.6/site-packages/boruta/boruta_py.py:418: RuntimeWarning: invalid value encountered in greater\n",
      "  hits = np.where(cur_imp[0] > imp_sha_max)[0]\n"
     ]
    },
    {
     "name": "stdout",
     "output_type": "stream",
     "text": [
      "Iteration: \t62 / 100\n",
      "Confirmed: \t15\n",
      "Tentative: \t3\n",
      "Rejected: \t17\n"
     ]
    },
    {
     "name": "stderr",
     "output_type": "stream",
     "text": [
      "/home/work/anaconda3/lib/python3.6/site-packages/boruta/boruta_py.py:418: RuntimeWarning: invalid value encountered in greater\n",
      "  hits = np.where(cur_imp[0] > imp_sha_max)[0]\n"
     ]
    },
    {
     "name": "stdout",
     "output_type": "stream",
     "text": [
      "Iteration: \t63 / 100\n",
      "Confirmed: \t15\n",
      "Tentative: \t3\n",
      "Rejected: \t17\n"
     ]
    },
    {
     "name": "stderr",
     "output_type": "stream",
     "text": [
      "/home/work/anaconda3/lib/python3.6/site-packages/boruta/boruta_py.py:418: RuntimeWarning: invalid value encountered in greater\n",
      "  hits = np.where(cur_imp[0] > imp_sha_max)[0]\n"
     ]
    },
    {
     "name": "stdout",
     "output_type": "stream",
     "text": [
      "Iteration: \t64 / 100\n",
      "Confirmed: \t15\n",
      "Tentative: \t3\n",
      "Rejected: \t17\n"
     ]
    },
    {
     "name": "stderr",
     "output_type": "stream",
     "text": [
      "/home/work/anaconda3/lib/python3.6/site-packages/boruta/boruta_py.py:418: RuntimeWarning: invalid value encountered in greater\n",
      "  hits = np.where(cur_imp[0] > imp_sha_max)[0]\n"
     ]
    },
    {
     "name": "stdout",
     "output_type": "stream",
     "text": [
      "Iteration: \t65 / 100\n",
      "Confirmed: \t15\n",
      "Tentative: \t3\n",
      "Rejected: \t17\n"
     ]
    },
    {
     "name": "stderr",
     "output_type": "stream",
     "text": [
      "/home/work/anaconda3/lib/python3.6/site-packages/boruta/boruta_py.py:418: RuntimeWarning: invalid value encountered in greater\n",
      "  hits = np.where(cur_imp[0] > imp_sha_max)[0]\n"
     ]
    },
    {
     "name": "stdout",
     "output_type": "stream",
     "text": [
      "Iteration: \t66 / 100\n",
      "Confirmed: \t15\n",
      "Tentative: \t3\n",
      "Rejected: \t17\n"
     ]
    },
    {
     "name": "stderr",
     "output_type": "stream",
     "text": [
      "/home/work/anaconda3/lib/python3.6/site-packages/boruta/boruta_py.py:418: RuntimeWarning: invalid value encountered in greater\n",
      "  hits = np.where(cur_imp[0] > imp_sha_max)[0]\n"
     ]
    },
    {
     "name": "stdout",
     "output_type": "stream",
     "text": [
      "Iteration: \t67 / 100\n",
      "Confirmed: \t15\n",
      "Tentative: \t3\n",
      "Rejected: \t17\n"
     ]
    },
    {
     "name": "stderr",
     "output_type": "stream",
     "text": [
      "/home/work/anaconda3/lib/python3.6/site-packages/boruta/boruta_py.py:418: RuntimeWarning: invalid value encountered in greater\n",
      "  hits = np.where(cur_imp[0] > imp_sha_max)[0]\n"
     ]
    },
    {
     "name": "stdout",
     "output_type": "stream",
     "text": [
      "Iteration: \t68 / 100\n",
      "Confirmed: \t15\n",
      "Tentative: \t3\n",
      "Rejected: \t17\n"
     ]
    },
    {
     "name": "stderr",
     "output_type": "stream",
     "text": [
      "/home/work/anaconda3/lib/python3.6/site-packages/boruta/boruta_py.py:418: RuntimeWarning: invalid value encountered in greater\n",
      "  hits = np.where(cur_imp[0] > imp_sha_max)[0]\n"
     ]
    },
    {
     "name": "stdout",
     "output_type": "stream",
     "text": [
      "Iteration: \t69 / 100\n",
      "Confirmed: \t15\n",
      "Tentative: \t3\n",
      "Rejected: \t17\n"
     ]
    },
    {
     "name": "stderr",
     "output_type": "stream",
     "text": [
      "/home/work/anaconda3/lib/python3.6/site-packages/boruta/boruta_py.py:418: RuntimeWarning: invalid value encountered in greater\n",
      "  hits = np.where(cur_imp[0] > imp_sha_max)[0]\n"
     ]
    },
    {
     "name": "stdout",
     "output_type": "stream",
     "text": [
      "Iteration: \t70 / 100\n",
      "Confirmed: \t15\n",
      "Tentative: \t3\n",
      "Rejected: \t17\n"
     ]
    },
    {
     "name": "stderr",
     "output_type": "stream",
     "text": [
      "/home/work/anaconda3/lib/python3.6/site-packages/boruta/boruta_py.py:418: RuntimeWarning: invalid value encountered in greater\n",
      "  hits = np.where(cur_imp[0] > imp_sha_max)[0]\n"
     ]
    },
    {
     "name": "stdout",
     "output_type": "stream",
     "text": [
      "Iteration: \t71 / 100\n",
      "Confirmed: \t15\n",
      "Tentative: \t3\n",
      "Rejected: \t17\n"
     ]
    },
    {
     "name": "stderr",
     "output_type": "stream",
     "text": [
      "/home/work/anaconda3/lib/python3.6/site-packages/boruta/boruta_py.py:418: RuntimeWarning: invalid value encountered in greater\n",
      "  hits = np.where(cur_imp[0] > imp_sha_max)[0]\n"
     ]
    },
    {
     "name": "stdout",
     "output_type": "stream",
     "text": [
      "Iteration: \t72 / 100\n",
      "Confirmed: \t15\n",
      "Tentative: \t3\n",
      "Rejected: \t17\n"
     ]
    },
    {
     "name": "stderr",
     "output_type": "stream",
     "text": [
      "/home/work/anaconda3/lib/python3.6/site-packages/boruta/boruta_py.py:418: RuntimeWarning: invalid value encountered in greater\n",
      "  hits = np.where(cur_imp[0] > imp_sha_max)[0]\n"
     ]
    },
    {
     "name": "stdout",
     "output_type": "stream",
     "text": [
      "Iteration: \t73 / 100\n",
      "Confirmed: \t15\n",
      "Tentative: \t3\n",
      "Rejected: \t17\n"
     ]
    },
    {
     "name": "stderr",
     "output_type": "stream",
     "text": [
      "/home/work/anaconda3/lib/python3.6/site-packages/boruta/boruta_py.py:418: RuntimeWarning: invalid value encountered in greater\n",
      "  hits = np.where(cur_imp[0] > imp_sha_max)[0]\n"
     ]
    },
    {
     "name": "stdout",
     "output_type": "stream",
     "text": [
      "Iteration: \t74 / 100\n",
      "Confirmed: \t15\n",
      "Tentative: \t3\n",
      "Rejected: \t17\n"
     ]
    },
    {
     "name": "stderr",
     "output_type": "stream",
     "text": [
      "/home/work/anaconda3/lib/python3.6/site-packages/boruta/boruta_py.py:418: RuntimeWarning: invalid value encountered in greater\n",
      "  hits = np.where(cur_imp[0] > imp_sha_max)[0]\n"
     ]
    },
    {
     "name": "stdout",
     "output_type": "stream",
     "text": [
      "Iteration: \t75 / 100\n",
      "Confirmed: \t15\n",
      "Tentative: \t3\n",
      "Rejected: \t17\n"
     ]
    },
    {
     "name": "stderr",
     "output_type": "stream",
     "text": [
      "/home/work/anaconda3/lib/python3.6/site-packages/boruta/boruta_py.py:418: RuntimeWarning: invalid value encountered in greater\n",
      "  hits = np.where(cur_imp[0] > imp_sha_max)[0]\n"
     ]
    },
    {
     "name": "stdout",
     "output_type": "stream",
     "text": [
      "Iteration: \t76 / 100\n",
      "Confirmed: \t15\n",
      "Tentative: \t3\n",
      "Rejected: \t17\n"
     ]
    },
    {
     "name": "stderr",
     "output_type": "stream",
     "text": [
      "/home/work/anaconda3/lib/python3.6/site-packages/boruta/boruta_py.py:418: RuntimeWarning: invalid value encountered in greater\n",
      "  hits = np.where(cur_imp[0] > imp_sha_max)[0]\n"
     ]
    },
    {
     "name": "stdout",
     "output_type": "stream",
     "text": [
      "Iteration: \t77 / 100\n",
      "Confirmed: \t15\n",
      "Tentative: \t3\n",
      "Rejected: \t17\n"
     ]
    },
    {
     "name": "stderr",
     "output_type": "stream",
     "text": [
      "/home/work/anaconda3/lib/python3.6/site-packages/boruta/boruta_py.py:418: RuntimeWarning: invalid value encountered in greater\n",
      "  hits = np.where(cur_imp[0] > imp_sha_max)[0]\n"
     ]
    },
    {
     "name": "stdout",
     "output_type": "stream",
     "text": [
      "Iteration: \t78 / 100\n",
      "Confirmed: \t15\n",
      "Tentative: \t3\n",
      "Rejected: \t17\n"
     ]
    },
    {
     "name": "stderr",
     "output_type": "stream",
     "text": [
      "/home/work/anaconda3/lib/python3.6/site-packages/boruta/boruta_py.py:418: RuntimeWarning: invalid value encountered in greater\n",
      "  hits = np.where(cur_imp[0] > imp_sha_max)[0]\n"
     ]
    },
    {
     "name": "stdout",
     "output_type": "stream",
     "text": [
      "Iteration: \t79 / 100\n",
      "Confirmed: \t15\n",
      "Tentative: \t3\n",
      "Rejected: \t17\n"
     ]
    },
    {
     "name": "stderr",
     "output_type": "stream",
     "text": [
      "/home/work/anaconda3/lib/python3.6/site-packages/boruta/boruta_py.py:418: RuntimeWarning: invalid value encountered in greater\n",
      "  hits = np.where(cur_imp[0] > imp_sha_max)[0]\n"
     ]
    },
    {
     "name": "stdout",
     "output_type": "stream",
     "text": [
      "Iteration: \t80 / 100\n",
      "Confirmed: \t15\n",
      "Tentative: \t3\n",
      "Rejected: \t17\n"
     ]
    },
    {
     "name": "stderr",
     "output_type": "stream",
     "text": [
      "/home/work/anaconda3/lib/python3.6/site-packages/boruta/boruta_py.py:418: RuntimeWarning: invalid value encountered in greater\n",
      "  hits = np.where(cur_imp[0] > imp_sha_max)[0]\n"
     ]
    },
    {
     "name": "stdout",
     "output_type": "stream",
     "text": [
      "Iteration: \t81 / 100\n",
      "Confirmed: \t15\n",
      "Tentative: \t3\n",
      "Rejected: \t17\n"
     ]
    },
    {
     "name": "stderr",
     "output_type": "stream",
     "text": [
      "/home/work/anaconda3/lib/python3.6/site-packages/boruta/boruta_py.py:418: RuntimeWarning: invalid value encountered in greater\n",
      "  hits = np.where(cur_imp[0] > imp_sha_max)[0]\n"
     ]
    },
    {
     "name": "stdout",
     "output_type": "stream",
     "text": [
      "Iteration: \t82 / 100\n",
      "Confirmed: \t15\n",
      "Tentative: \t3\n",
      "Rejected: \t17\n"
     ]
    },
    {
     "name": "stderr",
     "output_type": "stream",
     "text": [
      "/home/work/anaconda3/lib/python3.6/site-packages/boruta/boruta_py.py:418: RuntimeWarning: invalid value encountered in greater\n",
      "  hits = np.where(cur_imp[0] > imp_sha_max)[0]\n"
     ]
    },
    {
     "name": "stdout",
     "output_type": "stream",
     "text": [
      "Iteration: \t83 / 100\n",
      "Confirmed: \t15\n",
      "Tentative: \t3\n",
      "Rejected: \t17\n"
     ]
    },
    {
     "name": "stderr",
     "output_type": "stream",
     "text": [
      "/home/work/anaconda3/lib/python3.6/site-packages/boruta/boruta_py.py:418: RuntimeWarning: invalid value encountered in greater\n",
      "  hits = np.where(cur_imp[0] > imp_sha_max)[0]\n"
     ]
    },
    {
     "name": "stdout",
     "output_type": "stream",
     "text": [
      "Iteration: \t84 / 100\n",
      "Confirmed: \t15\n",
      "Tentative: \t3\n",
      "Rejected: \t17\n"
     ]
    },
    {
     "name": "stderr",
     "output_type": "stream",
     "text": [
      "/home/work/anaconda3/lib/python3.6/site-packages/boruta/boruta_py.py:418: RuntimeWarning: invalid value encountered in greater\n",
      "  hits = np.where(cur_imp[0] > imp_sha_max)[0]\n"
     ]
    },
    {
     "name": "stdout",
     "output_type": "stream",
     "text": [
      "Iteration: \t85 / 100\n",
      "Confirmed: \t15\n",
      "Tentative: \t3\n",
      "Rejected: \t17\n"
     ]
    },
    {
     "name": "stderr",
     "output_type": "stream",
     "text": [
      "/home/work/anaconda3/lib/python3.6/site-packages/boruta/boruta_py.py:418: RuntimeWarning: invalid value encountered in greater\n",
      "  hits = np.where(cur_imp[0] > imp_sha_max)[0]\n"
     ]
    },
    {
     "name": "stdout",
     "output_type": "stream",
     "text": [
      "Iteration: \t86 / 100\n",
      "Confirmed: \t15\n",
      "Tentative: \t3\n",
      "Rejected: \t17\n"
     ]
    },
    {
     "name": "stderr",
     "output_type": "stream",
     "text": [
      "/home/work/anaconda3/lib/python3.6/site-packages/boruta/boruta_py.py:418: RuntimeWarning: invalid value encountered in greater\n",
      "  hits = np.where(cur_imp[0] > imp_sha_max)[0]\n"
     ]
    },
    {
     "name": "stdout",
     "output_type": "stream",
     "text": [
      "Iteration: \t87 / 100\n",
      "Confirmed: \t15\n",
      "Tentative: \t3\n",
      "Rejected: \t17\n"
     ]
    },
    {
     "name": "stderr",
     "output_type": "stream",
     "text": [
      "/home/work/anaconda3/lib/python3.6/site-packages/boruta/boruta_py.py:418: RuntimeWarning: invalid value encountered in greater\n",
      "  hits = np.where(cur_imp[0] > imp_sha_max)[0]\n"
     ]
    },
    {
     "name": "stdout",
     "output_type": "stream",
     "text": [
      "Iteration: \t88 / 100\n",
      "Confirmed: \t15\n",
      "Tentative: \t3\n",
      "Rejected: \t17\n"
     ]
    },
    {
     "name": "stderr",
     "output_type": "stream",
     "text": [
      "/home/work/anaconda3/lib/python3.6/site-packages/boruta/boruta_py.py:418: RuntimeWarning: invalid value encountered in greater\n",
      "  hits = np.where(cur_imp[0] > imp_sha_max)[0]\n"
     ]
    },
    {
     "name": "stdout",
     "output_type": "stream",
     "text": [
      "Iteration: \t89 / 100\n",
      "Confirmed: \t15\n",
      "Tentative: \t3\n",
      "Rejected: \t17\n"
     ]
    },
    {
     "name": "stderr",
     "output_type": "stream",
     "text": [
      "/home/work/anaconda3/lib/python3.6/site-packages/boruta/boruta_py.py:418: RuntimeWarning: invalid value encountered in greater\n",
      "  hits = np.where(cur_imp[0] > imp_sha_max)[0]\n"
     ]
    },
    {
     "name": "stdout",
     "output_type": "stream",
     "text": [
      "Iteration: \t90 / 100\n",
      "Confirmed: \t15\n",
      "Tentative: \t3\n",
      "Rejected: \t17\n"
     ]
    },
    {
     "name": "stderr",
     "output_type": "stream",
     "text": [
      "/home/work/anaconda3/lib/python3.6/site-packages/boruta/boruta_py.py:418: RuntimeWarning: invalid value encountered in greater\n",
      "  hits = np.where(cur_imp[0] > imp_sha_max)[0]\n"
     ]
    },
    {
     "name": "stdout",
     "output_type": "stream",
     "text": [
      "Iteration: \t91 / 100\n",
      "Confirmed: \t15\n",
      "Tentative: \t3\n",
      "Rejected: \t17\n"
     ]
    },
    {
     "name": "stderr",
     "output_type": "stream",
     "text": [
      "/home/work/anaconda3/lib/python3.6/site-packages/boruta/boruta_py.py:418: RuntimeWarning: invalid value encountered in greater\n",
      "  hits = np.where(cur_imp[0] > imp_sha_max)[0]\n"
     ]
    },
    {
     "name": "stdout",
     "output_type": "stream",
     "text": [
      "Iteration: \t92 / 100\n",
      "Confirmed: \t15\n",
      "Tentative: \t3\n",
      "Rejected: \t17\n"
     ]
    },
    {
     "name": "stderr",
     "output_type": "stream",
     "text": [
      "/home/work/anaconda3/lib/python3.6/site-packages/boruta/boruta_py.py:418: RuntimeWarning: invalid value encountered in greater\n",
      "  hits = np.where(cur_imp[0] > imp_sha_max)[0]\n"
     ]
    },
    {
     "name": "stdout",
     "output_type": "stream",
     "text": [
      "Iteration: \t93 / 100\n",
      "Confirmed: \t15\n",
      "Tentative: \t3\n",
      "Rejected: \t17\n"
     ]
    },
    {
     "name": "stderr",
     "output_type": "stream",
     "text": [
      "/home/work/anaconda3/lib/python3.6/site-packages/boruta/boruta_py.py:418: RuntimeWarning: invalid value encountered in greater\n",
      "  hits = np.where(cur_imp[0] > imp_sha_max)[0]\n"
     ]
    },
    {
     "name": "stdout",
     "output_type": "stream",
     "text": [
      "Iteration: \t94 / 100\n",
      "Confirmed: \t15\n",
      "Tentative: \t3\n",
      "Rejected: \t17\n"
     ]
    },
    {
     "name": "stderr",
     "output_type": "stream",
     "text": [
      "/home/work/anaconda3/lib/python3.6/site-packages/boruta/boruta_py.py:418: RuntimeWarning: invalid value encountered in greater\n",
      "  hits = np.where(cur_imp[0] > imp_sha_max)[0]\n"
     ]
    },
    {
     "name": "stdout",
     "output_type": "stream",
     "text": [
      "Iteration: \t95 / 100\n",
      "Confirmed: \t15\n",
      "Tentative: \t3\n",
      "Rejected: \t17\n"
     ]
    },
    {
     "name": "stderr",
     "output_type": "stream",
     "text": [
      "/home/work/anaconda3/lib/python3.6/site-packages/boruta/boruta_py.py:418: RuntimeWarning: invalid value encountered in greater\n",
      "  hits = np.where(cur_imp[0] > imp_sha_max)[0]\n"
     ]
    },
    {
     "name": "stdout",
     "output_type": "stream",
     "text": [
      "Iteration: \t96 / 100\n",
      "Confirmed: \t15\n",
      "Tentative: \t3\n",
      "Rejected: \t17\n"
     ]
    },
    {
     "name": "stderr",
     "output_type": "stream",
     "text": [
      "/home/work/anaconda3/lib/python3.6/site-packages/boruta/boruta_py.py:418: RuntimeWarning: invalid value encountered in greater\n",
      "  hits = np.where(cur_imp[0] > imp_sha_max)[0]\n"
     ]
    },
    {
     "name": "stdout",
     "output_type": "stream",
     "text": [
      "Iteration: \t97 / 100\n",
      "Confirmed: \t15\n",
      "Tentative: \t3\n",
      "Rejected: \t17\n"
     ]
    },
    {
     "name": "stderr",
     "output_type": "stream",
     "text": [
      "/home/work/anaconda3/lib/python3.6/site-packages/boruta/boruta_py.py:418: RuntimeWarning: invalid value encountered in greater\n",
      "  hits = np.where(cur_imp[0] > imp_sha_max)[0]\n"
     ]
    },
    {
     "name": "stdout",
     "output_type": "stream",
     "text": [
      "Iteration: \t98 / 100\n",
      "Confirmed: \t15\n",
      "Tentative: \t3\n",
      "Rejected: \t17\n",
      "Iteration: \t99 / 100\n",
      "Confirmed: \t15\n",
      "Tentative: \t3\n",
      "Rejected: \t17\n",
      "\n",
      "\n",
      "BorutaPy finished running.\n",
      "\n",
      "Iteration: \t100 / 100\n",
      "Confirmed: \t15\n",
      "Tentative: \t2\n",
      "Rejected: \t17\n"
     ]
    },
    {
     "name": "stderr",
     "output_type": "stream",
     "text": [
      "/home/work/anaconda3/lib/python3.6/site-packages/boruta/boruta_py.py:418: RuntimeWarning: invalid value encountered in greater\n",
      "  hits = np.where(cur_imp[0] > imp_sha_max)[0]\n"
     ]
    },
    {
     "data": {
      "text/plain": [
       "BorutaPy(alpha=0.05,\n",
       "     estimator=RandomForestClassifier(bootstrap=True, class_weight='balanced',\n",
       "            criterion='gini', max_depth=5, max_features='auto',\n",
       "            max_leaf_nodes=None, min_impurity_decrease=0.0,\n",
       "            min_impurity_split=None, min_samples_leaf=1,\n",
       "            min_samples_split=2, min_weight_fraction_leaf=0.0,\n",
       "            n_estimators=120, n_jobs=-1, oob_score=False,\n",
       "            random_state=<mtrand.RandomState object at 0x7f9ff0e1e7e0>,\n",
       "            verbose=0, warm_start=False),\n",
       "     max_iter=100, n_estimators='auto', perc=100,\n",
       "     random_state=<mtrand.RandomState object at 0x7f9ff0e1e7e0>,\n",
       "     two_step=True, verbose=2)"
      ]
     },
     "execution_count": 34,
     "metadata": {},
     "output_type": "execute_result"
    }
   ],
   "source": [
    "# Using the boprutaPy package\n",
    "\n",
    "from boruta import BorutaPy\n",
    "\n",
    "rf = RF(n_jobs=-1, class_weight='balanced', max_depth=5)\n",
    "feat_selector = BorutaPy(rf, n_estimators='auto', verbose=2, random_state=1)\n",
    "feat_selector.fit(X, y)"
   ]
  },
  {
   "cell_type": "code",
   "execution_count": 35,
   "metadata": {},
   "outputs": [
    {
     "name": "stdout",
     "output_type": "stream",
     "text": [
      "Index(['add_assig_0', 'add_custom_assig_0', 'add_user_0', 'create_group_0',\n",
      "       'play_video_0', 'q_lvl_0_0', 'q_lvl_0_cor_0', 'view_assig_prog_0',\n",
      "       'view_concept_0', 'view_hint_0', 'start_year', 'start_month_1',\n",
      "       'start_month_2', 'start_month_3', 'start_month_9'],\n",
      "      dtype='object')\n",
      "                  name  rank\n",
      "0          add_assig_0     1\n",
      "28       start_month_3     1\n",
      "27       start_month_2     1\n",
      "23       start_month_1     1\n",
      "22          start_year     1\n",
      "21         view_hint_0     1\n",
      "20      view_concept_0     1\n",
      "19   view_assig_prog_0     1\n",
      "34       start_month_9     1\n",
      "5            q_lvl_0_0     1\n",
      "1   add_custom_assig_0     1\n",
      "2           add_user_0     1\n",
      "3       create_group_0     1\n",
      "4         play_video_0     1\n",
      "6        q_lvl_0_cor_0     1\n",
      "10       q_lvl_2_cor_0     2\n",
      "12       q_lvl_3_cor_0     2\n",
      "8        q_lvl_1_cor_0     3\n",
      "14       q_lvl_4_cor_0     4\n",
      "31       start_month_6     5\n",
      "7            q_lvl_1_0     5\n",
      "17           q_lvl_6_0     7\n",
      "9            q_lvl_2_0     8\n",
      "11           q_lvl_3_0     9\n",
      "13           q_lvl_4_0    10\n",
      "18       q_lvl_6_cor_0    10\n",
      "32       start_month_7    12\n",
      "16       q_lvl_5_cor_0    13\n",
      "15           q_lvl_5_0    14\n",
      "30       start_month_5    15\n",
      "24      start_month_10    16\n",
      "29       start_month_4    16\n",
      "33       start_month_8    18\n",
      "25      start_month_11    18\n",
      "26      start_month_12    20\n"
     ]
    }
   ],
   "source": [
    "# Print the columns that were found to be important\n",
    "print(df_lm_new.columns[feat_selector.support_])\n",
    "\n",
    "# Get the rank\n",
    "print(pd.DataFrame({'name':df_lm_new.columns,'rank':feat_selector.ranking_}).sort_values('rank'))\n",
    "\n",
    "# Transform X\n",
    "X_filtered = feat_selector.transform(X)\n"
   ]
  },
  {
   "cell_type": "code",
   "execution_count": 36,
   "metadata": {},
   "outputs": [
    {
     "name": "stdout",
     "output_type": "stream",
     "text": [
      "             precision    recall  f1-score   support\n",
      "\n",
      "          0       0.68      0.68      0.68       373\n",
      "          1       0.74      0.74      0.74       449\n",
      "\n",
      "avg / total       0.71      0.71      0.71       822\n",
      "\n"
     ]
    },
    {
     "data": {
      "image/png": "[encoded data removed]",
      "text/plain": [
       "<matplotlib.figure.Figure at 0x7f9ff14dd7f0>"
      ]
     },
     "metadata": {},
     "output_type": "display_data"
    }
   ],
   "source": [
    "# Let's train and evaluate the model\n",
    "\n",
    "# Assign\n",
    "X = X_filtered\n",
    "\n",
    "# Scale the data\n",
    "scaler = StandardScaler()\n",
    "X_trf = scaler.fit_transform(X_filtered)\n",
    "X = X_trf\n",
    "\n",
    "# Split into train and test sets\n",
    "X_train, X_test, y_train, y_test = train_test_split(X, y,test_size = 0.3, random_state=42)\n",
    "\n",
    "# Classifier\n",
    "clf = RF(n_estimators=100,random_state=42)\n",
    "clf.fit(X_train,y_train)\n",
    "\n",
    "# Predict\n",
    "y_pred = clf.predict(X_test)\n",
    "y_score = clf.predict_proba(X_test)\n",
    "\n",
    "# Evaluate\n",
    "plt.hist(y_pred)\n",
    "plt.hist(y_test,alpha= 0.4)\n",
    "\n",
    "print(classification_report(y_pred,y_test))\n"
   ]
  },
  {
   "cell_type": "code",
   "execution_count": 37,
   "metadata": {},
   "outputs": [
    {
     "data": {
      "text/plain": [
       "0.80637384278342261"
      ]
     },
     "execution_count": 37,
     "metadata": {},
     "output_type": "execute_result"
    },
    {
     "data": {
      "image/png": "[encoded data removed]",
      "text/plain": [
       "<matplotlib.figure.Figure at 0x7f9ff0f30fd0>"
      ]
     },
     "metadata": {},
     "output_type": "display_data"
    }
   ],
   "source": [
    "precision, recall, _ = precision_recall_curve(y_test,y_score[:,1])\n",
    "\n",
    "\n",
    "plt.step(recall, precision, color='b', alpha=0.2,\n",
    "         where='post')\n",
    "plt.fill_between(recall, precision, step='post', alpha=0.2,\n",
    "                 color='b')\n",
    "\n",
    "plt.xlabel('Recall')\n",
    "plt.ylabel('Precision')\n",
    "plt.ylim([0.0, 1.05])\n",
    "plt.xlim([0.0, 1.0])\n",
    "\n",
    "average_precision_score(y_test,y_score[:,1])\n"
   ]
  },
  {
   "cell_type": "code",
   "execution_count": null,
   "metadata": {
    "collapsed": true
   },
   "outputs": [],
   "source": []
  }
 ],
 "metadata": {
  "kernelspec": {
   "display_name": "Python 3",
   "language": "python",
   "name": "python3"
  },
  "language_info": {
   "codemirror_mode": {
    "name": "ipython",
    "version": 3
   },
   "file_extension": ".py",
   "mimetype": "text/x-python",
   "name": "python",
   "nbconvert_exporter": "python",
   "pygments_lexer": "ipython3",
   "version": "3.6.3"
  }
 },
 "nbformat": 4,
 "nbformat_minor": 2
}
