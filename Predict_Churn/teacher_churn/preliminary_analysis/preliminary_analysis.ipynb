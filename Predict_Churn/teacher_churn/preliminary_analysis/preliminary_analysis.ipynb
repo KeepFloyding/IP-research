{
 "cells": [
  {
   "cell_type": "code",
   "execution_count": 52,
   "metadata": {
    "collapsed": true
   },
   "outputs": [],
   "source": [
    "import pandas as pd\n",
    "import numpy as np\n",
    "import matplotlib.pyplot as plt\n",
    "%matplotlib inline\n"
   ]
  },
  {
   "cell_type": "code",
   "execution_count": 2,
   "metadata": {
    "collapsed": true
   },
   "outputs": [],
   "source": [
    "data_dir = '/home/andris/GitHub/data/churn_prediction/teacher_time_series.csv'\n"
   ]
  },
  {
   "cell_type": "code",
   "execution_count": 5,
   "metadata": {},
   "outputs": [
    {
     "data": {
      "text/html": [
       "<div>\n",
       "<style>\n",
       "    .dataframe thead tr:only-child th {\n",
       "        text-align: right;\n",
       "    }\n",
       "\n",
       "    .dataframe thead th {\n",
       "        text-align: left;\n",
       "    }\n",
       "\n",
       "    .dataframe tbody tr th {\n",
       "        vertical-align: top;\n",
       "    }\n",
       "</style>\n",
       "<table border=\"1\" class=\"dataframe\">\n",
       "  <thead>\n",
       "    <tr style=\"text-align: right;\">\n",
       "      <th></th>\n",
       "      <th>Unnamed: 0</th>\n",
       "      <th>user_id</th>\n",
       "      <th>date_created</th>\n",
       "      <th>event_type</th>\n",
       "      <th>registration_date</th>\n",
       "    </tr>\n",
       "  </thead>\n",
       "  <tbody>\n",
       "    <tr>\n",
       "      <th>0</th>\n",
       "      <td>0</td>\n",
       "      <td>00026a46eefde681a60b50bd7c2368c3091d035b2f5658...</td>\n",
       "      <td>2015-12-09 22:06:35.997</td>\n",
       "      <td>attempt</td>\n",
       "      <td>2015-12-09 22:20:36.767</td>\n",
       "    </tr>\n",
       "    <tr>\n",
       "      <th>1</th>\n",
       "      <td>1</td>\n",
       "      <td>00026a46eefde681a60b50bd7c2368c3091d035b2f5658...</td>\n",
       "      <td>2015-12-09 22:07:28.978</td>\n",
       "      <td>attempt</td>\n",
       "      <td>2015-12-09 22:20:36.767</td>\n",
       "    </tr>\n",
       "    <tr>\n",
       "      <th>2</th>\n",
       "      <td>2</td>\n",
       "      <td>00026a46eefde681a60b50bd7c2368c3091d035b2f5658...</td>\n",
       "      <td>2015-12-09 22:08:11.751</td>\n",
       "      <td>attempt</td>\n",
       "      <td>2015-12-09 22:20:36.767</td>\n",
       "    </tr>\n",
       "    <tr>\n",
       "      <th>3</th>\n",
       "      <td>3</td>\n",
       "      <td>00026a46eefde681a60b50bd7c2368c3091d035b2f5658...</td>\n",
       "      <td>2015-12-09 22:08:55.058</td>\n",
       "      <td>attempt</td>\n",
       "      <td>2015-12-09 22:20:36.767</td>\n",
       "    </tr>\n",
       "    <tr>\n",
       "      <th>4</th>\n",
       "      <td>4</td>\n",
       "      <td>00026a46eefde681a60b50bd7c2368c3091d035b2f5658...</td>\n",
       "      <td>2015-12-09 22:24:51.928</td>\n",
       "      <td>attempt</td>\n",
       "      <td>2015-12-09 22:20:36.767</td>\n",
       "    </tr>\n",
       "  </tbody>\n",
       "</table>\n",
       "</div>"
      ],
      "text/plain": [
       "   Unnamed: 0                                            user_id  \\\n",
       "0           0  00026a46eefde681a60b50bd7c2368c3091d035b2f5658...   \n",
       "1           1  00026a46eefde681a60b50bd7c2368c3091d035b2f5658...   \n",
       "2           2  00026a46eefde681a60b50bd7c2368c3091d035b2f5658...   \n",
       "3           3  00026a46eefde681a60b50bd7c2368c3091d035b2f5658...   \n",
       "4           4  00026a46eefde681a60b50bd7c2368c3091d035b2f5658...   \n",
       "\n",
       "              date_created event_type        registration_date  \n",
       "0  2015-12-09 22:06:35.997    attempt  2015-12-09 22:20:36.767  \n",
       "1  2015-12-09 22:07:28.978    attempt  2015-12-09 22:20:36.767  \n",
       "2  2015-12-09 22:08:11.751    attempt  2015-12-09 22:20:36.767  \n",
       "3  2015-12-09 22:08:55.058    attempt  2015-12-09 22:20:36.767  \n",
       "4  2015-12-09 22:24:51.928    attempt  2015-12-09 22:20:36.767  "
      ]
     },
     "execution_count": 5,
     "metadata": {},
     "output_type": "execute_result"
    }
   ],
   "source": [
    "df = pd.read_csv(data_dir)\n",
    "\n",
    "df.head()"
   ]
  },
  {
   "cell_type": "code",
   "execution_count": 6,
   "metadata": {
    "collapsed": true
   },
   "outputs": [],
   "source": [
    "def prepare_df(df,date_feature, group_array,start_date,end_date):\n",
    "\n",
    "    # Convert to datetime format\n",
    "    df[date_feature] = pd.to_datetime(df[date_feature])\n",
    "\n",
    "    # Select data from dates according to start_date and end_date\n",
    "    df = df[df[date_feature]>= pd.to_datetime(start_date)]\n",
    "    df = df[df[date_feature]<= pd.to_datetime(end_date)]\n",
    "\n",
    "    # Group according to categories\n",
    "    df_grp = df.groupby(group_array).count();\n",
    "\n",
    "    # Unpack the indices into columns\n",
    "    df_grp = df_grp.xs(date_feature, axis=1, drop_level=True)\n",
    "    df_grp = df_grp.unstack().fillna(0)\n",
    "  \n",
    "    # Return the dataframe\n",
    "    return df_grp"
   ]
  },
  {
   "cell_type": "code",
   "execution_count": 18,
   "metadata": {
    "collapsed": true
   },
   "outputs": [],
   "source": [
    "# Create a new column that discretises the time into seperate time legs\n",
    "\n",
    "dt = 30*24*3600\n",
    "df['event_leg'] = np.floor((pd.to_datetime(df['date_created']) - pd.to_datetime(df['registration_date'])).dt.total_seconds()/dt)\n",
    "  "
   ]
  },
  {
   "cell_type": "code",
   "execution_count": 21,
   "metadata": {},
   "outputs": [
    {
     "data": {
      "text/html": [
       "<div>\n",
       "<style>\n",
       "    .dataframe thead tr:only-child th {\n",
       "        text-align: right;\n",
       "    }\n",
       "\n",
       "    .dataframe thead th {\n",
       "        text-align: left;\n",
       "    }\n",
       "\n",
       "    .dataframe tbody tr th {\n",
       "        vertical-align: top;\n",
       "    }\n",
       "</style>\n",
       "<table border=\"1\" class=\"dataframe\">\n",
       "  <thead>\n",
       "    <tr style=\"text-align: right;\">\n",
       "      <th></th>\n",
       "      <th>event_type</th>\n",
       "      <th>add_assig</th>\n",
       "      <th>add_custom_assig</th>\n",
       "      <th>add_user</th>\n",
       "      <th>attempt</th>\n",
       "      <th>create_group</th>\n",
       "      <th>view_assig_prog</th>\n",
       "    </tr>\n",
       "    <tr>\n",
       "      <th>user_id</th>\n",
       "      <th>event_leg</th>\n",
       "      <th></th>\n",
       "      <th></th>\n",
       "      <th></th>\n",
       "      <th></th>\n",
       "      <th></th>\n",
       "      <th></th>\n",
       "    </tr>\n",
       "  </thead>\n",
       "  <tbody>\n",
       "    <tr>\n",
       "      <th rowspan=\"2\" valign=\"top\">00026a46eefde681a60b50bd7c2368c3091d035b2f565824640272c89eb6916a</th>\n",
       "      <th>-1.0</th>\n",
       "      <td>0.0</td>\n",
       "      <td>0.0</td>\n",
       "      <td>0.0</td>\n",
       "      <td>4.0</td>\n",
       "      <td>0.0</td>\n",
       "      <td>0.0</td>\n",
       "    </tr>\n",
       "    <tr>\n",
       "      <th>0.0</th>\n",
       "      <td>0.0</td>\n",
       "      <td>0.0</td>\n",
       "      <td>0.0</td>\n",
       "      <td>3.0</td>\n",
       "      <td>0.0</td>\n",
       "      <td>0.0</td>\n",
       "    </tr>\n",
       "    <tr>\n",
       "      <th>0018d184ff3b1f2336ebeac5646d13ca84de10d034adc5d1663a47a8a9f1937f</th>\n",
       "      <th>0.0</th>\n",
       "      <td>0.0</td>\n",
       "      <td>0.0</td>\n",
       "      <td>0.0</td>\n",
       "      <td>4.0</td>\n",
       "      <td>0.0</td>\n",
       "      <td>0.0</td>\n",
       "    </tr>\n",
       "    <tr>\n",
       "      <th rowspan=\"2\" valign=\"top\">001c6813b7449d381899502fb8f1bbbb9239a2b3d8b726cb140669288a58515b</th>\n",
       "      <th>0.0</th>\n",
       "      <td>0.0</td>\n",
       "      <td>0.0</td>\n",
       "      <td>0.0</td>\n",
       "      <td>8.0</td>\n",
       "      <td>0.0</td>\n",
       "      <td>0.0</td>\n",
       "    </tr>\n",
       "    <tr>\n",
       "      <th>1.0</th>\n",
       "      <td>0.0</td>\n",
       "      <td>0.0</td>\n",
       "      <td>0.0</td>\n",
       "      <td>5.0</td>\n",
       "      <td>0.0</td>\n",
       "      <td>0.0</td>\n",
       "    </tr>\n",
       "  </tbody>\n",
       "</table>\n",
       "</div>"
      ],
      "text/plain": [
       "event_type                                                    add_assig  \\\n",
       "user_id                                            event_leg              \n",
       "00026a46eefde681a60b50bd7c2368c3091d035b2f56582... -1.0             0.0   \n",
       "                                                    0.0             0.0   \n",
       "0018d184ff3b1f2336ebeac5646d13ca84de10d034adc5d...  0.0             0.0   \n",
       "001c6813b7449d381899502fb8f1bbbb9239a2b3d8b726c...  0.0             0.0   \n",
       "                                                    1.0             0.0   \n",
       "\n",
       "event_type                                                    add_custom_assig  \\\n",
       "user_id                                            event_leg                     \n",
       "00026a46eefde681a60b50bd7c2368c3091d035b2f56582... -1.0                    0.0   \n",
       "                                                    0.0                    0.0   \n",
       "0018d184ff3b1f2336ebeac5646d13ca84de10d034adc5d...  0.0                    0.0   \n",
       "001c6813b7449d381899502fb8f1bbbb9239a2b3d8b726c...  0.0                    0.0   \n",
       "                                                    1.0                    0.0   \n",
       "\n",
       "event_type                                                    add_user  \\\n",
       "user_id                                            event_leg             \n",
       "00026a46eefde681a60b50bd7c2368c3091d035b2f56582... -1.0            0.0   \n",
       "                                                    0.0            0.0   \n",
       "0018d184ff3b1f2336ebeac5646d13ca84de10d034adc5d...  0.0            0.0   \n",
       "001c6813b7449d381899502fb8f1bbbb9239a2b3d8b726c...  0.0            0.0   \n",
       "                                                    1.0            0.0   \n",
       "\n",
       "event_type                                                    attempt  \\\n",
       "user_id                                            event_leg            \n",
       "00026a46eefde681a60b50bd7c2368c3091d035b2f56582... -1.0           4.0   \n",
       "                                                    0.0           3.0   \n",
       "0018d184ff3b1f2336ebeac5646d13ca84de10d034adc5d...  0.0           4.0   \n",
       "001c6813b7449d381899502fb8f1bbbb9239a2b3d8b726c...  0.0           8.0   \n",
       "                                                    1.0           5.0   \n",
       "\n",
       "event_type                                                    create_group  \\\n",
       "user_id                                            event_leg                 \n",
       "00026a46eefde681a60b50bd7c2368c3091d035b2f56582... -1.0                0.0   \n",
       "                                                    0.0                0.0   \n",
       "0018d184ff3b1f2336ebeac5646d13ca84de10d034adc5d...  0.0                0.0   \n",
       "001c6813b7449d381899502fb8f1bbbb9239a2b3d8b726c...  0.0                0.0   \n",
       "                                                    1.0                0.0   \n",
       "\n",
       "event_type                                                    view_assig_prog  \n",
       "user_id                                            event_leg                   \n",
       "00026a46eefde681a60b50bd7c2368c3091d035b2f56582... -1.0                   0.0  \n",
       "                                                    0.0                   0.0  \n",
       "0018d184ff3b1f2336ebeac5646d13ca84de10d034adc5d...  0.0                   0.0  \n",
       "001c6813b7449d381899502fb8f1bbbb9239a2b3d8b726c...  0.0                   0.0  \n",
       "                                                    1.0                   0.0  "
      ]
     },
     "execution_count": 21,
     "metadata": {},
     "output_type": "execute_result"
    }
   ],
   "source": [
    "# Group and create a new multi index dataframe  \n",
    "\n",
    "start_date = '2014-08-01'\n",
    "end_date = '2017-08-01'\n",
    "\n",
    "df_grp = prepare_df(df,'date_created',['user_id','event_leg','event_type'],start_date,end_date)\n",
    "df_grp.head()"
   ]
  },
  {
   "cell_type": "code",
   "execution_count": 100,
   "metadata": {},
   "outputs": [
    {
     "name": "stdout",
     "output_type": "stream",
     "text": [
      "Number of teachers 3249\n"
     ]
    },
    {
     "data": {
      "image/png": "[encoded data removed]",
      "text/plain": [
       "<matplotlib.figure.Figure at 0x7fd8ca198c18>"
      ]
     },
     "metadata": {},
     "output_type": "display_data"
    },
    {
     "data": {
      "image/png": "[encoded data removed]",
      "text/plain": [
       "<matplotlib.figure.Figure at 0x7fd8c9fe2240>"
      ]
     },
     "metadata": {},
     "output_type": "display_data"
    }
   ],
   "source": [
    "# First let's check the unique number of teachers that there are\n",
    "\n",
    "print('Number of teachers',len(df_grp.index.get_level_values(0).unique()))\n",
    "\n",
    "# Churn pattern of teachers\n",
    "churn_pattern = df[['user_id','event_leg']].groupby('user_id').max()\n",
    "churn_pattern.hist(bins=int(churn_pattern.max())+1,figsize=(10,10))\n",
    "plt.xlabel('Leaving Month')\n",
    "plt.ylabel('Num of users that have left')\n",
    "plt.show()\n",
    "\n",
    "y = churn_pattern['event_leg'].value_counts().reset_index().sort_values('index').set_index('index').cumsum()*100/sum(churn_pattern['event_leg'].value_counts())\n",
    "plt.plot(range(len(y)),y['event_leg'],'-ok')\n",
    "plt.ylabel('Cumulative percentage of users that have left')\n",
    "plt.xlabel('Leaving Month')\n",
    "plt.grid()\n",
    "plt.show()\n",
    "\n"
   ]
  },
  {
   "cell_type": "code",
   "execution_count": 176,
   "metadata": {},
   "outputs": [
    {
     "data": {
      "text/html": [
       "<div>\n",
       "<style>\n",
       "    .dataframe thead tr:only-child th {\n",
       "        text-align: right;\n",
       "    }\n",
       "\n",
       "    .dataframe thead th {\n",
       "        text-align: left;\n",
       "    }\n",
       "\n",
       "    .dataframe tbody tr th {\n",
       "        vertical-align: top;\n",
       "    }\n",
       "</style>\n",
       "<table border=\"1\" class=\"dataframe\">\n",
       "  <thead>\n",
       "    <tr style=\"text-align: right;\">\n",
       "      <th>event_type</th>\n",
       "      <th>add_assig</th>\n",
       "      <th>add_custom_assig</th>\n",
       "      <th>add_user</th>\n",
       "      <th>attempt</th>\n",
       "      <th>create_group</th>\n",
       "      <th>view_assig_prog</th>\n",
       "    </tr>\n",
       "    <tr>\n",
       "      <th>user_id</th>\n",
       "      <th></th>\n",
       "      <th></th>\n",
       "      <th></th>\n",
       "      <th></th>\n",
       "      <th></th>\n",
       "      <th></th>\n",
       "    </tr>\n",
       "  </thead>\n",
       "  <tbody>\n",
       "    <tr>\n",
       "      <th>00026a46eefde681a60b50bd7c2368c3091d035b2f565824640272c89eb6916a</th>\n",
       "      <td>0.0</td>\n",
       "      <td>0.0</td>\n",
       "      <td>0.0</td>\n",
       "      <td>7.0</td>\n",
       "      <td>0.0</td>\n",
       "      <td>0.0</td>\n",
       "    </tr>\n",
       "    <tr>\n",
       "      <th>0018d184ff3b1f2336ebeac5646d13ca84de10d034adc5d1663a47a8a9f1937f</th>\n",
       "      <td>0.0</td>\n",
       "      <td>0.0</td>\n",
       "      <td>0.0</td>\n",
       "      <td>4.0</td>\n",
       "      <td>0.0</td>\n",
       "      <td>0.0</td>\n",
       "    </tr>\n",
       "    <tr>\n",
       "      <th>001c6813b7449d381899502fb8f1bbbb9239a2b3d8b726cb140669288a58515b</th>\n",
       "      <td>0.0</td>\n",
       "      <td>31.0</td>\n",
       "      <td>98.0</td>\n",
       "      <td>38.0</td>\n",
       "      <td>1.0</td>\n",
       "      <td>62.0</td>\n",
       "    </tr>\n",
       "    <tr>\n",
       "      <th>001ee4c077e3972984ebddee5d8928ea3be07031025d61888f2f4c58f61179ee</th>\n",
       "      <td>4.0</td>\n",
       "      <td>2.0</td>\n",
       "      <td>24.0</td>\n",
       "      <td>16.0</td>\n",
       "      <td>1.0</td>\n",
       "      <td>10.0</td>\n",
       "    </tr>\n",
       "    <tr>\n",
       "      <th>0037979dda749ad521e81ac59c594706d4ab73f53003793016e877be4ce41efb</th>\n",
       "      <td>0.0</td>\n",
       "      <td>2.0</td>\n",
       "      <td>12.0</td>\n",
       "      <td>1.0</td>\n",
       "      <td>1.0</td>\n",
       "      <td>4.0</td>\n",
       "    </tr>\n",
       "  </tbody>\n",
       "</table>\n",
       "</div>"
      ],
      "text/plain": [
       "event_type                                          add_assig  \\\n",
       "user_id                                                         \n",
       "00026a46eefde681a60b50bd7c2368c3091d035b2f56582...        0.0   \n",
       "0018d184ff3b1f2336ebeac5646d13ca84de10d034adc5d...        0.0   \n",
       "001c6813b7449d381899502fb8f1bbbb9239a2b3d8b726c...        0.0   \n",
       "001ee4c077e3972984ebddee5d8928ea3be07031025d618...        4.0   \n",
       "0037979dda749ad521e81ac59c594706d4ab73f53003793...        0.0   \n",
       "\n",
       "event_type                                          add_custom_assig  \\\n",
       "user_id                                                                \n",
       "00026a46eefde681a60b50bd7c2368c3091d035b2f56582...               0.0   \n",
       "0018d184ff3b1f2336ebeac5646d13ca84de10d034adc5d...               0.0   \n",
       "001c6813b7449d381899502fb8f1bbbb9239a2b3d8b726c...              31.0   \n",
       "001ee4c077e3972984ebddee5d8928ea3be07031025d618...               2.0   \n",
       "0037979dda749ad521e81ac59c594706d4ab73f53003793...               2.0   \n",
       "\n",
       "event_type                                          add_user  attempt  \\\n",
       "user_id                                                                 \n",
       "00026a46eefde681a60b50bd7c2368c3091d035b2f56582...       0.0      7.0   \n",
       "0018d184ff3b1f2336ebeac5646d13ca84de10d034adc5d...       0.0      4.0   \n",
       "001c6813b7449d381899502fb8f1bbbb9239a2b3d8b726c...      98.0     38.0   \n",
       "001ee4c077e3972984ebddee5d8928ea3be07031025d618...      24.0     16.0   \n",
       "0037979dda749ad521e81ac59c594706d4ab73f53003793...      12.0      1.0   \n",
       "\n",
       "event_type                                          create_group  \\\n",
       "user_id                                                            \n",
       "00026a46eefde681a60b50bd7c2368c3091d035b2f56582...           0.0   \n",
       "0018d184ff3b1f2336ebeac5646d13ca84de10d034adc5d...           0.0   \n",
       "001c6813b7449d381899502fb8f1bbbb9239a2b3d8b726c...           1.0   \n",
       "001ee4c077e3972984ebddee5d8928ea3be07031025d618...           1.0   \n",
       "0037979dda749ad521e81ac59c594706d4ab73f53003793...           1.0   \n",
       "\n",
       "event_type                                          view_assig_prog  \n",
       "user_id                                                              \n",
       "00026a46eefde681a60b50bd7c2368c3091d035b2f56582...              0.0  \n",
       "0018d184ff3b1f2336ebeac5646d13ca84de10d034adc5d...              0.0  \n",
       "001c6813b7449d381899502fb8f1bbbb9239a2b3d8b726c...             62.0  \n",
       "001ee4c077e3972984ebddee5d8928ea3be07031025d618...             10.0  \n",
       "0037979dda749ad521e81ac59c594706d4ab73f53003793...              4.0  "
      ]
     },
     "execution_count": 176,
     "metadata": {},
     "output_type": "execute_result"
    }
   ],
   "source": [
    "# Quantity of actions\n",
    "df_new = df_grp.reset_index().groupby('user_id').sum()\n",
    "df_new = df_new.drop('event_leg',axis=1)\n",
    "df_new.head()"
   ]
  },
  {
   "cell_type": "code",
   "execution_count": 185,
   "metadata": {},
   "outputs": [
    {
     "data": {
      "text/html": [
       "<div>\n",
       "<style>\n",
       "    .dataframe thead tr:only-child th {\n",
       "        text-align: right;\n",
       "    }\n",
       "\n",
       "    .dataframe thead th {\n",
       "        text-align: left;\n",
       "    }\n",
       "\n",
       "    .dataframe tbody tr th {\n",
       "        vertical-align: top;\n",
       "    }\n",
       "</style>\n",
       "<table border=\"1\" class=\"dataframe\">\n",
       "  <thead>\n",
       "    <tr style=\"text-align: right;\">\n",
       "      <th>event_type</th>\n",
       "      <th>add_assig</th>\n",
       "      <th>add_custom_assig</th>\n",
       "      <th>add_user</th>\n",
       "      <th>attempt</th>\n",
       "      <th>create_group</th>\n",
       "      <th>view_assig_prog</th>\n",
       "    </tr>\n",
       "    <tr>\n",
       "      <th>user_id</th>\n",
       "      <th></th>\n",
       "      <th></th>\n",
       "      <th></th>\n",
       "      <th></th>\n",
       "      <th></th>\n",
       "      <th></th>\n",
       "    </tr>\n",
       "  </thead>\n",
       "  <tbody>\n",
       "    <tr>\n",
       "      <th>00026a46eefde681a60b50bd7c2368c3091d035b2f565824640272c89eb6916a</th>\n",
       "      <td>0.0</td>\n",
       "      <td>0.0</td>\n",
       "      <td>0.0</td>\n",
       "      <td>7.0</td>\n",
       "      <td>0.0</td>\n",
       "      <td>0.0</td>\n",
       "    </tr>\n",
       "    <tr>\n",
       "      <th>0018d184ff3b1f2336ebeac5646d13ca84de10d034adc5d1663a47a8a9f1937f</th>\n",
       "      <td>0.0</td>\n",
       "      <td>0.0</td>\n",
       "      <td>0.0</td>\n",
       "      <td>4.0</td>\n",
       "      <td>0.0</td>\n",
       "      <td>0.0</td>\n",
       "    </tr>\n",
       "    <tr>\n",
       "      <th>001c6813b7449d381899502fb8f1bbbb9239a2b3d8b726cb140669288a58515b</th>\n",
       "      <td>0.0</td>\n",
       "      <td>31.0</td>\n",
       "      <td>98.0</td>\n",
       "      <td>38.0</td>\n",
       "      <td>1.0</td>\n",
       "      <td>62.0</td>\n",
       "    </tr>\n",
       "    <tr>\n",
       "      <th>001ee4c077e3972984ebddee5d8928ea3be07031025d61888f2f4c58f61179ee</th>\n",
       "      <td>4.0</td>\n",
       "      <td>2.0</td>\n",
       "      <td>24.0</td>\n",
       "      <td>16.0</td>\n",
       "      <td>1.0</td>\n",
       "      <td>10.0</td>\n",
       "    </tr>\n",
       "    <tr>\n",
       "      <th>0037979dda749ad521e81ac59c594706d4ab73f53003793016e877be4ce41efb</th>\n",
       "      <td>0.0</td>\n",
       "      <td>2.0</td>\n",
       "      <td>12.0</td>\n",
       "      <td>1.0</td>\n",
       "      <td>1.0</td>\n",
       "      <td>4.0</td>\n",
       "    </tr>\n",
       "  </tbody>\n",
       "</table>\n",
       "</div>"
      ],
      "text/plain": [
       "event_type                                          add_assig  \\\n",
       "user_id                                                         \n",
       "00026a46eefde681a60b50bd7c2368c3091d035b2f56582...        0.0   \n",
       "0018d184ff3b1f2336ebeac5646d13ca84de10d034adc5d...        0.0   \n",
       "001c6813b7449d381899502fb8f1bbbb9239a2b3d8b726c...        0.0   \n",
       "001ee4c077e3972984ebddee5d8928ea3be07031025d618...        4.0   \n",
       "0037979dda749ad521e81ac59c594706d4ab73f53003793...        0.0   \n",
       "\n",
       "event_type                                          add_custom_assig  \\\n",
       "user_id                                                                \n",
       "00026a46eefde681a60b50bd7c2368c3091d035b2f56582...               0.0   \n",
       "0018d184ff3b1f2336ebeac5646d13ca84de10d034adc5d...               0.0   \n",
       "001c6813b7449d381899502fb8f1bbbb9239a2b3d8b726c...              31.0   \n",
       "001ee4c077e3972984ebddee5d8928ea3be07031025d618...               2.0   \n",
       "0037979dda749ad521e81ac59c594706d4ab73f53003793...               2.0   \n",
       "\n",
       "event_type                                          add_user  attempt  \\\n",
       "user_id                                                                 \n",
       "00026a46eefde681a60b50bd7c2368c3091d035b2f56582...       0.0      7.0   \n",
       "0018d184ff3b1f2336ebeac5646d13ca84de10d034adc5d...       0.0      4.0   \n",
       "001c6813b7449d381899502fb8f1bbbb9239a2b3d8b726c...      98.0     38.0   \n",
       "001ee4c077e3972984ebddee5d8928ea3be07031025d618...      24.0     16.0   \n",
       "0037979dda749ad521e81ac59c594706d4ab73f53003793...      12.0      1.0   \n",
       "\n",
       "event_type                                          create_group  \\\n",
       "user_id                                                            \n",
       "00026a46eefde681a60b50bd7c2368c3091d035b2f56582...           0.0   \n",
       "0018d184ff3b1f2336ebeac5646d13ca84de10d034adc5d...           0.0   \n",
       "001c6813b7449d381899502fb8f1bbbb9239a2b3d8b726c...           1.0   \n",
       "001ee4c077e3972984ebddee5d8928ea3be07031025d618...           1.0   \n",
       "0037979dda749ad521e81ac59c594706d4ab73f53003793...           1.0   \n",
       "\n",
       "event_type                                          view_assig_prog  \n",
       "user_id                                                              \n",
       "00026a46eefde681a60b50bd7c2368c3091d035b2f56582...              0.0  \n",
       "0018d184ff3b1f2336ebeac5646d13ca84de10d034adc5d...              0.0  \n",
       "001c6813b7449d381899502fb8f1bbbb9239a2b3d8b726c...             62.0  \n",
       "001ee4c077e3972984ebddee5d8928ea3be07031025d618...             10.0  \n",
       "0037979dda749ad521e81ac59c594706d4ab73f53003793...              4.0  "
      ]
     },
     "execution_count": 185,
     "metadata": {},
     "output_type": "execute_result"
    }
   ],
   "source": [
    "# Checking for any nan\n",
    "df_new.head()"
   ]
  },
  {
   "cell_type": "code",
   "execution_count": 189,
   "metadata": {},
   "outputs": [],
   "source": [
    "# Removing outliers outside 5% \n",
    "\n",
    "df_new = df_new[(df_new < df_new.quantile(0.95)).all(axis=1)]"
   ]
  },
  {
   "cell_type": "code",
   "execution_count": 192,
   "metadata": {},
   "outputs": [
    {
     "data": {
      "image/png": "[encoded data removed]",
      "text/plain": [
       "<matplotlib.figure.Figure at 0x7fd8857b6d68>"
      ]
     },
     "metadata": {},
     "output_type": "display_data"
    },
    {
     "data": {
      "image/png": "[encoded data removed]",
      "text/plain": [
       "<matplotlib.figure.Figure at 0x7fd8c869edd8>"
      ]
     },
     "metadata": {},
     "output_type": "display_data"
    },
    {
     "data": {
      "image/png": "[encoded data removed]",
      "text/plain": [
       "<matplotlib.figure.Figure at 0x7fd8b8b624a8>"
      ]
     },
     "metadata": {},
     "output_type": "display_data"
    },
    {
     "data": {
      "image/png": "[encoded data removed]",
      "text/plain": [
       "<matplotlib.figure.Figure at 0x7fd884eb2978>"
      ]
     },
     "metadata": {},
     "output_type": "display_data"
    },
    {
     "data": {
      "image/png": "[encoded data removed]",
      "text/plain": [
       "<matplotlib.figure.Figure at 0x7fd8841d9d30>"
      ]
     },
     "metadata": {},
     "output_type": "display_data"
    },
    {
     "data": {
      "image/png": "[encoded data removed]",
      "text/plain": [
       "<matplotlib.figure.Figure at 0x7fd88450b710>"
      ]
     },
     "metadata": {},
     "output_type": "display_data"
    }
   ],
   "source": [
    "\n",
    "for item in df_new.keys():\n",
    "    \n",
    "    plt.hist(df_new[item],20)\n",
    "    #plt.ylim(0,100)\n",
    "    plt.title(item)\n",
    "    plt.show()"
   ]
  },
  {
   "cell_type": "markdown",
   "metadata": {},
   "source": [
    "## Conclusions from the preliminary data analysis\n",
    "\n",
    "\n",
    "* A large fraction of users drop off the platform within the first month (around 40%). Then they continue to use the platform.\n",
    "* Number of attempts and creating groups has a large differential effect. \n",
    "* Teachers do not tend to assign more than 3 groups. \n",
    "* Users added, viewing assignment progress and adding assignments does not have alot of differential. \n",
    "\n",
    "Now the question is whether we can predict the rate of teacher churn. "
   ]
  }
 ],
 "metadata": {
  "kernelspec": {
   "display_name": "Python 3",
   "language": "python",
   "name": "python3"
  },
  "language_info": {
   "codemirror_mode": {
    "name": "ipython",
    "version": 3
   },
   "file_extension": ".py",
   "mimetype": "text/x-python",
   "name": "python",
   "nbconvert_exporter": "python",
   "pygments_lexer": "ipython3",
   "version": "3.6.3"
  }
 },
 "nbformat": 4,
 "nbformat_minor": 2
}
