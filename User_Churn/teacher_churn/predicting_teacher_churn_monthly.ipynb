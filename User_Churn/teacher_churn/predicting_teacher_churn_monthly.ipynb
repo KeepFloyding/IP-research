{
 "cells": [
  {
   "cell_type": "code",
   "execution_count": 1,
   "metadata": {
    "collapsed": true
   },
   "outputs": [],
   "source": [
    "import pandas as pd\n",
    "import numpy as np\n",
    "import matplotlib.pyplot as plt\n",
    "%matplotlib inline\n",
    "\n",
    "# Inputs\n",
    "source_csv = '/home/andris/GitHub/data/teacher_time_series.csv'"
   ]
  },
  {
   "cell_type": "code",
   "execution_count": 2,
   "metadata": {
    "collapsed": true
   },
   "outputs": [],
   "source": [
    "df = pd.read_csv(source_csv)\n",
    "\n",
    "df = df.drop('Unnamed: 0', axis=1)\n",
    "\n",
    "# Specifying the regristration date od teachers\n",
    "df = df[pd.to_datetime(df['registration_date'])> pd.to_datetime('2015-08-01')]\n",
    "df = df[pd.to_datetime(df['registration_date'])< pd.to_datetime('2017-08-01')]"
   ]
  },
  {
   "cell_type": "code",
   "execution_count": 3,
   "metadata": {
    "collapsed": true
   },
   "outputs": [],
   "source": [
    "# Function that groups the dataframe and tabulates the number of instances per month\n",
    "def prepare_df(df,start_date, dt, date_feature, group_array):\n",
    "    \n",
    "    df[date_feature] = pd.to_datetime(df[date_feature])\n",
    "    df[start_date] = pd.to_datetime(df[start_date])\n",
    "    df['event_leg'] = np.floor((df[date_feature] - df[start_date]).dt.total_seconds()/dt)\n",
    "    \n",
    "    #df.drop('date_created',axis=1)\n",
    "    df_grp = df.groupby(group_array).count();\n",
    "    df_grp = df_grp.xs(date_feature, axis=1, drop_level=True)\n",
    "    \n",
    "    df_grp = df_grp.unstack().fillna(0)\n",
    "    #df_grp = df_grp.reset_index()\n",
    "    \n",
    "    return df_grp"
   ]
  },
  {
   "cell_type": "code",
   "execution_count": 5,
   "metadata": {},
   "outputs": [
    {
     "data": {
      "text/html": [
       "<div>\n",
       "<style>\n",
       "    .dataframe thead tr:only-child th {\n",
       "        text-align: right;\n",
       "    }\n",
       "\n",
       "    .dataframe thead th {\n",
       "        text-align: left;\n",
       "    }\n",
       "\n",
       "    .dataframe tbody tr th {\n",
       "        vertical-align: top;\n",
       "    }\n",
       "</style>\n",
       "<table border=\"1\" class=\"dataframe\">\n",
       "  <thead>\n",
       "    <tr style=\"text-align: right;\">\n",
       "      <th></th>\n",
       "      <th>event_type</th>\n",
       "      <th>add_assig</th>\n",
       "      <th>add_custom_assig</th>\n",
       "      <th>add_user</th>\n",
       "      <th>attempt</th>\n",
       "      <th>create_group</th>\n",
       "      <th>view_assig_prog</th>\n",
       "    </tr>\n",
       "    <tr>\n",
       "      <th>user_id</th>\n",
       "      <th>event_leg</th>\n",
       "      <th></th>\n",
       "      <th></th>\n",
       "      <th></th>\n",
       "      <th></th>\n",
       "      <th></th>\n",
       "      <th></th>\n",
       "    </tr>\n",
       "  </thead>\n",
       "  <tbody>\n",
       "    <tr>\n",
       "      <th rowspan=\"2\" valign=\"top\">00026a46eefde681a60b50bd7c2368c3091d035b2f565824640272c89eb6916a</th>\n",
       "      <th>-1.0</th>\n",
       "      <td>0.0</td>\n",
       "      <td>0.0</td>\n",
       "      <td>0.0</td>\n",
       "      <td>4.0</td>\n",
       "      <td>0.0</td>\n",
       "      <td>0.0</td>\n",
       "    </tr>\n",
       "    <tr>\n",
       "      <th>0.0</th>\n",
       "      <td>0.0</td>\n",
       "      <td>0.0</td>\n",
       "      <td>0.0</td>\n",
       "      <td>3.0</td>\n",
       "      <td>0.0</td>\n",
       "      <td>0.0</td>\n",
       "    </tr>\n",
       "    <tr>\n",
       "      <th>0018d184ff3b1f2336ebeac5646d13ca84de10d034adc5d1663a47a8a9f1937f</th>\n",
       "      <th>0.0</th>\n",
       "      <td>0.0</td>\n",
       "      <td>0.0</td>\n",
       "      <td>0.0</td>\n",
       "      <td>4.0</td>\n",
       "      <td>0.0</td>\n",
       "      <td>0.0</td>\n",
       "    </tr>\n",
       "    <tr>\n",
       "      <th rowspan=\"2\" valign=\"top\">001ee4c077e3972984ebddee5d8928ea3be07031025d61888f2f4c58f61179ee</th>\n",
       "      <th>0.0</th>\n",
       "      <td>1.0</td>\n",
       "      <td>1.0</td>\n",
       "      <td>1.0</td>\n",
       "      <td>6.0</td>\n",
       "      <td>0.0</td>\n",
       "      <td>4.0</td>\n",
       "    </tr>\n",
       "    <tr>\n",
       "      <th>2.0</th>\n",
       "      <td>3.0</td>\n",
       "      <td>1.0</td>\n",
       "      <td>23.0</td>\n",
       "      <td>10.0</td>\n",
       "      <td>1.0</td>\n",
       "      <td>6.0</td>\n",
       "    </tr>\n",
       "  </tbody>\n",
       "</table>\n",
       "</div>"
      ],
      "text/plain": [
       "event_type                                                    add_assig  \\\n",
       "user_id                                            event_leg              \n",
       "00026a46eefde681a60b50bd7c2368c3091d035b2f56582... -1.0             0.0   \n",
       "                                                    0.0             0.0   \n",
       "0018d184ff3b1f2336ebeac5646d13ca84de10d034adc5d...  0.0             0.0   \n",
       "001ee4c077e3972984ebddee5d8928ea3be07031025d618...  0.0             1.0   \n",
       "                                                    2.0             3.0   \n",
       "\n",
       "event_type                                                    add_custom_assig  \\\n",
       "user_id                                            event_leg                     \n",
       "00026a46eefde681a60b50bd7c2368c3091d035b2f56582... -1.0                    0.0   \n",
       "                                                    0.0                    0.0   \n",
       "0018d184ff3b1f2336ebeac5646d13ca84de10d034adc5d...  0.0                    0.0   \n",
       "001ee4c077e3972984ebddee5d8928ea3be07031025d618...  0.0                    1.0   \n",
       "                                                    2.0                    1.0   \n",
       "\n",
       "event_type                                                    add_user  \\\n",
       "user_id                                            event_leg             \n",
       "00026a46eefde681a60b50bd7c2368c3091d035b2f56582... -1.0            0.0   \n",
       "                                                    0.0            0.0   \n",
       "0018d184ff3b1f2336ebeac5646d13ca84de10d034adc5d...  0.0            0.0   \n",
       "001ee4c077e3972984ebddee5d8928ea3be07031025d618...  0.0            1.0   \n",
       "                                                    2.0           23.0   \n",
       "\n",
       "event_type                                                    attempt  \\\n",
       "user_id                                            event_leg            \n",
       "00026a46eefde681a60b50bd7c2368c3091d035b2f56582... -1.0           4.0   \n",
       "                                                    0.0           3.0   \n",
       "0018d184ff3b1f2336ebeac5646d13ca84de10d034adc5d...  0.0           4.0   \n",
       "001ee4c077e3972984ebddee5d8928ea3be07031025d618...  0.0           6.0   \n",
       "                                                    2.0          10.0   \n",
       "\n",
       "event_type                                                    create_group  \\\n",
       "user_id                                            event_leg                 \n",
       "00026a46eefde681a60b50bd7c2368c3091d035b2f56582... -1.0                0.0   \n",
       "                                                    0.0                0.0   \n",
       "0018d184ff3b1f2336ebeac5646d13ca84de10d034adc5d...  0.0                0.0   \n",
       "001ee4c077e3972984ebddee5d8928ea3be07031025d618...  0.0                0.0   \n",
       "                                                    2.0                1.0   \n",
       "\n",
       "event_type                                                    view_assig_prog  \n",
       "user_id                                            event_leg                   \n",
       "00026a46eefde681a60b50bd7c2368c3091d035b2f56582... -1.0                   0.0  \n",
       "                                                    0.0                   0.0  \n",
       "0018d184ff3b1f2336ebeac5646d13ca84de10d034adc5d...  0.0                   0.0  \n",
       "001ee4c077e3972984ebddee5d8928ea3be07031025d618...  0.0                   4.0  \n",
       "                                                    2.0                   6.0  "
      ]
     },
     "execution_count": 5,
     "metadata": {},
     "output_type": "execute_result"
    }
   ],
   "source": [
    "# An instance is defined as a 30 day period\n",
    "dt = 30*3600*24\n",
    "\n",
    "# Preparing the dataframe to see the events performed at each instance \n",
    "df_new = prepare_df(df,'registration_date',dt,'date_created',['user_id', 'event_leg','event_type'])\n",
    "df_new.head()"
   ]
  },
  {
   "cell_type": "code",
   "execution_count": 6,
   "metadata": {},
   "outputs": [
    {
     "name": "stdout",
     "output_type": "stream",
     "text": [
      "2688\n"
     ]
    }
   ],
   "source": [
    "# How many unique users do we have?\n",
    "\n",
    "print(len(np.unique(df['user_id'])))"
   ]
  },
  {
   "cell_type": "code",
   "execution_count": 7,
   "metadata": {
    "collapsed": true
   },
   "outputs": [],
   "source": [
    "\"\"\"\n",
    "A function that prepares our time series dataframe in one of 2 manners:\n",
    "    - sum (for every month of desired data, simply sum the values)\n",
    "    - append (for every month of desired data, add columns showing activity during that month)\n",
    "    \n",
    "Returns a churn dataframe that corresponds to when each user churned\n",
    "\"\"\"\n",
    "\n",
    "\n",
    "def prepare_time_series(df_test, month_array, type_operation):\n",
    "    \n",
    "    keys = np.unique(df_test.index.get_level_values(0))\n",
    "    var = [];\n",
    "    new_keys = [];\n",
    "    churn = [];\n",
    "\n",
    "    for key in keys:\n",
    "        try:\n",
    "            # Loading first month data\n",
    "            user_var = df_test.loc[key].loc[month_array[0]]\n",
    "\n",
    "            # Loading data from the other months if required\n",
    "            if len(month_array) > 1:\n",
    "                \n",
    "                for it in range(1,len(month_array)):\n",
    "                    \n",
    "                    if type_operation == 'sum':\n",
    "                        \n",
    "                        try:\n",
    "                            user_var = user_var + df_test.loc[key].loc[month_array[it]]\n",
    "                        except:\n",
    "                            continue\n",
    "                        \n",
    "                    elif type_operation == 'append':\n",
    "                        try:\n",
    "                            user_var_2 = df_test.loc[key].loc[month_array[it]]\n",
    "                        except:\n",
    "                            user_var_2 = df_test.iloc[0]*0\n",
    "                \n",
    "                        user_var_2 = user_var_2.rename(lambda x: x + '_'+str(month_array[it]))\n",
    "                        user_var = user_var.append(user_var_2)\n",
    "\n",
    "            churn.append(max(df_test.loc[key]['attempt'].keys().values))\n",
    "            var.append(user_var);\n",
    "            new_keys.append(key)\n",
    "        except:\n",
    "            continue\n",
    "            \n",
    "    df_new = pd.DataFrame(var, index = new_keys)\n",
    "    churn = pd.DataFrame(churn, index = new_keys, columns = ['event_leg'])\n",
    "    return df_new, churn\n"
   ]
  },
  {
   "cell_type": "code",
   "execution_count": 8,
   "metadata": {},
   "outputs": [
    {
     "data": {
      "text/html": [
       "<div>\n",
       "<style>\n",
       "    .dataframe thead tr:only-child th {\n",
       "        text-align: right;\n",
       "    }\n",
       "\n",
       "    .dataframe thead th {\n",
       "        text-align: left;\n",
       "    }\n",
       "\n",
       "    .dataframe tbody tr th {\n",
       "        vertical-align: top;\n",
       "    }\n",
       "</style>\n",
       "<table border=\"1\" class=\"dataframe\">\n",
       "  <thead>\n",
       "    <tr style=\"text-align: right;\">\n",
       "      <th>event_type</th>\n",
       "      <th>add_assig</th>\n",
       "      <th>add_custom_assig</th>\n",
       "      <th>add_user</th>\n",
       "      <th>attempt</th>\n",
       "      <th>create_group</th>\n",
       "      <th>view_assig_prog</th>\n",
       "    </tr>\n",
       "  </thead>\n",
       "  <tbody>\n",
       "    <tr>\n",
       "      <th>00026a46eefde681a60b50bd7c2368c3091d035b2f565824640272c89eb6916a</th>\n",
       "      <td>0.0</td>\n",
       "      <td>0.0</td>\n",
       "      <td>0.0</td>\n",
       "      <td>3.0</td>\n",
       "      <td>0.0</td>\n",
       "      <td>0.0</td>\n",
       "    </tr>\n",
       "    <tr>\n",
       "      <th>0018d184ff3b1f2336ebeac5646d13ca84de10d034adc5d1663a47a8a9f1937f</th>\n",
       "      <td>0.0</td>\n",
       "      <td>0.0</td>\n",
       "      <td>0.0</td>\n",
       "      <td>4.0</td>\n",
       "      <td>0.0</td>\n",
       "      <td>0.0</td>\n",
       "    </tr>\n",
       "    <tr>\n",
       "      <th>001ee4c077e3972984ebddee5d8928ea3be07031025d61888f2f4c58f61179ee</th>\n",
       "      <td>1.0</td>\n",
       "      <td>1.0</td>\n",
       "      <td>1.0</td>\n",
       "      <td>6.0</td>\n",
       "      <td>0.0</td>\n",
       "      <td>4.0</td>\n",
       "    </tr>\n",
       "    <tr>\n",
       "      <th>0037979dda749ad521e81ac59c594706d4ab73f53003793016e877be4ce41efb</th>\n",
       "      <td>0.0</td>\n",
       "      <td>2.0</td>\n",
       "      <td>12.0</td>\n",
       "      <td>1.0</td>\n",
       "      <td>0.0</td>\n",
       "      <td>4.0</td>\n",
       "    </tr>\n",
       "    <tr>\n",
       "      <th>0068f32c6dcbbdfa08c1b9cedc8d10b13f370725691cfdeb40e99c6c81d6056d</th>\n",
       "      <td>1.0</td>\n",
       "      <td>0.0</td>\n",
       "      <td>0.0</td>\n",
       "      <td>26.0</td>\n",
       "      <td>1.0</td>\n",
       "      <td>0.0</td>\n",
       "    </tr>\n",
       "  </tbody>\n",
       "</table>\n",
       "</div>"
      ],
      "text/plain": [
       "event_type                                          add_assig  \\\n",
       "00026a46eefde681a60b50bd7c2368c3091d035b2f56582...        0.0   \n",
       "0018d184ff3b1f2336ebeac5646d13ca84de10d034adc5d...        0.0   \n",
       "001ee4c077e3972984ebddee5d8928ea3be07031025d618...        1.0   \n",
       "0037979dda749ad521e81ac59c594706d4ab73f53003793...        0.0   \n",
       "0068f32c6dcbbdfa08c1b9cedc8d10b13f370725691cfde...        1.0   \n",
       "\n",
       "event_type                                          add_custom_assig  \\\n",
       "00026a46eefde681a60b50bd7c2368c3091d035b2f56582...               0.0   \n",
       "0018d184ff3b1f2336ebeac5646d13ca84de10d034adc5d...               0.0   \n",
       "001ee4c077e3972984ebddee5d8928ea3be07031025d618...               1.0   \n",
       "0037979dda749ad521e81ac59c594706d4ab73f53003793...               2.0   \n",
       "0068f32c6dcbbdfa08c1b9cedc8d10b13f370725691cfde...               0.0   \n",
       "\n",
       "event_type                                          add_user  attempt  \\\n",
       "00026a46eefde681a60b50bd7c2368c3091d035b2f56582...       0.0      3.0   \n",
       "0018d184ff3b1f2336ebeac5646d13ca84de10d034adc5d...       0.0      4.0   \n",
       "001ee4c077e3972984ebddee5d8928ea3be07031025d618...       1.0      6.0   \n",
       "0037979dda749ad521e81ac59c594706d4ab73f53003793...      12.0      1.0   \n",
       "0068f32c6dcbbdfa08c1b9cedc8d10b13f370725691cfde...       0.0     26.0   \n",
       "\n",
       "event_type                                          create_group  \\\n",
       "00026a46eefde681a60b50bd7c2368c3091d035b2f56582...           0.0   \n",
       "0018d184ff3b1f2336ebeac5646d13ca84de10d034adc5d...           0.0   \n",
       "001ee4c077e3972984ebddee5d8928ea3be07031025d618...           0.0   \n",
       "0037979dda749ad521e81ac59c594706d4ab73f53003793...           0.0   \n",
       "0068f32c6dcbbdfa08c1b9cedc8d10b13f370725691cfde...           1.0   \n",
       "\n",
       "event_type                                          view_assig_prog  \n",
       "00026a46eefde681a60b50bd7c2368c3091d035b2f56582...              0.0  \n",
       "0018d184ff3b1f2336ebeac5646d13ca84de10d034adc5d...              0.0  \n",
       "001ee4c077e3972984ebddee5d8928ea3be07031025d618...              4.0  \n",
       "0037979dda749ad521e81ac59c594706d4ab73f53003793...              4.0  \n",
       "0068f32c6dcbbdfa08c1b9cedc8d10b13f370725691cfde...              0.0  "
      ]
     },
     "execution_count": 8,
     "metadata": {},
     "output_type": "execute_result"
    }
   ],
   "source": [
    "# Using data of month 0, determine who left the platform the following month\n",
    "\n",
    "month_array = [0]; # Months of activity to encorporate in the model\n",
    "last_month = max(month_array) # Last month of activity\n",
    "\n",
    "# Preparing the dataframe\n",
    "df_trf, churn = prepare_time_series(df_new, month_array, 'append')\n",
    "\n",
    "# Print the dataframe\n",
    "df_trf.head()"
   ]
  },
  {
   "cell_type": "code",
   "execution_count": 9,
   "metadata": {},
   "outputs": [
    {
     "name": "stdout",
     "output_type": "stream",
     "text": [
      "Number of remaining users: 2229\n",
      "Number of people who have churned next month 1163\n",
      "Number of people who haven't churned next month 1066\n"
     ]
    },
    {
     "data": {
      "image/png": "[encoded data removed]",
      "text/plain": [
       "<matplotlib.figure.Figure at 0x7fbbf084f9b0>"
      ]
     },
     "metadata": {},
     "output_type": "display_data"
    }
   ],
   "source": [
    "# Predicting the users that will leave in the subsequent months\n",
    "\n",
    "# First eliminate all users that have churned before last month\n",
    "eliminate = churn['event_leg']>=last_month # users must have last month equal or greater than encorpoarted into data\n",
    "churn = churn[eliminate]\n",
    "df_trf = df_trf[eliminate]\n",
    "print('Number of remaining users:',len(churn))\n",
    "\n",
    "# Of those users, how many had a last month of activity at 1, and therefore churned next month\n",
    "label = [1 if item == last_month else 0 for item in churn.values]\n",
    "\n",
    "plt.hist(label)\n",
    "print(\"Number of people who have churned next month\", label.count(1))\n",
    "print(\"Number of people who haven't churned next month\", label.count(0))\n"
   ]
  },
  {
   "cell_type": "code",
   "execution_count": 10,
   "metadata": {
    "collapsed": true
   },
   "outputs": [],
   "source": [
    "# General function to test any classifier\n",
    "\n",
    "from sklearn.metrics import recall_score, precision_score, accuracy_score\n",
    "from sklearn.model_selection import KFold, train_test_split\n",
    "\n",
    "def test_classifier(X,y, clf_class,n_fold,**kwargs):\n",
    "    \n",
    "    # Construct a kfolds object\n",
    "    kf = KFold(n_splits=n_fold,shuffle=True)\n",
    "    y_checks = np.zeros(len(y))\n",
    "    # Iterate through folds\n",
    "    score = [];\n",
    "    for train_index, test_index in kf.split(y):\n",
    "        \n",
    "        # Training classifier\n",
    "        X_train, X_test = X[train_index], X[test_index]\n",
    "        y_train, y_test = y[train_index], y[test_index]\n",
    "        clf = clf_class(**kwargs)\n",
    "        clf.fit(X_train,y_train)\n",
    "        \n",
    "        # Predicting values and testing\n",
    "        y_pred = clf.predict(X_test)\n",
    "        score.append([accuracy_score(y_test, y_pred),precision_score(y_test, y_pred),\n",
    "                      recall_score(y_test,y_pred)])\n",
    "        \n",
    "        # Predicted values from cross-validation\n",
    "        y_checks[test_index] = y_pred\n",
    "\n",
    "    df_score = pd.DataFrame(score, columns=['Accuracy', 'Precision','Recall'])\n",
    "    df_score.loc['mean'] = df_score.mean()\n",
    "    \n",
    "    return df_score, y_checks"
   ]
  },
  {
   "cell_type": "code",
   "execution_count": 11,
   "metadata": {
    "collapsed": true
   },
   "outputs": [],
   "source": [
    "# Scaling the data\n",
    "\n",
    "from sklearn.preprocessing import StandardScaler\n",
    "\n",
    "scaler = StandardScaler()\n",
    "X = scaler.fit_transform(df_trf)\n",
    "y = np.array(label);\n"
   ]
  },
  {
   "cell_type": "code",
   "execution_count": 17,
   "metadata": {},
   "outputs": [
    {
     "name": "stdout",
     "output_type": "stream",
     "text": [
      "      Accuracy  Precision    Recall\n",
      "0     0.511211   0.591928  0.509653\n",
      "1     0.529148   0.547826  0.543103\n",
      "2     0.477578   0.502110  0.508547\n",
      "3     0.479821   0.476793  0.511312\n",
      "4     0.494382   0.484127  0.562212\n",
      "mean  0.498428   0.520557  0.526965\n"
     ]
    }
   ],
   "source": [
    "# Testing with a random classifier\n",
    "\n",
    "from sklearn.dummy import DummyClassifier as DC\n",
    "\n",
    "n_fold=5;\n",
    "\n",
    "df_score, y_pred = test_classifier(X,y,DC, n_fold,strategy='stratified')\n",
    "\n",
    "print(df_score)"
   ]
  },
  {
   "cell_type": "code",
   "execution_count": 12,
   "metadata": {},
   "outputs": [
    {
     "name": "stdout",
     "output_type": "stream",
     "text": [
      "      Accuracy  Precision    Recall\n",
      "0     0.677130   0.684397  0.778226\n",
      "1     0.665919   0.646840  0.763158\n",
      "2     0.708520   0.689286  0.817797\n",
      "3     0.663677   0.635379  0.782222\n",
      "4     0.698876   0.661972  0.831858\n",
      "mean  0.682825   0.663575  0.794652\n"
     ]
    },
    {
     "data": {
      "text/plain": [
       "([array([  837.,     0.,     0.,     0.,     0.,     0.,     0.,     0.,\n",
       "             0.,  1392.]),\n",
       "  array([ 1066.,     0.,     0.,     0.,     0.,     0.,     0.,     0.,\n",
       "             0.,  1163.])],\n",
       " array([ 0. ,  0.1,  0.2,  0.3,  0.4,  0.5,  0.6,  0.7,  0.8,  0.9,  1. ]),\n",
       " <a list of 2 Lists of Patches objects>)"
      ]
     },
     "execution_count": 12,
     "metadata": {},
     "output_type": "execute_result"
    },
    {
     "data": {
      "image/png": "[encoded data removed]",
      "text/plain": [
       "<matplotlib.figure.Figure at 0x7fbbef8b04a8>"
      ]
     },
     "metadata": {},
     "output_type": "display_data"
    }
   ],
   "source": [
    "# Testing with a random forest classifier\n",
    "\n",
    "from sklearn.ensemble import RandomForestClassifier as RF\n",
    "\n",
    "n_fold=5;\n",
    "df_score, y_pred = test_classifier(X, y, RF, n_fold, n_estimators = 1000)\n",
    "print(df_score)\n",
    "\n",
    "plt.hist([y_pred,y],histtype='bar')"
   ]
  },
  {
   "cell_type": "code",
   "execution_count": 28,
   "metadata": {},
   "outputs": [
    {
     "name": "stdout",
     "output_type": "stream",
     "text": [
      "      Accuracy  Precision    Recall\n",
      "0     0.699552   0.661130  0.861472\n",
      "1     0.663677   0.627586  0.812500\n",
      "2     0.706278   0.670000  0.862661\n",
      "3     0.688341   0.647059  0.864629\n",
      "4     0.725843   0.703947  0.869919\n",
      "mean  0.696738   0.661944  0.854236\n"
     ]
    },
    {
     "data": {
      "text/plain": [
       "([array([  728.,     0.,     0.,     0.,     0.,     0.,     0.,     0.,\n",
       "             0.,  1501.]),\n",
       "  array([ 1066.,     0.,     0.,     0.,     0.,     0.,     0.,     0.,\n",
       "             0.,  1163.])],\n",
       " array([ 0. ,  0.1,  0.2,  0.3,  0.4,  0.5,  0.6,  0.7,  0.8,  0.9,  1. ]),\n",
       " <a list of 2 Lists of Patches objects>)"
      ]
     },
     "execution_count": 28,
     "metadata": {},
     "output_type": "execute_result"
    },
    {
     "data": {
      "image/png": "[encoded data removed]",
      "text/plain": [
       "<matplotlib.figure.Figure at 0x7fbbcc6be710>"
      ]
     },
     "metadata": {},
     "output_type": "display_data"
    }
   ],
   "source": [
    "from sklearn.ensemble import GradientBoostingClassifier as GB\n",
    "\n",
    "n_fold=5;\n",
    "df_score, y_pred = test_classifier(X, y, GB, n_fold, n_estimators = 100)\n",
    "print(df_score)\n",
    "\n",
    "plt.hist([y_pred,y],histtype='bar')"
   ]
  },
  {
   "cell_type": "code",
   "execution_count": 21,
   "metadata": {},
   "outputs": [
    {
     "name": "stdout",
     "output_type": "stream",
     "text": [
      "Feature ranking:\n",
      "1. feature 3 (0.290715) attempt\n",
      "2. feature 2 (0.265243) add_user\n",
      "3. feature 5 (0.176470) view_assig_prog\n",
      "4. feature 1 (0.114754) add_custom_assig\n",
      "5. feature 4 (0.096271) create_group\n",
      "6. feature 0 (0.056547) add_assig\n"
     ]
    }
   ],
   "source": [
    "# What do the random forests think is the most important feature?\n",
    "\n",
    "from sklearn.ensemble import RandomForestClassifier as RF\n",
    "\n",
    "def return_feature_importance(X,y,keys,n_estimators = 100):\n",
    "\n",
    "    # Using the random forest classifier, find out what are the main features that predict whether a user is likely to churn or not\n",
    "    randomForest = RF(n_estimators)\n",
    "    randomForest.fit(X,y)\n",
    "    \n",
    "    importances = randomForest.feature_importances_\n",
    "    \n",
    "    indices = np.argsort(importances)[::-1]\n",
    "    \n",
    "    # Print the feature ranking\n",
    "    print(\"Feature ranking:\")\n",
    "    \n",
    "    for f in range(X.shape[1]):\n",
    "        print(\"%d. feature %d (%f)\" % (f + 1, indices[f], importances[indices[f]]),keys[indices[f]])\n",
    "        \n",
    "return_feature_importance(X,y,df_trf.keys())"
   ]
  },
  {
   "cell_type": "code",
   "execution_count": 27,
   "metadata": {},
   "outputs": [
    {
     "name": "stdout",
     "output_type": "stream",
     "text": [
      "      Accuracy  Precision    Recall\n",
      "0     0.692825   0.661017  0.840517\n",
      "1     0.690583   0.653614  0.904167\n",
      "2     0.704036   0.689542  0.850806\n",
      "3     0.681614   0.638158  0.858407\n",
      "4     0.689888   0.632107  0.870968\n",
      "mean  0.691789   0.654888  0.864973\n"
     ]
    },
    {
     "data": {
      "text/plain": [
       "([array([  693.,     0.,     0.,     0.,     0.,     0.,     0.,     0.,\n",
       "             0.,  1536.]),\n",
       "  array([ 1066.,     0.,     0.,     0.,     0.,     0.,     0.,     0.,\n",
       "             0.,  1163.])],\n",
       " array([ 0. ,  0.1,  0.2,  0.3,  0.4,  0.5,  0.6,  0.7,  0.8,  0.9,  1. ]),\n",
       " <a list of 2 Lists of Patches objects>)"
      ]
     },
     "execution_count": 27,
     "metadata": {},
     "output_type": "execute_result"
    },
    {
     "data": {
      "image/png": "[encoded data removed]",
      "text/plain": [
       "<matplotlib.figure.Figure at 0x7fbbcc4e60b8>"
      ]
     },
     "metadata": {},
     "output_type": "display_data"
    }
   ],
   "source": [
    "from sklearn.svm import SVC\n",
    "\n",
    "n_fold=5;\n",
    "df_score, y_pred = test_classifier(X, y, SVC, n_fold,C= 100)\n",
    "print(df_score)\n",
    "\n",
    "plt.hist([y_pred,y],histtype='bar')"
   ]
  }
 ],
 "metadata": {
  "kernelspec": {
   "display_name": "Python 3",
   "language": "python",
   "name": "python3"
  },
  "language_info": {
   "codemirror_mode": {
    "name": "ipython",
    "version": 3
   },
   "file_extension": ".py",
   "mimetype": "text/x-python",
   "name": "python",
   "nbconvert_exporter": "python",
   "pygments_lexer": "ipython3",
   "version": "3.6.3"
  }
 },
 "nbformat": 4,
 "nbformat_minor": 2
}
