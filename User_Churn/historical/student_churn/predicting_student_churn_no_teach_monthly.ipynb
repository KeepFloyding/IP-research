{
 "cells": [
  {
   "cell_type": "code",
   "execution_count": 1,
   "metadata": {
    "collapsed": true
   },
   "outputs": [],
   "source": [
    "import pandas as pd\n",
    "import numpy as np\n",
    "import matplotlib.pyplot as plt\n",
    "%matplotlib inline\n",
    "\n",
    "source_csv = '/home/andris/GitHub/data/user_series.csv'"
   ]
  },
  {
   "cell_type": "code",
   "execution_count": 2,
   "metadata": {},
   "outputs": [
    {
     "data": {
      "text/html": [
       "<div>\n",
       "<style>\n",
       "    .dataframe thead tr:only-child th {\n",
       "        text-align: right;\n",
       "    }\n",
       "\n",
       "    .dataframe thead th {\n",
       "        text-align: left;\n",
       "    }\n",
       "\n",
       "    .dataframe tbody tr th {\n",
       "        vertical-align: top;\n",
       "    }\n",
       "</style>\n",
       "<table border=\"1\" class=\"dataframe\">\n",
       "  <thead>\n",
       "    <tr style=\"text-align: right;\">\n",
       "      <th></th>\n",
       "      <th></th>\n",
       "      <th>play_video</th>\n",
       "      <th>q_lvl_0</th>\n",
       "      <th>q_lvl_0_cor</th>\n",
       "      <th>q_lvl_1</th>\n",
       "      <th>q_lvl_1_cor</th>\n",
       "      <th>q_lvl_2</th>\n",
       "      <th>q_lvl_2_cor</th>\n",
       "      <th>q_lvl_3</th>\n",
       "      <th>q_lvl_3_cor</th>\n",
       "      <th>q_lvl_4</th>\n",
       "      <th>q_lvl_4_cor</th>\n",
       "      <th>q_lvl_5</th>\n",
       "      <th>q_lvl_5_cor</th>\n",
       "      <th>q_lvl_6</th>\n",
       "      <th>q_lvl_6_cor</th>\n",
       "      <th>view_concept</th>\n",
       "      <th>view_hint</th>\n",
       "    </tr>\n",
       "    <tr>\n",
       "      <th>id</th>\n",
       "      <th>event_leg</th>\n",
       "      <th></th>\n",
       "      <th></th>\n",
       "      <th></th>\n",
       "      <th></th>\n",
       "      <th></th>\n",
       "      <th></th>\n",
       "      <th></th>\n",
       "      <th></th>\n",
       "      <th></th>\n",
       "      <th></th>\n",
       "      <th></th>\n",
       "      <th></th>\n",
       "      <th></th>\n",
       "      <th></th>\n",
       "      <th></th>\n",
       "      <th></th>\n",
       "      <th></th>\n",
       "    </tr>\n",
       "  </thead>\n",
       "  <tbody>\n",
       "    <tr>\n",
       "      <th>00007cec7712f365f0dc35daee6be4ba26add9bf5438a01c8db96e3255396a21</th>\n",
       "      <th>0.0</th>\n",
       "      <td>0.0</td>\n",
       "      <td>11.0</td>\n",
       "      <td>12.0</td>\n",
       "      <td>0.0</td>\n",
       "      <td>0.0</td>\n",
       "      <td>0.0</td>\n",
       "      <td>0.0</td>\n",
       "      <td>0.0</td>\n",
       "      <td>0.0</td>\n",
       "      <td>0.0</td>\n",
       "      <td>0.0</td>\n",
       "      <td>0.0</td>\n",
       "      <td>0.0</td>\n",
       "      <td>0.0</td>\n",
       "      <td>0.0</td>\n",
       "      <td>0.0</td>\n",
       "      <td>0.0</td>\n",
       "    </tr>\n",
       "    <tr>\n",
       "      <th>00011e0373cefdf1a82a6ceced473cecc3390c009adef9d5e8d53922851efb65</th>\n",
       "      <th>0.0</th>\n",
       "      <td>0.0</td>\n",
       "      <td>12.0</td>\n",
       "      <td>22.0</td>\n",
       "      <td>0.0</td>\n",
       "      <td>0.0</td>\n",
       "      <td>0.0</td>\n",
       "      <td>0.0</td>\n",
       "      <td>0.0</td>\n",
       "      <td>0.0</td>\n",
       "      <td>0.0</td>\n",
       "      <td>0.0</td>\n",
       "      <td>0.0</td>\n",
       "      <td>0.0</td>\n",
       "      <td>0.0</td>\n",
       "      <td>0.0</td>\n",
       "      <td>0.0</td>\n",
       "      <td>0.0</td>\n",
       "    </tr>\n",
       "    <tr>\n",
       "      <th rowspan=\"3\" valign=\"top\">0001fbafbadf796136e7b11d6d156c485a4439498d052be3157dc489a2de5605</th>\n",
       "      <th>0.0</th>\n",
       "      <td>0.0</td>\n",
       "      <td>100.0</td>\n",
       "      <td>83.0</td>\n",
       "      <td>0.0</td>\n",
       "      <td>0.0</td>\n",
       "      <td>0.0</td>\n",
       "      <td>0.0</td>\n",
       "      <td>0.0</td>\n",
       "      <td>0.0</td>\n",
       "      <td>0.0</td>\n",
       "      <td>0.0</td>\n",
       "      <td>0.0</td>\n",
       "      <td>0.0</td>\n",
       "      <td>0.0</td>\n",
       "      <td>0.0</td>\n",
       "      <td>0.0</td>\n",
       "      <td>0.0</td>\n",
       "    </tr>\n",
       "    <tr>\n",
       "      <th>2.0</th>\n",
       "      <td>0.0</td>\n",
       "      <td>5.0</td>\n",
       "      <td>58.0</td>\n",
       "      <td>0.0</td>\n",
       "      <td>0.0</td>\n",
       "      <td>0.0</td>\n",
       "      <td>0.0</td>\n",
       "      <td>0.0</td>\n",
       "      <td>0.0</td>\n",
       "      <td>0.0</td>\n",
       "      <td>0.0</td>\n",
       "      <td>0.0</td>\n",
       "      <td>0.0</td>\n",
       "      <td>0.0</td>\n",
       "      <td>0.0</td>\n",
       "      <td>0.0</td>\n",
       "      <td>0.0</td>\n",
       "    </tr>\n",
       "    <tr>\n",
       "      <th>4.0</th>\n",
       "      <td>0.0</td>\n",
       "      <td>0.0</td>\n",
       "      <td>11.0</td>\n",
       "      <td>0.0</td>\n",
       "      <td>0.0</td>\n",
       "      <td>0.0</td>\n",
       "      <td>0.0</td>\n",
       "      <td>0.0</td>\n",
       "      <td>0.0</td>\n",
       "      <td>0.0</td>\n",
       "      <td>0.0</td>\n",
       "      <td>0.0</td>\n",
       "      <td>0.0</td>\n",
       "      <td>0.0</td>\n",
       "      <td>0.0</td>\n",
       "      <td>0.0</td>\n",
       "      <td>0.0</td>\n",
       "    </tr>\n",
       "  </tbody>\n",
       "</table>\n",
       "</div>"
      ],
      "text/plain": [
       "                                                              play_video  \\\n",
       "id                                                 event_leg               \n",
       "00007cec7712f365f0dc35daee6be4ba26add9bf5438a01... 0.0               0.0   \n",
       "00011e0373cefdf1a82a6ceced473cecc3390c009adef9d... 0.0               0.0   \n",
       "0001fbafbadf796136e7b11d6d156c485a4439498d052be... 0.0               0.0   \n",
       "                                                   2.0               0.0   \n",
       "                                                   4.0               0.0   \n",
       "\n",
       "                                                              q_lvl_0  \\\n",
       "id                                                 event_leg            \n",
       "00007cec7712f365f0dc35daee6be4ba26add9bf5438a01... 0.0           11.0   \n",
       "00011e0373cefdf1a82a6ceced473cecc3390c009adef9d... 0.0           12.0   \n",
       "0001fbafbadf796136e7b11d6d156c485a4439498d052be... 0.0          100.0   \n",
       "                                                   2.0            5.0   \n",
       "                                                   4.0            0.0   \n",
       "\n",
       "                                                              q_lvl_0_cor  \\\n",
       "id                                                 event_leg                \n",
       "00007cec7712f365f0dc35daee6be4ba26add9bf5438a01... 0.0               12.0   \n",
       "00011e0373cefdf1a82a6ceced473cecc3390c009adef9d... 0.0               22.0   \n",
       "0001fbafbadf796136e7b11d6d156c485a4439498d052be... 0.0               83.0   \n",
       "                                                   2.0               58.0   \n",
       "                                                   4.0               11.0   \n",
       "\n",
       "                                                              q_lvl_1  \\\n",
       "id                                                 event_leg            \n",
       "00007cec7712f365f0dc35daee6be4ba26add9bf5438a01... 0.0            0.0   \n",
       "00011e0373cefdf1a82a6ceced473cecc3390c009adef9d... 0.0            0.0   \n",
       "0001fbafbadf796136e7b11d6d156c485a4439498d052be... 0.0            0.0   \n",
       "                                                   2.0            0.0   \n",
       "                                                   4.0            0.0   \n",
       "\n",
       "                                                              q_lvl_1_cor  \\\n",
       "id                                                 event_leg                \n",
       "00007cec7712f365f0dc35daee6be4ba26add9bf5438a01... 0.0                0.0   \n",
       "00011e0373cefdf1a82a6ceced473cecc3390c009adef9d... 0.0                0.0   \n",
       "0001fbafbadf796136e7b11d6d156c485a4439498d052be... 0.0                0.0   \n",
       "                                                   2.0                0.0   \n",
       "                                                   4.0                0.0   \n",
       "\n",
       "                                                              q_lvl_2  \\\n",
       "id                                                 event_leg            \n",
       "00007cec7712f365f0dc35daee6be4ba26add9bf5438a01... 0.0            0.0   \n",
       "00011e0373cefdf1a82a6ceced473cecc3390c009adef9d... 0.0            0.0   \n",
       "0001fbafbadf796136e7b11d6d156c485a4439498d052be... 0.0            0.0   \n",
       "                                                   2.0            0.0   \n",
       "                                                   4.0            0.0   \n",
       "\n",
       "                                                              q_lvl_2_cor  \\\n",
       "id                                                 event_leg                \n",
       "00007cec7712f365f0dc35daee6be4ba26add9bf5438a01... 0.0                0.0   \n",
       "00011e0373cefdf1a82a6ceced473cecc3390c009adef9d... 0.0                0.0   \n",
       "0001fbafbadf796136e7b11d6d156c485a4439498d052be... 0.0                0.0   \n",
       "                                                   2.0                0.0   \n",
       "                                                   4.0                0.0   \n",
       "\n",
       "                                                              q_lvl_3  \\\n",
       "id                                                 event_leg            \n",
       "00007cec7712f365f0dc35daee6be4ba26add9bf5438a01... 0.0            0.0   \n",
       "00011e0373cefdf1a82a6ceced473cecc3390c009adef9d... 0.0            0.0   \n",
       "0001fbafbadf796136e7b11d6d156c485a4439498d052be... 0.0            0.0   \n",
       "                                                   2.0            0.0   \n",
       "                                                   4.0            0.0   \n",
       "\n",
       "                                                              q_lvl_3_cor  \\\n",
       "id                                                 event_leg                \n",
       "00007cec7712f365f0dc35daee6be4ba26add9bf5438a01... 0.0                0.0   \n",
       "00011e0373cefdf1a82a6ceced473cecc3390c009adef9d... 0.0                0.0   \n",
       "0001fbafbadf796136e7b11d6d156c485a4439498d052be... 0.0                0.0   \n",
       "                                                   2.0                0.0   \n",
       "                                                   4.0                0.0   \n",
       "\n",
       "                                                              q_lvl_4  \\\n",
       "id                                                 event_leg            \n",
       "00007cec7712f365f0dc35daee6be4ba26add9bf5438a01... 0.0            0.0   \n",
       "00011e0373cefdf1a82a6ceced473cecc3390c009adef9d... 0.0            0.0   \n",
       "0001fbafbadf796136e7b11d6d156c485a4439498d052be... 0.0            0.0   \n",
       "                                                   2.0            0.0   \n",
       "                                                   4.0            0.0   \n",
       "\n",
       "                                                              q_lvl_4_cor  \\\n",
       "id                                                 event_leg                \n",
       "00007cec7712f365f0dc35daee6be4ba26add9bf5438a01... 0.0                0.0   \n",
       "00011e0373cefdf1a82a6ceced473cecc3390c009adef9d... 0.0                0.0   \n",
       "0001fbafbadf796136e7b11d6d156c485a4439498d052be... 0.0                0.0   \n",
       "                                                   2.0                0.0   \n",
       "                                                   4.0                0.0   \n",
       "\n",
       "                                                              q_lvl_5  \\\n",
       "id                                                 event_leg            \n",
       "00007cec7712f365f0dc35daee6be4ba26add9bf5438a01... 0.0            0.0   \n",
       "00011e0373cefdf1a82a6ceced473cecc3390c009adef9d... 0.0            0.0   \n",
       "0001fbafbadf796136e7b11d6d156c485a4439498d052be... 0.0            0.0   \n",
       "                                                   2.0            0.0   \n",
       "                                                   4.0            0.0   \n",
       "\n",
       "                                                              q_lvl_5_cor  \\\n",
       "id                                                 event_leg                \n",
       "00007cec7712f365f0dc35daee6be4ba26add9bf5438a01... 0.0                0.0   \n",
       "00011e0373cefdf1a82a6ceced473cecc3390c009adef9d... 0.0                0.0   \n",
       "0001fbafbadf796136e7b11d6d156c485a4439498d052be... 0.0                0.0   \n",
       "                                                   2.0                0.0   \n",
       "                                                   4.0                0.0   \n",
       "\n",
       "                                                              q_lvl_6  \\\n",
       "id                                                 event_leg            \n",
       "00007cec7712f365f0dc35daee6be4ba26add9bf5438a01... 0.0            0.0   \n",
       "00011e0373cefdf1a82a6ceced473cecc3390c009adef9d... 0.0            0.0   \n",
       "0001fbafbadf796136e7b11d6d156c485a4439498d052be... 0.0            0.0   \n",
       "                                                   2.0            0.0   \n",
       "                                                   4.0            0.0   \n",
       "\n",
       "                                                              q_lvl_6_cor  \\\n",
       "id                                                 event_leg                \n",
       "00007cec7712f365f0dc35daee6be4ba26add9bf5438a01... 0.0                0.0   \n",
       "00011e0373cefdf1a82a6ceced473cecc3390c009adef9d... 0.0                0.0   \n",
       "0001fbafbadf796136e7b11d6d156c485a4439498d052be... 0.0                0.0   \n",
       "                                                   2.0                0.0   \n",
       "                                                   4.0                0.0   \n",
       "\n",
       "                                                              view_concept  \\\n",
       "id                                                 event_leg                 \n",
       "00007cec7712f365f0dc35daee6be4ba26add9bf5438a01... 0.0                 0.0   \n",
       "00011e0373cefdf1a82a6ceced473cecc3390c009adef9d... 0.0                 0.0   \n",
       "0001fbafbadf796136e7b11d6d156c485a4439498d052be... 0.0                 0.0   \n",
       "                                                   2.0                 0.0   \n",
       "                                                   4.0                 0.0   \n",
       "\n",
       "                                                              view_hint  \n",
       "id                                                 event_leg             \n",
       "00007cec7712f365f0dc35daee6be4ba26add9bf5438a01... 0.0              0.0  \n",
       "00011e0373cefdf1a82a6ceced473cecc3390c009adef9d... 0.0              0.0  \n",
       "0001fbafbadf796136e7b11d6d156c485a4439498d052be... 0.0              0.0  \n",
       "                                                   2.0              0.0  \n",
       "                                                   4.0              0.0  "
      ]
     },
     "execution_count": 2,
     "metadata": {},
     "output_type": "execute_result"
    }
   ],
   "source": [
    "df = pd.read_csv(source_csv)\n",
    "\n",
    "df = df.groupby(['id','event_leg']).sum()\n",
    "df = df[df['q_lvl_0_cor'] > 10]\n",
    "df.head()"
   ]
  },
  {
   "cell_type": "code",
   "execution_count": 3,
   "metadata": {
    "collapsed": true
   },
   "outputs": [],
   "source": [
    "# Checking out the churn rate of users\n",
    "users = np.unique(df.index.get_level_values(0));\n",
    "\n",
    "plot_churn = [];\n",
    "for user in users:\n",
    "    plot_churn.append(max(df.loc[user].index.get_level_values(0)))\n",
    "    "
   ]
  },
  {
   "cell_type": "code",
   "execution_count": 4,
   "metadata": {},
   "outputs": [
    {
     "data": {
      "text/plain": [
       "[<matplotlib.lines.Line2D at 0x7f3504c65630>]"
      ]
     },
     "execution_count": 4,
     "metadata": {},
     "output_type": "execute_result"
    },
    {
     "data": {
      "image/png": "[encoded data removed]",
      "text/plain": [
       "<matplotlib.figure.Figure at 0x7f3505440128>"
      ]
     },
     "metadata": {},
     "output_type": "display_data"
    }
   ],
   "source": [
    "fig, ax1 = plt.subplots()\n",
    "ax2 = ax1.twinx()\n",
    "\n",
    "n, bins, patches = ax1.hist(plot_churn, int(max(plot_churn)+1))\n",
    "#ax1.ylim([0, 10000])\n",
    "#ax1.axis([0,35,0,10000])\n",
    "\n",
    "ax2.plot(range(len(bins)-1),np.cumsum(n)*100/np.sum(n),'-ok')"
   ]
  },
  {
   "cell_type": "code",
   "execution_count": 5,
   "metadata": {
    "collapsed": true
   },
   "outputs": [],
   "source": [
    "df_check = df.groupby('id').sum()\n",
    "df_check = df_check[df_check['q_lvl_0_cor']>10]\n",
    "\n",
    "#df.join(df_check.set_index('id'), on='id')\n",
    "#df_check = df_check.join(df,lsuffix='_caller', rsuffix='_other').shape\n"
   ]
  },
  {
   "cell_type": "code",
   "execution_count": 6,
   "metadata": {},
   "outputs": [
    {
     "name": "stdout",
     "output_type": "stream",
     "text": [
      "Number of rows is:  76809\n",
      "Number of unique users 39057\n"
     ]
    }
   ],
   "source": [
    "print(\"Number of rows is: \",df.shape[0])\n",
    "print(\"Number of unique users\", len(np.unique(df.index.get_level_values(0))))\n"
   ]
  },
  {
   "cell_type": "code",
   "execution_count": 7,
   "metadata": {
    "collapsed": true
   },
   "outputs": [],
   "source": [
    "\"\"\"\n",
    "A function that prepares our time series dataframe in one of 2 manners:\n",
    "    - sum (for every month of desired data, simply sum the values)\n",
    "    - append (for every month of desired data, add columns showing activity during that month)\n",
    "    \n",
    "Returns a churn dataframe that corresponds to when each user churned\n",
    "\"\"\"\n",
    "\n",
    "\n",
    "def prepare_time_series(df_test, month_array, type_operation):\n",
    "    \n",
    "    keys = np.unique(df_test.index.get_level_values(0))\n",
    "    var = [];\n",
    "    new_keys = [];\n",
    "    churn = [];\n",
    "\n",
    "    for key in keys:\n",
    "        try:\n",
    "            # Loading first month data\n",
    "            user_var = df_test.loc[key].loc[month_array[0]]\n",
    "\n",
    "            # Loading data from the other months if required\n",
    "            if len(month_array) > 1:\n",
    "                \n",
    "                for it in range(1,len(month_array)):\n",
    "                    \n",
    "                    if type_operation == 'sum':\n",
    "                        \n",
    "                        try:\n",
    "                            user_var = user_var + df_test.loc[key].loc[month_array[it]]\n",
    "                        except:\n",
    "                            continue\n",
    "                        \n",
    "                    elif type_operation == 'append':\n",
    "                        try:\n",
    "                            user_var_2 = df_test.loc[key].loc[month_array[it]]\n",
    "                        except:\n",
    "                            user_var_2 = df_test.iloc[0]*0\n",
    "                \n",
    "                        user_var_2 = user_var_2.rename(lambda x: x + '_'+str(month_array[it]))\n",
    "                        user_var = user_var.append(user_var_2)\n",
    "\n",
    "            churn.append(max(df_test.loc[key]['view_hint'].keys().values))\n",
    "            var.append(user_var);\n",
    "            new_keys.append(key)\n",
    "        except:\n",
    "            continue\n",
    "            \n",
    "    df_new = pd.DataFrame(var, index = new_keys)\n",
    "    churn = pd.DataFrame(churn, index = new_keys, columns = ['event_leg'])\n",
    "    return df_new, churn\n"
   ]
  },
  {
   "cell_type": "code",
   "execution_count": 9,
   "metadata": {},
   "outputs": [
    {
     "name": "stdout",
     "output_type": "stream",
     "text": [
      "(32945, 17)\n",
      "(32945, 1)\n"
     ]
    },
    {
     "data": {
      "text/html": [
       "<div>\n",
       "<style>\n",
       "    .dataframe thead tr:only-child th {\n",
       "        text-align: right;\n",
       "    }\n",
       "\n",
       "    .dataframe thead th {\n",
       "        text-align: left;\n",
       "    }\n",
       "\n",
       "    .dataframe tbody tr th {\n",
       "        vertical-align: top;\n",
       "    }\n",
       "</style>\n",
       "<table border=\"1\" class=\"dataframe\">\n",
       "  <thead>\n",
       "    <tr style=\"text-align: right;\">\n",
       "      <th></th>\n",
       "      <th>play_video</th>\n",
       "      <th>q_lvl_0</th>\n",
       "      <th>q_lvl_0_cor</th>\n",
       "      <th>q_lvl_1</th>\n",
       "      <th>q_lvl_1_cor</th>\n",
       "      <th>q_lvl_2</th>\n",
       "      <th>q_lvl_2_cor</th>\n",
       "      <th>q_lvl_3</th>\n",
       "      <th>q_lvl_3_cor</th>\n",
       "      <th>q_lvl_4</th>\n",
       "      <th>q_lvl_4_cor</th>\n",
       "      <th>q_lvl_5</th>\n",
       "      <th>q_lvl_5_cor</th>\n",
       "      <th>q_lvl_6</th>\n",
       "      <th>q_lvl_6_cor</th>\n",
       "      <th>view_concept</th>\n",
       "      <th>view_hint</th>\n",
       "    </tr>\n",
       "  </thead>\n",
       "  <tbody>\n",
       "    <tr>\n",
       "      <th>00007cec7712f365f0dc35daee6be4ba26add9bf5438a01c8db96e3255396a21</th>\n",
       "      <td>0.0</td>\n",
       "      <td>11.0</td>\n",
       "      <td>12.0</td>\n",
       "      <td>0.0</td>\n",
       "      <td>0.0</td>\n",
       "      <td>0.0</td>\n",
       "      <td>0.0</td>\n",
       "      <td>0.0</td>\n",
       "      <td>0.0</td>\n",
       "      <td>0.0</td>\n",
       "      <td>0.0</td>\n",
       "      <td>0.0</td>\n",
       "      <td>0.0</td>\n",
       "      <td>0.0</td>\n",
       "      <td>0.0</td>\n",
       "      <td>0.0</td>\n",
       "      <td>0.0</td>\n",
       "    </tr>\n",
       "    <tr>\n",
       "      <th>00011e0373cefdf1a82a6ceced473cecc3390c009adef9d5e8d53922851efb65</th>\n",
       "      <td>0.0</td>\n",
       "      <td>12.0</td>\n",
       "      <td>22.0</td>\n",
       "      <td>0.0</td>\n",
       "      <td>0.0</td>\n",
       "      <td>0.0</td>\n",
       "      <td>0.0</td>\n",
       "      <td>0.0</td>\n",
       "      <td>0.0</td>\n",
       "      <td>0.0</td>\n",
       "      <td>0.0</td>\n",
       "      <td>0.0</td>\n",
       "      <td>0.0</td>\n",
       "      <td>0.0</td>\n",
       "      <td>0.0</td>\n",
       "      <td>0.0</td>\n",
       "      <td>0.0</td>\n",
       "    </tr>\n",
       "    <tr>\n",
       "      <th>0001fbafbadf796136e7b11d6d156c485a4439498d052be3157dc489a2de5605</th>\n",
       "      <td>0.0</td>\n",
       "      <td>100.0</td>\n",
       "      <td>83.0</td>\n",
       "      <td>0.0</td>\n",
       "      <td>0.0</td>\n",
       "      <td>0.0</td>\n",
       "      <td>0.0</td>\n",
       "      <td>0.0</td>\n",
       "      <td>0.0</td>\n",
       "      <td>0.0</td>\n",
       "      <td>0.0</td>\n",
       "      <td>0.0</td>\n",
       "      <td>0.0</td>\n",
       "      <td>0.0</td>\n",
       "      <td>0.0</td>\n",
       "      <td>0.0</td>\n",
       "      <td>0.0</td>\n",
       "    </tr>\n",
       "    <tr>\n",
       "      <th>0009111939b7d071597369a67002b22853c08e19f463cf225f985d51a28c00e0</th>\n",
       "      <td>1.0</td>\n",
       "      <td>321.0</td>\n",
       "      <td>137.0</td>\n",
       "      <td>4.0</td>\n",
       "      <td>2.0</td>\n",
       "      <td>0.0</td>\n",
       "      <td>0.0</td>\n",
       "      <td>0.0</td>\n",
       "      <td>0.0</td>\n",
       "      <td>0.0</td>\n",
       "      <td>0.0</td>\n",
       "      <td>0.0</td>\n",
       "      <td>0.0</td>\n",
       "      <td>0.0</td>\n",
       "      <td>0.0</td>\n",
       "      <td>3.0</td>\n",
       "      <td>5.0</td>\n",
       "    </tr>\n",
       "    <tr>\n",
       "      <th>000962dfabfc1147034fee97c0608daff74f7808fdeed7f124491f6f6a38d810</th>\n",
       "      <td>15.0</td>\n",
       "      <td>29.0</td>\n",
       "      <td>22.0</td>\n",
       "      <td>0.0</td>\n",
       "      <td>4.0</td>\n",
       "      <td>4.0</td>\n",
       "      <td>4.0</td>\n",
       "      <td>1.0</td>\n",
       "      <td>1.0</td>\n",
       "      <td>2.0</td>\n",
       "      <td>1.0</td>\n",
       "      <td>0.0</td>\n",
       "      <td>0.0</td>\n",
       "      <td>0.0</td>\n",
       "      <td>0.0</td>\n",
       "      <td>1.0</td>\n",
       "      <td>6.0</td>\n",
       "    </tr>\n",
       "  </tbody>\n",
       "</table>\n",
       "</div>"
      ],
      "text/plain": [
       "                                                    play_video  q_lvl_0  \\\n",
       "00007cec7712f365f0dc35daee6be4ba26add9bf5438a01...         0.0     11.0   \n",
       "00011e0373cefdf1a82a6ceced473cecc3390c009adef9d...         0.0     12.0   \n",
       "0001fbafbadf796136e7b11d6d156c485a4439498d052be...         0.0    100.0   \n",
       "0009111939b7d071597369a67002b22853c08e19f463cf2...         1.0    321.0   \n",
       "000962dfabfc1147034fee97c0608daff74f7808fdeed7f...        15.0     29.0   \n",
       "\n",
       "                                                    q_lvl_0_cor  q_lvl_1  \\\n",
       "00007cec7712f365f0dc35daee6be4ba26add9bf5438a01...         12.0      0.0   \n",
       "00011e0373cefdf1a82a6ceced473cecc3390c009adef9d...         22.0      0.0   \n",
       "0001fbafbadf796136e7b11d6d156c485a4439498d052be...         83.0      0.0   \n",
       "0009111939b7d071597369a67002b22853c08e19f463cf2...        137.0      4.0   \n",
       "000962dfabfc1147034fee97c0608daff74f7808fdeed7f...         22.0      0.0   \n",
       "\n",
       "                                                    q_lvl_1_cor  q_lvl_2  \\\n",
       "00007cec7712f365f0dc35daee6be4ba26add9bf5438a01...          0.0      0.0   \n",
       "00011e0373cefdf1a82a6ceced473cecc3390c009adef9d...          0.0      0.0   \n",
       "0001fbafbadf796136e7b11d6d156c485a4439498d052be...          0.0      0.0   \n",
       "0009111939b7d071597369a67002b22853c08e19f463cf2...          2.0      0.0   \n",
       "000962dfabfc1147034fee97c0608daff74f7808fdeed7f...          4.0      4.0   \n",
       "\n",
       "                                                    q_lvl_2_cor  q_lvl_3  \\\n",
       "00007cec7712f365f0dc35daee6be4ba26add9bf5438a01...          0.0      0.0   \n",
       "00011e0373cefdf1a82a6ceced473cecc3390c009adef9d...          0.0      0.0   \n",
       "0001fbafbadf796136e7b11d6d156c485a4439498d052be...          0.0      0.0   \n",
       "0009111939b7d071597369a67002b22853c08e19f463cf2...          0.0      0.0   \n",
       "000962dfabfc1147034fee97c0608daff74f7808fdeed7f...          4.0      1.0   \n",
       "\n",
       "                                                    q_lvl_3_cor  q_lvl_4  \\\n",
       "00007cec7712f365f0dc35daee6be4ba26add9bf5438a01...          0.0      0.0   \n",
       "00011e0373cefdf1a82a6ceced473cecc3390c009adef9d...          0.0      0.0   \n",
       "0001fbafbadf796136e7b11d6d156c485a4439498d052be...          0.0      0.0   \n",
       "0009111939b7d071597369a67002b22853c08e19f463cf2...          0.0      0.0   \n",
       "000962dfabfc1147034fee97c0608daff74f7808fdeed7f...          1.0      2.0   \n",
       "\n",
       "                                                    q_lvl_4_cor  q_lvl_5  \\\n",
       "00007cec7712f365f0dc35daee6be4ba26add9bf5438a01...          0.0      0.0   \n",
       "00011e0373cefdf1a82a6ceced473cecc3390c009adef9d...          0.0      0.0   \n",
       "0001fbafbadf796136e7b11d6d156c485a4439498d052be...          0.0      0.0   \n",
       "0009111939b7d071597369a67002b22853c08e19f463cf2...          0.0      0.0   \n",
       "000962dfabfc1147034fee97c0608daff74f7808fdeed7f...          1.0      0.0   \n",
       "\n",
       "                                                    q_lvl_5_cor  q_lvl_6  \\\n",
       "00007cec7712f365f0dc35daee6be4ba26add9bf5438a01...          0.0      0.0   \n",
       "00011e0373cefdf1a82a6ceced473cecc3390c009adef9d...          0.0      0.0   \n",
       "0001fbafbadf796136e7b11d6d156c485a4439498d052be...          0.0      0.0   \n",
       "0009111939b7d071597369a67002b22853c08e19f463cf2...          0.0      0.0   \n",
       "000962dfabfc1147034fee97c0608daff74f7808fdeed7f...          0.0      0.0   \n",
       "\n",
       "                                                    q_lvl_6_cor  view_concept  \\\n",
       "00007cec7712f365f0dc35daee6be4ba26add9bf5438a01...          0.0           0.0   \n",
       "00011e0373cefdf1a82a6ceced473cecc3390c009adef9d...          0.0           0.0   \n",
       "0001fbafbadf796136e7b11d6d156c485a4439498d052be...          0.0           0.0   \n",
       "0009111939b7d071597369a67002b22853c08e19f463cf2...          0.0           3.0   \n",
       "000962dfabfc1147034fee97c0608daff74f7808fdeed7f...          0.0           1.0   \n",
       "\n",
       "                                                    view_hint  \n",
       "00007cec7712f365f0dc35daee6be4ba26add9bf5438a01...        0.0  \n",
       "00011e0373cefdf1a82a6ceced473cecc3390c009adef9d...        0.0  \n",
       "0001fbafbadf796136e7b11d6d156c485a4439498d052be...        0.0  \n",
       "0009111939b7d071597369a67002b22853c08e19f463cf2...        5.0  \n",
       "000962dfabfc1147034fee97c0608daff74f7808fdeed7f...        6.0  "
      ]
     },
     "execution_count": 9,
     "metadata": {},
     "output_type": "execute_result"
    }
   ],
   "source": [
    "month_array = [0]; # Months of activity to encorporate in the model\n",
    "last_month = max(month_array) # Last month of activity\n",
    "\n",
    "df_trf, churn = prepare_time_series(df, month_array, 'append')\n",
    "print(df_trf.shape)\n",
    "print(churn.shape)\n",
    "\n",
    "\n",
    "df_trf.head()"
   ]
  },
  {
   "cell_type": "code",
   "execution_count": 10,
   "metadata": {},
   "outputs": [
    {
     "name": "stdout",
     "output_type": "stream",
     "text": [
      "Number of remaining users: 32945\n",
      "Number of people who have churned next month 21763\n",
      "Number of people who haven't churned next month 11182\n"
     ]
    },
    {
     "data": {
      "image/png": "[encoded data removed]",
      "text/plain": [
       "<matplotlib.figure.Figure at 0x7f34fc476860>"
      ]
     },
     "metadata": {},
     "output_type": "display_data"
    }
   ],
   "source": [
    "# Now that we have 2 months of data for each user, can we predict whether they will churn next month\n",
    "\n",
    "# First eliminate all users that have churned before then\n",
    "eliminate = churn['event_leg']>=last_month # users must have last month equal or greater than encorpoarted into data\n",
    "churn = churn[eliminate]\n",
    "df_trf = df_trf[eliminate]\n",
    "print('Number of remaining users:',len(churn))\n",
    "\n",
    "# Of those users, how many had a last month of activity at 1, and therefore churned next month\n",
    "label = [1 if item == last_month else 0 for item in churn.values]\n",
    "\n",
    "plt.hist(label)\n",
    "print(\"Number of people who have churned next month\", label.count(1))\n",
    "print(\"Number of people who haven't churned next month\", label.count(0))"
   ]
  },
  {
   "cell_type": "code",
   "execution_count": 11,
   "metadata": {
    "collapsed": true
   },
   "outputs": [],
   "source": [
    "# General function to test any classifier\n",
    "\n",
    "from sklearn.metrics import recall_score, precision_score, accuracy_score\n",
    "from sklearn.model_selection import KFold, train_test_split\n",
    "\n",
    "def test_classifier(X,y, clf_class,n_fold,**kwargs):\n",
    "    \n",
    "    # Construct a kfolds object\n",
    "    kf = KFold(n_splits=n_fold,shuffle=True)\n",
    "    y_checks = np.zeros(len(y))\n",
    "    # Iterate through folds\n",
    "    score = [];\n",
    "    for train_index, test_index in kf.split(y):\n",
    "        \n",
    "        # Training classifier\n",
    "        X_train, X_test = X[train_index], X[test_index]\n",
    "        y_train, y_test = y[train_index], y[test_index]\n",
    "        clf = clf_class(**kwargs)\n",
    "        clf.fit(X_train,y_train)\n",
    "        \n",
    "        # Predicting values and testing\n",
    "        y_pred = clf.predict(X_test)\n",
    "        score.append([accuracy_score(y_test, y_pred),precision_score(y_test, y_pred),\n",
    "                      recall_score(y_test,y_pred)])\n",
    "        \n",
    "        # Predicted values from cross-validation\n",
    "        y_checks[test_index] = y_pred\n",
    "\n",
    "    df_score = pd.DataFrame(score, columns=['Accuracy', 'Precision','Recall'])\n",
    "    df_score.loc['mean'] = df_score.mean()\n",
    "    \n",
    "    return df_score, y_checks"
   ]
  },
  {
   "cell_type": "code",
   "execution_count": 12,
   "metadata": {
    "collapsed": true
   },
   "outputs": [],
   "source": [
    "# Scaling the data\n",
    "\n",
    "from sklearn.preprocessing import StandardScaler\n",
    "\n",
    "scaler = StandardScaler()\n",
    "X = scaler.fit_transform(df_trf.drop(['q_lvl_6_cor','q_lvl_6'],axis=1))\n",
    "y = np.array(label);\n"
   ]
  },
  {
   "cell_type": "code",
   "execution_count": 17,
   "metadata": {},
   "outputs": [
    {
     "name": "stdout",
     "output_type": "stream",
     "text": [
      "      Accuracy  Precision  Recall\n",
      "0     0.658977   0.658977     1.0\n",
      "1     0.656549   0.656549     1.0\n",
      "2     0.667476   0.667476     1.0\n",
      "3     0.662923   0.662923     1.0\n",
      "4     0.657004   0.657004     1.0\n",
      "mean  0.660586   0.660586     1.0\n"
     ]
    }
   ],
   "source": [
    "from sklearn.dummy import DummyClassifier as DC\n",
    "\n",
    "df_score, y_pred = test_classifier(X, y, DC, n_fold, strategy='most_frequent')\n",
    "print(df_score)"
   ]
  },
  {
   "cell_type": "code",
   "execution_count": 13,
   "metadata": {},
   "outputs": [
    {
     "name": "stdout",
     "output_type": "stream",
     "text": [
      "      Accuracy  Precision    Recall\n",
      "0     0.671574   0.703374  0.870583\n",
      "1     0.675368   0.702518  0.889547\n",
      "2     0.678859   0.702844  0.893593\n",
      "3     0.676279   0.688378  0.916336\n",
      "4     0.677037   0.702517  0.888889\n",
      "mean  0.675823   0.699926  0.891789\n"
     ]
    },
    {
     "data": {
      "text/plain": [
       "([array([  5216.,      0.,      0.,      0.,      0.,      0.,      0.,\n",
       "              0.,      0.,  27729.]),\n",
       "  array([ 11182.,      0.,      0.,      0.,      0.,      0.,      0.,\n",
       "              0.,      0.,  21763.])],\n",
       " array([ 0. ,  0.1,  0.2,  0.3,  0.4,  0.5,  0.6,  0.7,  0.8,  0.9,  1. ]),\n",
       " <a list of 2 Lists of Patches objects>)"
      ]
     },
     "execution_count": 13,
     "metadata": {},
     "output_type": "execute_result"
    },
    {
     "data": {
      "image/png": "[encoded data removed]",
      "text/plain": [
       "<matplotlib.figure.Figure at 0x7f34fb6c02e8>"
      ]
     },
     "metadata": {},
     "output_type": "display_data"
    }
   ],
   "source": [
    "# Attempting to train using a neural network\n",
    "from sklearn.neural_network import MLPClassifier\n",
    "from sklearn.model_selection import train_test_split\n",
    "from sklearn.metrics import classification_report\n",
    "\n",
    "#clf = MLPClassifier(solver='lbfgs', alpha=1e-5, hidden_layer_sizes=(5, 2), random_state=1)\n",
    "\n",
    "n_fold=5;\n",
    "df_score, y_pred = test_classifier(X, y, MLPClassifier, n_fold, solver='lbfgs', alpha=1e-5, hidden_layer_sizes=(15, ), random_state=1)\n",
    "print(df_score)\n",
    "\n",
    "plt.hist([y_pred,y],histtype='bar')\n"
   ]
  },
  {
   "cell_type": "code",
   "execution_count": 193,
   "metadata": {
    "collapsed": true
   },
   "outputs": [],
   "source": [
    "from keras.models import Sequential\n",
    "from keras.layers import Dense\n",
    "from keras.wrappers.scikit_learn import KerasClassifier\n",
    "from sklearn.model_selection import cross_val_score\n",
    "from sklearn.preprocessing import LabelEncoder\n",
    "from sklearn.model_selection import StratifiedKFold\n",
    "\n",
    "# fix random seed for reproducibility\n",
    "seed = 7\n",
    "np.random.seed(seed)\n",
    "\n",
    "encoder = LabelEncoder()\n",
    "encoder.fit(y)\n",
    "encoded_Y = encoder.transform(y)\n",
    "\n",
    "def create_baseline():\n",
    "    model = Sequential();\n",
    "    model.add(Dense(17, input_dim=17, kernel_initializer='normal', activation='relu'))\n",
    "    model.add(Dense(1, kernel_initializer='normal', activation='sigmoid'))\n",
    "    model.compile(loss='binary_crossentropy', optimizer='adam', metrics=['accuracy'])\n",
    "    \n",
    "    return model\n",
    "\n",
    "# Load dataset\n",
    "dataset = df_trf.values\n",
    "X = dataset[:,0:16].astype(float)\n",
    "Y = dataset[:,16]\n",
    "\n",
    "estimator = KerasClassifier(build_fn=create_baseline, nb_epoch=100, batch_size=5, verbose=0)\n",
    "kfold = StratifiedKFold(n_splits=10, shuffle=True, random_state=seed)\n",
    "results = cross_val_score(estimator, df_trf.values, encoded_Y, cv=kfold)\n",
    "print(\"Results: %.2f%% (%.2f%%)\" % (results.mean()*100, results.std()*100))"
   ]
  },
  {
   "cell_type": "code",
   "execution_count": 194,
   "metadata": {},
   "outputs": [
    {
     "name": "stdout",
     "output_type": "stream",
     "text": [
      "Results: 66.76% (0.50%)\n"
     ]
    }
   ],
   "source": [
    "print(\"Results: %.2f%% (%.2f%%)\" % (results.mean()*100, results.std()*100))"
   ]
  },
  {
   "cell_type": "code",
   "execution_count": 18,
   "metadata": {
    "scrolled": true
   },
   "outputs": [
    {
     "name": "stdout",
     "output_type": "stream",
     "text": [
      "      Accuracy  Precision    Recall\n",
      "0     0.657004   0.718544  0.796854\n",
      "1     0.657156   0.721992  0.791089\n",
      "2     0.649264   0.710343  0.795377\n",
      "3     0.641372   0.697026  0.793184\n",
      "4     0.651996   0.708282  0.798844\n",
      "mean  0.651358   0.711237  0.795069\n"
     ]
    },
    {
     "data": {
      "text/plain": [
       "([array([  8616.,      0.,      0.,      0.,      0.,      0.,      0.,\n",
       "              0.,      0.,  24329.]),\n",
       "  array([ 11182.,      0.,      0.,      0.,      0.,      0.,      0.,\n",
       "              0.,      0.,  21763.])],\n",
       " array([ 0. ,  0.1,  0.2,  0.3,  0.4,  0.5,  0.6,  0.7,  0.8,  0.9,  1. ]),\n",
       " <a list of 2 Lists of Patches objects>)"
      ]
     },
     "execution_count": 18,
     "metadata": {},
     "output_type": "execute_result"
    },
    {
     "data": {
      "image/png": "[encoded data removed]",
      "text/plain": [
       "<matplotlib.figure.Figure at 0x7f34fba5ec50>"
      ]
     },
     "metadata": {},
     "output_type": "display_data"
    }
   ],
   "source": [
    "from sklearn.ensemble import RandomForestClassifier as RF, GradientBoostingClassifier as GB\n",
    "\n",
    "n_fold=5;\n",
    "df_score, y_pred = test_classifier(X, y, RF, n_fold, n_estimators = 100)\n",
    "print(df_score)\n",
    "\n",
    "plt.hist([y_pred,y],histtype='bar')"
   ]
  },
  {
   "cell_type": "code",
   "execution_count": 19,
   "metadata": {},
   "outputs": [
    {
     "name": "stdout",
     "output_type": "stream",
     "text": [
      "Index(['play_video', 'q_lvl_0', 'q_lvl_0_cor', 'q_lvl_1', 'q_lvl_1_cor',\n",
      "       'q_lvl_2', 'q_lvl_2_cor', 'q_lvl_3', 'q_lvl_3_cor', 'q_lvl_4',\n",
      "       'q_lvl_4_cor', 'q_lvl_5', 'q_lvl_5_cor', 'q_lvl_6', 'q_lvl_6_cor',\n",
      "       'view_concept', 'view_hint'],\n",
      "      dtype='object')\n",
      "Feature ranking:\n",
      "1. feature 1 (0.402499) q_lvl_0\n",
      "2. feature 2 (0.250371) q_lvl_0_cor\n",
      "3. feature 14 (0.091938) q_lvl_6_cor\n",
      "4. feature 4 (0.039572) q_lvl_1_cor\n",
      "5. feature 3 (0.034044) q_lvl_1\n",
      "6. feature 0 (0.031879) play_video\n",
      "7. feature 13 (0.028084) q_lvl_6\n",
      "8. feature 6 (0.024370) q_lvl_2_cor\n",
      "9. feature 5 (0.022470) q_lvl_2\n",
      "10. feature 8 (0.015897) q_lvl_3_cor\n",
      "11. feature 10 (0.015881) q_lvl_4_cor\n",
      "12. feature 7 (0.015405) q_lvl_3\n",
      "13. feature 9 (0.014896) q_lvl_4\n",
      "14. feature 11 (0.006477) q_lvl_5\n",
      "15. feature 12 (0.006216) q_lvl_5_cor\n"
     ]
    }
   ],
   "source": [
    "# What do the random forests think is the most important feature?\n",
    "\n",
    "randomForest = RF(n_estimators = 100)\n",
    "randomForest.fit(X,y)\n",
    "\n",
    "importances = randomForest.feature_importances_\n",
    "print(df_trf.keys())\n",
    "\n",
    "indices = np.argsort(importances)[::-1]\n",
    "\n",
    "# Print the feature ranking\n",
    "print(\"Feature ranking:\")\n",
    "\n",
    "for f in range(X.shape[1]):\n",
    "    print(\"%d. feature %d (%f)\" % (f + 1, indices[f], importances[indices[f]]),df_trf.keys()[indices[f]])"
   ]
  },
  {
   "cell_type": "code",
   "execution_count": 40,
   "metadata": {},
   "outputs": [
    {
     "name": "stdout",
     "output_type": "stream",
     "text": [
      "      Accuracy  Precision    Recall\n",
      "0     0.655512   0.701098  0.798575\n",
      "1     0.653525   0.698720  0.799174\n",
      "2     0.648438   0.695060  0.793782\n",
      "3     0.654717   0.701093  0.803574\n",
      "4     0.664229   0.710899  0.802901\n",
      "mean  0.655284   0.701374  0.799601\n"
     ]
    },
    {
     "data": {
      "text/plain": [
       "([array([ 17195.,      0.,      0.,      0.,      0.,      0.,      0.,\n",
       "              0.,      0.,  45709.]),\n",
       "  array([ 22811.,      0.,      0.,      0.,      0.,      0.,      0.,\n",
       "              0.,      0.,  40093.])],\n",
       " array([ 0. ,  0.1,  0.2,  0.3,  0.4,  0.5,  0.6,  0.7,  0.8,  0.9,  1. ]),\n",
       " <a list of 2 Lists of Patches objects>)"
      ]
     },
     "execution_count": 40,
     "metadata": {},
     "output_type": "execute_result"
    },
    {
     "data": {
      "image/png": "[encoded data removed]",
      "text/plain": [
       "<matplotlib.figure.Figure at 0x7f7c39a80898>"
      ]
     },
     "metadata": {},
     "output_type": "display_data"
    }
   ],
   "source": [
    "from sklearn.ensemble import RandomForestClassifier as RF, GradientBoostingClassifier as GB\n",
    "\n",
    "n_fold=5;\n",
    "df_score, y_pred = test_classifier(X, y, RF, n_fold, n_estimators = 100)\n",
    "print(df_score)\n",
    "\n",
    "plt.hist([y_pred,y],histtype='bar')"
   ]
  },
  {
   "cell_type": "code",
   "execution_count": 41,
   "metadata": {},
   "outputs": [
    {
     "ename": "KeyboardInterrupt",
     "evalue": "",
     "output_type": "error",
     "traceback": [
      "\u001b[0;31m---------------------------------------------------------------------------\u001b[0m",
      "\u001b[0;31mKeyboardInterrupt\u001b[0m                         Traceback (most recent call last)",
      "\u001b[0;32m<ipython-input-41-2ef5acaf2a33>\u001b[0m in \u001b[0;36m<module>\u001b[0;34m()\u001b[0m\n\u001b[1;32m      2\u001b[0m \u001b[0;34m\u001b[0m\u001b[0m\n\u001b[1;32m      3\u001b[0m \u001b[0mn_fold\u001b[0m\u001b[0;34m=\u001b[0m\u001b[0;36m5\u001b[0m\u001b[0;34m;\u001b[0m\u001b[0;34m\u001b[0m\u001b[0m\n\u001b[0;32m----> 4\u001b[0;31m \u001b[0mdf_score\u001b[0m\u001b[0;34m,\u001b[0m \u001b[0my_pred\u001b[0m \u001b[0;34m=\u001b[0m \u001b[0mtest_classifier\u001b[0m\u001b[0;34m(\u001b[0m\u001b[0mX\u001b[0m\u001b[0;34m,\u001b[0m \u001b[0my\u001b[0m\u001b[0;34m,\u001b[0m \u001b[0mSVC\u001b[0m\u001b[0;34m,\u001b[0m \u001b[0mn_fold\u001b[0m\u001b[0;34m,\u001b[0m\u001b[0mC\u001b[0m\u001b[0;34m=\u001b[0m \u001b[0;36m1\u001b[0m\u001b[0;34m)\u001b[0m\u001b[0;34m\u001b[0m\u001b[0m\n\u001b[0m\u001b[1;32m      5\u001b[0m \u001b[0mprint\u001b[0m\u001b[0;34m(\u001b[0m\u001b[0mdf_score\u001b[0m\u001b[0;34m)\u001b[0m\u001b[0;34m\u001b[0m\u001b[0m\n\u001b[1;32m      6\u001b[0m \u001b[0;34m\u001b[0m\u001b[0m\n",
      "\u001b[0;32m<ipython-input-37-2c4f6110a389>\u001b[0m in \u001b[0;36mtest_classifier\u001b[0;34m(X, y, clf_class, n_fold, **kwargs)\u001b[0m\n\u001b[1;32m     17\u001b[0m         \u001b[0my_train\u001b[0m\u001b[0;34m,\u001b[0m \u001b[0my_test\u001b[0m \u001b[0;34m=\u001b[0m \u001b[0my\u001b[0m\u001b[0;34m[\u001b[0m\u001b[0mtrain_index\u001b[0m\u001b[0;34m]\u001b[0m\u001b[0;34m,\u001b[0m \u001b[0my\u001b[0m\u001b[0;34m[\u001b[0m\u001b[0mtest_index\u001b[0m\u001b[0;34m]\u001b[0m\u001b[0;34m\u001b[0m\u001b[0m\n\u001b[1;32m     18\u001b[0m         \u001b[0mclf\u001b[0m \u001b[0;34m=\u001b[0m \u001b[0mclf_class\u001b[0m\u001b[0;34m(\u001b[0m\u001b[0;34m**\u001b[0m\u001b[0mkwargs\u001b[0m\u001b[0;34m)\u001b[0m\u001b[0;34m\u001b[0m\u001b[0m\n\u001b[0;32m---> 19\u001b[0;31m         \u001b[0mclf\u001b[0m\u001b[0;34m.\u001b[0m\u001b[0mfit\u001b[0m\u001b[0;34m(\u001b[0m\u001b[0mX_train\u001b[0m\u001b[0;34m,\u001b[0m\u001b[0my_train\u001b[0m\u001b[0;34m)\u001b[0m\u001b[0;34m\u001b[0m\u001b[0m\n\u001b[0m\u001b[1;32m     20\u001b[0m \u001b[0;34m\u001b[0m\u001b[0m\n\u001b[1;32m     21\u001b[0m         \u001b[0;31m# Predicting values and testing\u001b[0m\u001b[0;34m\u001b[0m\u001b[0;34m\u001b[0m\u001b[0m\n",
      "\u001b[0;32m/opt/anaconda/envs/Python3/lib/python3.6/site-packages/sklearn/svm/base.py\u001b[0m in \u001b[0;36mfit\u001b[0;34m(self, X, y, sample_weight)\u001b[0m\n\u001b[1;32m    187\u001b[0m \u001b[0;34m\u001b[0m\u001b[0m\n\u001b[1;32m    188\u001b[0m         \u001b[0mseed\u001b[0m \u001b[0;34m=\u001b[0m \u001b[0mrnd\u001b[0m\u001b[0;34m.\u001b[0m\u001b[0mrandint\u001b[0m\u001b[0;34m(\u001b[0m\u001b[0mnp\u001b[0m\u001b[0;34m.\u001b[0m\u001b[0miinfo\u001b[0m\u001b[0;34m(\u001b[0m\u001b[0;34m'i'\u001b[0m\u001b[0;34m)\u001b[0m\u001b[0;34m.\u001b[0m\u001b[0mmax\u001b[0m\u001b[0;34m)\u001b[0m\u001b[0;34m\u001b[0m\u001b[0m\n\u001b[0;32m--> 189\u001b[0;31m         \u001b[0mfit\u001b[0m\u001b[0;34m(\u001b[0m\u001b[0mX\u001b[0m\u001b[0;34m,\u001b[0m \u001b[0my\u001b[0m\u001b[0;34m,\u001b[0m \u001b[0msample_weight\u001b[0m\u001b[0;34m,\u001b[0m \u001b[0msolver_type\u001b[0m\u001b[0;34m,\u001b[0m \u001b[0mkernel\u001b[0m\u001b[0;34m,\u001b[0m \u001b[0mrandom_seed\u001b[0m\u001b[0;34m=\u001b[0m\u001b[0mseed\u001b[0m\u001b[0;34m)\u001b[0m\u001b[0;34m\u001b[0m\u001b[0m\n\u001b[0m\u001b[1;32m    190\u001b[0m         \u001b[0;31m# see comment on the other call to np.iinfo in this file\u001b[0m\u001b[0;34m\u001b[0m\u001b[0;34m\u001b[0m\u001b[0m\n\u001b[1;32m    191\u001b[0m \u001b[0;34m\u001b[0m\u001b[0m\n",
      "\u001b[0;32m/opt/anaconda/envs/Python3/lib/python3.6/site-packages/sklearn/svm/base.py\u001b[0m in \u001b[0;36m_dense_fit\u001b[0;34m(self, X, y, sample_weight, solver_type, kernel, random_seed)\u001b[0m\n\u001b[1;32m    254\u001b[0m                 \u001b[0mcache_size\u001b[0m\u001b[0;34m=\u001b[0m\u001b[0mself\u001b[0m\u001b[0;34m.\u001b[0m\u001b[0mcache_size\u001b[0m\u001b[0;34m,\u001b[0m \u001b[0mcoef0\u001b[0m\u001b[0;34m=\u001b[0m\u001b[0mself\u001b[0m\u001b[0;34m.\u001b[0m\u001b[0mcoef0\u001b[0m\u001b[0;34m,\u001b[0m\u001b[0;34m\u001b[0m\u001b[0m\n\u001b[1;32m    255\u001b[0m                 \u001b[0mgamma\u001b[0m\u001b[0;34m=\u001b[0m\u001b[0mself\u001b[0m\u001b[0;34m.\u001b[0m\u001b[0m_gamma\u001b[0m\u001b[0;34m,\u001b[0m \u001b[0mepsilon\u001b[0m\u001b[0;34m=\u001b[0m\u001b[0mself\u001b[0m\u001b[0;34m.\u001b[0m\u001b[0mepsilon\u001b[0m\u001b[0;34m,\u001b[0m\u001b[0;34m\u001b[0m\u001b[0m\n\u001b[0;32m--> 256\u001b[0;31m                 max_iter=self.max_iter, random_seed=random_seed)\n\u001b[0m\u001b[1;32m    257\u001b[0m \u001b[0;34m\u001b[0m\u001b[0m\n\u001b[1;32m    258\u001b[0m         \u001b[0mself\u001b[0m\u001b[0;34m.\u001b[0m\u001b[0m_warn_from_fit_status\u001b[0m\u001b[0;34m(\u001b[0m\u001b[0;34m)\u001b[0m\u001b[0;34m\u001b[0m\u001b[0m\n",
      "\u001b[0;31mKeyboardInterrupt\u001b[0m: "
     ]
    }
   ],
   "source": [
    "from sklearn.svm import SVC\n",
    "\n",
    "n_fold=5;\n",
    "df_score, y_pred = test_classifier(X, y, SVC, n_fold,C= 1)\n",
    "print(df_score)\n",
    "\n",
    "plt.hist([y_pred,y],histtype='bar')"
   ]
  }
 ],
 "metadata": {
  "kernelspec": {
   "display_name": "Python 3",
   "language": "python",
   "name": "python3"
  },
  "language_info": {
   "codemirror_mode": {
    "name": "ipython",
    "version": 3
   },
   "file_extension": ".py",
   "mimetype": "text/x-python",
   "name": "python",
   "nbconvert_exporter": "python",
   "pygments_lexer": "ipython3",
   "version": "3.6.3"
  }
 },
 "nbformat": 4,
 "nbformat_minor": 2
}
